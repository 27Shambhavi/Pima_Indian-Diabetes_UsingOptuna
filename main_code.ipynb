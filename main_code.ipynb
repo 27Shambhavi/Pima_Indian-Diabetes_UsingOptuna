{
 "cells": [
  {
   "cell_type": "code",
   "execution_count": 12,
   "id": "6e5f7184",
   "metadata": {},
   "outputs": [
    {
     "name": "stdout",
     "output_type": "stream",
     "text": [
      "Defaulting to user installation because normal site-packages is not writeable\n",
      "Requirement already satisfied: optuna in c:\\users\\lenovo\\appdata\\roaming\\python\\python311\\site-packages (4.5.0)\n",
      "Requirement already satisfied: alembic>=1.5.0 in c:\\users\\lenovo\\appdata\\roaming\\python\\python311\\site-packages (from optuna) (1.16.4)\n",
      "Requirement already satisfied: colorlog in c:\\users\\lenovo\\appdata\\roaming\\python\\python311\\site-packages (from optuna) (6.9.0)\n",
      "Requirement already satisfied: numpy in c:\\users\\lenovo\\appdata\\roaming\\python\\python311\\site-packages (from optuna) (2.2.6)\n",
      "Requirement already satisfied: packaging>=20.0 in c:\\users\\lenovo\\appdata\\roaming\\python\\python311\\site-packages (from optuna) (25.0)\n",
      "Requirement already satisfied: sqlalchemy>=1.4.2 in c:\\users\\lenovo\\appdata\\roaming\\python\\python311\\site-packages (from optuna) (2.0.42)\n",
      "Requirement already satisfied: tqdm in c:\\users\\lenovo\\appdata\\roaming\\python\\python311\\site-packages (from optuna) (4.67.1)\n",
      "Requirement already satisfied: PyYAML in c:\\users\\lenovo\\appdata\\roaming\\python\\python311\\site-packages (from optuna) (6.0.2)\n",
      "Requirement already satisfied: Mako in c:\\users\\lenovo\\appdata\\roaming\\python\\python311\\site-packages (from alembic>=1.5.0->optuna) (1.3.10)\n",
      "Requirement already satisfied: typing-extensions>=4.12 in c:\\users\\lenovo\\appdata\\roaming\\python\\python311\\site-packages (from alembic>=1.5.0->optuna) (4.14.1)\n",
      "Requirement already satisfied: greenlet>=1 in c:\\users\\lenovo\\appdata\\roaming\\python\\python311\\site-packages (from sqlalchemy>=1.4.2->optuna) (3.2.3)\n",
      "Requirement already satisfied: colorama in c:\\users\\lenovo\\appdata\\roaming\\python\\python311\\site-packages (from colorlog->optuna) (0.4.6)\n",
      "Requirement already satisfied: MarkupSafe>=0.9.2 in c:\\users\\lenovo\\appdata\\roaming\\python\\python311\\site-packages (from Mako->alembic>=1.5.0->optuna) (3.0.2)\n"
     ]
    },
    {
     "name": "stderr",
     "output_type": "stream",
     "text": [
      "WARNING: Ignoring invalid distribution ~ (C:\\Users\\lenovo\\AppData\\Roaming\\Python\\Python311\\site-packages)\n",
      "WARNING: Ignoring invalid distribution ~ensorflow-intel (C:\\Users\\lenovo\\AppData\\Roaming\\Python\\Python311\\site-packages)\n",
      "WARNING: Ignoring invalid distribution ~orch (C:\\Users\\lenovo\\AppData\\Roaming\\Python\\Python311\\site-packages)\n",
      "WARNING: Ignoring invalid distribution ~ (C:\\Users\\lenovo\\AppData\\Roaming\\Python\\Python311\\site-packages)\n",
      "WARNING: Ignoring invalid distribution ~ensorflow-intel (C:\\Users\\lenovo\\AppData\\Roaming\\Python\\Python311\\site-packages)\n",
      "WARNING: Ignoring invalid distribution ~orch (C:\\Users\\lenovo\\AppData\\Roaming\\Python\\Python311\\site-packages)\n",
      "WARNING: Ignoring invalid distribution ~ (C:\\Users\\lenovo\\AppData\\Roaming\\Python\\Python311\\site-packages)\n",
      "WARNING: Ignoring invalid distribution ~ensorflow-intel (C:\\Users\\lenovo\\AppData\\Roaming\\Python\\Python311\\site-packages)\n",
      "WARNING: Ignoring invalid distribution ~orch (C:\\Users\\lenovo\\AppData\\Roaming\\Python\\Python311\\site-packages)\n"
     ]
    }
   ],
   "source": [
    "!pip install optuna"
   ]
  },
  {
   "cell_type": "code",
   "execution_count": 13,
   "id": "7e025b01",
   "metadata": {},
   "outputs": [],
   "source": [
    "import optuna\n",
    "from sklearn.datasets import load_iris\n",
    "from sklearn.model_selection import train_test_split\n",
    "from sklearn.preprocessing import StandardScaler"
   ]
  },
  {
   "cell_type": "code",
   "execution_count": 14,
   "id": "54088232",
   "metadata": {},
   "outputs": [
    {
     "data": {
      "text/html": [
       "<div>\n",
       "<style scoped>\n",
       "    .dataframe tbody tr th:only-of-type {\n",
       "        vertical-align: middle;\n",
       "    }\n",
       "\n",
       "    .dataframe tbody tr th {\n",
       "        vertical-align: top;\n",
       "    }\n",
       "\n",
       "    .dataframe thead th {\n",
       "        text-align: right;\n",
       "    }\n",
       "</style>\n",
       "<table border=\"1\" class=\"dataframe\">\n",
       "  <thead>\n",
       "    <tr style=\"text-align: right;\">\n",
       "      <th></th>\n",
       "      <th>Pregnancies</th>\n",
       "      <th>Glucose</th>\n",
       "      <th>BloodPressure</th>\n",
       "      <th>SkinThickness</th>\n",
       "      <th>Insulin</th>\n",
       "      <th>BMI</th>\n",
       "      <th>DiabetesPedigreeFunction</th>\n",
       "      <th>Age</th>\n",
       "      <th>Outcome</th>\n",
       "    </tr>\n",
       "  </thead>\n",
       "  <tbody>\n",
       "    <tr>\n",
       "      <th>0</th>\n",
       "      <td>6</td>\n",
       "      <td>148</td>\n",
       "      <td>72</td>\n",
       "      <td>35</td>\n",
       "      <td>0</td>\n",
       "      <td>33.6</td>\n",
       "      <td>0.627</td>\n",
       "      <td>50</td>\n",
       "      <td>1</td>\n",
       "    </tr>\n",
       "    <tr>\n",
       "      <th>1</th>\n",
       "      <td>1</td>\n",
       "      <td>85</td>\n",
       "      <td>66</td>\n",
       "      <td>29</td>\n",
       "      <td>0</td>\n",
       "      <td>26.6</td>\n",
       "      <td>0.351</td>\n",
       "      <td>31</td>\n",
       "      <td>0</td>\n",
       "    </tr>\n",
       "    <tr>\n",
       "      <th>2</th>\n",
       "      <td>8</td>\n",
       "      <td>183</td>\n",
       "      <td>64</td>\n",
       "      <td>0</td>\n",
       "      <td>0</td>\n",
       "      <td>23.3</td>\n",
       "      <td>0.672</td>\n",
       "      <td>32</td>\n",
       "      <td>1</td>\n",
       "    </tr>\n",
       "    <tr>\n",
       "      <th>3</th>\n",
       "      <td>1</td>\n",
       "      <td>89</td>\n",
       "      <td>66</td>\n",
       "      <td>23</td>\n",
       "      <td>94</td>\n",
       "      <td>28.1</td>\n",
       "      <td>0.167</td>\n",
       "      <td>21</td>\n",
       "      <td>0</td>\n",
       "    </tr>\n",
       "    <tr>\n",
       "      <th>4</th>\n",
       "      <td>0</td>\n",
       "      <td>137</td>\n",
       "      <td>40</td>\n",
       "      <td>35</td>\n",
       "      <td>168</td>\n",
       "      <td>43.1</td>\n",
       "      <td>2.288</td>\n",
       "      <td>33</td>\n",
       "      <td>1</td>\n",
       "    </tr>\n",
       "  </tbody>\n",
       "</table>\n",
       "</div>"
      ],
      "text/plain": [
       "   Pregnancies  Glucose  BloodPressure  SkinThickness  Insulin   BMI  \\\n",
       "0            6      148             72             35        0  33.6   \n",
       "1            1       85             66             29        0  26.6   \n",
       "2            8      183             64              0        0  23.3   \n",
       "3            1       89             66             23       94  28.1   \n",
       "4            0      137             40             35      168  43.1   \n",
       "\n",
       "   DiabetesPedigreeFunction  Age  Outcome  \n",
       "0                     0.627   50        1  \n",
       "1                     0.351   31        0  \n",
       "2                     0.672   32        1  \n",
       "3                     0.167   21        0  \n",
       "4                     2.288   33        1  "
      ]
     },
     "execution_count": 14,
     "metadata": {},
     "output_type": "execute_result"
    }
   ],
   "source": [
    "import pandas as pd\n",
    "import numpy as np\n",
    "df=pd.read_csv('diabetes.csv')\n",
    "df.head()"
   ]
  },
  {
   "cell_type": "code",
   "execution_count": 15,
   "id": "c730a1d0",
   "metadata": {},
   "outputs": [
    {
     "name": "stdout",
     "output_type": "stream",
     "text": [
      "Pregnancies                 0\n",
      "Glucose                     0\n",
      "BloodPressure               0\n",
      "SkinThickness               0\n",
      "Insulin                     0\n",
      "BMI                         0\n",
      "DiabetesPedigreeFunction    0\n",
      "Age                         0\n",
      "Outcome                     0\n",
      "dtype: int64\n"
     ]
    }
   ],
   "source": [
    "#Replace 0 values with NaN in specific columns\n",
    "cols_with_zero = ['Glucose', 'BloodPressure', 'SkinThickness', 'Insulin', 'BMI']\n",
    "df[cols_with_zero] = df[cols_with_zero].replace(0, np.nan)\n",
    "df.fillna(df.mean(), inplace=True)\n",
    "print(df.isnull().sum())"
   ]
  },
  {
   "cell_type": "code",
   "execution_count": 16,
   "id": "672728c8",
   "metadata": {},
   "outputs": [
    {
     "name": "stdout",
     "output_type": "stream",
     "text": [
      "Train shape: (614, 8), Test shape: (154, 8)\n"
     ]
    }
   ],
   "source": [
    "x=df.drop('Outcome',axis=1)\n",
    "y=df['Outcome'] \n",
    "x_train,x_test,y_train,y_test=train_test_split(x,y,test_size=0.2,random_state=42)\n",
    "scaler=StandardScaler()\n",
    "x_train=scaler.fit_transform(x_train)\n",
    "x_test=scaler.transform(x_test)\n",
    "print(f'Train shape: {x_train.shape}, Test shape: {x_test.shape}')"
   ]
  },
  {
   "cell_type": "code",
   "execution_count": 19,
   "id": "a449a726",
   "metadata": {},
   "outputs": [],
   "source": [
    "from sklearn.ensemble import RandomForestClassifier\n",
    "from sklearn.model_selection import cross_val_score\n",
    "\n",
    "#Define the objective function for Optuna\n",
    "def objective(trial):\n",
    "    # Suggest values for the hyperparameters\n",
    "    n_estimators = trial.suggest_int('n_estimators', 50, 200)\n",
    "    max_depth = trial.suggest_int('max_depth', 3, 20)\n",
    "\n",
    "    # Create the RandomForestClassifier with suggested hyperparameters\n",
    "    model = RandomForestClassifier(\n",
    "        n_estimators=n_estimators,\n",
    "        max_depth=max_depth,\n",
    "        random_state=42\n",
    "    )\n",
    "\n",
    "    # Perform 3-fold cross-validation and calculate accuracy\n",
    "    score = cross_val_score(model, x_train, y_train, cv=3, scoring='accuracy').mean()\n",
    "\n",
    "    return score  # Return the accuracy score for Optuna to maximize\n"
   ]
  },
  {
   "cell_type": "code",
   "execution_count": 20,
   "id": "145a2460",
   "metadata": {},
   "outputs": [
    {
     "name": "stderr",
     "output_type": "stream",
     "text": [
      "[I 2025-08-24 17:59:40,847] A new study created in memory with name: no-name-799af360-b9e2-4337-81c3-cf06acc5e5eb\n",
      "[I 2025-08-24 17:59:41,137] Trial 0 finished with value: 0.7735931771082417 and parameters: {'n_estimators': 60, 'max_depth': 6}. Best is trial 0 with value: 0.7735931771082417.\n",
      "[I 2025-08-24 17:59:41,441] Trial 1 finished with value: 0.7703570859238004 and parameters: {'n_estimators': 76, 'max_depth': 20}. Best is trial 0 with value: 0.7735931771082417.\n",
      "[I 2025-08-24 17:59:41,826] Trial 2 finished with value: 0.7622030926191615 and parameters: {'n_estimators': 101, 'max_depth': 4}. Best is trial 0 with value: 0.7735931771082417.\n",
      "[I 2025-08-24 17:59:42,135] Trial 3 finished with value: 0.7817471704128806 and parameters: {'n_estimators': 71, 'max_depth': 16}. Best is trial 3 with value: 0.7817471704128806.\n",
      "[I 2025-08-24 17:59:43,009] Trial 4 finished with value: 0.7768452096285668 and parameters: {'n_estimators': 196, 'max_depth': 5}. Best is trial 3 with value: 0.7817471704128806.\n",
      "[I 2025-08-24 17:59:43,621] Trial 5 finished with value: 0.755699027578511 and parameters: {'n_estimators': 160, 'max_depth': 4}. Best is trial 3 with value: 0.7817471704128806.\n",
      "[I 2025-08-24 17:59:44,072] Trial 6 finished with value: 0.7703491152558585 and parameters: {'n_estimators': 95, 'max_depth': 20}. Best is trial 3 with value: 0.7817471704128806.\n",
      "[I 2025-08-24 17:59:44,631] Trial 7 finished with value: 0.780121154152718 and parameters: {'n_estimators': 104, 'max_depth': 19}. Best is trial 3 with value: 0.7817471704128806.\n",
      "[I 2025-08-24 17:59:45,614] Trial 8 finished with value: 0.7736011477761836 and parameters: {'n_estimators': 181, 'max_depth': 18}. Best is trial 3 with value: 0.7817471704128806.\n",
      "[I 2025-08-24 17:59:46,027] Trial 9 finished with value: 0.7703491152558585 and parameters: {'n_estimators': 67, 'max_depth': 14}. Best is trial 3 with value: 0.7817471704128806.\n",
      "[I 2025-08-24 17:59:46,693] Trial 10 finished with value: 0.7833811573409851 and parameters: {'n_estimators': 142, 'max_depth': 11}. Best is trial 10 with value: 0.7833811573409851.\n",
      "[I 2025-08-24 17:59:47,343] Trial 11 finished with value: 0.780121154152718 and parameters: {'n_estimators': 141, 'max_depth': 11}. Best is trial 10 with value: 0.7833811573409851.\n",
      "[I 2025-08-24 17:59:48,072] Trial 12 finished with value: 0.7785031085604973 and parameters: {'n_estimators': 131, 'max_depth': 12}. Best is trial 10 with value: 0.7833811573409851.\n",
      "[I 2025-08-24 17:59:48,838] Trial 13 finished with value: 0.7784632552207875 and parameters: {'n_estimators': 153, 'max_depth': 16}. Best is trial 10 with value: 0.7833811573409851.\n",
      "[I 2025-08-24 17:59:49,419] Trial 14 finished with value: 0.7703491152558585 and parameters: {'n_estimators': 120, 'max_depth': 9}. Best is trial 10 with value: 0.7833811573409851.\n",
      "[I 2025-08-24 17:59:49,767] Trial 15 finished with value: 0.7736170891120676 and parameters: {'n_estimators': 82, 'max_depth': 15}. Best is trial 10 with value: 0.7833811573409851.\n",
      "[I 2025-08-24 17:59:50,002] Trial 16 finished with value: 0.7638211382113821 and parameters: {'n_estimators': 50, 'max_depth': 8}. Best is trial 10 with value: 0.7833811573409851.\n",
      "[I 2025-08-24 17:59:50,567] Trial 17 finished with value: 0.7736170891120676 and parameters: {'n_estimators': 118, 'max_depth': 12}. Best is trial 10 with value: 0.7833811573409851.\n",
      "[I 2025-08-24 17:59:51,289] Trial 18 finished with value: 0.7687151283277539 and parameters: {'n_estimators': 168, 'max_depth': 17}. Best is trial 10 with value: 0.7833811573409851.\n",
      "[I 2025-08-24 17:59:51,926] Trial 19 finished with value: 0.780113183484776 and parameters: {'n_estimators': 140, 'max_depth': 14}. Best is trial 10 with value: 0.7833811573409851.\n",
      "[I 2025-08-24 17:59:52,305] Trial 20 finished with value: 0.780121154152718 and parameters: {'n_estimators': 88, 'max_depth': 10}. Best is trial 10 with value: 0.7833811573409851.\n",
      "[I 2025-08-24 17:59:52,802] Trial 21 finished with value: 0.7784951378925554 and parameters: {'n_estimators': 103, 'max_depth': 18}. Best is trial 10 with value: 0.7833811573409851.\n",
      "[I 2025-08-24 17:59:53,293] Trial 22 finished with value: 0.7882751474573569 and parameters: {'n_estimators': 111, 'max_depth': 13}. Best is trial 22 with value: 0.7882751474573569.\n",
      "[I 2025-08-24 17:59:53,822] Trial 23 finished with value: 0.7850071736011478 and parameters: {'n_estimators': 115, 'max_depth': 13}. Best is trial 22 with value: 0.7882751474573569.\n",
      "[I 2025-08-24 17:59:54,343] Trial 24 finished with value: 0.7882751474573569 and parameters: {'n_estimators': 113, 'max_depth': 13}. Best is trial 22 with value: 0.7882751474573569.\n",
      "[I 2025-08-24 17:59:55,063] Trial 25 finished with value: 0.7882751474573569 and parameters: {'n_estimators': 113, 'max_depth': 13}. Best is trial 22 with value: 0.7882751474573569.\n",
      "[I 2025-08-24 17:59:55,725] Trial 26 finished with value: 0.7833811573409851 and parameters: {'n_estimators': 129, 'max_depth': 13}. Best is trial 22 with value: 0.7882751474573569.\n",
      "[I 2025-08-24 17:59:56,317] Trial 27 finished with value: 0.771975131516021 and parameters: {'n_estimators': 111, 'max_depth': 8}. Best is trial 22 with value: 0.7882751474573569.\n",
      "[I 2025-08-24 17:59:56,790] Trial 28 finished with value: 0.7736091184441256 and parameters: {'n_estimators': 87, 'max_depth': 14}. Best is trial 22 with value: 0.7882751474573569.\n",
      "[I 2025-08-24 17:59:57,362] Trial 29 finished with value: 0.7622110632871034 and parameters: {'n_estimators': 129, 'max_depth': 7}. Best is trial 22 with value: 0.7882751474573569.\n",
      "[I 2025-08-24 17:59:57,751] Trial 30 finished with value: 0.7768691216323927 and parameters: {'n_estimators': 93, 'max_depth': 10}. Best is trial 22 with value: 0.7882751474573569.\n",
      "[I 2025-08-24 17:59:58,217] Trial 31 finished with value: 0.7882751474573569 and parameters: {'n_estimators': 111, 'max_depth': 13}. Best is trial 22 with value: 0.7882751474573569.\n",
      "[I 2025-08-24 17:59:58,684] Trial 32 finished with value: 0.7817631117487646 and parameters: {'n_estimators': 108, 'max_depth': 13}. Best is trial 22 with value: 0.7882751474573569.\n",
      "[I 2025-08-24 17:59:59,216] Trial 33 finished with value: 0.7752351347042882 and parameters: {'n_estimators': 123, 'max_depth': 15}. Best is trial 22 with value: 0.7882751474573569.\n",
      "[I 2025-08-24 17:59:59,619] Trial 34 finished with value: 0.7703650565917424 and parameters: {'n_estimators': 98, 'max_depth': 12}. Best is trial 22 with value: 0.7882751474573569.\n",
      "[I 2025-08-24 17:59:59,941] Trial 35 finished with value: 0.7703650565917424 and parameters: {'n_estimators': 78, 'max_depth': 15}. Best is trial 22 with value: 0.7882751474573569.\n",
      "[I 2025-08-24 18:00:00,411] Trial 36 finished with value: 0.7833891280089271 and parameters: {'n_estimators': 114, 'max_depth': 16}. Best is trial 22 with value: 0.7882751474573569.\n",
      "[I 2025-08-24 18:00:00,936] Trial 37 finished with value: 0.7736091184441256 and parameters: {'n_estimators': 133, 'max_depth': 11}. Best is trial 22 with value: 0.7882751474573569.\n",
      "[I 2025-08-24 18:00:01,526] Trial 38 finished with value: 0.7735772357723577 and parameters: {'n_estimators': 151, 'max_depth': 10}. Best is trial 22 with value: 0.7882751474573569.\n",
      "[I 2025-08-24 18:00:01,941] Trial 39 finished with value: 0.7736011477761836 and parameters: {'n_estimators': 101, 'max_depth': 13}. Best is trial 22 with value: 0.7882751474573569.\n",
      "[I 2025-08-24 18:00:02,224] Trial 40 finished with value: 0.771975131516021 and parameters: {'n_estimators': 69, 'max_depth': 14}. Best is trial 22 with value: 0.7882751474573569.\n",
      "[I 2025-08-24 18:00:02,703] Trial 41 finished with value: 0.7850071736011478 and parameters: {'n_estimators': 114, 'max_depth': 13}. Best is trial 22 with value: 0.7882751474573569.\n",
      "[I 2025-08-24 18:00:03,187] Trial 42 finished with value: 0.7475370636059302 and parameters: {'n_estimators': 119, 'max_depth': 3}. Best is trial 22 with value: 0.7882751474573569.\n",
      "[I 2025-08-24 18:00:03,661] Trial 43 finished with value: 0.771983102183963 and parameters: {'n_estimators': 108, 'max_depth': 12}. Best is trial 22 with value: 0.7882751474573569.\n",
      "[I 2025-08-24 18:00:04,117] Trial 44 finished with value: 0.7719910728519049 and parameters: {'n_estimators': 95, 'max_depth': 15}. Best is trial 22 with value: 0.7882751474573569.\n",
      "[I 2025-08-24 18:00:04,666] Trial 45 finished with value: 0.7817471704128806 and parameters: {'n_estimators': 136, 'max_depth': 13}. Best is trial 22 with value: 0.7882751474573569.\n",
      "[I 2025-08-24 18:00:05,166] Trial 46 finished with value: 0.7817551410808226 and parameters: {'n_estimators': 125, 'max_depth': 17}. Best is trial 22 with value: 0.7882751474573569.\n",
      "[I 2025-08-24 18:00:06,036] Trial 47 finished with value: 0.7784712258887295 and parameters: {'n_estimators': 200, 'max_depth': 11}. Best is trial 22 with value: 0.7882751474573569.\n",
      "[I 2025-08-24 18:00:06,467] Trial 48 finished with value: 0.7833891280089271 and parameters: {'n_estimators': 107, 'max_depth': 16}. Best is trial 22 with value: 0.7882751474573569.\n",
      "[I 2025-08-24 18:00:06,930] Trial 49 finished with value: 0.7850231149370317 and parameters: {'n_estimators': 116, 'max_depth': 14}. Best is trial 22 with value: 0.7882751474573569.\n"
     ]
    }
   ],
   "source": [
    "# Create a study object and optimize the objective function\n",
    "study = optuna.create_study(direction='maximize', sampler=optuna.samplers.TPESampler())  # We aim to maximize accuracy\n",
    "study.optimize(objective, n_trials=50)  # Run 50 trials to find the best hyperparameters"
   ]
  },
  {
   "cell_type": "code",
   "execution_count": 21,
   "id": "7212c5c1",
   "metadata": {},
   "outputs": [
    {
     "name": "stdout",
     "output_type": "stream",
     "text": [
      "Best trial accuracy: 0.7882751474573569\n",
      "Best hyperparameters: {'n_estimators': 111, 'max_depth': 13}\n"
     ]
    }
   ],
   "source": [
    "\n",
    "# Print the best result\n",
    "print(f'Best trial accuracy: {study.best_trial.value}')\n",
    "print(f'Best hyperparameters: {study.best_trial.params}')"
   ]
  },
  {
   "cell_type": "code",
   "execution_count": 24,
   "id": "78243238",
   "metadata": {},
   "outputs": [
    {
     "name": "stdout",
     "output_type": "stream",
     "text": [
      "Test Accuracy with best hyperparameters: 0.75\n"
     ]
    }
   ],
   "source": [
    "from sklearn.metrics import accuracy_score\n",
    "\n",
    "# Train a RandomForestClassifier using the best hyperparameters from Optuna\n",
    "best_model = RandomForestClassifier(**study.best_trial.params, random_state=42)\n",
    "\n",
    "# Fit the model to the training data\n",
    "best_model.fit(x_train, y_train)\n",
    "\n",
    "# Make predictions on the test set\n",
    "y_pred = best_model.predict(x_test)\n",
    "\n",
    "# Calculate the accuracy on the test set\n",
    "test_accuracy = accuracy_score(y_test, y_pred)\n",
    "\n",
    "# Print the test accuracy\n",
    "print(f'Test Accuracy with best hyperparameters: {test_accuracy:.2f}')\n"
   ]
  },
  {
   "cell_type": "markdown",
   "id": "ca898ecd",
   "metadata": {},
   "source": [
    "Samplers IN Optuna"
   ]
  },
  {
   "cell_type": "code",
   "execution_count": 27,
   "id": "801c1231",
   "metadata": {},
   "outputs": [],
   "source": [
    "from sklearn.ensemble import RandomForestClassifier\n",
    "from sklearn.model_selection import cross_val_score\n",
    "\n",
    "# Define the objective function\n",
    "def objective(trial):\n",
    "    # Suggest values for the hyperparameters\n",
    "    n_estimators = trial.suggest_int('n_estimators', 50, 200)\n",
    "    max_depth = trial.suggest_int('max_depth', 3, 20)\n",
    "\n",
    "    # Create the RandomForestClassifier with suggested hyperparameters\n",
    "    model = RandomForestClassifier(\n",
    "        n_estimators=n_estimators,\n",
    "        max_depth=max_depth,\n",
    "        random_state=42\n",
    "    )\n",
    "\n",
    "    # Perform 3-fold cross-validation and calculate accuracy\n",
    "    score = cross_val_score(model, x_train, y_train, cv=3, scoring='accuracy').mean()\n",
    "\n",
    "    return score  # Return the accuracy score for Optuna to maximize\n"
   ]
  },
  {
   "cell_type": "code",
   "execution_count": 28,
   "id": "4b8189ed",
   "metadata": {},
   "outputs": [
    {
     "name": "stderr",
     "output_type": "stream",
     "text": [
      "[I 2025-08-24 18:27:18,966] A new study created in memory with name: no-name-495d12b2-be31-4454-8369-383dd426e957\n",
      "[I 2025-08-24 18:27:19,716] Trial 0 finished with value: 0.7849992029332058 and parameters: {'n_estimators': 156, 'max_depth': 13}. Best is trial 0 with value: 0.7849992029332058.\n",
      "[I 2025-08-24 18:27:20,391] Trial 1 finished with value: 0.7735772357723577 and parameters: {'n_estimators': 160, 'max_depth': 5}. Best is trial 0 with value: 0.7849992029332058.\n",
      "[I 2025-08-24 18:27:20,992] Trial 2 finished with value: 0.7540730113183485 and parameters: {'n_estimators': 152, 'max_depth': 4}. Best is trial 0 with value: 0.7849992029332058.\n",
      "[I 2025-08-24 18:27:21,230] Trial 3 finished with value: 0.7670731707317073 and parameters: {'n_estimators': 56, 'max_depth': 11}. Best is trial 0 with value: 0.7849992029332058.\n",
      "[I 2025-08-24 18:27:21,526] Trial 4 finished with value: 0.780121154152718 and parameters: {'n_estimators': 58, 'max_depth': 13}. Best is trial 0 with value: 0.7849992029332058.\n",
      "[I 2025-08-24 18:27:21,890] Trial 5 finished with value: 0.7573170731707317 and parameters: {'n_estimators': 59, 'max_depth': 9}. Best is trial 0 with value: 0.7849992029332058.\n",
      "[I 2025-08-24 18:27:22,664] Trial 6 finished with value: 0.7735931771082417 and parameters: {'n_estimators': 141, 'max_depth': 19}. Best is trial 0 with value: 0.7849992029332058.\n",
      "[I 2025-08-24 18:27:23,630] Trial 7 finished with value: 0.7784951378925554 and parameters: {'n_estimators': 199, 'max_depth': 12}. Best is trial 0 with value: 0.7849992029332058.\n",
      "[I 2025-08-24 18:27:24,389] Trial 8 finished with value: 0.7801052128168341 and parameters: {'n_estimators': 164, 'max_depth': 14}. Best is trial 0 with value: 0.7849992029332058.\n",
      "[I 2025-08-24 18:27:25,215] Trial 9 finished with value: 0.7768452096285668 and parameters: {'n_estimators': 158, 'max_depth': 16}. Best is trial 0 with value: 0.7849992029332058.\n",
      "[I 2025-08-24 18:27:26,505] Trial 10 finished with value: 0.7687071576598119 and parameters: {'n_estimators': 155, 'max_depth': 6}. Best is trial 0 with value: 0.7849992029332058.\n",
      "[I 2025-08-24 18:27:27,596] Trial 11 finished with value: 0.771967160848079 and parameters: {'n_estimators': 189, 'max_depth': 20}. Best is trial 0 with value: 0.7849992029332058.\n",
      "[I 2025-08-24 18:27:28,398] Trial 12 finished with value: 0.7524310537223019 and parameters: {'n_estimators': 131, 'max_depth': 3}. Best is trial 0 with value: 0.7849992029332058.\n",
      "[I 2025-08-24 18:27:28,924] Trial 13 finished with value: 0.771983102183963 and parameters: {'n_estimators': 81, 'max_depth': 13}. Best is trial 0 with value: 0.7849992029332058.\n",
      "[I 2025-08-24 18:27:29,975] Trial 14 finished with value: 0.7687071576598119 and parameters: {'n_estimators': 179, 'max_depth': 18}. Best is trial 0 with value: 0.7849992029332058.\n",
      "[I 2025-08-24 18:27:31,078] Trial 15 finished with value: 0.771967160848079 and parameters: {'n_estimators': 168, 'max_depth': 18}. Best is trial 0 with value: 0.7849992029332058.\n",
      "[I 2025-08-24 18:27:32,075] Trial 16 finished with value: 0.7833811573409851 and parameters: {'n_estimators': 142, 'max_depth': 13}. Best is trial 0 with value: 0.7849992029332058.\n",
      "[I 2025-08-24 18:27:32,843] Trial 17 finished with value: 0.7866411605292524 and parameters: {'n_estimators': 119, 'max_depth': 13}. Best is trial 17 with value: 0.7866411605292524.\n",
      "[I 2025-08-24 18:27:33,719] Trial 18 finished with value: 0.771967160848079 and parameters: {'n_estimators': 167, 'max_depth': 10}. Best is trial 17 with value: 0.7866411605292524.\n",
      "[I 2025-08-24 18:27:34,273] Trial 19 finished with value: 0.7817631117487646 and parameters: {'n_estimators': 129, 'max_depth': 14}. Best is trial 17 with value: 0.7866411605292524.\n",
      "[I 2025-08-24 18:27:34,567] Trial 20 finished with value: 0.7670970827355332 and parameters: {'n_estimators': 75, 'max_depth': 5}. Best is trial 17 with value: 0.7866411605292524.\n",
      "[I 2025-08-24 18:27:35,289] Trial 21 finished with value: 0.7719591901801371 and parameters: {'n_estimators': 181, 'max_depth': 6}. Best is trial 17 with value: 0.7866411605292524.\n",
      "[I 2025-08-24 18:27:35,957] Trial 22 finished with value: 0.780113183484776 and parameters: {'n_estimators': 152, 'max_depth': 13}. Best is trial 17 with value: 0.7866411605292524.\n",
      "[I 2025-08-24 18:27:36,287] Trial 23 finished with value: 0.771975131516021 and parameters: {'n_estimators': 77, 'max_depth': 6}. Best is trial 17 with value: 0.7866411605292524.\n",
      "[I 2025-08-24 18:27:36,646] Trial 24 finished with value: 0.7670891120675912 and parameters: {'n_estimators': 63, 'max_depth': 17}. Best is trial 17 with value: 0.7866411605292524.\n",
      "[I 2025-08-24 18:27:37,030] Trial 25 finished with value: 0.7768611509644509 and parameters: {'n_estimators': 58, 'max_depth': 15}. Best is trial 17 with value: 0.7866411605292524.\n",
      "[I 2025-08-24 18:27:37,329] Trial 26 finished with value: 0.7850151442690897 and parameters: {'n_estimators': 68, 'max_depth': 13}. Best is trial 17 with value: 0.7866411605292524.\n",
      "[I 2025-08-24 18:27:37,624] Trial 27 finished with value: 0.7622110632871034 and parameters: {'n_estimators': 58, 'max_depth': 7}. Best is trial 17 with value: 0.7866411605292524.\n",
      "[I 2025-08-24 18:27:38,426] Trial 28 finished with value: 0.7752112227004623 and parameters: {'n_estimators': 150, 'max_depth': 16}. Best is trial 17 with value: 0.7866411605292524.\n",
      "[I 2025-08-24 18:27:39,038] Trial 29 finished with value: 0.7638291088793241 and parameters: {'n_estimators': 93, 'max_depth': 8}. Best is trial 17 with value: 0.7866411605292524.\n",
      "[I 2025-08-24 18:27:39,848] Trial 30 finished with value: 0.7768611509644509 and parameters: {'n_estimators': 129, 'max_depth': 15}. Best is trial 17 with value: 0.7866411605292524.\n",
      "[I 2025-08-24 18:27:40,534] Trial 31 finished with value: 0.7735852064402997 and parameters: {'n_estimators': 167, 'max_depth': 6}. Best is trial 17 with value: 0.7866411605292524.\n",
      "[I 2025-08-24 18:27:40,745] Trial 32 finished with value: 0.7540490993145226 and parameters: {'n_estimators': 57, 'max_depth': 3}. Best is trial 17 with value: 0.7866411605292524.\n",
      "[I 2025-08-24 18:27:41,337] Trial 33 finished with value: 0.7573250438386737 and parameters: {'n_estimators': 161, 'max_depth': 4}. Best is trial 17 with value: 0.7866411605292524.\n",
      "[I 2025-08-24 18:27:42,017] Trial 34 finished with value: 0.7670891120675912 and parameters: {'n_estimators': 155, 'max_depth': 7}. Best is trial 17 with value: 0.7866411605292524.\n",
      "[I 2025-08-24 18:27:42,712] Trial 35 finished with value: 0.7719591901801371 and parameters: {'n_estimators': 151, 'max_depth': 18}. Best is trial 17 with value: 0.7866411605292524.\n",
      "[I 2025-08-24 18:27:42,941] Trial 36 finished with value: 0.7768452096285668 and parameters: {'n_estimators': 52, 'max_depth': 17}. Best is trial 17 with value: 0.7866411605292524.\n",
      "[I 2025-08-24 18:27:43,447] Trial 37 finished with value: 0.7703570859238004 and parameters: {'n_estimators': 100, 'max_depth': 18}. Best is trial 17 with value: 0.7866411605292524.\n",
      "[I 2025-08-24 18:27:43,889] Trial 38 finished with value: 0.7687151283277539 and parameters: {'n_estimators': 91, 'max_depth': 17}. Best is trial 17 with value: 0.7866411605292524.\n",
      "[I 2025-08-24 18:27:44,203] Trial 39 finished with value: 0.7752431053722302 and parameters: {'n_estimators': 68, 'max_depth': 15}. Best is trial 17 with value: 0.7866411605292524.\n",
      "[I 2025-08-24 18:27:44,968] Trial 40 finished with value: 0.7736011477761836 and parameters: {'n_estimators': 120, 'max_depth': 6}. Best is trial 17 with value: 0.7866411605292524.\n",
      "[I 2025-08-24 18:27:45,918] Trial 41 finished with value: 0.7687071576598119 and parameters: {'n_estimators': 195, 'max_depth': 18}. Best is trial 17 with value: 0.7866411605292524.\n",
      "[I 2025-08-24 18:27:46,540] Trial 42 finished with value: 0.7768452096285668 and parameters: {'n_estimators': 169, 'max_depth': 5}. Best is trial 17 with value: 0.7866411605292524.\n",
      "[I 2025-08-24 18:27:47,037] Trial 43 finished with value: 0.78012912482066 and parameters: {'n_estimators': 125, 'max_depth': 20}. Best is trial 17 with value: 0.7866411605292524.\n",
      "[I 2025-08-24 18:27:47,512] Trial 44 finished with value: 0.7768691216323927 and parameters: {'n_estimators': 115, 'max_depth': 18}. Best is trial 17 with value: 0.7866411605292524.\n",
      "[I 2025-08-24 18:27:48,228] Trial 45 finished with value: 0.771975131516021 and parameters: {'n_estimators': 161, 'max_depth': 8}. Best is trial 17 with value: 0.7866411605292524.\n",
      "[I 2025-08-24 18:27:48,997] Trial 46 finished with value: 0.7752510760401722 and parameters: {'n_estimators': 134, 'max_depth': 12}. Best is trial 17 with value: 0.7866411605292524.\n",
      "[I 2025-08-24 18:27:49,417] Trial 47 finished with value: 0.7654710664753707 and parameters: {'n_estimators': 92, 'max_depth': 18}. Best is trial 17 with value: 0.7866411605292524.\n",
      "[I 2025-08-24 18:27:50,192] Trial 48 finished with value: 0.771967160848079 and parameters: {'n_estimators': 178, 'max_depth': 9}. Best is trial 17 with value: 0.7866411605292524.\n",
      "[I 2025-08-24 18:27:50,853] Trial 49 finished with value: 0.7540570699824646 and parameters: {'n_estimators': 135, 'max_depth': 3}. Best is trial 17 with value: 0.7866411605292524.\n"
     ]
    }
   ],
   "source": [
    "study = optuna.create_study(direction='maximize', sampler=optuna.samplers.RandomSampler())  # We aim to maximize accuracy\n",
    "study.optimize(objective, n_trials=50)  # Run 50 trials to find the best hyperparameters"
   ]
  },
  {
   "cell_type": "code",
   "execution_count": 29,
   "id": "665215cd",
   "metadata": {},
   "outputs": [
    {
     "name": "stdout",
     "output_type": "stream",
     "text": [
      "Best trial accuracy: 0.7866411605292524\n",
      "Best hyperparameters: {'n_estimators': 119, 'max_depth': 13}\n"
     ]
    }
   ],
   "source": [
    "\n",
    "# Print the best result\n",
    "print(f'Best trial accuracy: {study.best_trial.value}')\n",
    "print(f'Best hyperparameters: {study.best_trial.params}')"
   ]
  },
  {
   "cell_type": "code",
   "execution_count": 31,
   "id": "5bb4d76a",
   "metadata": {},
   "outputs": [
    {
     "name": "stdout",
     "output_type": "stream",
     "text": [
      "Test Accuracy with best hyperparameters: 0.77\n"
     ]
    }
   ],
   "source": [
    "from sklearn.metrics import accuracy_score\n",
    "\n",
    "# Train a RandomForestClassifier using the best hyperparameters from Optuna\n",
    "best_model = RandomForestClassifier(**study.best_trial.params, random_state=42)\n",
    "\n",
    "# Fit the model to the training data\n",
    "best_model.fit(x_train, y_train)\n",
    "\n",
    "# Make predictions on the test set\n",
    "y_pred = best_model.predict(x_test)\n",
    "\n",
    "# Calculate the accuracy on the test set\n",
    "test_accuracy = accuracy_score(y_test, y_pred)\n",
    "\n",
    "# Print the test accuracy\n",
    "print(f'Test Accuracy with best hyperparameters: {test_accuracy:.2f}')\n"
   ]
  },
  {
   "cell_type": "markdown",
   "id": "99d9ce09",
   "metadata": {},
   "source": [
    "gridsearch"
   ]
  },
  {
   "cell_type": "code",
   "execution_count": 32,
   "id": "7ac4bc6f",
   "metadata": {},
   "outputs": [],
   "source": [
    "search_space = {\n",
    "    'n_estimators': [50, 100, 150, 200],\n",
    "    'max_depth': [5, 10, 15, 20]\n",
    "}"
   ]
  },
  {
   "cell_type": "code",
   "execution_count": 33,
   "id": "5a970099",
   "metadata": {},
   "outputs": [
    {
     "name": "stderr",
     "output_type": "stream",
     "text": [
      "[I 2025-08-24 18:28:26,408] A new study created in memory with name: no-name-e8762efe-a051-4e3c-8055-335c4234f5df\n",
      "[I 2025-08-24 18:28:26,839] Trial 0 finished with value: 0.7654391838036028 and parameters: {'n_estimators': 100, 'max_depth': 5}. Best is trial 0 with value: 0.7654391838036028.\n",
      "[I 2025-08-24 18:28:27,637] Trial 1 finished with value: 0.7735772357723577 and parameters: {'n_estimators': 150, 'max_depth': 10}. Best is trial 1 with value: 0.7735772357723577.\n",
      "[I 2025-08-24 18:28:27,893] Trial 2 finished with value: 0.7687151283277539 and parameters: {'n_estimators': 50, 'max_depth': 15}. Best is trial 1 with value: 0.7735772357723577.\n",
      "[I 2025-08-24 18:28:28,553] Trial 3 finished with value: 0.7752351347042882 and parameters: {'n_estimators': 100, 'max_depth': 15}. Best is trial 3 with value: 0.7752351347042882.\n",
      "[I 2025-08-24 18:28:29,170] Trial 4 finished with value: 0.7703491152558585 and parameters: {'n_estimators': 100, 'max_depth': 20}. Best is trial 3 with value: 0.7752351347042882.\n",
      "[I 2025-08-24 18:28:29,435] Trial 5 finished with value: 0.7817391997449387 and parameters: {'n_estimators': 50, 'max_depth': 10}. Best is trial 5 with value: 0.7817391997449387.\n",
      "[I 2025-08-24 18:28:30,090] Trial 6 finished with value: 0.7719591901801371 and parameters: {'n_estimators': 150, 'max_depth': 5}. Best is trial 5 with value: 0.7817391997449387.\n",
      "[I 2025-08-24 18:28:30,703] Trial 7 finished with value: 0.7719591901801371 and parameters: {'n_estimators': 150, 'max_depth': 20}. Best is trial 5 with value: 0.7817391997449387.\n",
      "[I 2025-08-24 18:28:31,328] Trial 8 finished with value: 0.7784791965566714 and parameters: {'n_estimators': 150, 'max_depth': 15}. Best is trial 5 with value: 0.7817391997449387.\n",
      "[I 2025-08-24 18:28:32,293] Trial 9 finished with value: 0.7784712258887295 and parameters: {'n_estimators': 200, 'max_depth': 10}. Best is trial 5 with value: 0.7817391997449387.\n",
      "[I 2025-08-24 18:28:33,297] Trial 10 finished with value: 0.7719591901801371 and parameters: {'n_estimators': 200, 'max_depth': 20}. Best is trial 5 with value: 0.7817391997449387.\n",
      "[I 2025-08-24 18:28:34,205] Trial 11 finished with value: 0.7768611509644509 and parameters: {'n_estimators': 200, 'max_depth': 15}. Best is trial 5 with value: 0.7817391997449387.\n",
      "[I 2025-08-24 18:28:35,027] Trial 12 finished with value: 0.7768452096285668 and parameters: {'n_estimators': 200, 'max_depth': 5}. Best is trial 5 with value: 0.7817391997449387.\n",
      "[I 2025-08-24 18:28:35,257] Trial 13 finished with value: 0.7703411445879165 and parameters: {'n_estimators': 50, 'max_depth': 5}. Best is trial 5 with value: 0.7817391997449387.\n",
      "[I 2025-08-24 18:28:35,707] Trial 14 finished with value: 0.7752351347042882 and parameters: {'n_estimators': 100, 'max_depth': 10}. Best is trial 5 with value: 0.7817391997449387.\n",
      "[I 2025-08-24 18:28:35,942] Trial 15 finished with value: 0.7752112227004623 and parameters: {'n_estimators': 50, 'max_depth': 20}. Best is trial 5 with value: 0.7817391997449387.\n"
     ]
    }
   ],
   "source": [
    "# Create a study and optimize it using GridSampler\n",
    "study = optuna.create_study(direction='maximize', sampler=optuna.samplers.GridSampler(search_space))\n",
    "study.optimize(objective)"
   ]
  },
  {
   "cell_type": "code",
   "execution_count": 34,
   "id": "3c55bbd2",
   "metadata": {},
   "outputs": [
    {
     "name": "stdout",
     "output_type": "stream",
     "text": [
      "Best trial accuracy: 0.7817391997449387\n",
      "Best hyperparameters: {'n_estimators': 50, 'max_depth': 10}\n"
     ]
    }
   ],
   "source": [
    "\n",
    "# Print the best result\n",
    "print(f'Best trial accuracy: {study.best_trial.value}')\n",
    "print(f'Best hyperparameters: {study.best_trial.params}')"
   ]
  },
  {
   "cell_type": "code",
   "execution_count": 36,
   "id": "4b0ff2f2",
   "metadata": {},
   "outputs": [
    {
     "name": "stdout",
     "output_type": "stream",
     "text": [
      "Test Accuracy with best hyperparameters: 0.75\n"
     ]
    }
   ],
   "source": [
    "from sklearn.metrics import accuracy_score\n",
    "\n",
    "# Train a RandomForestClassifier using the best hyperparameters from Optuna\n",
    "best_model = RandomForestClassifier(**study.best_trial.params, random_state=42)\n",
    "\n",
    "# Fit the model to the training data\n",
    "best_model.fit(x_train, y_train)\n",
    "\n",
    "# Make predictions on the test set\n",
    "y_pred = best_model.predict(x_test)\n",
    "\n",
    "# Calculate the accuracy on the test set\n",
    "test_accuracy = accuracy_score(y_test, y_pred)\n",
    "\n",
    "# Print the test accuracy\n",
    "print(f'Test Accuracy with best hyperparameters: {test_accuracy:.2f}')\n"
   ]
  },
  {
   "cell_type": "markdown",
   "id": "228b090f",
   "metadata": {},
   "source": [
    "optuna visualization"
   ]
  },
  {
   "cell_type": "code",
   "execution_count": 37,
   "id": "1c73c6ab",
   "metadata": {},
   "outputs": [],
   "source": [
    "# For visualizations\n",
    "from optuna.visualization import plot_optimization_history, plot_parallel_coordinate, plot_slice, plot_contour, plot_param_importances"
   ]
  },
  {
   "cell_type": "code",
   "execution_count": 38,
   "id": "05dc5cb7",
   "metadata": {},
   "outputs": [
    {
     "data": {
      "application/vnd.plotly.v1+json": {
       "config": {
        "plotlyServerURL": "https://plot.ly"
       },
       "data": [
        {
         "mode": "markers",
         "name": "Objective Value",
         "type": "scatter",
         "x": [
          0,
          1,
          2,
          3,
          4,
          5,
          6,
          7,
          8,
          9,
          10,
          11,
          12,
          13,
          14,
          15
         ],
         "y": [
          0.7654391838036028,
          0.7735772357723577,
          0.7687151283277539,
          0.7752351347042882,
          0.7703491152558585,
          0.7817391997449387,
          0.7719591901801371,
          0.7719591901801371,
          0.7784791965566714,
          0.7784712258887295,
          0.7719591901801371,
          0.7768611509644509,
          0.7768452096285668,
          0.7703411445879165,
          0.7752351347042882,
          0.7752112227004623
         ]
        },
        {
         "mode": "lines",
         "name": "Best Value",
         "type": "scatter",
         "x": [
          0,
          1,
          2,
          3,
          4,
          5,
          6,
          7,
          8,
          9,
          10,
          11,
          12,
          13,
          14,
          15
         ],
         "y": [
          0.7654391838036028,
          0.7735772357723577,
          0.7735772357723577,
          0.7752351347042882,
          0.7752351347042882,
          0.7817391997449387,
          0.7817391997449387,
          0.7817391997449387,
          0.7817391997449387,
          0.7817391997449387,
          0.7817391997449387,
          0.7817391997449387,
          0.7817391997449387,
          0.7817391997449387,
          0.7817391997449387,
          0.7817391997449387
         ]
        },
        {
         "marker": {
          "color": "#cccccc"
         },
         "mode": "markers",
         "name": "Infeasible Trial",
         "showlegend": false,
         "type": "scatter",
         "x": [],
         "y": []
        }
       ],
       "layout": {
        "template": {
         "data": {
          "bar": [
           {
            "error_x": {
             "color": "#2a3f5f"
            },
            "error_y": {
             "color": "#2a3f5f"
            },
            "marker": {
             "line": {
              "color": "#E5ECF6",
              "width": 0.5
             },
             "pattern": {
              "fillmode": "overlay",
              "size": 10,
              "solidity": 0.2
             }
            },
            "type": "bar"
           }
          ],
          "barpolar": [
           {
            "marker": {
             "line": {
              "color": "#E5ECF6",
              "width": 0.5
             },
             "pattern": {
              "fillmode": "overlay",
              "size": 10,
              "solidity": 0.2
             }
            },
            "type": "barpolar"
           }
          ],
          "carpet": [
           {
            "aaxis": {
             "endlinecolor": "#2a3f5f",
             "gridcolor": "white",
             "linecolor": "white",
             "minorgridcolor": "white",
             "startlinecolor": "#2a3f5f"
            },
            "baxis": {
             "endlinecolor": "#2a3f5f",
             "gridcolor": "white",
             "linecolor": "white",
             "minorgridcolor": "white",
             "startlinecolor": "#2a3f5f"
            },
            "type": "carpet"
           }
          ],
          "choropleth": [
           {
            "colorbar": {
             "outlinewidth": 0,
             "ticks": ""
            },
            "type": "choropleth"
           }
          ],
          "contour": [
           {
            "colorbar": {
             "outlinewidth": 0,
             "ticks": ""
            },
            "colorscale": [
             [
              0,
              "#0d0887"
             ],
             [
              0.1111111111111111,
              "#46039f"
             ],
             [
              0.2222222222222222,
              "#7201a8"
             ],
             [
              0.3333333333333333,
              "#9c179e"
             ],
             [
              0.4444444444444444,
              "#bd3786"
             ],
             [
              0.5555555555555556,
              "#d8576b"
             ],
             [
              0.6666666666666666,
              "#ed7953"
             ],
             [
              0.7777777777777778,
              "#fb9f3a"
             ],
             [
              0.8888888888888888,
              "#fdca26"
             ],
             [
              1,
              "#f0f921"
             ]
            ],
            "type": "contour"
           }
          ],
          "contourcarpet": [
           {
            "colorbar": {
             "outlinewidth": 0,
             "ticks": ""
            },
            "type": "contourcarpet"
           }
          ],
          "heatmap": [
           {
            "colorbar": {
             "outlinewidth": 0,
             "ticks": ""
            },
            "colorscale": [
             [
              0,
              "#0d0887"
             ],
             [
              0.1111111111111111,
              "#46039f"
             ],
             [
              0.2222222222222222,
              "#7201a8"
             ],
             [
              0.3333333333333333,
              "#9c179e"
             ],
             [
              0.4444444444444444,
              "#bd3786"
             ],
             [
              0.5555555555555556,
              "#d8576b"
             ],
             [
              0.6666666666666666,
              "#ed7953"
             ],
             [
              0.7777777777777778,
              "#fb9f3a"
             ],
             [
              0.8888888888888888,
              "#fdca26"
             ],
             [
              1,
              "#f0f921"
             ]
            ],
            "type": "heatmap"
           }
          ],
          "heatmapgl": [
           {
            "colorbar": {
             "outlinewidth": 0,
             "ticks": ""
            },
            "colorscale": [
             [
              0,
              "#0d0887"
             ],
             [
              0.1111111111111111,
              "#46039f"
             ],
             [
              0.2222222222222222,
              "#7201a8"
             ],
             [
              0.3333333333333333,
              "#9c179e"
             ],
             [
              0.4444444444444444,
              "#bd3786"
             ],
             [
              0.5555555555555556,
              "#d8576b"
             ],
             [
              0.6666666666666666,
              "#ed7953"
             ],
             [
              0.7777777777777778,
              "#fb9f3a"
             ],
             [
              0.8888888888888888,
              "#fdca26"
             ],
             [
              1,
              "#f0f921"
             ]
            ],
            "type": "heatmapgl"
           }
          ],
          "histogram": [
           {
            "marker": {
             "pattern": {
              "fillmode": "overlay",
              "size": 10,
              "solidity": 0.2
             }
            },
            "type": "histogram"
           }
          ],
          "histogram2d": [
           {
            "colorbar": {
             "outlinewidth": 0,
             "ticks": ""
            },
            "colorscale": [
             [
              0,
              "#0d0887"
             ],
             [
              0.1111111111111111,
              "#46039f"
             ],
             [
              0.2222222222222222,
              "#7201a8"
             ],
             [
              0.3333333333333333,
              "#9c179e"
             ],
             [
              0.4444444444444444,
              "#bd3786"
             ],
             [
              0.5555555555555556,
              "#d8576b"
             ],
             [
              0.6666666666666666,
              "#ed7953"
             ],
             [
              0.7777777777777778,
              "#fb9f3a"
             ],
             [
              0.8888888888888888,
              "#fdca26"
             ],
             [
              1,
              "#f0f921"
             ]
            ],
            "type": "histogram2d"
           }
          ],
          "histogram2dcontour": [
           {
            "colorbar": {
             "outlinewidth": 0,
             "ticks": ""
            },
            "colorscale": [
             [
              0,
              "#0d0887"
             ],
             [
              0.1111111111111111,
              "#46039f"
             ],
             [
              0.2222222222222222,
              "#7201a8"
             ],
             [
              0.3333333333333333,
              "#9c179e"
             ],
             [
              0.4444444444444444,
              "#bd3786"
             ],
             [
              0.5555555555555556,
              "#d8576b"
             ],
             [
              0.6666666666666666,
              "#ed7953"
             ],
             [
              0.7777777777777778,
              "#fb9f3a"
             ],
             [
              0.8888888888888888,
              "#fdca26"
             ],
             [
              1,
              "#f0f921"
             ]
            ],
            "type": "histogram2dcontour"
           }
          ],
          "mesh3d": [
           {
            "colorbar": {
             "outlinewidth": 0,
             "ticks": ""
            },
            "type": "mesh3d"
           }
          ],
          "parcoords": [
           {
            "line": {
             "colorbar": {
              "outlinewidth": 0,
              "ticks": ""
             }
            },
            "type": "parcoords"
           }
          ],
          "pie": [
           {
            "automargin": true,
            "type": "pie"
           }
          ],
          "scatter": [
           {
            "fillpattern": {
             "fillmode": "overlay",
             "size": 10,
             "solidity": 0.2
            },
            "type": "scatter"
           }
          ],
          "scatter3d": [
           {
            "line": {
             "colorbar": {
              "outlinewidth": 0,
              "ticks": ""
             }
            },
            "marker": {
             "colorbar": {
              "outlinewidth": 0,
              "ticks": ""
             }
            },
            "type": "scatter3d"
           }
          ],
          "scattercarpet": [
           {
            "marker": {
             "colorbar": {
              "outlinewidth": 0,
              "ticks": ""
             }
            },
            "type": "scattercarpet"
           }
          ],
          "scattergeo": [
           {
            "marker": {
             "colorbar": {
              "outlinewidth": 0,
              "ticks": ""
             }
            },
            "type": "scattergeo"
           }
          ],
          "scattergl": [
           {
            "marker": {
             "colorbar": {
              "outlinewidth": 0,
              "ticks": ""
             }
            },
            "type": "scattergl"
           }
          ],
          "scattermapbox": [
           {
            "marker": {
             "colorbar": {
              "outlinewidth": 0,
              "ticks": ""
             }
            },
            "type": "scattermapbox"
           }
          ],
          "scatterpolar": [
           {
            "marker": {
             "colorbar": {
              "outlinewidth": 0,
              "ticks": ""
             }
            },
            "type": "scatterpolar"
           }
          ],
          "scatterpolargl": [
           {
            "marker": {
             "colorbar": {
              "outlinewidth": 0,
              "ticks": ""
             }
            },
            "type": "scatterpolargl"
           }
          ],
          "scatterternary": [
           {
            "marker": {
             "colorbar": {
              "outlinewidth": 0,
              "ticks": ""
             }
            },
            "type": "scatterternary"
           }
          ],
          "surface": [
           {
            "colorbar": {
             "outlinewidth": 0,
             "ticks": ""
            },
            "colorscale": [
             [
              0,
              "#0d0887"
             ],
             [
              0.1111111111111111,
              "#46039f"
             ],
             [
              0.2222222222222222,
              "#7201a8"
             ],
             [
              0.3333333333333333,
              "#9c179e"
             ],
             [
              0.4444444444444444,
              "#bd3786"
             ],
             [
              0.5555555555555556,
              "#d8576b"
             ],
             [
              0.6666666666666666,
              "#ed7953"
             ],
             [
              0.7777777777777778,
              "#fb9f3a"
             ],
             [
              0.8888888888888888,
              "#fdca26"
             ],
             [
              1,
              "#f0f921"
             ]
            ],
            "type": "surface"
           }
          ],
          "table": [
           {
            "cells": {
             "fill": {
              "color": "#EBF0F8"
             },
             "line": {
              "color": "white"
             }
            },
            "header": {
             "fill": {
              "color": "#C8D4E3"
             },
             "line": {
              "color": "white"
             }
            },
            "type": "table"
           }
          ]
         },
         "layout": {
          "annotationdefaults": {
           "arrowcolor": "#2a3f5f",
           "arrowhead": 0,
           "arrowwidth": 1
          },
          "autotypenumbers": "strict",
          "coloraxis": {
           "colorbar": {
            "outlinewidth": 0,
            "ticks": ""
           }
          },
          "colorscale": {
           "diverging": [
            [
             0,
             "#8e0152"
            ],
            [
             0.1,
             "#c51b7d"
            ],
            [
             0.2,
             "#de77ae"
            ],
            [
             0.3,
             "#f1b6da"
            ],
            [
             0.4,
             "#fde0ef"
            ],
            [
             0.5,
             "#f7f7f7"
            ],
            [
             0.6,
             "#e6f5d0"
            ],
            [
             0.7,
             "#b8e186"
            ],
            [
             0.8,
             "#7fbc41"
            ],
            [
             0.9,
             "#4d9221"
            ],
            [
             1,
             "#276419"
            ]
           ],
           "sequential": [
            [
             0,
             "#0d0887"
            ],
            [
             0.1111111111111111,
             "#46039f"
            ],
            [
             0.2222222222222222,
             "#7201a8"
            ],
            [
             0.3333333333333333,
             "#9c179e"
            ],
            [
             0.4444444444444444,
             "#bd3786"
            ],
            [
             0.5555555555555556,
             "#d8576b"
            ],
            [
             0.6666666666666666,
             "#ed7953"
            ],
            [
             0.7777777777777778,
             "#fb9f3a"
            ],
            [
             0.8888888888888888,
             "#fdca26"
            ],
            [
             1,
             "#f0f921"
            ]
           ],
           "sequentialminus": [
            [
             0,
             "#0d0887"
            ],
            [
             0.1111111111111111,
             "#46039f"
            ],
            [
             0.2222222222222222,
             "#7201a8"
            ],
            [
             0.3333333333333333,
             "#9c179e"
            ],
            [
             0.4444444444444444,
             "#bd3786"
            ],
            [
             0.5555555555555556,
             "#d8576b"
            ],
            [
             0.6666666666666666,
             "#ed7953"
            ],
            [
             0.7777777777777778,
             "#fb9f3a"
            ],
            [
             0.8888888888888888,
             "#fdca26"
            ],
            [
             1,
             "#f0f921"
            ]
           ]
          },
          "colorway": [
           "#636efa",
           "#EF553B",
           "#00cc96",
           "#ab63fa",
           "#FFA15A",
           "#19d3f3",
           "#FF6692",
           "#B6E880",
           "#FF97FF",
           "#FECB52"
          ],
          "font": {
           "color": "#2a3f5f"
          },
          "geo": {
           "bgcolor": "white",
           "lakecolor": "white",
           "landcolor": "#E5ECF6",
           "showlakes": true,
           "showland": true,
           "subunitcolor": "white"
          },
          "hoverlabel": {
           "align": "left"
          },
          "hovermode": "closest",
          "mapbox": {
           "style": "light"
          },
          "paper_bgcolor": "white",
          "plot_bgcolor": "#E5ECF6",
          "polar": {
           "angularaxis": {
            "gridcolor": "white",
            "linecolor": "white",
            "ticks": ""
           },
           "bgcolor": "#E5ECF6",
           "radialaxis": {
            "gridcolor": "white",
            "linecolor": "white",
            "ticks": ""
           }
          },
          "scene": {
           "xaxis": {
            "backgroundcolor": "#E5ECF6",
            "gridcolor": "white",
            "gridwidth": 2,
            "linecolor": "white",
            "showbackground": true,
            "ticks": "",
            "zerolinecolor": "white"
           },
           "yaxis": {
            "backgroundcolor": "#E5ECF6",
            "gridcolor": "white",
            "gridwidth": 2,
            "linecolor": "white",
            "showbackground": true,
            "ticks": "",
            "zerolinecolor": "white"
           },
           "zaxis": {
            "backgroundcolor": "#E5ECF6",
            "gridcolor": "white",
            "gridwidth": 2,
            "linecolor": "white",
            "showbackground": true,
            "ticks": "",
            "zerolinecolor": "white"
           }
          },
          "shapedefaults": {
           "line": {
            "color": "#2a3f5f"
           }
          },
          "ternary": {
           "aaxis": {
            "gridcolor": "white",
            "linecolor": "white",
            "ticks": ""
           },
           "baxis": {
            "gridcolor": "white",
            "linecolor": "white",
            "ticks": ""
           },
           "bgcolor": "#E5ECF6",
           "caxis": {
            "gridcolor": "white",
            "linecolor": "white",
            "ticks": ""
           }
          },
          "title": {
           "x": 0.05
          },
          "xaxis": {
           "automargin": true,
           "gridcolor": "white",
           "linecolor": "white",
           "ticks": "",
           "title": {
            "standoff": 15
           },
           "zerolinecolor": "white",
           "zerolinewidth": 2
          },
          "yaxis": {
           "automargin": true,
           "gridcolor": "white",
           "linecolor": "white",
           "ticks": "",
           "title": {
            "standoff": 15
           },
           "zerolinecolor": "white",
           "zerolinewidth": 2
          }
         }
        },
        "title": {
         "text": "Optimization History Plot"
        },
        "xaxis": {
         "title": {
          "text": "Trial"
         }
        },
        "yaxis": {
         "title": {
          "text": "Objective Value"
         }
        }
       }
      }
     },
     "metadata": {},
     "output_type": "display_data"
    }
   ],
   "source": [
    "# 1. Optimization History\n",
    "plot_optimization_history(study).show()"
   ]
  },
  {
   "cell_type": "code",
   "execution_count": 39,
   "id": "be99fd53",
   "metadata": {},
   "outputs": [
    {
     "data": {
      "application/vnd.plotly.v1+json": {
       "config": {
        "plotlyServerURL": "https://plot.ly"
       },
       "data": [
        {
         "dimensions": [
          {
           "label": "Objective Value",
           "range": [
            0.7654391838036028,
            0.7817391997449387
           ],
           "values": [
            0.7654391838036028,
            0.7735772357723577,
            0.7687151283277539,
            0.7752351347042882,
            0.7703491152558585,
            0.7817391997449387,
            0.7719591901801371,
            0.7719591901801371,
            0.7784791965566714,
            0.7784712258887295,
            0.7719591901801371,
            0.7768611509644509,
            0.7768452096285668,
            0.7703411445879165,
            0.7752351347042882,
            0.7752112227004623
           ]
          },
          {
           "label": "max_depth",
           "range": [
            5,
            20
           ],
           "values": [
            5,
            10,
            15,
            15,
            20,
            10,
            5,
            20,
            15,
            10,
            20,
            15,
            5,
            5,
            10,
            20
           ]
          },
          {
           "label": "n_estimators",
           "range": [
            50,
            200
           ],
           "values": [
            100,
            150,
            50,
            100,
            100,
            50,
            150,
            150,
            150,
            200,
            200,
            200,
            200,
            50,
            100,
            50
           ]
          }
         ],
         "labelangle": 30,
         "labelside": "bottom",
         "line": {
          "color": [
           0.7654391838036028,
           0.7735772357723577,
           0.7687151283277539,
           0.7752351347042882,
           0.7703491152558585,
           0.7817391997449387,
           0.7719591901801371,
           0.7719591901801371,
           0.7784791965566714,
           0.7784712258887295,
           0.7719591901801371,
           0.7768611509644509,
           0.7768452096285668,
           0.7703411445879165,
           0.7752351347042882,
           0.7752112227004623
          ],
          "colorbar": {
           "title": {
            "text": "Objective Value"
           }
          },
          "colorscale": [
           [
            0,
            "rgb(247,251,255)"
           ],
           [
            0.125,
            "rgb(222,235,247)"
           ],
           [
            0.25,
            "rgb(198,219,239)"
           ],
           [
            0.375,
            "rgb(158,202,225)"
           ],
           [
            0.5,
            "rgb(107,174,214)"
           ],
           [
            0.625,
            "rgb(66,146,198)"
           ],
           [
            0.75,
            "rgb(33,113,181)"
           ],
           [
            0.875,
            "rgb(8,81,156)"
           ],
           [
            1,
            "rgb(8,48,107)"
           ]
          ],
          "reversescale": false,
          "showscale": true
         },
         "type": "parcoords"
        }
       ],
       "layout": {
        "template": {
         "data": {
          "bar": [
           {
            "error_x": {
             "color": "#2a3f5f"
            },
            "error_y": {
             "color": "#2a3f5f"
            },
            "marker": {
             "line": {
              "color": "#E5ECF6",
              "width": 0.5
             },
             "pattern": {
              "fillmode": "overlay",
              "size": 10,
              "solidity": 0.2
             }
            },
            "type": "bar"
           }
          ],
          "barpolar": [
           {
            "marker": {
             "line": {
              "color": "#E5ECF6",
              "width": 0.5
             },
             "pattern": {
              "fillmode": "overlay",
              "size": 10,
              "solidity": 0.2
             }
            },
            "type": "barpolar"
           }
          ],
          "carpet": [
           {
            "aaxis": {
             "endlinecolor": "#2a3f5f",
             "gridcolor": "white",
             "linecolor": "white",
             "minorgridcolor": "white",
             "startlinecolor": "#2a3f5f"
            },
            "baxis": {
             "endlinecolor": "#2a3f5f",
             "gridcolor": "white",
             "linecolor": "white",
             "minorgridcolor": "white",
             "startlinecolor": "#2a3f5f"
            },
            "type": "carpet"
           }
          ],
          "choropleth": [
           {
            "colorbar": {
             "outlinewidth": 0,
             "ticks": ""
            },
            "type": "choropleth"
           }
          ],
          "contour": [
           {
            "colorbar": {
             "outlinewidth": 0,
             "ticks": ""
            },
            "colorscale": [
             [
              0,
              "#0d0887"
             ],
             [
              0.1111111111111111,
              "#46039f"
             ],
             [
              0.2222222222222222,
              "#7201a8"
             ],
             [
              0.3333333333333333,
              "#9c179e"
             ],
             [
              0.4444444444444444,
              "#bd3786"
             ],
             [
              0.5555555555555556,
              "#d8576b"
             ],
             [
              0.6666666666666666,
              "#ed7953"
             ],
             [
              0.7777777777777778,
              "#fb9f3a"
             ],
             [
              0.8888888888888888,
              "#fdca26"
             ],
             [
              1,
              "#f0f921"
             ]
            ],
            "type": "contour"
           }
          ],
          "contourcarpet": [
           {
            "colorbar": {
             "outlinewidth": 0,
             "ticks": ""
            },
            "type": "contourcarpet"
           }
          ],
          "heatmap": [
           {
            "colorbar": {
             "outlinewidth": 0,
             "ticks": ""
            },
            "colorscale": [
             [
              0,
              "#0d0887"
             ],
             [
              0.1111111111111111,
              "#46039f"
             ],
             [
              0.2222222222222222,
              "#7201a8"
             ],
             [
              0.3333333333333333,
              "#9c179e"
             ],
             [
              0.4444444444444444,
              "#bd3786"
             ],
             [
              0.5555555555555556,
              "#d8576b"
             ],
             [
              0.6666666666666666,
              "#ed7953"
             ],
             [
              0.7777777777777778,
              "#fb9f3a"
             ],
             [
              0.8888888888888888,
              "#fdca26"
             ],
             [
              1,
              "#f0f921"
             ]
            ],
            "type": "heatmap"
           }
          ],
          "heatmapgl": [
           {
            "colorbar": {
             "outlinewidth": 0,
             "ticks": ""
            },
            "colorscale": [
             [
              0,
              "#0d0887"
             ],
             [
              0.1111111111111111,
              "#46039f"
             ],
             [
              0.2222222222222222,
              "#7201a8"
             ],
             [
              0.3333333333333333,
              "#9c179e"
             ],
             [
              0.4444444444444444,
              "#bd3786"
             ],
             [
              0.5555555555555556,
              "#d8576b"
             ],
             [
              0.6666666666666666,
              "#ed7953"
             ],
             [
              0.7777777777777778,
              "#fb9f3a"
             ],
             [
              0.8888888888888888,
              "#fdca26"
             ],
             [
              1,
              "#f0f921"
             ]
            ],
            "type": "heatmapgl"
           }
          ],
          "histogram": [
           {
            "marker": {
             "pattern": {
              "fillmode": "overlay",
              "size": 10,
              "solidity": 0.2
             }
            },
            "type": "histogram"
           }
          ],
          "histogram2d": [
           {
            "colorbar": {
             "outlinewidth": 0,
             "ticks": ""
            },
            "colorscale": [
             [
              0,
              "#0d0887"
             ],
             [
              0.1111111111111111,
              "#46039f"
             ],
             [
              0.2222222222222222,
              "#7201a8"
             ],
             [
              0.3333333333333333,
              "#9c179e"
             ],
             [
              0.4444444444444444,
              "#bd3786"
             ],
             [
              0.5555555555555556,
              "#d8576b"
             ],
             [
              0.6666666666666666,
              "#ed7953"
             ],
             [
              0.7777777777777778,
              "#fb9f3a"
             ],
             [
              0.8888888888888888,
              "#fdca26"
             ],
             [
              1,
              "#f0f921"
             ]
            ],
            "type": "histogram2d"
           }
          ],
          "histogram2dcontour": [
           {
            "colorbar": {
             "outlinewidth": 0,
             "ticks": ""
            },
            "colorscale": [
             [
              0,
              "#0d0887"
             ],
             [
              0.1111111111111111,
              "#46039f"
             ],
             [
              0.2222222222222222,
              "#7201a8"
             ],
             [
              0.3333333333333333,
              "#9c179e"
             ],
             [
              0.4444444444444444,
              "#bd3786"
             ],
             [
              0.5555555555555556,
              "#d8576b"
             ],
             [
              0.6666666666666666,
              "#ed7953"
             ],
             [
              0.7777777777777778,
              "#fb9f3a"
             ],
             [
              0.8888888888888888,
              "#fdca26"
             ],
             [
              1,
              "#f0f921"
             ]
            ],
            "type": "histogram2dcontour"
           }
          ],
          "mesh3d": [
           {
            "colorbar": {
             "outlinewidth": 0,
             "ticks": ""
            },
            "type": "mesh3d"
           }
          ],
          "parcoords": [
           {
            "line": {
             "colorbar": {
              "outlinewidth": 0,
              "ticks": ""
             }
            },
            "type": "parcoords"
           }
          ],
          "pie": [
           {
            "automargin": true,
            "type": "pie"
           }
          ],
          "scatter": [
           {
            "fillpattern": {
             "fillmode": "overlay",
             "size": 10,
             "solidity": 0.2
            },
            "type": "scatter"
           }
          ],
          "scatter3d": [
           {
            "line": {
             "colorbar": {
              "outlinewidth": 0,
              "ticks": ""
             }
            },
            "marker": {
             "colorbar": {
              "outlinewidth": 0,
              "ticks": ""
             }
            },
            "type": "scatter3d"
           }
          ],
          "scattercarpet": [
           {
            "marker": {
             "colorbar": {
              "outlinewidth": 0,
              "ticks": ""
             }
            },
            "type": "scattercarpet"
           }
          ],
          "scattergeo": [
           {
            "marker": {
             "colorbar": {
              "outlinewidth": 0,
              "ticks": ""
             }
            },
            "type": "scattergeo"
           }
          ],
          "scattergl": [
           {
            "marker": {
             "colorbar": {
              "outlinewidth": 0,
              "ticks": ""
             }
            },
            "type": "scattergl"
           }
          ],
          "scattermapbox": [
           {
            "marker": {
             "colorbar": {
              "outlinewidth": 0,
              "ticks": ""
             }
            },
            "type": "scattermapbox"
           }
          ],
          "scatterpolar": [
           {
            "marker": {
             "colorbar": {
              "outlinewidth": 0,
              "ticks": ""
             }
            },
            "type": "scatterpolar"
           }
          ],
          "scatterpolargl": [
           {
            "marker": {
             "colorbar": {
              "outlinewidth": 0,
              "ticks": ""
             }
            },
            "type": "scatterpolargl"
           }
          ],
          "scatterternary": [
           {
            "marker": {
             "colorbar": {
              "outlinewidth": 0,
              "ticks": ""
             }
            },
            "type": "scatterternary"
           }
          ],
          "surface": [
           {
            "colorbar": {
             "outlinewidth": 0,
             "ticks": ""
            },
            "colorscale": [
             [
              0,
              "#0d0887"
             ],
             [
              0.1111111111111111,
              "#46039f"
             ],
             [
              0.2222222222222222,
              "#7201a8"
             ],
             [
              0.3333333333333333,
              "#9c179e"
             ],
             [
              0.4444444444444444,
              "#bd3786"
             ],
             [
              0.5555555555555556,
              "#d8576b"
             ],
             [
              0.6666666666666666,
              "#ed7953"
             ],
             [
              0.7777777777777778,
              "#fb9f3a"
             ],
             [
              0.8888888888888888,
              "#fdca26"
             ],
             [
              1,
              "#f0f921"
             ]
            ],
            "type": "surface"
           }
          ],
          "table": [
           {
            "cells": {
             "fill": {
              "color": "#EBF0F8"
             },
             "line": {
              "color": "white"
             }
            },
            "header": {
             "fill": {
              "color": "#C8D4E3"
             },
             "line": {
              "color": "white"
             }
            },
            "type": "table"
           }
          ]
         },
         "layout": {
          "annotationdefaults": {
           "arrowcolor": "#2a3f5f",
           "arrowhead": 0,
           "arrowwidth": 1
          },
          "autotypenumbers": "strict",
          "coloraxis": {
           "colorbar": {
            "outlinewidth": 0,
            "ticks": ""
           }
          },
          "colorscale": {
           "diverging": [
            [
             0,
             "#8e0152"
            ],
            [
             0.1,
             "#c51b7d"
            ],
            [
             0.2,
             "#de77ae"
            ],
            [
             0.3,
             "#f1b6da"
            ],
            [
             0.4,
             "#fde0ef"
            ],
            [
             0.5,
             "#f7f7f7"
            ],
            [
             0.6,
             "#e6f5d0"
            ],
            [
             0.7,
             "#b8e186"
            ],
            [
             0.8,
             "#7fbc41"
            ],
            [
             0.9,
             "#4d9221"
            ],
            [
             1,
             "#276419"
            ]
           ],
           "sequential": [
            [
             0,
             "#0d0887"
            ],
            [
             0.1111111111111111,
             "#46039f"
            ],
            [
             0.2222222222222222,
             "#7201a8"
            ],
            [
             0.3333333333333333,
             "#9c179e"
            ],
            [
             0.4444444444444444,
             "#bd3786"
            ],
            [
             0.5555555555555556,
             "#d8576b"
            ],
            [
             0.6666666666666666,
             "#ed7953"
            ],
            [
             0.7777777777777778,
             "#fb9f3a"
            ],
            [
             0.8888888888888888,
             "#fdca26"
            ],
            [
             1,
             "#f0f921"
            ]
           ],
           "sequentialminus": [
            [
             0,
             "#0d0887"
            ],
            [
             0.1111111111111111,
             "#46039f"
            ],
            [
             0.2222222222222222,
             "#7201a8"
            ],
            [
             0.3333333333333333,
             "#9c179e"
            ],
            [
             0.4444444444444444,
             "#bd3786"
            ],
            [
             0.5555555555555556,
             "#d8576b"
            ],
            [
             0.6666666666666666,
             "#ed7953"
            ],
            [
             0.7777777777777778,
             "#fb9f3a"
            ],
            [
             0.8888888888888888,
             "#fdca26"
            ],
            [
             1,
             "#f0f921"
            ]
           ]
          },
          "colorway": [
           "#636efa",
           "#EF553B",
           "#00cc96",
           "#ab63fa",
           "#FFA15A",
           "#19d3f3",
           "#FF6692",
           "#B6E880",
           "#FF97FF",
           "#FECB52"
          ],
          "font": {
           "color": "#2a3f5f"
          },
          "geo": {
           "bgcolor": "white",
           "lakecolor": "white",
           "landcolor": "#E5ECF6",
           "showlakes": true,
           "showland": true,
           "subunitcolor": "white"
          },
          "hoverlabel": {
           "align": "left"
          },
          "hovermode": "closest",
          "mapbox": {
           "style": "light"
          },
          "paper_bgcolor": "white",
          "plot_bgcolor": "#E5ECF6",
          "polar": {
           "angularaxis": {
            "gridcolor": "white",
            "linecolor": "white",
            "ticks": ""
           },
           "bgcolor": "#E5ECF6",
           "radialaxis": {
            "gridcolor": "white",
            "linecolor": "white",
            "ticks": ""
           }
          },
          "scene": {
           "xaxis": {
            "backgroundcolor": "#E5ECF6",
            "gridcolor": "white",
            "gridwidth": 2,
            "linecolor": "white",
            "showbackground": true,
            "ticks": "",
            "zerolinecolor": "white"
           },
           "yaxis": {
            "backgroundcolor": "#E5ECF6",
            "gridcolor": "white",
            "gridwidth": 2,
            "linecolor": "white",
            "showbackground": true,
            "ticks": "",
            "zerolinecolor": "white"
           },
           "zaxis": {
            "backgroundcolor": "#E5ECF6",
            "gridcolor": "white",
            "gridwidth": 2,
            "linecolor": "white",
            "showbackground": true,
            "ticks": "",
            "zerolinecolor": "white"
           }
          },
          "shapedefaults": {
           "line": {
            "color": "#2a3f5f"
           }
          },
          "ternary": {
           "aaxis": {
            "gridcolor": "white",
            "linecolor": "white",
            "ticks": ""
           },
           "baxis": {
            "gridcolor": "white",
            "linecolor": "white",
            "ticks": ""
           },
           "bgcolor": "#E5ECF6",
           "caxis": {
            "gridcolor": "white",
            "linecolor": "white",
            "ticks": ""
           }
          },
          "title": {
           "x": 0.05
          },
          "xaxis": {
           "automargin": true,
           "gridcolor": "white",
           "linecolor": "white",
           "ticks": "",
           "title": {
            "standoff": 15
           },
           "zerolinecolor": "white",
           "zerolinewidth": 2
          },
          "yaxis": {
           "automargin": true,
           "gridcolor": "white",
           "linecolor": "white",
           "ticks": "",
           "title": {
            "standoff": 15
           },
           "zerolinecolor": "white",
           "zerolinewidth": 2
          }
         }
        },
        "title": {
         "text": "Parallel Coordinate Plot"
        }
       }
      }
     },
     "metadata": {},
     "output_type": "display_data"
    }
   ],
   "source": [
    "# 2. Parallel Coordinates Plot\n",
    "plot_parallel_coordinate(study).show()"
   ]
  },
  {
   "cell_type": "code",
   "execution_count": null,
   "id": "83bb13fc",
   "metadata": {},
   "outputs": [
    {
     "data": {
      "application/vnd.plotly.v1+json": {
       "config": {
        "plotlyServerURL": "https://plot.ly"
       },
       "data": [
        {
         "colorbar": {
          "title": {
           "text": "Objective Value"
          }
         },
         "colorscale": [
          [
           0,
           "rgb(247,251,255)"
          ],
          [
           0.125,
           "rgb(222,235,247)"
          ],
          [
           0.25,
           "rgb(198,219,239)"
          ],
          [
           0.375,
           "rgb(158,202,225)"
          ],
          [
           0.5,
           "rgb(107,174,214)"
          ],
          [
           0.625,
           "rgb(66,146,198)"
          ],
          [
           0.75,
           "rgb(33,113,181)"
          ],
          [
           0.875,
           "rgb(8,81,156)"
          ],
          [
           1,
           "rgb(8,48,107)"
          ]
         ],
         "connectgaps": true,
         "contours": {
          "coloring": "heatmap"
         },
         "hoverinfo": "none",
         "line": {
          "smoothing": 1.3
         },
         "reversescale": false,
         "type": "contour",
         "x": [
          4.25,
          5,
          10,
          15,
          20,
          20.75
         ],
         "y": [
          42.5,
          50,
          100,
          150,
          200,
          207.5
         ],
         "z": [
          [
           null,
           null,
           null,
           null,
           null,
           null
          ],
          [
           null,
           0.7703411445879165,
           0.7817391997449387,
           0.7687151283277539,
           0.7752112227004623,
           null
          ],
          [
           null,
           0.7654391838036028,
           0.7752351347042882,
           0.7752351347042882,
           0.7703491152558585,
           null
          ],
          [
           null,
           0.7719591901801371,
           0.7735772357723577,
           0.7784791965566714,
           0.7719591901801371,
           null
          ],
          [
           null,
           0.7768452096285668,
           0.7784712258887295,
           0.7768611509644509,
           0.7719591901801371,
           null
          ],
          [
           null,
           null,
           null,
           null,
           null,
           null
          ]
         ]
        },
        {
         "marker": {
          "color": "black",
          "line": {
           "color": "Gray",
           "width": 2
          }
         },
         "mode": "markers",
         "name": "Feasible Trial",
         "showlegend": false,
         "type": "scatter",
         "x": [
          5,
          10,
          15,
          15,
          20,
          10,
          5,
          20,
          15,
          10,
          20,
          15,
          5,
          5,
          10,
          20
         ],
         "y": [
          100,
          150,
          50,
          100,
          100,
          50,
          150,
          150,
          150,
          200,
          200,
          200,
          200,
          50,
          100,
          50
         ]
        },
        {
         "marker": {
          "color": "#cccccc",
          "line": {
           "color": "Gray",
           "width": 2
          }
         },
         "mode": "markers",
         "name": "Infeasible Trial",
         "showlegend": false,
         "type": "scatter",
         "x": [],
         "y": []
        }
       ],
       "layout": {
        "template": {
         "data": {
          "bar": [
           {
            "error_x": {
             "color": "#2a3f5f"
            },
            "error_y": {
             "color": "#2a3f5f"
            },
            "marker": {
             "line": {
              "color": "#E5ECF6",
              "width": 0.5
             },
             "pattern": {
              "fillmode": "overlay",
              "size": 10,
              "solidity": 0.2
             }
            },
            "type": "bar"
           }
          ],
          "barpolar": [
           {
            "marker": {
             "line": {
              "color": "#E5ECF6",
              "width": 0.5
             },
             "pattern": {
              "fillmode": "overlay",
              "size": 10,
              "solidity": 0.2
             }
            },
            "type": "barpolar"
           }
          ],
          "carpet": [
           {
            "aaxis": {
             "endlinecolor": "#2a3f5f",
             "gridcolor": "white",
             "linecolor": "white",
             "minorgridcolor": "white",
             "startlinecolor": "#2a3f5f"
            },
            "baxis": {
             "endlinecolor": "#2a3f5f",
             "gridcolor": "white",
             "linecolor": "white",
             "minorgridcolor": "white",
             "startlinecolor": "#2a3f5f"
            },
            "type": "carpet"
           }
          ],
          "choropleth": [
           {
            "colorbar": {
             "outlinewidth": 0,
             "ticks": ""
            },
            "type": "choropleth"
           }
          ],
          "contour": [
           {
            "colorbar": {
             "outlinewidth": 0,
             "ticks": ""
            },
            "colorscale": [
             [
              0,
              "#0d0887"
             ],
             [
              0.1111111111111111,
              "#46039f"
             ],
             [
              0.2222222222222222,
              "#7201a8"
             ],
             [
              0.3333333333333333,
              "#9c179e"
             ],
             [
              0.4444444444444444,
              "#bd3786"
             ],
             [
              0.5555555555555556,
              "#d8576b"
             ],
             [
              0.6666666666666666,
              "#ed7953"
             ],
             [
              0.7777777777777778,
              "#fb9f3a"
             ],
             [
              0.8888888888888888,
              "#fdca26"
             ],
             [
              1,
              "#f0f921"
             ]
            ],
            "type": "contour"
           }
          ],
          "contourcarpet": [
           {
            "colorbar": {
             "outlinewidth": 0,
             "ticks": ""
            },
            "type": "contourcarpet"
           }
          ],
          "heatmap": [
           {
            "colorbar": {
             "outlinewidth": 0,
             "ticks": ""
            },
            "colorscale": [
             [
              0,
              "#0d0887"
             ],
             [
              0.1111111111111111,
              "#46039f"
             ],
             [
              0.2222222222222222,
              "#7201a8"
             ],
             [
              0.3333333333333333,
              "#9c179e"
             ],
             [
              0.4444444444444444,
              "#bd3786"
             ],
             [
              0.5555555555555556,
              "#d8576b"
             ],
             [
              0.6666666666666666,
              "#ed7953"
             ],
             [
              0.7777777777777778,
              "#fb9f3a"
             ],
             [
              0.8888888888888888,
              "#fdca26"
             ],
             [
              1,
              "#f0f921"
             ]
            ],
            "type": "heatmap"
           }
          ],
          "heatmapgl": [
           {
            "colorbar": {
             "outlinewidth": 0,
             "ticks": ""
            },
            "colorscale": [
             [
              0,
              "#0d0887"
             ],
             [
              0.1111111111111111,
              "#46039f"
             ],
             [
              0.2222222222222222,
              "#7201a8"
             ],
             [
              0.3333333333333333,
              "#9c179e"
             ],
             [
              0.4444444444444444,
              "#bd3786"
             ],
             [
              0.5555555555555556,
              "#d8576b"
             ],
             [
              0.6666666666666666,
              "#ed7953"
             ],
             [
              0.7777777777777778,
              "#fb9f3a"
             ],
             [
              0.8888888888888888,
              "#fdca26"
             ],
             [
              1,
              "#f0f921"
             ]
            ],
            "type": "heatmapgl"
           }
          ],
          "histogram": [
           {
            "marker": {
             "pattern": {
              "fillmode": "overlay",
              "size": 10,
              "solidity": 0.2
             }
            },
            "type": "histogram"
           }
          ],
          "histogram2d": [
           {
            "colorbar": {
             "outlinewidth": 0,
             "ticks": ""
            },
            "colorscale": [
             [
              0,
              "#0d0887"
             ],
             [
              0.1111111111111111,
              "#46039f"
             ],
             [
              0.2222222222222222,
              "#7201a8"
             ],
             [
              0.3333333333333333,
              "#9c179e"
             ],
             [
              0.4444444444444444,
              "#bd3786"
             ],
             [
              0.5555555555555556,
              "#d8576b"
             ],
             [
              0.6666666666666666,
              "#ed7953"
             ],
             [
              0.7777777777777778,
              "#fb9f3a"
             ],
             [
              0.8888888888888888,
              "#fdca26"
             ],
             [
              1,
              "#f0f921"
             ]
            ],
            "type": "histogram2d"
           }
          ],
          "histogram2dcontour": [
           {
            "colorbar": {
             "outlinewidth": 0,
             "ticks": ""
            },
            "colorscale": [
             [
              0,
              "#0d0887"
             ],
             [
              0.1111111111111111,
              "#46039f"
             ],
             [
              0.2222222222222222,
              "#7201a8"
             ],
             [
              0.3333333333333333,
              "#9c179e"
             ],
             [
              0.4444444444444444,
              "#bd3786"
             ],
             [
              0.5555555555555556,
              "#d8576b"
             ],
             [
              0.6666666666666666,
              "#ed7953"
             ],
             [
              0.7777777777777778,
              "#fb9f3a"
             ],
             [
              0.8888888888888888,
              "#fdca26"
             ],
             [
              1,
              "#f0f921"
             ]
            ],
            "type": "histogram2dcontour"
           }
          ],
          "mesh3d": [
           {
            "colorbar": {
             "outlinewidth": 0,
             "ticks": ""
            },
            "type": "mesh3d"
           }
          ],
          "parcoords": [
           {
            "line": {
             "colorbar": {
              "outlinewidth": 0,
              "ticks": ""
             }
            },
            "type": "parcoords"
           }
          ],
          "pie": [
           {
            "automargin": true,
            "type": "pie"
           }
          ],
          "scatter": [
           {
            "fillpattern": {
             "fillmode": "overlay",
             "size": 10,
             "solidity": 0.2
            },
            "type": "scatter"
           }
          ],
          "scatter3d": [
           {
            "line": {
             "colorbar": {
              "outlinewidth": 0,
              "ticks": ""
             }
            },
            "marker": {
             "colorbar": {
              "outlinewidth": 0,
              "ticks": ""
             }
            },
            "type": "scatter3d"
           }
          ],
          "scattercarpet": [
           {
            "marker": {
             "colorbar": {
              "outlinewidth": 0,
              "ticks": ""
             }
            },
            "type": "scattercarpet"
           }
          ],
          "scattergeo": [
           {
            "marker": {
             "colorbar": {
              "outlinewidth": 0,
              "ticks": ""
             }
            },
            "type": "scattergeo"
           }
          ],
          "scattergl": [
           {
            "marker": {
             "colorbar": {
              "outlinewidth": 0,
              "ticks": ""
             }
            },
            "type": "scattergl"
           }
          ],
          "scattermapbox": [
           {
            "marker": {
             "colorbar": {
              "outlinewidth": 0,
              "ticks": ""
             }
            },
            "type": "scattermapbox"
           }
          ],
          "scatterpolar": [
           {
            "marker": {
             "colorbar": {
              "outlinewidth": 0,
              "ticks": ""
             }
            },
            "type": "scatterpolar"
           }
          ],
          "scatterpolargl": [
           {
            "marker": {
             "colorbar": {
              "outlinewidth": 0,
              "ticks": ""
             }
            },
            "type": "scatterpolargl"
           }
          ],
          "scatterternary": [
           {
            "marker": {
             "colorbar": {
              "outlinewidth": 0,
              "ticks": ""
             }
            },
            "type": "scatterternary"
           }
          ],
          "surface": [
           {
            "colorbar": {
             "outlinewidth": 0,
             "ticks": ""
            },
            "colorscale": [
             [
              0,
              "#0d0887"
             ],
             [
              0.1111111111111111,
              "#46039f"
             ],
             [
              0.2222222222222222,
              "#7201a8"
             ],
             [
              0.3333333333333333,
              "#9c179e"
             ],
             [
              0.4444444444444444,
              "#bd3786"
             ],
             [
              0.5555555555555556,
              "#d8576b"
             ],
             [
              0.6666666666666666,
              "#ed7953"
             ],
             [
              0.7777777777777778,
              "#fb9f3a"
             ],
             [
              0.8888888888888888,
              "#fdca26"
             ],
             [
              1,
              "#f0f921"
             ]
            ],
            "type": "surface"
           }
          ],
          "table": [
           {
            "cells": {
             "fill": {
              "color": "#EBF0F8"
             },
             "line": {
              "color": "white"
             }
            },
            "header": {
             "fill": {
              "color": "#C8D4E3"
             },
             "line": {
              "color": "white"
             }
            },
            "type": "table"
           }
          ]
         },
         "layout": {
          "annotationdefaults": {
           "arrowcolor": "#2a3f5f",
           "arrowhead": 0,
           "arrowwidth": 1
          },
          "autotypenumbers": "strict",
          "coloraxis": {
           "colorbar": {
            "outlinewidth": 0,
            "ticks": ""
           }
          },
          "colorscale": {
           "diverging": [
            [
             0,
             "#8e0152"
            ],
            [
             0.1,
             "#c51b7d"
            ],
            [
             0.2,
             "#de77ae"
            ],
            [
             0.3,
             "#f1b6da"
            ],
            [
             0.4,
             "#fde0ef"
            ],
            [
             0.5,
             "#f7f7f7"
            ],
            [
             0.6,
             "#e6f5d0"
            ],
            [
             0.7,
             "#b8e186"
            ],
            [
             0.8,
             "#7fbc41"
            ],
            [
             0.9,
             "#4d9221"
            ],
            [
             1,
             "#276419"
            ]
           ],
           "sequential": [
            [
             0,
             "#0d0887"
            ],
            [
             0.1111111111111111,
             "#46039f"
            ],
            [
             0.2222222222222222,
             "#7201a8"
            ],
            [
             0.3333333333333333,
             "#9c179e"
            ],
            [
             0.4444444444444444,
             "#bd3786"
            ],
            [
             0.5555555555555556,
             "#d8576b"
            ],
            [
             0.6666666666666666,
             "#ed7953"
            ],
            [
             0.7777777777777778,
             "#fb9f3a"
            ],
            [
             0.8888888888888888,
             "#fdca26"
            ],
            [
             1,
             "#f0f921"
            ]
           ],
           "sequentialminus": [
            [
             0,
             "#0d0887"
            ],
            [
             0.1111111111111111,
             "#46039f"
            ],
            [
             0.2222222222222222,
             "#7201a8"
            ],
            [
             0.3333333333333333,
             "#9c179e"
            ],
            [
             0.4444444444444444,
             "#bd3786"
            ],
            [
             0.5555555555555556,
             "#d8576b"
            ],
            [
             0.6666666666666666,
             "#ed7953"
            ],
            [
             0.7777777777777778,
             "#fb9f3a"
            ],
            [
             0.8888888888888888,
             "#fdca26"
            ],
            [
             1,
             "#f0f921"
            ]
           ]
          },
          "colorway": [
           "#636efa",
           "#EF553B",
           "#00cc96",
           "#ab63fa",
           "#FFA15A",
           "#19d3f3",
           "#FF6692",
           "#B6E880",
           "#FF97FF",
           "#FECB52"
          ],
          "font": {
           "color": "#2a3f5f"
          },
          "geo": {
           "bgcolor": "white",
           "lakecolor": "white",
           "landcolor": "#E5ECF6",
           "showlakes": true,
           "showland": true,
           "subunitcolor": "white"
          },
          "hoverlabel": {
           "align": "left"
          },
          "hovermode": "closest",
          "mapbox": {
           "style": "light"
          },
          "paper_bgcolor": "white",
          "plot_bgcolor": "#E5ECF6",
          "polar": {
           "angularaxis": {
            "gridcolor": "white",
            "linecolor": "white",
            "ticks": ""
           },
           "bgcolor": "#E5ECF6",
           "radialaxis": {
            "gridcolor": "white",
            "linecolor": "white",
            "ticks": ""
           }
          },
          "scene": {
           "xaxis": {
            "backgroundcolor": "#E5ECF6",
            "gridcolor": "white",
            "gridwidth": 2,
            "linecolor": "white",
            "showbackground": true,
            "ticks": "",
            "zerolinecolor": "white"
           },
           "yaxis": {
            "backgroundcolor": "#E5ECF6",
            "gridcolor": "white",
            "gridwidth": 2,
            "linecolor": "white",
            "showbackground": true,
            "ticks": "",
            "zerolinecolor": "white"
           },
           "zaxis": {
            "backgroundcolor": "#E5ECF6",
            "gridcolor": "white",
            "gridwidth": 2,
            "linecolor": "white",
            "showbackground": true,
            "ticks": "",
            "zerolinecolor": "white"
           }
          },
          "shapedefaults": {
           "line": {
            "color": "#2a3f5f"
           }
          },
          "ternary": {
           "aaxis": {
            "gridcolor": "white",
            "linecolor": "white",
            "ticks": ""
           },
           "baxis": {
            "gridcolor": "white",
            "linecolor": "white",
            "ticks": ""
           },
           "bgcolor": "#E5ECF6",
           "caxis": {
            "gridcolor": "white",
            "linecolor": "white",
            "ticks": ""
           }
          },
          "title": {
           "x": 0.05
          },
          "xaxis": {
           "automargin": true,
           "gridcolor": "white",
           "linecolor": "white",
           "ticks": "",
           "title": {
            "standoff": 15
           },
           "zerolinecolor": "white",
           "zerolinewidth": 2
          },
          "yaxis": {
           "automargin": true,
           "gridcolor": "white",
           "linecolor": "white",
           "ticks": "",
           "title": {
            "standoff": 15
           },
           "zerolinecolor": "white",
           "zerolinewidth": 2
          }
         }
        },
        "title": {
         "text": "Contour Plot"
        },
        "xaxis": {
         "range": [
          4.25,
          20.75
         ],
         "title": {
          "text": "max_depth"
         }
        },
        "yaxis": {
         "range": [
          42.5,
          207.5
         ],
         "title": {
          "text": "n_estimators"
         }
        }
       }
      }
     },
     "metadata": {},
     "output_type": "display_data"
    }
   ],
   "source": [
    "# 3. Contour Plot\n",
    "plot_contour(study).show()"
   ]
  },
  {
   "cell_type": "code",
   "execution_count": null,
   "id": "1589004e",
   "metadata": {},
   "outputs": [
    {
     "data": {
      "application/vnd.plotly.v1+json": {
       "config": {
        "plotlyServerURL": "https://plot.ly"
       },
       "data": [
        {
         "cliponaxis": false,
         "hovertemplate": [
          "n_estimators (IntDistribution): 0.3088206140516895<extra></extra>",
          "max_depth (IntDistribution): 0.6911793859483105<extra></extra>"
         ],
         "name": "Objective Value",
         "orientation": "h",
         "text": [
          "0.31",
          "0.69"
         ],
         "textposition": "outside",
         "type": "bar",
         "x": [
          0.3088206140516895,
          0.6911793859483105
         ],
         "y": [
          "n_estimators",
          "max_depth"
         ]
        }
       ],
       "layout": {
        "template": {
         "data": {
          "bar": [
           {
            "error_x": {
             "color": "#2a3f5f"
            },
            "error_y": {
             "color": "#2a3f5f"
            },
            "marker": {
             "line": {
              "color": "#E5ECF6",
              "width": 0.5
             },
             "pattern": {
              "fillmode": "overlay",
              "size": 10,
              "solidity": 0.2
             }
            },
            "type": "bar"
           }
          ],
          "barpolar": [
           {
            "marker": {
             "line": {
              "color": "#E5ECF6",
              "width": 0.5
             },
             "pattern": {
              "fillmode": "overlay",
              "size": 10,
              "solidity": 0.2
             }
            },
            "type": "barpolar"
           }
          ],
          "carpet": [
           {
            "aaxis": {
             "endlinecolor": "#2a3f5f",
             "gridcolor": "white",
             "linecolor": "white",
             "minorgridcolor": "white",
             "startlinecolor": "#2a3f5f"
            },
            "baxis": {
             "endlinecolor": "#2a3f5f",
             "gridcolor": "white",
             "linecolor": "white",
             "minorgridcolor": "white",
             "startlinecolor": "#2a3f5f"
            },
            "type": "carpet"
           }
          ],
          "choropleth": [
           {
            "colorbar": {
             "outlinewidth": 0,
             "ticks": ""
            },
            "type": "choropleth"
           }
          ],
          "contour": [
           {
            "colorbar": {
             "outlinewidth": 0,
             "ticks": ""
            },
            "colorscale": [
             [
              0,
              "#0d0887"
             ],
             [
              0.1111111111111111,
              "#46039f"
             ],
             [
              0.2222222222222222,
              "#7201a8"
             ],
             [
              0.3333333333333333,
              "#9c179e"
             ],
             [
              0.4444444444444444,
              "#bd3786"
             ],
             [
              0.5555555555555556,
              "#d8576b"
             ],
             [
              0.6666666666666666,
              "#ed7953"
             ],
             [
              0.7777777777777778,
              "#fb9f3a"
             ],
             [
              0.8888888888888888,
              "#fdca26"
             ],
             [
              1,
              "#f0f921"
             ]
            ],
            "type": "contour"
           }
          ],
          "contourcarpet": [
           {
            "colorbar": {
             "outlinewidth": 0,
             "ticks": ""
            },
            "type": "contourcarpet"
           }
          ],
          "heatmap": [
           {
            "colorbar": {
             "outlinewidth": 0,
             "ticks": ""
            },
            "colorscale": [
             [
              0,
              "#0d0887"
             ],
             [
              0.1111111111111111,
              "#46039f"
             ],
             [
              0.2222222222222222,
              "#7201a8"
             ],
             [
              0.3333333333333333,
              "#9c179e"
             ],
             [
              0.4444444444444444,
              "#bd3786"
             ],
             [
              0.5555555555555556,
              "#d8576b"
             ],
             [
              0.6666666666666666,
              "#ed7953"
             ],
             [
              0.7777777777777778,
              "#fb9f3a"
             ],
             [
              0.8888888888888888,
              "#fdca26"
             ],
             [
              1,
              "#f0f921"
             ]
            ],
            "type": "heatmap"
           }
          ],
          "heatmapgl": [
           {
            "colorbar": {
             "outlinewidth": 0,
             "ticks": ""
            },
            "colorscale": [
             [
              0,
              "#0d0887"
             ],
             [
              0.1111111111111111,
              "#46039f"
             ],
             [
              0.2222222222222222,
              "#7201a8"
             ],
             [
              0.3333333333333333,
              "#9c179e"
             ],
             [
              0.4444444444444444,
              "#bd3786"
             ],
             [
              0.5555555555555556,
              "#d8576b"
             ],
             [
              0.6666666666666666,
              "#ed7953"
             ],
             [
              0.7777777777777778,
              "#fb9f3a"
             ],
             [
              0.8888888888888888,
              "#fdca26"
             ],
             [
              1,
              "#f0f921"
             ]
            ],
            "type": "heatmapgl"
           }
          ],
          "histogram": [
           {
            "marker": {
             "pattern": {
              "fillmode": "overlay",
              "size": 10,
              "solidity": 0.2
             }
            },
            "type": "histogram"
           }
          ],
          "histogram2d": [
           {
            "colorbar": {
             "outlinewidth": 0,
             "ticks": ""
            },
            "colorscale": [
             [
              0,
              "#0d0887"
             ],
             [
              0.1111111111111111,
              "#46039f"
             ],
             [
              0.2222222222222222,
              "#7201a8"
             ],
             [
              0.3333333333333333,
              "#9c179e"
             ],
             [
              0.4444444444444444,
              "#bd3786"
             ],
             [
              0.5555555555555556,
              "#d8576b"
             ],
             [
              0.6666666666666666,
              "#ed7953"
             ],
             [
              0.7777777777777778,
              "#fb9f3a"
             ],
             [
              0.8888888888888888,
              "#fdca26"
             ],
             [
              1,
              "#f0f921"
             ]
            ],
            "type": "histogram2d"
           }
          ],
          "histogram2dcontour": [
           {
            "colorbar": {
             "outlinewidth": 0,
             "ticks": ""
            },
            "colorscale": [
             [
              0,
              "#0d0887"
             ],
             [
              0.1111111111111111,
              "#46039f"
             ],
             [
              0.2222222222222222,
              "#7201a8"
             ],
             [
              0.3333333333333333,
              "#9c179e"
             ],
             [
              0.4444444444444444,
              "#bd3786"
             ],
             [
              0.5555555555555556,
              "#d8576b"
             ],
             [
              0.6666666666666666,
              "#ed7953"
             ],
             [
              0.7777777777777778,
              "#fb9f3a"
             ],
             [
              0.8888888888888888,
              "#fdca26"
             ],
             [
              1,
              "#f0f921"
             ]
            ],
            "type": "histogram2dcontour"
           }
          ],
          "mesh3d": [
           {
            "colorbar": {
             "outlinewidth": 0,
             "ticks": ""
            },
            "type": "mesh3d"
           }
          ],
          "parcoords": [
           {
            "line": {
             "colorbar": {
              "outlinewidth": 0,
              "ticks": ""
             }
            },
            "type": "parcoords"
           }
          ],
          "pie": [
           {
            "automargin": true,
            "type": "pie"
           }
          ],
          "scatter": [
           {
            "fillpattern": {
             "fillmode": "overlay",
             "size": 10,
             "solidity": 0.2
            },
            "type": "scatter"
           }
          ],
          "scatter3d": [
           {
            "line": {
             "colorbar": {
              "outlinewidth": 0,
              "ticks": ""
             }
            },
            "marker": {
             "colorbar": {
              "outlinewidth": 0,
              "ticks": ""
             }
            },
            "type": "scatter3d"
           }
          ],
          "scattercarpet": [
           {
            "marker": {
             "colorbar": {
              "outlinewidth": 0,
              "ticks": ""
             }
            },
            "type": "scattercarpet"
           }
          ],
          "scattergeo": [
           {
            "marker": {
             "colorbar": {
              "outlinewidth": 0,
              "ticks": ""
             }
            },
            "type": "scattergeo"
           }
          ],
          "scattergl": [
           {
            "marker": {
             "colorbar": {
              "outlinewidth": 0,
              "ticks": ""
             }
            },
            "type": "scattergl"
           }
          ],
          "scattermapbox": [
           {
            "marker": {
             "colorbar": {
              "outlinewidth": 0,
              "ticks": ""
             }
            },
            "type": "scattermapbox"
           }
          ],
          "scatterpolar": [
           {
            "marker": {
             "colorbar": {
              "outlinewidth": 0,
              "ticks": ""
             }
            },
            "type": "scatterpolar"
           }
          ],
          "scatterpolargl": [
           {
            "marker": {
             "colorbar": {
              "outlinewidth": 0,
              "ticks": ""
             }
            },
            "type": "scatterpolargl"
           }
          ],
          "scatterternary": [
           {
            "marker": {
             "colorbar": {
              "outlinewidth": 0,
              "ticks": ""
             }
            },
            "type": "scatterternary"
           }
          ],
          "surface": [
           {
            "colorbar": {
             "outlinewidth": 0,
             "ticks": ""
            },
            "colorscale": [
             [
              0,
              "#0d0887"
             ],
             [
              0.1111111111111111,
              "#46039f"
             ],
             [
              0.2222222222222222,
              "#7201a8"
             ],
             [
              0.3333333333333333,
              "#9c179e"
             ],
             [
              0.4444444444444444,
              "#bd3786"
             ],
             [
              0.5555555555555556,
              "#d8576b"
             ],
             [
              0.6666666666666666,
              "#ed7953"
             ],
             [
              0.7777777777777778,
              "#fb9f3a"
             ],
             [
              0.8888888888888888,
              "#fdca26"
             ],
             [
              1,
              "#f0f921"
             ]
            ],
            "type": "surface"
           }
          ],
          "table": [
           {
            "cells": {
             "fill": {
              "color": "#EBF0F8"
             },
             "line": {
              "color": "white"
             }
            },
            "header": {
             "fill": {
              "color": "#C8D4E3"
             },
             "line": {
              "color": "white"
             }
            },
            "type": "table"
           }
          ]
         },
         "layout": {
          "annotationdefaults": {
           "arrowcolor": "#2a3f5f",
           "arrowhead": 0,
           "arrowwidth": 1
          },
          "autotypenumbers": "strict",
          "coloraxis": {
           "colorbar": {
            "outlinewidth": 0,
            "ticks": ""
           }
          },
          "colorscale": {
           "diverging": [
            [
             0,
             "#8e0152"
            ],
            [
             0.1,
             "#c51b7d"
            ],
            [
             0.2,
             "#de77ae"
            ],
            [
             0.3,
             "#f1b6da"
            ],
            [
             0.4,
             "#fde0ef"
            ],
            [
             0.5,
             "#f7f7f7"
            ],
            [
             0.6,
             "#e6f5d0"
            ],
            [
             0.7,
             "#b8e186"
            ],
            [
             0.8,
             "#7fbc41"
            ],
            [
             0.9,
             "#4d9221"
            ],
            [
             1,
             "#276419"
            ]
           ],
           "sequential": [
            [
             0,
             "#0d0887"
            ],
            [
             0.1111111111111111,
             "#46039f"
            ],
            [
             0.2222222222222222,
             "#7201a8"
            ],
            [
             0.3333333333333333,
             "#9c179e"
            ],
            [
             0.4444444444444444,
             "#bd3786"
            ],
            [
             0.5555555555555556,
             "#d8576b"
            ],
            [
             0.6666666666666666,
             "#ed7953"
            ],
            [
             0.7777777777777778,
             "#fb9f3a"
            ],
            [
             0.8888888888888888,
             "#fdca26"
            ],
            [
             1,
             "#f0f921"
            ]
           ],
           "sequentialminus": [
            [
             0,
             "#0d0887"
            ],
            [
             0.1111111111111111,
             "#46039f"
            ],
            [
             0.2222222222222222,
             "#7201a8"
            ],
            [
             0.3333333333333333,
             "#9c179e"
            ],
            [
             0.4444444444444444,
             "#bd3786"
            ],
            [
             0.5555555555555556,
             "#d8576b"
            ],
            [
             0.6666666666666666,
             "#ed7953"
            ],
            [
             0.7777777777777778,
             "#fb9f3a"
            ],
            [
             0.8888888888888888,
             "#fdca26"
            ],
            [
             1,
             "#f0f921"
            ]
           ]
          },
          "colorway": [
           "#636efa",
           "#EF553B",
           "#00cc96",
           "#ab63fa",
           "#FFA15A",
           "#19d3f3",
           "#FF6692",
           "#B6E880",
           "#FF97FF",
           "#FECB52"
          ],
          "font": {
           "color": "#2a3f5f"
          },
          "geo": {
           "bgcolor": "white",
           "lakecolor": "white",
           "landcolor": "#E5ECF6",
           "showlakes": true,
           "showland": true,
           "subunitcolor": "white"
          },
          "hoverlabel": {
           "align": "left"
          },
          "hovermode": "closest",
          "mapbox": {
           "style": "light"
          },
          "paper_bgcolor": "white",
          "plot_bgcolor": "#E5ECF6",
          "polar": {
           "angularaxis": {
            "gridcolor": "white",
            "linecolor": "white",
            "ticks": ""
           },
           "bgcolor": "#E5ECF6",
           "radialaxis": {
            "gridcolor": "white",
            "linecolor": "white",
            "ticks": ""
           }
          },
          "scene": {
           "xaxis": {
            "backgroundcolor": "#E5ECF6",
            "gridcolor": "white",
            "gridwidth": 2,
            "linecolor": "white",
            "showbackground": true,
            "ticks": "",
            "zerolinecolor": "white"
           },
           "yaxis": {
            "backgroundcolor": "#E5ECF6",
            "gridcolor": "white",
            "gridwidth": 2,
            "linecolor": "white",
            "showbackground": true,
            "ticks": "",
            "zerolinecolor": "white"
           },
           "zaxis": {
            "backgroundcolor": "#E5ECF6",
            "gridcolor": "white",
            "gridwidth": 2,
            "linecolor": "white",
            "showbackground": true,
            "ticks": "",
            "zerolinecolor": "white"
           }
          },
          "shapedefaults": {
           "line": {
            "color": "#2a3f5f"
           }
          },
          "ternary": {
           "aaxis": {
            "gridcolor": "white",
            "linecolor": "white",
            "ticks": ""
           },
           "baxis": {
            "gridcolor": "white",
            "linecolor": "white",
            "ticks": ""
           },
           "bgcolor": "#E5ECF6",
           "caxis": {
            "gridcolor": "white",
            "linecolor": "white",
            "ticks": ""
           }
          },
          "title": {
           "x": 0.05
          },
          "xaxis": {
           "automargin": true,
           "gridcolor": "white",
           "linecolor": "white",
           "ticks": "",
           "title": {
            "standoff": 15
           },
           "zerolinecolor": "white",
           "zerolinewidth": 2
          },
          "yaxis": {
           "automargin": true,
           "gridcolor": "white",
           "linecolor": "white",
           "ticks": "",
           "title": {
            "standoff": 15
           },
           "zerolinecolor": "white",
           "zerolinewidth": 2
          }
         }
        },
        "title": {
         "text": "Hyperparameter Importances"
        },
        "xaxis": {
         "title": {
          "text": "Hyperparameter Importance"
         }
        },
        "yaxis": {
         "title": {
          "text": "Hyperparameter"
         }
        }
       }
      }
     },
     "metadata": {},
     "output_type": "display_data"
    }
   ],
   "source": [
    "# 4. Hyperparameter Importance\n",
    "plot_param_importances(study).show()"
   ]
  },
  {
   "cell_type": "markdown",
   "id": "d0340131",
   "metadata": {},
   "source": [
    "optimizing multiple ml models"
   ]
  },
  {
   "cell_type": "code",
   "execution_count": 43,
   "id": "c739b377",
   "metadata": {},
   "outputs": [],
   "source": [
    "# Importing the required libraries\n",
    "from sklearn.ensemble import RandomForestClassifier, GradientBoostingClassifier\n",
    "from sklearn.svm import SVC"
   ]
  },
  {
   "cell_type": "code",
   "execution_count": 47,
   "id": "b81e7ea4",
   "metadata": {},
   "outputs": [],
   "source": [
    "# Define the objective function for Optuna\n",
    "def objective(trial):\n",
    "    # Choose the algorithm to tune\n",
    "    classifier_name = trial.suggest_categorical('classifier', ['SVM', 'RandomForest', 'GradientBoosting'])\n",
    "\n",
    "    if classifier_name == 'SVM':\n",
    "        # SVM hyperparameters\n",
    "        c = trial.suggest_float('C', 0.1, 100, log=True)\n",
    "        kernel = trial.suggest_categorical('kernel', ['linear', 'rbf', 'poly', 'sigmoid'])\n",
    "        gamma = trial.suggest_categorical('gamma', ['scale', 'auto'])\n",
    "\n",
    "        model = SVC(C=c, kernel=kernel, gamma=gamma, random_state=42)\n",
    "\n",
    "    elif classifier_name == 'RandomForest':\n",
    "        # Random Forest hyperparameters\n",
    "        n_estimators = trial.suggest_int('n_estimators', 50, 300)\n",
    "        max_depth = trial.suggest_int('max_depth', 3, 20)\n",
    "        min_samples_split = trial.suggest_int('min_samples_split', 2, 10)\n",
    "        min_samples_leaf = trial.suggest_int('min_samples_leaf', 1, 10)\n",
    "        bootstrap = trial.suggest_categorical('bootstrap', [True, False])\n",
    "\n",
    "        model = RandomForestClassifier(\n",
    "            n_estimators=n_estimators,\n",
    "            max_depth=max_depth,\n",
    "            min_samples_split=min_samples_split,\n",
    "            min_samples_leaf=min_samples_leaf,\n",
    "            bootstrap=bootstrap,\n",
    "            random_state=42\n",
    "        )\n",
    "\n",
    "    elif classifier_name == 'GradientBoosting':\n",
    "        # Gradient Boosting hyperparameters\n",
    "        n_estimators = trial.suggest_int('n_estimators', 50, 300)\n",
    "        learning_rate = trial.suggest_float('learning_rate', 0.01, 0.3, log=True)\n",
    "        max_depth = trial.suggest_int('max_depth', 3, 20)\n",
    "        min_samples_split = trial.suggest_int('min_samples_split', 2, 10)\n",
    "        min_samples_leaf = trial.suggest_int('min_samples_leaf', 1, 10)\n",
    "\n",
    "        model = GradientBoostingClassifier(\n",
    "            n_estimators=n_estimators,\n",
    "            learning_rate=learning_rate,\n",
    "            max_depth=max_depth,\n",
    "            min_samples_split=min_samples_split,\n",
    "            min_samples_leaf=min_samples_leaf,\n",
    "            random_state=42\n",
    "        )\n",
    "\n",
    "    # Perform cross-validation and return the mean accuracy\n",
    "    score = cross_val_score(model, x_train, y_train, cv=3, scoring='accuracy').mean()\n",
    "    return score"
   ]
  },
  {
   "cell_type": "code",
   "execution_count": 48,
   "id": "af1f575e",
   "metadata": {},
   "outputs": [
    {
     "name": "stderr",
     "output_type": "stream",
     "text": [
      "[I 2025-08-24 18:32:08,462] A new study created in memory with name: no-name-297d4e19-4d0a-4973-8e2f-bfcbee674374\n",
      "[I 2025-08-24 18:32:08,684] Trial 0 finished with value: 0.7686991869918699 and parameters: {'classifier': 'SVM', 'C': 36.394257072006, 'kernel': 'linear', 'gamma': 'auto'}. Best is trial 0 with value: 0.7686991869918699.\n",
      "[I 2025-08-24 18:32:08,735] Trial 1 finished with value: 0.7686991869918699 and parameters: {'classifier': 'SVM', 'C': 4.815697033385626, 'kernel': 'linear', 'gamma': 'scale'}. Best is trial 0 with value: 0.7686991869918699.\n",
      "[I 2025-08-24 18:32:08,783] Trial 2 finished with value: 0.7686991869918699 and parameters: {'classifier': 'SVM', 'C': 6.330134495809497, 'kernel': 'linear', 'gamma': 'scale'}. Best is trial 0 with value: 0.7686991869918699.\n",
      "[I 2025-08-24 18:32:08,804] Trial 3 finished with value: 0.7003427387215049 and parameters: {'classifier': 'SVM', 'C': 4.645930654182819, 'kernel': 'sigmoid', 'gamma': 'auto'}. Best is trial 0 with value: 0.7686991869918699.\n",
      "[I 2025-08-24 18:32:10,128] Trial 4 finished with value: 0.744300972421489 and parameters: {'classifier': 'GradientBoosting', 'n_estimators': 115, 'learning_rate': 0.06295939895857233, 'max_depth': 16, 'min_samples_split': 2, 'min_samples_leaf': 9}. Best is trial 0 with value: 0.7686991869918699.\n",
      "[I 2025-08-24 18:32:10,817] Trial 5 finished with value: 0.7638131675434402 and parameters: {'classifier': 'RandomForest', 'n_estimators': 117, 'max_depth': 5, 'min_samples_split': 5, 'min_samples_leaf': 5, 'bootstrap': False}. Best is trial 0 with value: 0.7686991869918699.\n",
      "[I 2025-08-24 18:32:11,500] Trial 6 finished with value: 0.7752271640363463 and parameters: {'classifier': 'RandomForest', 'n_estimators': 117, 'max_depth': 20, 'min_samples_split': 9, 'min_samples_leaf': 3, 'bootstrap': True}. Best is trial 6 with value: 0.7752271640363463.\n",
      "[I 2025-08-24 18:32:11,535] Trial 7 finished with value: 0.7215048621074446 and parameters: {'classifier': 'SVM', 'C': 1.4370235723760978, 'kernel': 'sigmoid', 'gamma': 'auto'}. Best is trial 6 with value: 0.7752271640363463.\n",
      "[I 2025-08-24 18:32:11,596] Trial 8 finished with value: 0.7410489399011637 and parameters: {'classifier': 'SVM', 'C': 0.18519179765313146, 'kernel': 'rbf', 'gamma': 'scale'}. Best is trial 6 with value: 0.7752271640363463.\n",
      "[I 2025-08-24 18:32:12,679] Trial 9 finished with value: 0.768691216323928 and parameters: {'classifier': 'RandomForest', 'n_estimators': 249, 'max_depth': 6, 'min_samples_split': 7, 'min_samples_leaf': 4, 'bootstrap': False}. Best is trial 6 with value: 0.7752271640363463.\n",
      "[I 2025-08-24 18:32:13,032] Trial 10 finished with value: 0.7768531802965088 and parameters: {'classifier': 'RandomForest', 'n_estimators': 57, 'max_depth': 20, 'min_samples_split': 10, 'min_samples_leaf': 1, 'bootstrap': True}. Best is trial 10 with value: 0.7768531802965088.\n",
      "[I 2025-08-24 18:32:13,347] Trial 11 finished with value: 0.7768531802965088 and parameters: {'classifier': 'RandomForest', 'n_estimators': 51, 'max_depth': 20, 'min_samples_split': 10, 'min_samples_leaf': 1, 'bootstrap': True}. Best is trial 10 with value: 0.7768531802965088.\n",
      "[I 2025-08-24 18:32:13,665] Trial 12 finished with value: 0.7768531802965088 and parameters: {'classifier': 'RandomForest', 'n_estimators': 57, 'max_depth': 20, 'min_samples_split': 10, 'min_samples_leaf': 1, 'bootstrap': True}. Best is trial 10 with value: 0.7768531802965088.\n",
      "[I 2025-08-24 18:32:13,976] Trial 13 finished with value: 0.7784871672246134 and parameters: {'classifier': 'RandomForest', 'n_estimators': 54, 'max_depth': 14, 'min_samples_split': 10, 'min_samples_leaf': 1, 'bootstrap': True}. Best is trial 13 with value: 0.7784871672246134.\n",
      "[I 2025-08-24 18:32:16,546] Trial 14 finished with value: 0.7638131675434402 and parameters: {'classifier': 'GradientBoosting', 'n_estimators': 242, 'learning_rate': 0.010285431948185004, 'max_depth': 12, 'min_samples_split': 8, 'min_samples_leaf': 8}. Best is trial 13 with value: 0.7784871672246134.\n",
      "[I 2025-08-24 18:32:17,429] Trial 15 finished with value: 0.7638131675434402 and parameters: {'classifier': 'RandomForest', 'n_estimators': 188, 'max_depth': 14, 'min_samples_split': 6, 'min_samples_leaf': 2, 'bootstrap': True}. Best is trial 13 with value: 0.7784871672246134.\n",
      "[I 2025-08-24 18:32:17,801] Trial 16 finished with value: 0.771975131516021 and parameters: {'classifier': 'RandomForest', 'n_estimators': 89, 'max_depth': 10, 'min_samples_split': 10, 'min_samples_leaf': 7, 'bootstrap': True}. Best is trial 13 with value: 0.7784871672246134.\n",
      "[I 2025-08-24 18:32:18,830] Trial 17 finished with value: 0.7638370795472661 and parameters: {'classifier': 'RandomForest', 'n_estimators': 181, 'max_depth': 16, 'min_samples_split': 4, 'min_samples_leaf': 3, 'bootstrap': True}. Best is trial 13 with value: 0.7784871672246134.\n",
      "[I 2025-08-24 18:32:20,695] Trial 18 finished with value: 0.7654949784791966 and parameters: {'classifier': 'GradientBoosting', 'n_estimators': 292, 'learning_rate': 0.24875802021299623, 'max_depth': 9, 'min_samples_split': 8, 'min_samples_leaf': 1}. Best is trial 13 with value: 0.7784871672246134.\n",
      "[I 2025-08-24 18:32:21,038] Trial 19 finished with value: 0.7752271640363463 and parameters: {'classifier': 'RandomForest', 'n_estimators': 81, 'max_depth': 17, 'min_samples_split': 8, 'min_samples_leaf': 6, 'bootstrap': True}. Best is trial 13 with value: 0.7784871672246134.\n",
      "[I 2025-08-24 18:32:21,672] Trial 20 finished with value: 0.768691216323928 and parameters: {'classifier': 'RandomForest', 'n_estimators': 141, 'max_depth': 13, 'min_samples_split': 9, 'min_samples_leaf': 3, 'bootstrap': False}. Best is trial 13 with value: 0.7784871672246134.\n",
      "[I 2025-08-24 18:32:21,945] Trial 21 finished with value: 0.7784871672246134 and parameters: {'classifier': 'RandomForest', 'n_estimators': 52, 'max_depth': 18, 'min_samples_split': 10, 'min_samples_leaf': 1, 'bootstrap': True}. Best is trial 13 with value: 0.7784871672246134.\n",
      "[I 2025-08-24 18:32:22,329] Trial 22 finished with value: 0.7703252032520326 and parameters: {'classifier': 'RandomForest', 'n_estimators': 78, 'max_depth': 18, 'min_samples_split': 10, 'min_samples_leaf': 2, 'bootstrap': True}. Best is trial 13 with value: 0.7784871672246134.\n",
      "[I 2025-08-24 18:32:22,675] Trial 23 finished with value: 0.771983102183963 and parameters: {'classifier': 'RandomForest', 'n_estimators': 50, 'max_depth': 15, 'min_samples_split': 9, 'min_samples_leaf': 1, 'bootstrap': True}. Best is trial 13 with value: 0.7784871672246134.\n",
      "[I 2025-08-24 18:32:23,137] Trial 24 finished with value: 0.7703331739199745 and parameters: {'classifier': 'RandomForest', 'n_estimators': 89, 'max_depth': 18, 'min_samples_split': 9, 'min_samples_leaf': 2, 'bootstrap': True}. Best is trial 13 with value: 0.7784871672246134.\n",
      "[I 2025-08-24 18:32:25,431] Trial 25 finished with value: 0.75242308305436 and parameters: {'classifier': 'GradientBoosting', 'n_estimators': 155, 'learning_rate': 0.011492241772041065, 'max_depth': 18, 'min_samples_split': 7, 'min_samples_leaf': 4}. Best is trial 13 with value: 0.7784871672246134.\n",
      "[I 2025-08-24 18:32:25,782] Trial 26 finished with value: 0.7670811413996493 and parameters: {'classifier': 'RandomForest', 'n_estimators': 72, 'max_depth': 10, 'min_samples_split': 10, 'min_samples_leaf': 2, 'bootstrap': True}. Best is trial 13 with value: 0.7784871672246134.\n",
      "[I 2025-08-24 18:32:26,324] Trial 27 finished with value: 0.7670891120675912 and parameters: {'classifier': 'RandomForest', 'n_estimators': 106, 'max_depth': 14, 'min_samples_split': 3, 'min_samples_leaf': 10, 'bootstrap': True}. Best is trial 13 with value: 0.7784871672246134.\n",
      "[I 2025-08-24 18:32:27,019] Trial 28 finished with value: 0.768683245655986 and parameters: {'classifier': 'RandomForest', 'n_estimators': 143, 'max_depth': 19, 'min_samples_split': 7, 'min_samples_leaf': 4, 'bootstrap': False}. Best is trial 13 with value: 0.7784871672246134.\n",
      "[I 2025-08-24 18:32:28,757] Trial 29 finished with value: 0.7573489558424996 and parameters: {'classifier': 'GradientBoosting', 'n_estimators': 213, 'learning_rate': 0.2675490045073144, 'max_depth': 16, 'min_samples_split': 9, 'min_samples_leaf': 1}. Best is trial 13 with value: 0.7784871672246134.\n",
      "[I 2025-08-24 18:32:29,027] Trial 30 finished with value: 0.7752271640363463 and parameters: {'classifier': 'RandomForest', 'n_estimators': 65, 'max_depth': 8, 'min_samples_split': 8, 'min_samples_leaf': 3, 'bootstrap': True}. Best is trial 13 with value: 0.7784871672246134.\n",
      "[I 2025-08-24 18:32:29,344] Trial 31 finished with value: 0.7784871672246134 and parameters: {'classifier': 'RandomForest', 'n_estimators': 50, 'max_depth': 20, 'min_samples_split': 10, 'min_samples_leaf': 1, 'bootstrap': True}. Best is trial 13 with value: 0.7784871672246134.\n",
      "[I 2025-08-24 18:32:29,602] Trial 32 finished with value: 0.776837238960625 and parameters: {'classifier': 'RandomForest', 'n_estimators': 50, 'max_depth': 19, 'min_samples_split': 10, 'min_samples_leaf': 2, 'bootstrap': True}. Best is trial 13 with value: 0.7784871672246134.\n",
      "[I 2025-08-24 18:32:29,880] Trial 33 finished with value: 0.7556830862426271 and parameters: {'classifier': 'RandomForest', 'n_estimators': 72, 'max_depth': 3, 'min_samples_split': 9, 'min_samples_leaf': 1, 'bootstrap': True}. Best is trial 13 with value: 0.7784871672246134.\n",
      "[I 2025-08-24 18:32:30,135] Trial 34 finished with value: 0.6986609277857484 and parameters: {'classifier': 'SVM', 'C': 95.0131770494596, 'kernel': 'poly', 'gamma': 'scale'}. Best is trial 13 with value: 0.7784871672246134.\n",
      "[I 2025-08-24 18:32:30,708] Trial 35 finished with value: 0.7735852064402997 and parameters: {'classifier': 'RandomForest', 'n_estimators': 96, 'max_depth': 17, 'min_samples_split': 10, 'min_samples_leaf': 2, 'bootstrap': True}. Best is trial 13 with value: 0.7784871672246134.\n",
      "[I 2025-08-24 18:32:31,028] Trial 36 finished with value: 0.7752271640363463 and parameters: {'classifier': 'RandomForest', 'n_estimators': 68, 'max_depth': 20, 'min_samples_split': 9, 'min_samples_leaf': 1, 'bootstrap': True}. Best is trial 13 with value: 0.7784871672246134.\n",
      "[I 2025-08-24 18:32:31,085] Trial 37 finished with value: 0.7231229076996653 and parameters: {'classifier': 'SVM', 'C': 0.11615941901964377, 'kernel': 'rbf', 'gamma': 'auto'}. Best is trial 13 with value: 0.7784871672246134.\n",
      "[I 2025-08-24 18:32:31,578] Trial 38 finished with value: 0.7735852064402997 and parameters: {'classifier': 'RandomForest', 'n_estimators': 106, 'max_depth': 17, 'min_samples_split': 2, 'min_samples_leaf': 2, 'bootstrap': True}. Best is trial 13 with value: 0.7784871672246134.\n",
      "[I 2025-08-24 18:32:32,182] Trial 39 finished with value: 0.7768531802965088 and parameters: {'classifier': 'RandomForest', 'n_estimators': 129, 'max_depth': 19, 'min_samples_split': 10, 'min_samples_leaf': 3, 'bootstrap': True}. Best is trial 13 with value: 0.7784871672246134.\n",
      "[I 2025-08-24 18:32:32,210] Trial 40 finished with value: 0.7329108879324088 and parameters: {'classifier': 'SVM', 'C': 0.7502797750999961, 'kernel': 'poly', 'gamma': 'auto'}. Best is trial 13 with value: 0.7784871672246134.\n",
      "[I 2025-08-24 18:32:32,482] Trial 41 finished with value: 0.7768531802965088 and parameters: {'classifier': 'RandomForest', 'n_estimators': 51, 'max_depth': 20, 'min_samples_split': 10, 'min_samples_leaf': 1, 'bootstrap': True}. Best is trial 13 with value: 0.7784871672246134.\n",
      "[I 2025-08-24 18:32:32,767] Trial 42 finished with value: 0.7703411445879165 and parameters: {'classifier': 'RandomForest', 'n_estimators': 65, 'max_depth': 19, 'min_samples_split': 10, 'min_samples_leaf': 1, 'bootstrap': True}. Best is trial 13 with value: 0.7784871672246134.\n",
      "[I 2025-08-24 18:32:33,160] Trial 43 finished with value: 0.7670891120675912 and parameters: {'classifier': 'RandomForest', 'n_estimators': 84, 'max_depth': 20, 'min_samples_split': 9, 'min_samples_leaf': 1, 'bootstrap': True}. Best is trial 13 with value: 0.7784871672246134.\n",
      "[I 2025-08-24 18:32:33,429] Trial 44 finished with value: 0.7703172325840906 and parameters: {'classifier': 'RandomForest', 'n_estimators': 63, 'max_depth': 18, 'min_samples_split': 10, 'min_samples_leaf': 2, 'bootstrap': True}. Best is trial 13 with value: 0.7784871672246134.\n",
      "[I 2025-08-24 18:32:35,261] Trial 45 finished with value: 0.7214968914395027 and parameters: {'classifier': 'GradientBoosting', 'n_estimators': 101, 'learning_rate': 0.04553696395444799, 'max_depth': 15, 'min_samples_split': 5, 'min_samples_leaf': 1}. Best is trial 13 with value: 0.7784871672246134.\n",
      "[I 2025-08-24 18:32:35,526] Trial 46 finished with value: 0.7670652000637653 and parameters: {'classifier': 'RandomForest', 'n_estimators': 51, 'max_depth': 19, 'min_samples_split': 9, 'min_samples_leaf': 5, 'bootstrap': False}. Best is trial 13 with value: 0.7784871672246134.\n",
      "[I 2025-08-24 18:32:36,051] Trial 47 finished with value: 0.78012912482066 and parameters: {'classifier': 'RandomForest', 'n_estimators': 121, 'max_depth': 20, 'min_samples_split': 8, 'min_samples_leaf': 3, 'bootstrap': True}. Best is trial 47 with value: 0.78012912482066.\n",
      "[I 2025-08-24 18:32:36,097] Trial 48 finished with value: 0.7263908815558744 and parameters: {'classifier': 'SVM', 'C': 20.971623681955073, 'kernel': 'rbf', 'gamma': 'scale'}. Best is trial 47 with value: 0.78012912482066.\n",
      "[I 2025-08-24 18:32:36,622] Trial 49 finished with value: 0.7703172325840906 and parameters: {'classifier': 'RandomForest', 'n_estimators': 117, 'max_depth': 16, 'min_samples_split': 8, 'min_samples_leaf': 4, 'bootstrap': False}. Best is trial 47 with value: 0.78012912482066.\n",
      "[I 2025-08-24 18:32:37,401] Trial 50 finished with value: 0.7638291088793241 and parameters: {'classifier': 'RandomForest', 'n_estimators': 164, 'max_depth': 12, 'min_samples_split': 6, 'min_samples_leaf': 3, 'bootstrap': True}. Best is trial 47 with value: 0.78012912482066.\n",
      "[I 2025-08-24 18:32:37,765] Trial 51 finished with value: 0.7719432488442531 and parameters: {'classifier': 'RandomForest', 'n_estimators': 62, 'max_depth': 20, 'min_samples_split': 10, 'min_samples_leaf': 2, 'bootstrap': True}. Best is trial 47 with value: 0.78012912482066.\n",
      "[I 2025-08-24 18:32:38,188] Trial 52 finished with value: 0.7752191933684043 and parameters: {'classifier': 'RandomForest', 'n_estimators': 80, 'max_depth': 20, 'min_samples_split': 10, 'min_samples_leaf': 1, 'bootstrap': True}. Best is trial 47 with value: 0.78012912482066.\n",
      "[I 2025-08-24 18:32:38,460] Trial 53 finished with value: 0.7752271640363463 and parameters: {'classifier': 'RandomForest', 'n_estimators': 60, 'max_depth': 18, 'min_samples_split': 9, 'min_samples_leaf': 1, 'bootstrap': True}. Best is trial 47 with value: 0.78012912482066.\n",
      "[I 2025-08-24 18:32:39,040] Trial 54 finished with value: 0.7670811413996493 and parameters: {'classifier': 'RandomForest', 'n_estimators': 93, 'max_depth': 19, 'min_samples_split': 8, 'min_samples_leaf': 2, 'bootstrap': True}. Best is trial 47 with value: 0.78012912482066.\n",
      "[I 2025-08-24 18:32:39,871] Trial 55 finished with value: 0.7752271640363463 and parameters: {'classifier': 'RandomForest', 'n_estimators': 209, 'max_depth': 17, 'min_samples_split': 10, 'min_samples_leaf': 5, 'bootstrap': True}. Best is trial 47 with value: 0.78012912482066.\n",
      "[I 2025-08-24 18:32:40,974] Trial 56 finished with value: 0.7654551251394867 and parameters: {'classifier': 'GradientBoosting', 'n_estimators': 78, 'learning_rate': 0.0608629369077249, 'max_depth': 20, 'min_samples_split': 9, 'min_samples_leaf': 3}. Best is trial 47 with value: 0.78012912482066.\n",
      "[I 2025-08-24 18:32:41,529] Trial 57 finished with value: 0.771983102183963 and parameters: {'classifier': 'RandomForest', 'n_estimators': 129, 'max_depth': 18, 'min_samples_split': 10, 'min_samples_leaf': 7, 'bootstrap': True}. Best is trial 47 with value: 0.78012912482066.\n",
      "[I 2025-08-24 18:32:42,715] Trial 58 finished with value: 0.7670811413996493 and parameters: {'classifier': 'RandomForest', 'n_estimators': 278, 'max_depth': 15, 'min_samples_split': 5, 'min_samples_leaf': 1, 'bootstrap': True}. Best is trial 47 with value: 0.78012912482066.\n",
      "[I 2025-08-24 18:32:43,041] Trial 59 finished with value: 0.7686991869918699 and parameters: {'classifier': 'RandomForest', 'n_estimators': 58, 'max_depth': 19, 'min_samples_split': 7, 'min_samples_leaf': 2, 'bootstrap': False}. Best is trial 47 with value: 0.78012912482066.\n",
      "[I 2025-08-24 18:32:43,536] Trial 60 finished with value: 0.7736250597800095 and parameters: {'classifier': 'RandomForest', 'n_estimators': 75, 'max_depth': 11, 'min_samples_split': 9, 'min_samples_leaf': 1, 'bootstrap': True}. Best is trial 47 with value: 0.78012912482066.\n",
      "[I 2025-08-24 18:32:43,786] Trial 61 finished with value: 0.7784791965566714 and parameters: {'classifier': 'RandomForest', 'n_estimators': 56, 'max_depth': 20, 'min_samples_split': 10, 'min_samples_leaf': 1, 'bootstrap': True}. Best is trial 47 with value: 0.78012912482066.\n",
      "[I 2025-08-24 18:32:44,182] Trial 62 finished with value: 0.776837238960625 and parameters: {'classifier': 'RandomForest', 'n_estimators': 50, 'max_depth': 20, 'min_samples_split': 10, 'min_samples_leaf': 2, 'bootstrap': True}. Best is trial 47 with value: 0.78012912482066.\n",
      "[I 2025-08-24 18:32:44,590] Trial 63 finished with value: 0.771967160848079 and parameters: {'classifier': 'RandomForest', 'n_estimators': 89, 'max_depth': 19, 'min_samples_split': 10, 'min_samples_leaf': 1, 'bootstrap': True}. Best is trial 47 with value: 0.78012912482066.\n",
      "[I 2025-08-24 18:32:44,861] Trial 64 finished with value: 0.7752271640363463 and parameters: {'classifier': 'RandomForest', 'n_estimators': 60, 'max_depth': 17, 'min_samples_split': 9, 'min_samples_leaf': 1, 'bootstrap': True}. Best is trial 47 with value: 0.78012912482066.\n",
      "[I 2025-08-24 18:32:45,160] Trial 65 finished with value: 0.7817471704128806 and parameters: {'classifier': 'RandomForest', 'n_estimators': 72, 'max_depth': 18, 'min_samples_split': 10, 'min_samples_leaf': 6, 'bootstrap': True}. Best is trial 65 with value: 0.7817471704128806.\n",
      "[I 2025-08-24 18:32:45,429] Trial 66 finished with value: 0.7622030926191615 and parameters: {'classifier': 'RandomForest', 'n_estimators': 72, 'max_depth': 18, 'min_samples_split': 6, 'min_samples_leaf': 7, 'bootstrap': True}. Best is trial 65 with value: 0.7817471704128806.\n",
      "[I 2025-08-24 18:32:46,523] Trial 67 finished with value: 0.7573091025027897 and parameters: {'classifier': 'GradientBoosting', 'n_estimators': 84, 'learning_rate': 0.02458072605467495, 'max_depth': 18, 'min_samples_split': 10, 'min_samples_leaf': 3}. Best is trial 65 with value: 0.7817471704128806.\n",
      "[I 2025-08-24 18:32:46,973] Trial 68 finished with value: 0.7784791965566714 and parameters: {'classifier': 'RandomForest', 'n_estimators': 114, 'max_depth': 7, 'min_samples_split': 9, 'min_samples_leaf': 6, 'bootstrap': True}. Best is trial 65 with value: 0.7817471704128806.\n",
      "[I 2025-08-24 18:32:47,000] Trial 69 finished with value: 0.7231308783676073 and parameters: {'classifier': 'SVM', 'C': 0.3828740105182271, 'kernel': 'poly', 'gamma': 'scale'}. Best is trial 65 with value: 0.7817471704128806.\n",
      "[I 2025-08-24 18:32:47,559] Trial 70 finished with value: 0.7784791965566714 and parameters: {'classifier': 'RandomForest', 'n_estimators': 114, 'max_depth': 7, 'min_samples_split': 9, 'min_samples_leaf': 6, 'bootstrap': True}. Best is trial 65 with value: 0.7817471704128806.\n",
      "[I 2025-08-24 18:32:48,099] Trial 71 finished with value: 0.7768452096285668 and parameters: {'classifier': 'RandomForest', 'n_estimators': 121, 'max_depth': 7, 'min_samples_split': 9, 'min_samples_leaf': 6, 'bootstrap': True}. Best is trial 65 with value: 0.7817471704128806.\n",
      "[I 2025-08-24 18:32:48,617] Trial 72 finished with value: 0.7638211382113821 and parameters: {'classifier': 'RandomForest', 'n_estimators': 137, 'max_depth': 5, 'min_samples_split': 8, 'min_samples_leaf': 6, 'bootstrap': True}. Best is trial 65 with value: 0.7817471704128806.\n",
      "[I 2025-08-24 18:32:49,164] Trial 73 finished with value: 0.7784791965566714 and parameters: {'classifier': 'RandomForest', 'n_estimators': 110, 'max_depth': 7, 'min_samples_split': 9, 'min_samples_leaf': 6, 'bootstrap': True}. Best is trial 65 with value: 0.7817471704128806.\n",
      "[I 2025-08-24 18:32:49,758] Trial 74 finished with value: 0.771975131516021 and parameters: {'classifier': 'RandomForest', 'n_estimators': 149, 'max_depth': 9, 'min_samples_split': 10, 'min_samples_leaf': 7, 'bootstrap': True}. Best is trial 65 with value: 0.7817471704128806.\n",
      "[I 2025-08-24 18:32:50,333] Trial 75 finished with value: 0.7589430894308943 and parameters: {'classifier': 'RandomForest', 'n_estimators': 122, 'max_depth': 4, 'min_samples_split': 9, 'min_samples_leaf': 5, 'bootstrap': True}. Best is trial 65 with value: 0.7817471704128806.\n",
      "[I 2025-08-24 18:32:50,760] Trial 76 finished with value: 0.7703491152558585 and parameters: {'classifier': 'RandomForest', 'n_estimators': 95, 'max_depth': 6, 'min_samples_split': 8, 'min_samples_leaf': 6, 'bootstrap': True}. Best is trial 65 with value: 0.7817471704128806.\n",
      "[I 2025-08-24 18:32:51,512] Trial 77 finished with value: 0.7670652000637653 and parameters: {'classifier': 'RandomForest', 'n_estimators': 175, 'max_depth': 8, 'min_samples_split': 10, 'min_samples_leaf': 5, 'bootstrap': False}. Best is trial 65 with value: 0.7817471704128806.\n",
      "[I 2025-08-24 18:32:52,119] Trial 78 finished with value: 0.771975131516021 and parameters: {'classifier': 'RandomForest', 'n_estimators': 101, 'max_depth': 13, 'min_samples_split': 9, 'min_samples_leaf': 7, 'bootstrap': True}. Best is trial 65 with value: 0.7817471704128806.\n",
      "[I 2025-08-24 18:32:52,399] Trial 79 finished with value: 0.7719910728519049 and parameters: {'classifier': 'RandomForest', 'n_estimators': 70, 'max_depth': 11, 'min_samples_split': 10, 'min_samples_leaf': 8, 'bootstrap': True}. Best is trial 65 with value: 0.7817471704128806.\n",
      "[I 2025-08-24 18:32:52,419] Trial 80 finished with value: 0.6856926510441573 and parameters: {'classifier': 'SVM', 'C': 17.971011478515326, 'kernel': 'sigmoid', 'gamma': 'auto'}. Best is trial 65 with value: 0.7817471704128806.\n",
      "[I 2025-08-24 18:32:52,845] Trial 81 finished with value: 0.7768531802965088 and parameters: {'classifier': 'RandomForest', 'n_estimators': 115, 'max_depth': 7, 'min_samples_split': 9, 'min_samples_leaf': 6, 'bootstrap': True}. Best is trial 65 with value: 0.7817471704128806.\n",
      "[I 2025-08-24 18:32:53,245] Trial 82 finished with value: 0.7687151283277539 and parameters: {'classifier': 'RandomForest', 'n_estimators': 110, 'max_depth': 6, 'min_samples_split': 9, 'min_samples_leaf': 6, 'bootstrap': True}. Best is trial 65 with value: 0.7817471704128806.\n",
      "[I 2025-08-24 18:32:53,770] Trial 83 finished with value: 0.7703331739199745 and parameters: {'classifier': 'RandomForest', 'n_estimators': 132, 'max_depth': 7, 'min_samples_split': 8, 'min_samples_leaf': 6, 'bootstrap': True}. Best is trial 65 with value: 0.7817471704128806.\n",
      "[I 2025-08-24 18:32:54,065] Trial 84 finished with value: 0.7687390403315798 and parameters: {'classifier': 'RandomForest', 'n_estimators': 57, 'max_depth': 8, 'min_samples_split': 10, 'min_samples_leaf': 5, 'bootstrap': True}. Best is trial 65 with value: 0.7817471704128806.\n",
      "[I 2025-08-24 18:32:54,549] Trial 85 finished with value: 0.7638291088793241 and parameters: {'classifier': 'RandomForest', 'n_estimators': 110, 'max_depth': 5, 'min_samples_split': 7, 'min_samples_leaf': 6, 'bootstrap': True}. Best is trial 65 with value: 0.7817471704128806.\n",
      "[I 2025-08-24 18:32:54,852] Trial 86 finished with value: 0.7638370795472661 and parameters: {'classifier': 'RandomForest', 'n_estimators': 67, 'max_depth': 9, 'min_samples_split': 10, 'min_samples_leaf': 7, 'bootstrap': True}. Best is trial 65 with value: 0.7817471704128806.\n",
      "[I 2025-08-24 18:32:55,496] Trial 87 finished with value: 0.76385302088315 and parameters: {'classifier': 'GradientBoosting', 'n_estimators': 99, 'learning_rate': 0.14677500658363332, 'max_depth': 6, 'min_samples_split': 9, 'min_samples_leaf': 8}. Best is trial 65 with value: 0.7817471704128806.\n",
      "[I 2025-08-24 18:32:55,835] Trial 88 finished with value: 0.7703411445879165 and parameters: {'classifier': 'RandomForest', 'n_estimators': 87, 'max_depth': 16, 'min_samples_split': 10, 'min_samples_leaf': 4, 'bootstrap': True}. Best is trial 65 with value: 0.7817471704128806.\n",
      "[I 2025-08-24 18:32:56,181] Trial 89 finished with value: 0.7654710664753707 and parameters: {'classifier': 'RandomForest', 'n_estimators': 58, 'max_depth': 10, 'min_samples_split': 9, 'min_samples_leaf': 5, 'bootstrap': True}. Best is trial 65 with value: 0.7817471704128806.\n",
      "[I 2025-08-24 18:32:56,935] Trial 90 finished with value: 0.7768452096285668 and parameters: {'classifier': 'RandomForest', 'n_estimators': 152, 'max_depth': 14, 'min_samples_split': 8, 'min_samples_leaf': 6, 'bootstrap': True}. Best is trial 65 with value: 0.7817471704128806.\n",
      "[I 2025-08-24 18:32:57,193] Trial 91 finished with value: 0.7768531802965088 and parameters: {'classifier': 'RandomForest', 'n_estimators': 55, 'max_depth': 19, 'min_samples_split': 10, 'min_samples_leaf': 1, 'bootstrap': True}. Best is trial 65 with value: 0.7817471704128806.\n",
      "[I 2025-08-24 18:32:57,499] Trial 92 finished with value: 0.7654312131356608 and parameters: {'classifier': 'RandomForest', 'n_estimators': 67, 'max_depth': 20, 'min_samples_split': 10, 'min_samples_leaf': 2, 'bootstrap': True}. Best is trial 65 with value: 0.7817471704128806.\n",
      "[I 2025-08-24 18:32:57,910] Trial 93 finished with value: 0.7703570859238004 and parameters: {'classifier': 'RandomForest', 'n_estimators': 76, 'max_depth': 20, 'min_samples_split': 9, 'min_samples_leaf': 1, 'bootstrap': True}. Best is trial 65 with value: 0.7817471704128806.\n",
      "[I 2025-08-24 18:32:58,143] Trial 94 finished with value: 0.7784871672246134 and parameters: {'classifier': 'RandomForest', 'n_estimators': 52, 'max_depth': 19, 'min_samples_split': 10, 'min_samples_leaf': 1, 'bootstrap': True}. Best is trial 65 with value: 0.7817471704128806.\n",
      "[I 2025-08-24 18:32:58,455] Trial 95 finished with value: 0.7768611509644509 and parameters: {'classifier': 'RandomForest', 'n_estimators': 50, 'max_depth': 19, 'min_samples_split': 10, 'min_samples_leaf': 6, 'bootstrap': True}. Best is trial 65 with value: 0.7817471704128806.\n",
      "[I 2025-08-24 18:32:58,985] Trial 96 finished with value: 0.7654551251394867 and parameters: {'classifier': 'RandomForest', 'n_estimators': 123, 'max_depth': 19, 'min_samples_split': 10, 'min_samples_leaf': 1, 'bootstrap': False}. Best is trial 65 with value: 0.7817471704128806.\n",
      "[I 2025-08-24 18:32:59,471] Trial 97 finished with value: 0.7703252032520326 and parameters: {'classifier': 'RandomForest', 'n_estimators': 66, 'max_depth': 8, 'min_samples_split': 10, 'min_samples_leaf': 2, 'bootstrap': True}. Best is trial 65 with value: 0.7817471704128806.\n",
      "[I 2025-08-24 18:32:59,864] Trial 98 finished with value: 0.7687151283277539 and parameters: {'classifier': 'RandomForest', 'n_estimators': 81, 'max_depth': 18, 'min_samples_split': 9, 'min_samples_leaf': 1, 'bootstrap': True}. Best is trial 65 with value: 0.7817471704128806.\n",
      "[I 2025-08-24 18:32:59,893] Trial 99 finished with value: 0.7686991869918699 and parameters: {'classifier': 'SVM', 'C': 0.9007741649394926, 'kernel': 'linear', 'gamma': 'scale'}. Best is trial 65 with value: 0.7817471704128806.\n"
     ]
    }
   ],
   "source": [
    "# Create a study and optimize it using CmaEsSampler\n",
    "study = optuna.create_study(direction='maximize')\n",
    "study.optimize(objective, n_trials=100)"
   ]
  },
  {
   "cell_type": "code",
   "execution_count": 49,
   "id": "e9f8b2ec",
   "metadata": {},
   "outputs": [
    {
     "name": "stdout",
     "output_type": "stream",
     "text": [
      "Best trial parameters: {'classifier': 'RandomForest', 'n_estimators': 72, 'max_depth': 18, 'min_samples_split': 10, 'min_samples_leaf': 6, 'bootstrap': True}\n",
      "Best trial accuracy: 0.7817471704128806\n"
     ]
    }
   ],
   "source": [
    "# Retrieve the best trial\n",
    "best_trial = study.best_trial\n",
    "print(\"Best trial parameters:\", best_trial.params)\n",
    "print(\"Best trial accuracy:\", best_trial.value)"
   ]
  },
  {
   "cell_type": "code",
   "execution_count": 50,
   "id": "e4522b10",
   "metadata": {},
   "outputs": [
    {
     "data": {
      "text/html": [
       "<div>\n",
       "<style scoped>\n",
       "    .dataframe tbody tr th:only-of-type {\n",
       "        vertical-align: middle;\n",
       "    }\n",
       "\n",
       "    .dataframe tbody tr th {\n",
       "        vertical-align: top;\n",
       "    }\n",
       "\n",
       "    .dataframe thead th {\n",
       "        text-align: right;\n",
       "    }\n",
       "</style>\n",
       "<table border=\"1\" class=\"dataframe\">\n",
       "  <thead>\n",
       "    <tr style=\"text-align: right;\">\n",
       "      <th></th>\n",
       "      <th>number</th>\n",
       "      <th>value</th>\n",
       "      <th>datetime_start</th>\n",
       "      <th>datetime_complete</th>\n",
       "      <th>duration</th>\n",
       "      <th>params_C</th>\n",
       "      <th>params_bootstrap</th>\n",
       "      <th>params_classifier</th>\n",
       "      <th>params_gamma</th>\n",
       "      <th>params_kernel</th>\n",
       "      <th>params_learning_rate</th>\n",
       "      <th>params_max_depth</th>\n",
       "      <th>params_min_samples_leaf</th>\n",
       "      <th>params_min_samples_split</th>\n",
       "      <th>params_n_estimators</th>\n",
       "      <th>state</th>\n",
       "    </tr>\n",
       "  </thead>\n",
       "  <tbody>\n",
       "    <tr>\n",
       "      <th>0</th>\n",
       "      <td>0</td>\n",
       "      <td>0.768699</td>\n",
       "      <td>2025-08-24 18:32:08.463660</td>\n",
       "      <td>2025-08-24 18:32:08.684540</td>\n",
       "      <td>0 days 00:00:00.220880</td>\n",
       "      <td>36.394257</td>\n",
       "      <td>NaN</td>\n",
       "      <td>SVM</td>\n",
       "      <td>auto</td>\n",
       "      <td>linear</td>\n",
       "      <td>NaN</td>\n",
       "      <td>NaN</td>\n",
       "      <td>NaN</td>\n",
       "      <td>NaN</td>\n",
       "      <td>NaN</td>\n",
       "      <td>COMPLETE</td>\n",
       "    </tr>\n",
       "    <tr>\n",
       "      <th>1</th>\n",
       "      <td>1</td>\n",
       "      <td>0.768699</td>\n",
       "      <td>2025-08-24 18:32:08.685615</td>\n",
       "      <td>2025-08-24 18:32:08.735220</td>\n",
       "      <td>0 days 00:00:00.049605</td>\n",
       "      <td>4.815697</td>\n",
       "      <td>NaN</td>\n",
       "      <td>SVM</td>\n",
       "      <td>scale</td>\n",
       "      <td>linear</td>\n",
       "      <td>NaN</td>\n",
       "      <td>NaN</td>\n",
       "      <td>NaN</td>\n",
       "      <td>NaN</td>\n",
       "      <td>NaN</td>\n",
       "      <td>COMPLETE</td>\n",
       "    </tr>\n",
       "    <tr>\n",
       "      <th>2</th>\n",
       "      <td>2</td>\n",
       "      <td>0.768699</td>\n",
       "      <td>2025-08-24 18:32:08.735220</td>\n",
       "      <td>2025-08-24 18:32:08.783111</td>\n",
       "      <td>0 days 00:00:00.047891</td>\n",
       "      <td>6.330134</td>\n",
       "      <td>NaN</td>\n",
       "      <td>SVM</td>\n",
       "      <td>scale</td>\n",
       "      <td>linear</td>\n",
       "      <td>NaN</td>\n",
       "      <td>NaN</td>\n",
       "      <td>NaN</td>\n",
       "      <td>NaN</td>\n",
       "      <td>NaN</td>\n",
       "      <td>COMPLETE</td>\n",
       "    </tr>\n",
       "    <tr>\n",
       "      <th>3</th>\n",
       "      <td>3</td>\n",
       "      <td>0.700343</td>\n",
       "      <td>2025-08-24 18:32:08.784110</td>\n",
       "      <td>2025-08-24 18:32:08.804794</td>\n",
       "      <td>0 days 00:00:00.020684</td>\n",
       "      <td>4.645931</td>\n",
       "      <td>NaN</td>\n",
       "      <td>SVM</td>\n",
       "      <td>auto</td>\n",
       "      <td>sigmoid</td>\n",
       "      <td>NaN</td>\n",
       "      <td>NaN</td>\n",
       "      <td>NaN</td>\n",
       "      <td>NaN</td>\n",
       "      <td>NaN</td>\n",
       "      <td>COMPLETE</td>\n",
       "    </tr>\n",
       "    <tr>\n",
       "      <th>4</th>\n",
       "      <td>4</td>\n",
       "      <td>0.744301</td>\n",
       "      <td>2025-08-24 18:32:08.805924</td>\n",
       "      <td>2025-08-24 18:32:10.128831</td>\n",
       "      <td>0 days 00:00:01.322907</td>\n",
       "      <td>NaN</td>\n",
       "      <td>NaN</td>\n",
       "      <td>GradientBoosting</td>\n",
       "      <td>NaN</td>\n",
       "      <td>NaN</td>\n",
       "      <td>0.062959</td>\n",
       "      <td>16.0</td>\n",
       "      <td>9.0</td>\n",
       "      <td>2.0</td>\n",
       "      <td>115.0</td>\n",
       "      <td>COMPLETE</td>\n",
       "    </tr>\n",
       "    <tr>\n",
       "      <th>...</th>\n",
       "      <td>...</td>\n",
       "      <td>...</td>\n",
       "      <td>...</td>\n",
       "      <td>...</td>\n",
       "      <td>...</td>\n",
       "      <td>...</td>\n",
       "      <td>...</td>\n",
       "      <td>...</td>\n",
       "      <td>...</td>\n",
       "      <td>...</td>\n",
       "      <td>...</td>\n",
       "      <td>...</td>\n",
       "      <td>...</td>\n",
       "      <td>...</td>\n",
       "      <td>...</td>\n",
       "      <td>...</td>\n",
       "    </tr>\n",
       "    <tr>\n",
       "      <th>95</th>\n",
       "      <td>95</td>\n",
       "      <td>0.776861</td>\n",
       "      <td>2025-08-24 18:32:58.144343</td>\n",
       "      <td>2025-08-24 18:32:58.455707</td>\n",
       "      <td>0 days 00:00:00.311364</td>\n",
       "      <td>NaN</td>\n",
       "      <td>True</td>\n",
       "      <td>RandomForest</td>\n",
       "      <td>NaN</td>\n",
       "      <td>NaN</td>\n",
       "      <td>NaN</td>\n",
       "      <td>19.0</td>\n",
       "      <td>6.0</td>\n",
       "      <td>10.0</td>\n",
       "      <td>50.0</td>\n",
       "      <td>COMPLETE</td>\n",
       "    </tr>\n",
       "    <tr>\n",
       "      <th>96</th>\n",
       "      <td>96</td>\n",
       "      <td>0.765455</td>\n",
       "      <td>2025-08-24 18:32:58.458705</td>\n",
       "      <td>2025-08-24 18:32:58.985702</td>\n",
       "      <td>0 days 00:00:00.526997</td>\n",
       "      <td>NaN</td>\n",
       "      <td>False</td>\n",
       "      <td>RandomForest</td>\n",
       "      <td>NaN</td>\n",
       "      <td>NaN</td>\n",
       "      <td>NaN</td>\n",
       "      <td>19.0</td>\n",
       "      <td>1.0</td>\n",
       "      <td>10.0</td>\n",
       "      <td>123.0</td>\n",
       "      <td>COMPLETE</td>\n",
       "    </tr>\n",
       "    <tr>\n",
       "      <th>97</th>\n",
       "      <td>97</td>\n",
       "      <td>0.770325</td>\n",
       "      <td>2025-08-24 18:32:58.986703</td>\n",
       "      <td>2025-08-24 18:32:59.471787</td>\n",
       "      <td>0 days 00:00:00.485084</td>\n",
       "      <td>NaN</td>\n",
       "      <td>True</td>\n",
       "      <td>RandomForest</td>\n",
       "      <td>NaN</td>\n",
       "      <td>NaN</td>\n",
       "      <td>NaN</td>\n",
       "      <td>8.0</td>\n",
       "      <td>2.0</td>\n",
       "      <td>10.0</td>\n",
       "      <td>66.0</td>\n",
       "      <td>COMPLETE</td>\n",
       "    </tr>\n",
       "    <tr>\n",
       "      <th>98</th>\n",
       "      <td>98</td>\n",
       "      <td>0.768715</td>\n",
       "      <td>2025-08-24 18:32:59.471787</td>\n",
       "      <td>2025-08-24 18:32:59.864010</td>\n",
       "      <td>0 days 00:00:00.392223</td>\n",
       "      <td>NaN</td>\n",
       "      <td>True</td>\n",
       "      <td>RandomForest</td>\n",
       "      <td>NaN</td>\n",
       "      <td>NaN</td>\n",
       "      <td>NaN</td>\n",
       "      <td>18.0</td>\n",
       "      <td>1.0</td>\n",
       "      <td>9.0</td>\n",
       "      <td>81.0</td>\n",
       "      <td>COMPLETE</td>\n",
       "    </tr>\n",
       "    <tr>\n",
       "      <th>99</th>\n",
       "      <td>99</td>\n",
       "      <td>0.768699</td>\n",
       "      <td>2025-08-24 18:32:59.866108</td>\n",
       "      <td>2025-08-24 18:32:59.892470</td>\n",
       "      <td>0 days 00:00:00.026362</td>\n",
       "      <td>0.900774</td>\n",
       "      <td>NaN</td>\n",
       "      <td>SVM</td>\n",
       "      <td>scale</td>\n",
       "      <td>linear</td>\n",
       "      <td>NaN</td>\n",
       "      <td>NaN</td>\n",
       "      <td>NaN</td>\n",
       "      <td>NaN</td>\n",
       "      <td>NaN</td>\n",
       "      <td>COMPLETE</td>\n",
       "    </tr>\n",
       "  </tbody>\n",
       "</table>\n",
       "<p>100 rows × 16 columns</p>\n",
       "</div>"
      ],
      "text/plain": [
       "    number     value             datetime_start          datetime_complete  \\\n",
       "0        0  0.768699 2025-08-24 18:32:08.463660 2025-08-24 18:32:08.684540   \n",
       "1        1  0.768699 2025-08-24 18:32:08.685615 2025-08-24 18:32:08.735220   \n",
       "2        2  0.768699 2025-08-24 18:32:08.735220 2025-08-24 18:32:08.783111   \n",
       "3        3  0.700343 2025-08-24 18:32:08.784110 2025-08-24 18:32:08.804794   \n",
       "4        4  0.744301 2025-08-24 18:32:08.805924 2025-08-24 18:32:10.128831   \n",
       "..     ...       ...                        ...                        ...   \n",
       "95      95  0.776861 2025-08-24 18:32:58.144343 2025-08-24 18:32:58.455707   \n",
       "96      96  0.765455 2025-08-24 18:32:58.458705 2025-08-24 18:32:58.985702   \n",
       "97      97  0.770325 2025-08-24 18:32:58.986703 2025-08-24 18:32:59.471787   \n",
       "98      98  0.768715 2025-08-24 18:32:59.471787 2025-08-24 18:32:59.864010   \n",
       "99      99  0.768699 2025-08-24 18:32:59.866108 2025-08-24 18:32:59.892470   \n",
       "\n",
       "                 duration   params_C params_bootstrap params_classifier  \\\n",
       "0  0 days 00:00:00.220880  36.394257              NaN               SVM   \n",
       "1  0 days 00:00:00.049605   4.815697              NaN               SVM   \n",
       "2  0 days 00:00:00.047891   6.330134              NaN               SVM   \n",
       "3  0 days 00:00:00.020684   4.645931              NaN               SVM   \n",
       "4  0 days 00:00:01.322907        NaN              NaN  GradientBoosting   \n",
       "..                    ...        ...              ...               ...   \n",
       "95 0 days 00:00:00.311364        NaN             True      RandomForest   \n",
       "96 0 days 00:00:00.526997        NaN            False      RandomForest   \n",
       "97 0 days 00:00:00.485084        NaN             True      RandomForest   \n",
       "98 0 days 00:00:00.392223        NaN             True      RandomForest   \n",
       "99 0 days 00:00:00.026362   0.900774              NaN               SVM   \n",
       "\n",
       "   params_gamma params_kernel  params_learning_rate  params_max_depth  \\\n",
       "0          auto        linear                   NaN               NaN   \n",
       "1         scale        linear                   NaN               NaN   \n",
       "2         scale        linear                   NaN               NaN   \n",
       "3          auto       sigmoid                   NaN               NaN   \n",
       "4           NaN           NaN              0.062959              16.0   \n",
       "..          ...           ...                   ...               ...   \n",
       "95          NaN           NaN                   NaN              19.0   \n",
       "96          NaN           NaN                   NaN              19.0   \n",
       "97          NaN           NaN                   NaN               8.0   \n",
       "98          NaN           NaN                   NaN              18.0   \n",
       "99        scale        linear                   NaN               NaN   \n",
       "\n",
       "    params_min_samples_leaf  params_min_samples_split  params_n_estimators  \\\n",
       "0                       NaN                       NaN                  NaN   \n",
       "1                       NaN                       NaN                  NaN   \n",
       "2                       NaN                       NaN                  NaN   \n",
       "3                       NaN                       NaN                  NaN   \n",
       "4                       9.0                       2.0                115.0   \n",
       "..                      ...                       ...                  ...   \n",
       "95                      6.0                      10.0                 50.0   \n",
       "96                      1.0                      10.0                123.0   \n",
       "97                      2.0                      10.0                 66.0   \n",
       "98                      1.0                       9.0                 81.0   \n",
       "99                      NaN                       NaN                  NaN   \n",
       "\n",
       "       state  \n",
       "0   COMPLETE  \n",
       "1   COMPLETE  \n",
       "2   COMPLETE  \n",
       "3   COMPLETE  \n",
       "4   COMPLETE  \n",
       "..       ...  \n",
       "95  COMPLETE  \n",
       "96  COMPLETE  \n",
       "97  COMPLETE  \n",
       "98  COMPLETE  \n",
       "99  COMPLETE  \n",
       "\n",
       "[100 rows x 16 columns]"
      ]
     },
     "execution_count": 50,
     "metadata": {},
     "output_type": "execute_result"
    }
   ],
   "source": [
    "study.trials_dataframe()"
   ]
  },
  {
   "cell_type": "code",
   "execution_count": 51,
   "id": "a37d5113",
   "metadata": {},
   "outputs": [
    {
     "data": {
      "text/plain": [
       "params_classifier\n",
       "GradientBoosting    0.754611\n",
       "RandomForest        0.771591\n",
       "SVM                 0.732892\n",
       "Name: value, dtype: float64"
      ]
     },
     "execution_count": 51,
     "metadata": {},
     "output_type": "execute_result"
    }
   ],
   "source": [
    "study.trials_dataframe().groupby('params_classifier')['value'].mean()"
   ]
  },
  {
   "cell_type": "code",
   "execution_count": 52,
   "id": "abf5ff35",
   "metadata": {},
   "outputs": [
    {
     "data": {
      "application/vnd.plotly.v1+json": {
       "config": {
        "plotlyServerURL": "https://plot.ly"
       },
       "data": [
        {
         "mode": "markers",
         "name": "Objective Value",
         "type": "scatter",
         "x": [
          0,
          1,
          2,
          3,
          4,
          5,
          6,
          7,
          8,
          9,
          10,
          11,
          12,
          13,
          14,
          15,
          16,
          17,
          18,
          19,
          20,
          21,
          22,
          23,
          24,
          25,
          26,
          27,
          28,
          29,
          30,
          31,
          32,
          33,
          34,
          35,
          36,
          37,
          38,
          39,
          40,
          41,
          42,
          43,
          44,
          45,
          46,
          47,
          48,
          49,
          50,
          51,
          52,
          53,
          54,
          55,
          56,
          57,
          58,
          59,
          60,
          61,
          62,
          63,
          64,
          65,
          66,
          67,
          68,
          69,
          70,
          71,
          72,
          73,
          74,
          75,
          76,
          77,
          78,
          79,
          80,
          81,
          82,
          83,
          84,
          85,
          86,
          87,
          88,
          89,
          90,
          91,
          92,
          93,
          94,
          95,
          96,
          97,
          98,
          99
         ],
         "y": [
          0.7686991869918699,
          0.7686991869918699,
          0.7686991869918699,
          0.7003427387215049,
          0.744300972421489,
          0.7638131675434402,
          0.7752271640363463,
          0.7215048621074446,
          0.7410489399011637,
          0.768691216323928,
          0.7768531802965088,
          0.7768531802965088,
          0.7768531802965088,
          0.7784871672246134,
          0.7638131675434402,
          0.7638131675434402,
          0.771975131516021,
          0.7638370795472661,
          0.7654949784791966,
          0.7752271640363463,
          0.768691216323928,
          0.7784871672246134,
          0.7703252032520326,
          0.771983102183963,
          0.7703331739199745,
          0.75242308305436,
          0.7670811413996493,
          0.7670891120675912,
          0.768683245655986,
          0.7573489558424996,
          0.7752271640363463,
          0.7784871672246134,
          0.776837238960625,
          0.7556830862426271,
          0.6986609277857484,
          0.7735852064402997,
          0.7752271640363463,
          0.7231229076996653,
          0.7735852064402997,
          0.7768531802965088,
          0.7329108879324088,
          0.7768531802965088,
          0.7703411445879165,
          0.7670891120675912,
          0.7703172325840906,
          0.7214968914395027,
          0.7670652000637653,
          0.78012912482066,
          0.7263908815558744,
          0.7703172325840906,
          0.7638291088793241,
          0.7719432488442531,
          0.7752191933684043,
          0.7752271640363463,
          0.7670811413996493,
          0.7752271640363463,
          0.7654551251394867,
          0.771983102183963,
          0.7670811413996493,
          0.7686991869918699,
          0.7736250597800095,
          0.7784791965566714,
          0.776837238960625,
          0.771967160848079,
          0.7752271640363463,
          0.7817471704128806,
          0.7622030926191615,
          0.7573091025027897,
          0.7784791965566714,
          0.7231308783676073,
          0.7784791965566714,
          0.7768452096285668,
          0.7638211382113821,
          0.7784791965566714,
          0.771975131516021,
          0.7589430894308943,
          0.7703491152558585,
          0.7670652000637653,
          0.771975131516021,
          0.7719910728519049,
          0.6856926510441573,
          0.7768531802965088,
          0.7687151283277539,
          0.7703331739199745,
          0.7687390403315798,
          0.7638291088793241,
          0.7638370795472661,
          0.76385302088315,
          0.7703411445879165,
          0.7654710664753707,
          0.7768452096285668,
          0.7768531802965088,
          0.7654312131356608,
          0.7703570859238004,
          0.7784871672246134,
          0.7768611509644509,
          0.7654551251394867,
          0.7703252032520326,
          0.7687151283277539,
          0.7686991869918699
         ]
        },
        {
         "mode": "lines",
         "name": "Best Value",
         "type": "scatter",
         "x": [
          0,
          1,
          2,
          3,
          4,
          5,
          6,
          7,
          8,
          9,
          10,
          11,
          12,
          13,
          14,
          15,
          16,
          17,
          18,
          19,
          20,
          21,
          22,
          23,
          24,
          25,
          26,
          27,
          28,
          29,
          30,
          31,
          32,
          33,
          34,
          35,
          36,
          37,
          38,
          39,
          40,
          41,
          42,
          43,
          44,
          45,
          46,
          47,
          48,
          49,
          50,
          51,
          52,
          53,
          54,
          55,
          56,
          57,
          58,
          59,
          60,
          61,
          62,
          63,
          64,
          65,
          66,
          67,
          68,
          69,
          70,
          71,
          72,
          73,
          74,
          75,
          76,
          77,
          78,
          79,
          80,
          81,
          82,
          83,
          84,
          85,
          86,
          87,
          88,
          89,
          90,
          91,
          92,
          93,
          94,
          95,
          96,
          97,
          98,
          99
         ],
         "y": [
          0.7686991869918699,
          0.7686991869918699,
          0.7686991869918699,
          0.7686991869918699,
          0.7686991869918699,
          0.7686991869918699,
          0.7752271640363463,
          0.7752271640363463,
          0.7752271640363463,
          0.7752271640363463,
          0.7768531802965088,
          0.7768531802965088,
          0.7768531802965088,
          0.7784871672246134,
          0.7784871672246134,
          0.7784871672246134,
          0.7784871672246134,
          0.7784871672246134,
          0.7784871672246134,
          0.7784871672246134,
          0.7784871672246134,
          0.7784871672246134,
          0.7784871672246134,
          0.7784871672246134,
          0.7784871672246134,
          0.7784871672246134,
          0.7784871672246134,
          0.7784871672246134,
          0.7784871672246134,
          0.7784871672246134,
          0.7784871672246134,
          0.7784871672246134,
          0.7784871672246134,
          0.7784871672246134,
          0.7784871672246134,
          0.7784871672246134,
          0.7784871672246134,
          0.7784871672246134,
          0.7784871672246134,
          0.7784871672246134,
          0.7784871672246134,
          0.7784871672246134,
          0.7784871672246134,
          0.7784871672246134,
          0.7784871672246134,
          0.7784871672246134,
          0.7784871672246134,
          0.78012912482066,
          0.78012912482066,
          0.78012912482066,
          0.78012912482066,
          0.78012912482066,
          0.78012912482066,
          0.78012912482066,
          0.78012912482066,
          0.78012912482066,
          0.78012912482066,
          0.78012912482066,
          0.78012912482066,
          0.78012912482066,
          0.78012912482066,
          0.78012912482066,
          0.78012912482066,
          0.78012912482066,
          0.78012912482066,
          0.7817471704128806,
          0.7817471704128806,
          0.7817471704128806,
          0.7817471704128806,
          0.7817471704128806,
          0.7817471704128806,
          0.7817471704128806,
          0.7817471704128806,
          0.7817471704128806,
          0.7817471704128806,
          0.7817471704128806,
          0.7817471704128806,
          0.7817471704128806,
          0.7817471704128806,
          0.7817471704128806,
          0.7817471704128806,
          0.7817471704128806,
          0.7817471704128806,
          0.7817471704128806,
          0.7817471704128806,
          0.7817471704128806,
          0.7817471704128806,
          0.7817471704128806,
          0.7817471704128806,
          0.7817471704128806,
          0.7817471704128806,
          0.7817471704128806,
          0.7817471704128806,
          0.7817471704128806,
          0.7817471704128806,
          0.7817471704128806,
          0.7817471704128806,
          0.7817471704128806,
          0.7817471704128806,
          0.7817471704128806
         ]
        },
        {
         "marker": {
          "color": "#cccccc"
         },
         "mode": "markers",
         "name": "Infeasible Trial",
         "showlegend": false,
         "type": "scatter",
         "x": [],
         "y": []
        }
       ],
       "layout": {
        "template": {
         "data": {
          "bar": [
           {
            "error_x": {
             "color": "#2a3f5f"
            },
            "error_y": {
             "color": "#2a3f5f"
            },
            "marker": {
             "line": {
              "color": "#E5ECF6",
              "width": 0.5
             },
             "pattern": {
              "fillmode": "overlay",
              "size": 10,
              "solidity": 0.2
             }
            },
            "type": "bar"
           }
          ],
          "barpolar": [
           {
            "marker": {
             "line": {
              "color": "#E5ECF6",
              "width": 0.5
             },
             "pattern": {
              "fillmode": "overlay",
              "size": 10,
              "solidity": 0.2
             }
            },
            "type": "barpolar"
           }
          ],
          "carpet": [
           {
            "aaxis": {
             "endlinecolor": "#2a3f5f",
             "gridcolor": "white",
             "linecolor": "white",
             "minorgridcolor": "white",
             "startlinecolor": "#2a3f5f"
            },
            "baxis": {
             "endlinecolor": "#2a3f5f",
             "gridcolor": "white",
             "linecolor": "white",
             "minorgridcolor": "white",
             "startlinecolor": "#2a3f5f"
            },
            "type": "carpet"
           }
          ],
          "choropleth": [
           {
            "colorbar": {
             "outlinewidth": 0,
             "ticks": ""
            },
            "type": "choropleth"
           }
          ],
          "contour": [
           {
            "colorbar": {
             "outlinewidth": 0,
             "ticks": ""
            },
            "colorscale": [
             [
              0,
              "#0d0887"
             ],
             [
              0.1111111111111111,
              "#46039f"
             ],
             [
              0.2222222222222222,
              "#7201a8"
             ],
             [
              0.3333333333333333,
              "#9c179e"
             ],
             [
              0.4444444444444444,
              "#bd3786"
             ],
             [
              0.5555555555555556,
              "#d8576b"
             ],
             [
              0.6666666666666666,
              "#ed7953"
             ],
             [
              0.7777777777777778,
              "#fb9f3a"
             ],
             [
              0.8888888888888888,
              "#fdca26"
             ],
             [
              1,
              "#f0f921"
             ]
            ],
            "type": "contour"
           }
          ],
          "contourcarpet": [
           {
            "colorbar": {
             "outlinewidth": 0,
             "ticks": ""
            },
            "type": "contourcarpet"
           }
          ],
          "heatmap": [
           {
            "colorbar": {
             "outlinewidth": 0,
             "ticks": ""
            },
            "colorscale": [
             [
              0,
              "#0d0887"
             ],
             [
              0.1111111111111111,
              "#46039f"
             ],
             [
              0.2222222222222222,
              "#7201a8"
             ],
             [
              0.3333333333333333,
              "#9c179e"
             ],
             [
              0.4444444444444444,
              "#bd3786"
             ],
             [
              0.5555555555555556,
              "#d8576b"
             ],
             [
              0.6666666666666666,
              "#ed7953"
             ],
             [
              0.7777777777777778,
              "#fb9f3a"
             ],
             [
              0.8888888888888888,
              "#fdca26"
             ],
             [
              1,
              "#f0f921"
             ]
            ],
            "type": "heatmap"
           }
          ],
          "heatmapgl": [
           {
            "colorbar": {
             "outlinewidth": 0,
             "ticks": ""
            },
            "colorscale": [
             [
              0,
              "#0d0887"
             ],
             [
              0.1111111111111111,
              "#46039f"
             ],
             [
              0.2222222222222222,
              "#7201a8"
             ],
             [
              0.3333333333333333,
              "#9c179e"
             ],
             [
              0.4444444444444444,
              "#bd3786"
             ],
             [
              0.5555555555555556,
              "#d8576b"
             ],
             [
              0.6666666666666666,
              "#ed7953"
             ],
             [
              0.7777777777777778,
              "#fb9f3a"
             ],
             [
              0.8888888888888888,
              "#fdca26"
             ],
             [
              1,
              "#f0f921"
             ]
            ],
            "type": "heatmapgl"
           }
          ],
          "histogram": [
           {
            "marker": {
             "pattern": {
              "fillmode": "overlay",
              "size": 10,
              "solidity": 0.2
             }
            },
            "type": "histogram"
           }
          ],
          "histogram2d": [
           {
            "colorbar": {
             "outlinewidth": 0,
             "ticks": ""
            },
            "colorscale": [
             [
              0,
              "#0d0887"
             ],
             [
              0.1111111111111111,
              "#46039f"
             ],
             [
              0.2222222222222222,
              "#7201a8"
             ],
             [
              0.3333333333333333,
              "#9c179e"
             ],
             [
              0.4444444444444444,
              "#bd3786"
             ],
             [
              0.5555555555555556,
              "#d8576b"
             ],
             [
              0.6666666666666666,
              "#ed7953"
             ],
             [
              0.7777777777777778,
              "#fb9f3a"
             ],
             [
              0.8888888888888888,
              "#fdca26"
             ],
             [
              1,
              "#f0f921"
             ]
            ],
            "type": "histogram2d"
           }
          ],
          "histogram2dcontour": [
           {
            "colorbar": {
             "outlinewidth": 0,
             "ticks": ""
            },
            "colorscale": [
             [
              0,
              "#0d0887"
             ],
             [
              0.1111111111111111,
              "#46039f"
             ],
             [
              0.2222222222222222,
              "#7201a8"
             ],
             [
              0.3333333333333333,
              "#9c179e"
             ],
             [
              0.4444444444444444,
              "#bd3786"
             ],
             [
              0.5555555555555556,
              "#d8576b"
             ],
             [
              0.6666666666666666,
              "#ed7953"
             ],
             [
              0.7777777777777778,
              "#fb9f3a"
             ],
             [
              0.8888888888888888,
              "#fdca26"
             ],
             [
              1,
              "#f0f921"
             ]
            ],
            "type": "histogram2dcontour"
           }
          ],
          "mesh3d": [
           {
            "colorbar": {
             "outlinewidth": 0,
             "ticks": ""
            },
            "type": "mesh3d"
           }
          ],
          "parcoords": [
           {
            "line": {
             "colorbar": {
              "outlinewidth": 0,
              "ticks": ""
             }
            },
            "type": "parcoords"
           }
          ],
          "pie": [
           {
            "automargin": true,
            "type": "pie"
           }
          ],
          "scatter": [
           {
            "fillpattern": {
             "fillmode": "overlay",
             "size": 10,
             "solidity": 0.2
            },
            "type": "scatter"
           }
          ],
          "scatter3d": [
           {
            "line": {
             "colorbar": {
              "outlinewidth": 0,
              "ticks": ""
             }
            },
            "marker": {
             "colorbar": {
              "outlinewidth": 0,
              "ticks": ""
             }
            },
            "type": "scatter3d"
           }
          ],
          "scattercarpet": [
           {
            "marker": {
             "colorbar": {
              "outlinewidth": 0,
              "ticks": ""
             }
            },
            "type": "scattercarpet"
           }
          ],
          "scattergeo": [
           {
            "marker": {
             "colorbar": {
              "outlinewidth": 0,
              "ticks": ""
             }
            },
            "type": "scattergeo"
           }
          ],
          "scattergl": [
           {
            "marker": {
             "colorbar": {
              "outlinewidth": 0,
              "ticks": ""
             }
            },
            "type": "scattergl"
           }
          ],
          "scattermapbox": [
           {
            "marker": {
             "colorbar": {
              "outlinewidth": 0,
              "ticks": ""
             }
            },
            "type": "scattermapbox"
           }
          ],
          "scatterpolar": [
           {
            "marker": {
             "colorbar": {
              "outlinewidth": 0,
              "ticks": ""
             }
            },
            "type": "scatterpolar"
           }
          ],
          "scatterpolargl": [
           {
            "marker": {
             "colorbar": {
              "outlinewidth": 0,
              "ticks": ""
             }
            },
            "type": "scatterpolargl"
           }
          ],
          "scatterternary": [
           {
            "marker": {
             "colorbar": {
              "outlinewidth": 0,
              "ticks": ""
             }
            },
            "type": "scatterternary"
           }
          ],
          "surface": [
           {
            "colorbar": {
             "outlinewidth": 0,
             "ticks": ""
            },
            "colorscale": [
             [
              0,
              "#0d0887"
             ],
             [
              0.1111111111111111,
              "#46039f"
             ],
             [
              0.2222222222222222,
              "#7201a8"
             ],
             [
              0.3333333333333333,
              "#9c179e"
             ],
             [
              0.4444444444444444,
              "#bd3786"
             ],
             [
              0.5555555555555556,
              "#d8576b"
             ],
             [
              0.6666666666666666,
              "#ed7953"
             ],
             [
              0.7777777777777778,
              "#fb9f3a"
             ],
             [
              0.8888888888888888,
              "#fdca26"
             ],
             [
              1,
              "#f0f921"
             ]
            ],
            "type": "surface"
           }
          ],
          "table": [
           {
            "cells": {
             "fill": {
              "color": "#EBF0F8"
             },
             "line": {
              "color": "white"
             }
            },
            "header": {
             "fill": {
              "color": "#C8D4E3"
             },
             "line": {
              "color": "white"
             }
            },
            "type": "table"
           }
          ]
         },
         "layout": {
          "annotationdefaults": {
           "arrowcolor": "#2a3f5f",
           "arrowhead": 0,
           "arrowwidth": 1
          },
          "autotypenumbers": "strict",
          "coloraxis": {
           "colorbar": {
            "outlinewidth": 0,
            "ticks": ""
           }
          },
          "colorscale": {
           "diverging": [
            [
             0,
             "#8e0152"
            ],
            [
             0.1,
             "#c51b7d"
            ],
            [
             0.2,
             "#de77ae"
            ],
            [
             0.3,
             "#f1b6da"
            ],
            [
             0.4,
             "#fde0ef"
            ],
            [
             0.5,
             "#f7f7f7"
            ],
            [
             0.6,
             "#e6f5d0"
            ],
            [
             0.7,
             "#b8e186"
            ],
            [
             0.8,
             "#7fbc41"
            ],
            [
             0.9,
             "#4d9221"
            ],
            [
             1,
             "#276419"
            ]
           ],
           "sequential": [
            [
             0,
             "#0d0887"
            ],
            [
             0.1111111111111111,
             "#46039f"
            ],
            [
             0.2222222222222222,
             "#7201a8"
            ],
            [
             0.3333333333333333,
             "#9c179e"
            ],
            [
             0.4444444444444444,
             "#bd3786"
            ],
            [
             0.5555555555555556,
             "#d8576b"
            ],
            [
             0.6666666666666666,
             "#ed7953"
            ],
            [
             0.7777777777777778,
             "#fb9f3a"
            ],
            [
             0.8888888888888888,
             "#fdca26"
            ],
            [
             1,
             "#f0f921"
            ]
           ],
           "sequentialminus": [
            [
             0,
             "#0d0887"
            ],
            [
             0.1111111111111111,
             "#46039f"
            ],
            [
             0.2222222222222222,
             "#7201a8"
            ],
            [
             0.3333333333333333,
             "#9c179e"
            ],
            [
             0.4444444444444444,
             "#bd3786"
            ],
            [
             0.5555555555555556,
             "#d8576b"
            ],
            [
             0.6666666666666666,
             "#ed7953"
            ],
            [
             0.7777777777777778,
             "#fb9f3a"
            ],
            [
             0.8888888888888888,
             "#fdca26"
            ],
            [
             1,
             "#f0f921"
            ]
           ]
          },
          "colorway": [
           "#636efa",
           "#EF553B",
           "#00cc96",
           "#ab63fa",
           "#FFA15A",
           "#19d3f3",
           "#FF6692",
           "#B6E880",
           "#FF97FF",
           "#FECB52"
          ],
          "font": {
           "color": "#2a3f5f"
          },
          "geo": {
           "bgcolor": "white",
           "lakecolor": "white",
           "landcolor": "#E5ECF6",
           "showlakes": true,
           "showland": true,
           "subunitcolor": "white"
          },
          "hoverlabel": {
           "align": "left"
          },
          "hovermode": "closest",
          "mapbox": {
           "style": "light"
          },
          "paper_bgcolor": "white",
          "plot_bgcolor": "#E5ECF6",
          "polar": {
           "angularaxis": {
            "gridcolor": "white",
            "linecolor": "white",
            "ticks": ""
           },
           "bgcolor": "#E5ECF6",
           "radialaxis": {
            "gridcolor": "white",
            "linecolor": "white",
            "ticks": ""
           }
          },
          "scene": {
           "xaxis": {
            "backgroundcolor": "#E5ECF6",
            "gridcolor": "white",
            "gridwidth": 2,
            "linecolor": "white",
            "showbackground": true,
            "ticks": "",
            "zerolinecolor": "white"
           },
           "yaxis": {
            "backgroundcolor": "#E5ECF6",
            "gridcolor": "white",
            "gridwidth": 2,
            "linecolor": "white",
            "showbackground": true,
            "ticks": "",
            "zerolinecolor": "white"
           },
           "zaxis": {
            "backgroundcolor": "#E5ECF6",
            "gridcolor": "white",
            "gridwidth": 2,
            "linecolor": "white",
            "showbackground": true,
            "ticks": "",
            "zerolinecolor": "white"
           }
          },
          "shapedefaults": {
           "line": {
            "color": "#2a3f5f"
           }
          },
          "ternary": {
           "aaxis": {
            "gridcolor": "white",
            "linecolor": "white",
            "ticks": ""
           },
           "baxis": {
            "gridcolor": "white",
            "linecolor": "white",
            "ticks": ""
           },
           "bgcolor": "#E5ECF6",
           "caxis": {
            "gridcolor": "white",
            "linecolor": "white",
            "ticks": ""
           }
          },
          "title": {
           "x": 0.05
          },
          "xaxis": {
           "automargin": true,
           "gridcolor": "white",
           "linecolor": "white",
           "ticks": "",
           "title": {
            "standoff": 15
           },
           "zerolinecolor": "white",
           "zerolinewidth": 2
          },
          "yaxis": {
           "automargin": true,
           "gridcolor": "white",
           "linecolor": "white",
           "ticks": "",
           "title": {
            "standoff": 15
           },
           "zerolinecolor": "white",
           "zerolinewidth": 2
          }
         }
        },
        "title": {
         "text": "Optimization History Plot"
        },
        "xaxis": {
         "title": {
          "text": "Trial"
         }
        },
        "yaxis": {
         "title": {
          "text": "Objective Value"
         }
        }
       }
      }
     },
     "metadata": {},
     "output_type": "display_data"
    }
   ],
   "source": [
    "# 1. Optimization History\n",
    "plot_optimization_history(study).show()"
   ]
  },
  {
   "cell_type": "code",
   "execution_count": 53,
   "id": "9ed6e193",
   "metadata": {},
   "outputs": [
    {
     "data": {
      "application/vnd.plotly.v1+json": {
       "config": {
        "plotlyServerURL": "https://plot.ly"
       },
       "data": [
        {
         "marker": {
          "color": [
           0,
           1,
           2,
           3,
           7,
           8,
           34,
           37,
           40,
           48,
           69,
           80,
           99
          ],
          "colorbar": {
           "title": {
            "text": "Trial"
           },
           "x": 1,
           "xpad": 40
          },
          "colorscale": [
           [
            0,
            "rgb(247,251,255)"
           ],
           [
            0.125,
            "rgb(222,235,247)"
           ],
           [
            0.25,
            "rgb(198,219,239)"
           ],
           [
            0.375,
            "rgb(158,202,225)"
           ],
           [
            0.5,
            "rgb(107,174,214)"
           ],
           [
            0.625,
            "rgb(66,146,198)"
           ],
           [
            0.75,
            "rgb(33,113,181)"
           ],
           [
            0.875,
            "rgb(8,81,156)"
           ],
           [
            1,
            "rgb(8,48,107)"
           ]
          ],
          "line": {
           "color": "Grey",
           "width": 0.5
          },
          "showscale": true
         },
         "mode": "markers",
         "name": "Feasible Trial",
         "showlegend": false,
         "type": "scatter",
         "x": [
          36.394257072006,
          4.815697033385626,
          6.330134495809497,
          4.645930654182819,
          1.4370235723760978,
          0.18519179765313146,
          95.0131770494596,
          0.11615941901964377,
          0.7502797750999961,
          20.971623681955073,
          0.3828740105182271,
          17.971011478515326,
          0.9007741649394926
         ],
         "xaxis": "x",
         "y": [
          0.7686991869918699,
          0.7686991869918699,
          0.7686991869918699,
          0.7003427387215049,
          0.7215048621074446,
          0.7410489399011637,
          0.6986609277857484,
          0.7231229076996653,
          0.7329108879324088,
          0.7263908815558744,
          0.7231308783676073,
          0.6856926510441573,
          0.7686991869918699
         ],
         "yaxis": "y"
        },
        {
         "marker": {
          "color": [
           5,
           6,
           9,
           10,
           11,
           12,
           13,
           15,
           16,
           17,
           19,
           20,
           21,
           22,
           23,
           24,
           26,
           27,
           28,
           30,
           31,
           32,
           33,
           35,
           36,
           38,
           39,
           41,
           42,
           43,
           44,
           46,
           47,
           49,
           50,
           51,
           52,
           53,
           54,
           55,
           57,
           58,
           59,
           60,
           61,
           62,
           63,
           64,
           65,
           66,
           68,
           70,
           71,
           72,
           73,
           74,
           75,
           76,
           77,
           78,
           79,
           81,
           82,
           83,
           84,
           85,
           86,
           88,
           89,
           90,
           91,
           92,
           93,
           94,
           95,
           96,
           97,
           98
          ],
          "colorbar": {
           "title": {
            "text": "Trial"
           },
           "x": 1,
           "xpad": 40
          },
          "colorscale": [
           [
            0,
            "rgb(247,251,255)"
           ],
           [
            0.125,
            "rgb(222,235,247)"
           ],
           [
            0.25,
            "rgb(198,219,239)"
           ],
           [
            0.375,
            "rgb(158,202,225)"
           ],
           [
            0.5,
            "rgb(107,174,214)"
           ],
           [
            0.625,
            "rgb(66,146,198)"
           ],
           [
            0.75,
            "rgb(33,113,181)"
           ],
           [
            0.875,
            "rgb(8,81,156)"
           ],
           [
            1,
            "rgb(8,48,107)"
           ]
          ],
          "line": {
           "color": "Grey",
           "width": 0.5
          },
          "showscale": false
         },
         "mode": "markers",
         "name": "Feasible Trial",
         "showlegend": false,
         "type": "scatter",
         "x": [
          false,
          true,
          false,
          true,
          true,
          true,
          true,
          true,
          true,
          true,
          true,
          false,
          true,
          true,
          true,
          true,
          true,
          true,
          false,
          true,
          true,
          true,
          true,
          true,
          true,
          true,
          true,
          true,
          true,
          true,
          true,
          false,
          true,
          false,
          true,
          true,
          true,
          true,
          true,
          true,
          true,
          true,
          false,
          true,
          true,
          true,
          true,
          true,
          true,
          true,
          true,
          true,
          true,
          true,
          true,
          true,
          true,
          true,
          false,
          true,
          true,
          true,
          true,
          true,
          true,
          true,
          true,
          true,
          true,
          true,
          true,
          true,
          true,
          true,
          true,
          false,
          true,
          true
         ],
         "xaxis": "x2",
         "y": [
          0.7638131675434402,
          0.7752271640363463,
          0.768691216323928,
          0.7768531802965088,
          0.7768531802965088,
          0.7768531802965088,
          0.7784871672246134,
          0.7638131675434402,
          0.771975131516021,
          0.7638370795472661,
          0.7752271640363463,
          0.768691216323928,
          0.7784871672246134,
          0.7703252032520326,
          0.771983102183963,
          0.7703331739199745,
          0.7670811413996493,
          0.7670891120675912,
          0.768683245655986,
          0.7752271640363463,
          0.7784871672246134,
          0.776837238960625,
          0.7556830862426271,
          0.7735852064402997,
          0.7752271640363463,
          0.7735852064402997,
          0.7768531802965088,
          0.7768531802965088,
          0.7703411445879165,
          0.7670891120675912,
          0.7703172325840906,
          0.7670652000637653,
          0.78012912482066,
          0.7703172325840906,
          0.7638291088793241,
          0.7719432488442531,
          0.7752191933684043,
          0.7752271640363463,
          0.7670811413996493,
          0.7752271640363463,
          0.771983102183963,
          0.7670811413996493,
          0.7686991869918699,
          0.7736250597800095,
          0.7784791965566714,
          0.776837238960625,
          0.771967160848079,
          0.7752271640363463,
          0.7817471704128806,
          0.7622030926191615,
          0.7784791965566714,
          0.7784791965566714,
          0.7768452096285668,
          0.7638211382113821,
          0.7784791965566714,
          0.771975131516021,
          0.7589430894308943,
          0.7703491152558585,
          0.7670652000637653,
          0.771975131516021,
          0.7719910728519049,
          0.7768531802965088,
          0.7687151283277539,
          0.7703331739199745,
          0.7687390403315798,
          0.7638291088793241,
          0.7638370795472661,
          0.7703411445879165,
          0.7654710664753707,
          0.7768452096285668,
          0.7768531802965088,
          0.7654312131356608,
          0.7703570859238004,
          0.7784871672246134,
          0.7768611509644509,
          0.7654551251394867,
          0.7703252032520326,
          0.7687151283277539
         ],
         "yaxis": "y2"
        },
        {
         "marker": {
          "color": [
           0,
           1,
           2,
           3,
           4,
           5,
           6,
           7,
           8,
           9,
           10,
           11,
           12,
           13,
           14,
           15,
           16,
           17,
           18,
           19,
           20,
           21,
           22,
           23,
           24,
           25,
           26,
           27,
           28,
           29,
           30,
           31,
           32,
           33,
           34,
           35,
           36,
           37,
           38,
           39,
           40,
           41,
           42,
           43,
           44,
           45,
           46,
           47,
           48,
           49,
           50,
           51,
           52,
           53,
           54,
           55,
           56,
           57,
           58,
           59,
           60,
           61,
           62,
           63,
           64,
           65,
           66,
           67,
           68,
           69,
           70,
           71,
           72,
           73,
           74,
           75,
           76,
           77,
           78,
           79,
           80,
           81,
           82,
           83,
           84,
           85,
           86,
           87,
           88,
           89,
           90,
           91,
           92,
           93,
           94,
           95,
           96,
           97,
           98,
           99
          ],
          "colorbar": {
           "title": {
            "text": "Trial"
           },
           "x": 1,
           "xpad": 40
          },
          "colorscale": [
           [
            0,
            "rgb(247,251,255)"
           ],
           [
            0.125,
            "rgb(222,235,247)"
           ],
           [
            0.25,
            "rgb(198,219,239)"
           ],
           [
            0.375,
            "rgb(158,202,225)"
           ],
           [
            0.5,
            "rgb(107,174,214)"
           ],
           [
            0.625,
            "rgb(66,146,198)"
           ],
           [
            0.75,
            "rgb(33,113,181)"
           ],
           [
            0.875,
            "rgb(8,81,156)"
           ],
           [
            1,
            "rgb(8,48,107)"
           ]
          ],
          "line": {
           "color": "Grey",
           "width": 0.5
          },
          "showscale": false
         },
         "mode": "markers",
         "name": "Feasible Trial",
         "showlegend": false,
         "type": "scatter",
         "x": [
          "SVM",
          "SVM",
          "SVM",
          "SVM",
          "GradientBoosting",
          "RandomForest",
          "RandomForest",
          "SVM",
          "SVM",
          "RandomForest",
          "RandomForest",
          "RandomForest",
          "RandomForest",
          "RandomForest",
          "GradientBoosting",
          "RandomForest",
          "RandomForest",
          "RandomForest",
          "GradientBoosting",
          "RandomForest",
          "RandomForest",
          "RandomForest",
          "RandomForest",
          "RandomForest",
          "RandomForest",
          "GradientBoosting",
          "RandomForest",
          "RandomForest",
          "RandomForest",
          "GradientBoosting",
          "RandomForest",
          "RandomForest",
          "RandomForest",
          "RandomForest",
          "SVM",
          "RandomForest",
          "RandomForest",
          "SVM",
          "RandomForest",
          "RandomForest",
          "SVM",
          "RandomForest",
          "RandomForest",
          "RandomForest",
          "RandomForest",
          "GradientBoosting",
          "RandomForest",
          "RandomForest",
          "SVM",
          "RandomForest",
          "RandomForest",
          "RandomForest",
          "RandomForest",
          "RandomForest",
          "RandomForest",
          "RandomForest",
          "GradientBoosting",
          "RandomForest",
          "RandomForest",
          "RandomForest",
          "RandomForest",
          "RandomForest",
          "RandomForest",
          "RandomForest",
          "RandomForest",
          "RandomForest",
          "RandomForest",
          "GradientBoosting",
          "RandomForest",
          "SVM",
          "RandomForest",
          "RandomForest",
          "RandomForest",
          "RandomForest",
          "RandomForest",
          "RandomForest",
          "RandomForest",
          "RandomForest",
          "RandomForest",
          "RandomForest",
          "SVM",
          "RandomForest",
          "RandomForest",
          "RandomForest",
          "RandomForest",
          "RandomForest",
          "RandomForest",
          "GradientBoosting",
          "RandomForest",
          "RandomForest",
          "RandomForest",
          "RandomForest",
          "RandomForest",
          "RandomForest",
          "RandomForest",
          "RandomForest",
          "RandomForest",
          "RandomForest",
          "RandomForest",
          "SVM"
         ],
         "xaxis": "x3",
         "y": [
          0.7686991869918699,
          0.7686991869918699,
          0.7686991869918699,
          0.7003427387215049,
          0.744300972421489,
          0.7638131675434402,
          0.7752271640363463,
          0.7215048621074446,
          0.7410489399011637,
          0.768691216323928,
          0.7768531802965088,
          0.7768531802965088,
          0.7768531802965088,
          0.7784871672246134,
          0.7638131675434402,
          0.7638131675434402,
          0.771975131516021,
          0.7638370795472661,
          0.7654949784791966,
          0.7752271640363463,
          0.768691216323928,
          0.7784871672246134,
          0.7703252032520326,
          0.771983102183963,
          0.7703331739199745,
          0.75242308305436,
          0.7670811413996493,
          0.7670891120675912,
          0.768683245655986,
          0.7573489558424996,
          0.7752271640363463,
          0.7784871672246134,
          0.776837238960625,
          0.7556830862426271,
          0.6986609277857484,
          0.7735852064402997,
          0.7752271640363463,
          0.7231229076996653,
          0.7735852064402997,
          0.7768531802965088,
          0.7329108879324088,
          0.7768531802965088,
          0.7703411445879165,
          0.7670891120675912,
          0.7703172325840906,
          0.7214968914395027,
          0.7670652000637653,
          0.78012912482066,
          0.7263908815558744,
          0.7703172325840906,
          0.7638291088793241,
          0.7719432488442531,
          0.7752191933684043,
          0.7752271640363463,
          0.7670811413996493,
          0.7752271640363463,
          0.7654551251394867,
          0.771983102183963,
          0.7670811413996493,
          0.7686991869918699,
          0.7736250597800095,
          0.7784791965566714,
          0.776837238960625,
          0.771967160848079,
          0.7752271640363463,
          0.7817471704128806,
          0.7622030926191615,
          0.7573091025027897,
          0.7784791965566714,
          0.7231308783676073,
          0.7784791965566714,
          0.7768452096285668,
          0.7638211382113821,
          0.7784791965566714,
          0.771975131516021,
          0.7589430894308943,
          0.7703491152558585,
          0.7670652000637653,
          0.771975131516021,
          0.7719910728519049,
          0.6856926510441573,
          0.7768531802965088,
          0.7687151283277539,
          0.7703331739199745,
          0.7687390403315798,
          0.7638291088793241,
          0.7638370795472661,
          0.76385302088315,
          0.7703411445879165,
          0.7654710664753707,
          0.7768452096285668,
          0.7768531802965088,
          0.7654312131356608,
          0.7703570859238004,
          0.7784871672246134,
          0.7768611509644509,
          0.7654551251394867,
          0.7703252032520326,
          0.7687151283277539,
          0.7686991869918699
         ],
         "yaxis": "y3"
        },
        {
         "marker": {
          "color": [
           0,
           1,
           2,
           3,
           7,
           8,
           34,
           37,
           40,
           48,
           69,
           80,
           99
          ],
          "colorbar": {
           "title": {
            "text": "Trial"
           },
           "x": 1,
           "xpad": 40
          },
          "colorscale": [
           [
            0,
            "rgb(247,251,255)"
           ],
           [
            0.125,
            "rgb(222,235,247)"
           ],
           [
            0.25,
            "rgb(198,219,239)"
           ],
           [
            0.375,
            "rgb(158,202,225)"
           ],
           [
            0.5,
            "rgb(107,174,214)"
           ],
           [
            0.625,
            "rgb(66,146,198)"
           ],
           [
            0.75,
            "rgb(33,113,181)"
           ],
           [
            0.875,
            "rgb(8,81,156)"
           ],
           [
            1,
            "rgb(8,48,107)"
           ]
          ],
          "line": {
           "color": "Grey",
           "width": 0.5
          },
          "showscale": false
         },
         "mode": "markers",
         "name": "Feasible Trial",
         "showlegend": false,
         "type": "scatter",
         "x": [
          "auto",
          "scale",
          "scale",
          "auto",
          "auto",
          "scale",
          "scale",
          "auto",
          "auto",
          "scale",
          "scale",
          "auto",
          "scale"
         ],
         "xaxis": "x4",
         "y": [
          0.7686991869918699,
          0.7686991869918699,
          0.7686991869918699,
          0.7003427387215049,
          0.7215048621074446,
          0.7410489399011637,
          0.6986609277857484,
          0.7231229076996653,
          0.7329108879324088,
          0.7263908815558744,
          0.7231308783676073,
          0.6856926510441573,
          0.7686991869918699
         ],
         "yaxis": "y4"
        },
        {
         "marker": {
          "color": [
           0,
           1,
           2,
           3,
           7,
           8,
           34,
           37,
           40,
           48,
           69,
           80,
           99
          ],
          "colorbar": {
           "title": {
            "text": "Trial"
           },
           "x": 1,
           "xpad": 40
          },
          "colorscale": [
           [
            0,
            "rgb(247,251,255)"
           ],
           [
            0.125,
            "rgb(222,235,247)"
           ],
           [
            0.25,
            "rgb(198,219,239)"
           ],
           [
            0.375,
            "rgb(158,202,225)"
           ],
           [
            0.5,
            "rgb(107,174,214)"
           ],
           [
            0.625,
            "rgb(66,146,198)"
           ],
           [
            0.75,
            "rgb(33,113,181)"
           ],
           [
            0.875,
            "rgb(8,81,156)"
           ],
           [
            1,
            "rgb(8,48,107)"
           ]
          ],
          "line": {
           "color": "Grey",
           "width": 0.5
          },
          "showscale": false
         },
         "mode": "markers",
         "name": "Feasible Trial",
         "showlegend": false,
         "type": "scatter",
         "x": [
          "linear",
          "linear",
          "linear",
          "sigmoid",
          "sigmoid",
          "rbf",
          "poly",
          "rbf",
          "poly",
          "rbf",
          "poly",
          "sigmoid",
          "linear"
         ],
         "xaxis": "x5",
         "y": [
          0.7686991869918699,
          0.7686991869918699,
          0.7686991869918699,
          0.7003427387215049,
          0.7215048621074446,
          0.7410489399011637,
          0.6986609277857484,
          0.7231229076996653,
          0.7329108879324088,
          0.7263908815558744,
          0.7231308783676073,
          0.6856926510441573,
          0.7686991869918699
         ],
         "yaxis": "y5"
        },
        {
         "marker": {
          "color": [
           4,
           14,
           18,
           25,
           29,
           45,
           56,
           67,
           87
          ],
          "colorbar": {
           "title": {
            "text": "Trial"
           },
           "x": 1,
           "xpad": 40
          },
          "colorscale": [
           [
            0,
            "rgb(247,251,255)"
           ],
           [
            0.125,
            "rgb(222,235,247)"
           ],
           [
            0.25,
            "rgb(198,219,239)"
           ],
           [
            0.375,
            "rgb(158,202,225)"
           ],
           [
            0.5,
            "rgb(107,174,214)"
           ],
           [
            0.625,
            "rgb(66,146,198)"
           ],
           [
            0.75,
            "rgb(33,113,181)"
           ],
           [
            0.875,
            "rgb(8,81,156)"
           ],
           [
            1,
            "rgb(8,48,107)"
           ]
          ],
          "line": {
           "color": "Grey",
           "width": 0.5
          },
          "showscale": false
         },
         "mode": "markers",
         "name": "Feasible Trial",
         "showlegend": false,
         "type": "scatter",
         "x": [
          0.06295939895857233,
          0.010285431948185004,
          0.24875802021299623,
          0.011492241772041065,
          0.2675490045073144,
          0.04553696395444799,
          0.0608629369077249,
          0.02458072605467495,
          0.14677500658363332
         ],
         "xaxis": "x6",
         "y": [
          0.744300972421489,
          0.7638131675434402,
          0.7654949784791966,
          0.75242308305436,
          0.7573489558424996,
          0.7214968914395027,
          0.7654551251394867,
          0.7573091025027897,
          0.76385302088315
         ],
         "yaxis": "y6"
        },
        {
         "marker": {
          "color": [
           4,
           5,
           6,
           9,
           10,
           11,
           12,
           13,
           14,
           15,
           16,
           17,
           18,
           19,
           20,
           21,
           22,
           23,
           24,
           25,
           26,
           27,
           28,
           29,
           30,
           31,
           32,
           33,
           35,
           36,
           38,
           39,
           41,
           42,
           43,
           44,
           45,
           46,
           47,
           49,
           50,
           51,
           52,
           53,
           54,
           55,
           56,
           57,
           58,
           59,
           60,
           61,
           62,
           63,
           64,
           65,
           66,
           67,
           68,
           70,
           71,
           72,
           73,
           74,
           75,
           76,
           77,
           78,
           79,
           81,
           82,
           83,
           84,
           85,
           86,
           87,
           88,
           89,
           90,
           91,
           92,
           93,
           94,
           95,
           96,
           97,
           98
          ],
          "colorbar": {
           "title": {
            "text": "Trial"
           },
           "x": 1,
           "xpad": 40
          },
          "colorscale": [
           [
            0,
            "rgb(247,251,255)"
           ],
           [
            0.125,
            "rgb(222,235,247)"
           ],
           [
            0.25,
            "rgb(198,219,239)"
           ],
           [
            0.375,
            "rgb(158,202,225)"
           ],
           [
            0.5,
            "rgb(107,174,214)"
           ],
           [
            0.625,
            "rgb(66,146,198)"
           ],
           [
            0.75,
            "rgb(33,113,181)"
           ],
           [
            0.875,
            "rgb(8,81,156)"
           ],
           [
            1,
            "rgb(8,48,107)"
           ]
          ],
          "line": {
           "color": "Grey",
           "width": 0.5
          },
          "showscale": false
         },
         "mode": "markers",
         "name": "Feasible Trial",
         "showlegend": false,
         "type": "scatter",
         "x": [
          16,
          5,
          20,
          6,
          20,
          20,
          20,
          14,
          12,
          14,
          10,
          16,
          9,
          17,
          13,
          18,
          18,
          15,
          18,
          18,
          10,
          14,
          19,
          16,
          8,
          20,
          19,
          3,
          17,
          20,
          17,
          19,
          20,
          19,
          20,
          18,
          15,
          19,
          20,
          16,
          12,
          20,
          20,
          18,
          19,
          17,
          20,
          18,
          15,
          19,
          11,
          20,
          20,
          19,
          17,
          18,
          18,
          18,
          7,
          7,
          7,
          5,
          7,
          9,
          4,
          6,
          8,
          13,
          11,
          7,
          6,
          7,
          8,
          5,
          9,
          6,
          16,
          10,
          14,
          19,
          20,
          20,
          19,
          19,
          19,
          8,
          18
         ],
         "xaxis": "x7",
         "y": [
          0.744300972421489,
          0.7638131675434402,
          0.7752271640363463,
          0.768691216323928,
          0.7768531802965088,
          0.7768531802965088,
          0.7768531802965088,
          0.7784871672246134,
          0.7638131675434402,
          0.7638131675434402,
          0.771975131516021,
          0.7638370795472661,
          0.7654949784791966,
          0.7752271640363463,
          0.768691216323928,
          0.7784871672246134,
          0.7703252032520326,
          0.771983102183963,
          0.7703331739199745,
          0.75242308305436,
          0.7670811413996493,
          0.7670891120675912,
          0.768683245655986,
          0.7573489558424996,
          0.7752271640363463,
          0.7784871672246134,
          0.776837238960625,
          0.7556830862426271,
          0.7735852064402997,
          0.7752271640363463,
          0.7735852064402997,
          0.7768531802965088,
          0.7768531802965088,
          0.7703411445879165,
          0.7670891120675912,
          0.7703172325840906,
          0.7214968914395027,
          0.7670652000637653,
          0.78012912482066,
          0.7703172325840906,
          0.7638291088793241,
          0.7719432488442531,
          0.7752191933684043,
          0.7752271640363463,
          0.7670811413996493,
          0.7752271640363463,
          0.7654551251394867,
          0.771983102183963,
          0.7670811413996493,
          0.7686991869918699,
          0.7736250597800095,
          0.7784791965566714,
          0.776837238960625,
          0.771967160848079,
          0.7752271640363463,
          0.7817471704128806,
          0.7622030926191615,
          0.7573091025027897,
          0.7784791965566714,
          0.7784791965566714,
          0.7768452096285668,
          0.7638211382113821,
          0.7784791965566714,
          0.771975131516021,
          0.7589430894308943,
          0.7703491152558585,
          0.7670652000637653,
          0.771975131516021,
          0.7719910728519049,
          0.7768531802965088,
          0.7687151283277539,
          0.7703331739199745,
          0.7687390403315798,
          0.7638291088793241,
          0.7638370795472661,
          0.76385302088315,
          0.7703411445879165,
          0.7654710664753707,
          0.7768452096285668,
          0.7768531802965088,
          0.7654312131356608,
          0.7703570859238004,
          0.7784871672246134,
          0.7768611509644509,
          0.7654551251394867,
          0.7703252032520326,
          0.7687151283277539
         ],
         "yaxis": "y7"
        },
        {
         "marker": {
          "color": [
           4,
           5,
           6,
           9,
           10,
           11,
           12,
           13,
           14,
           15,
           16,
           17,
           18,
           19,
           20,
           21,
           22,
           23,
           24,
           25,
           26,
           27,
           28,
           29,
           30,
           31,
           32,
           33,
           35,
           36,
           38,
           39,
           41,
           42,
           43,
           44,
           45,
           46,
           47,
           49,
           50,
           51,
           52,
           53,
           54,
           55,
           56,
           57,
           58,
           59,
           60,
           61,
           62,
           63,
           64,
           65,
           66,
           67,
           68,
           70,
           71,
           72,
           73,
           74,
           75,
           76,
           77,
           78,
           79,
           81,
           82,
           83,
           84,
           85,
           86,
           87,
           88,
           89,
           90,
           91,
           92,
           93,
           94,
           95,
           96,
           97,
           98
          ],
          "colorbar": {
           "title": {
            "text": "Trial"
           },
           "x": 1,
           "xpad": 40
          },
          "colorscale": [
           [
            0,
            "rgb(247,251,255)"
           ],
           [
            0.125,
            "rgb(222,235,247)"
           ],
           [
            0.25,
            "rgb(198,219,239)"
           ],
           [
            0.375,
            "rgb(158,202,225)"
           ],
           [
            0.5,
            "rgb(107,174,214)"
           ],
           [
            0.625,
            "rgb(66,146,198)"
           ],
           [
            0.75,
            "rgb(33,113,181)"
           ],
           [
            0.875,
            "rgb(8,81,156)"
           ],
           [
            1,
            "rgb(8,48,107)"
           ]
          ],
          "line": {
           "color": "Grey",
           "width": 0.5
          },
          "showscale": false
         },
         "mode": "markers",
         "name": "Feasible Trial",
         "showlegend": false,
         "type": "scatter",
         "x": [
          9,
          5,
          3,
          4,
          1,
          1,
          1,
          1,
          8,
          2,
          7,
          3,
          1,
          6,
          3,
          1,
          2,
          1,
          2,
          4,
          2,
          10,
          4,
          1,
          3,
          1,
          2,
          1,
          2,
          1,
          2,
          3,
          1,
          1,
          1,
          2,
          1,
          5,
          3,
          4,
          3,
          2,
          1,
          1,
          2,
          5,
          3,
          7,
          1,
          2,
          1,
          1,
          2,
          1,
          1,
          6,
          7,
          3,
          6,
          6,
          6,
          6,
          6,
          7,
          5,
          6,
          5,
          7,
          8,
          6,
          6,
          6,
          5,
          6,
          7,
          8,
          4,
          5,
          6,
          1,
          2,
          1,
          1,
          6,
          1,
          2,
          1
         ],
         "xaxis": "x8",
         "y": [
          0.744300972421489,
          0.7638131675434402,
          0.7752271640363463,
          0.768691216323928,
          0.7768531802965088,
          0.7768531802965088,
          0.7768531802965088,
          0.7784871672246134,
          0.7638131675434402,
          0.7638131675434402,
          0.771975131516021,
          0.7638370795472661,
          0.7654949784791966,
          0.7752271640363463,
          0.768691216323928,
          0.7784871672246134,
          0.7703252032520326,
          0.771983102183963,
          0.7703331739199745,
          0.75242308305436,
          0.7670811413996493,
          0.7670891120675912,
          0.768683245655986,
          0.7573489558424996,
          0.7752271640363463,
          0.7784871672246134,
          0.776837238960625,
          0.7556830862426271,
          0.7735852064402997,
          0.7752271640363463,
          0.7735852064402997,
          0.7768531802965088,
          0.7768531802965088,
          0.7703411445879165,
          0.7670891120675912,
          0.7703172325840906,
          0.7214968914395027,
          0.7670652000637653,
          0.78012912482066,
          0.7703172325840906,
          0.7638291088793241,
          0.7719432488442531,
          0.7752191933684043,
          0.7752271640363463,
          0.7670811413996493,
          0.7752271640363463,
          0.7654551251394867,
          0.771983102183963,
          0.7670811413996493,
          0.7686991869918699,
          0.7736250597800095,
          0.7784791965566714,
          0.776837238960625,
          0.771967160848079,
          0.7752271640363463,
          0.7817471704128806,
          0.7622030926191615,
          0.7573091025027897,
          0.7784791965566714,
          0.7784791965566714,
          0.7768452096285668,
          0.7638211382113821,
          0.7784791965566714,
          0.771975131516021,
          0.7589430894308943,
          0.7703491152558585,
          0.7670652000637653,
          0.771975131516021,
          0.7719910728519049,
          0.7768531802965088,
          0.7687151283277539,
          0.7703331739199745,
          0.7687390403315798,
          0.7638291088793241,
          0.7638370795472661,
          0.76385302088315,
          0.7703411445879165,
          0.7654710664753707,
          0.7768452096285668,
          0.7768531802965088,
          0.7654312131356608,
          0.7703570859238004,
          0.7784871672246134,
          0.7768611509644509,
          0.7654551251394867,
          0.7703252032520326,
          0.7687151283277539
         ],
         "yaxis": "y8"
        },
        {
         "marker": {
          "color": [
           4,
           5,
           6,
           9,
           10,
           11,
           12,
           13,
           14,
           15,
           16,
           17,
           18,
           19,
           20,
           21,
           22,
           23,
           24,
           25,
           26,
           27,
           28,
           29,
           30,
           31,
           32,
           33,
           35,
           36,
           38,
           39,
           41,
           42,
           43,
           44,
           45,
           46,
           47,
           49,
           50,
           51,
           52,
           53,
           54,
           55,
           56,
           57,
           58,
           59,
           60,
           61,
           62,
           63,
           64,
           65,
           66,
           67,
           68,
           70,
           71,
           72,
           73,
           74,
           75,
           76,
           77,
           78,
           79,
           81,
           82,
           83,
           84,
           85,
           86,
           87,
           88,
           89,
           90,
           91,
           92,
           93,
           94,
           95,
           96,
           97,
           98
          ],
          "colorbar": {
           "title": {
            "text": "Trial"
           },
           "x": 1,
           "xpad": 40
          },
          "colorscale": [
           [
            0,
            "rgb(247,251,255)"
           ],
           [
            0.125,
            "rgb(222,235,247)"
           ],
           [
            0.25,
            "rgb(198,219,239)"
           ],
           [
            0.375,
            "rgb(158,202,225)"
           ],
           [
            0.5,
            "rgb(107,174,214)"
           ],
           [
            0.625,
            "rgb(66,146,198)"
           ],
           [
            0.75,
            "rgb(33,113,181)"
           ],
           [
            0.875,
            "rgb(8,81,156)"
           ],
           [
            1,
            "rgb(8,48,107)"
           ]
          ],
          "line": {
           "color": "Grey",
           "width": 0.5
          },
          "showscale": false
         },
         "mode": "markers",
         "name": "Feasible Trial",
         "showlegend": false,
         "type": "scatter",
         "x": [
          2,
          5,
          9,
          7,
          10,
          10,
          10,
          10,
          8,
          6,
          10,
          4,
          8,
          8,
          9,
          10,
          10,
          9,
          9,
          7,
          10,
          3,
          7,
          9,
          8,
          10,
          10,
          9,
          10,
          9,
          2,
          10,
          10,
          10,
          9,
          10,
          5,
          9,
          8,
          8,
          6,
          10,
          10,
          9,
          8,
          10,
          9,
          10,
          5,
          7,
          9,
          10,
          10,
          10,
          9,
          10,
          6,
          10,
          9,
          9,
          9,
          8,
          9,
          10,
          9,
          8,
          10,
          9,
          10,
          9,
          9,
          8,
          10,
          7,
          10,
          9,
          10,
          9,
          8,
          10,
          10,
          9,
          10,
          10,
          10,
          10,
          9
         ],
         "xaxis": "x9",
         "y": [
          0.744300972421489,
          0.7638131675434402,
          0.7752271640363463,
          0.768691216323928,
          0.7768531802965088,
          0.7768531802965088,
          0.7768531802965088,
          0.7784871672246134,
          0.7638131675434402,
          0.7638131675434402,
          0.771975131516021,
          0.7638370795472661,
          0.7654949784791966,
          0.7752271640363463,
          0.768691216323928,
          0.7784871672246134,
          0.7703252032520326,
          0.771983102183963,
          0.7703331739199745,
          0.75242308305436,
          0.7670811413996493,
          0.7670891120675912,
          0.768683245655986,
          0.7573489558424996,
          0.7752271640363463,
          0.7784871672246134,
          0.776837238960625,
          0.7556830862426271,
          0.7735852064402997,
          0.7752271640363463,
          0.7735852064402997,
          0.7768531802965088,
          0.7768531802965088,
          0.7703411445879165,
          0.7670891120675912,
          0.7703172325840906,
          0.7214968914395027,
          0.7670652000637653,
          0.78012912482066,
          0.7703172325840906,
          0.7638291088793241,
          0.7719432488442531,
          0.7752191933684043,
          0.7752271640363463,
          0.7670811413996493,
          0.7752271640363463,
          0.7654551251394867,
          0.771983102183963,
          0.7670811413996493,
          0.7686991869918699,
          0.7736250597800095,
          0.7784791965566714,
          0.776837238960625,
          0.771967160848079,
          0.7752271640363463,
          0.7817471704128806,
          0.7622030926191615,
          0.7573091025027897,
          0.7784791965566714,
          0.7784791965566714,
          0.7768452096285668,
          0.7638211382113821,
          0.7784791965566714,
          0.771975131516021,
          0.7589430894308943,
          0.7703491152558585,
          0.7670652000637653,
          0.771975131516021,
          0.7719910728519049,
          0.7768531802965088,
          0.7687151283277539,
          0.7703331739199745,
          0.7687390403315798,
          0.7638291088793241,
          0.7638370795472661,
          0.76385302088315,
          0.7703411445879165,
          0.7654710664753707,
          0.7768452096285668,
          0.7768531802965088,
          0.7654312131356608,
          0.7703570859238004,
          0.7784871672246134,
          0.7768611509644509,
          0.7654551251394867,
          0.7703252032520326,
          0.7687151283277539
         ],
         "yaxis": "y9"
        },
        {
         "marker": {
          "color": [
           4,
           5,
           6,
           9,
           10,
           11,
           12,
           13,
           14,
           15,
           16,
           17,
           18,
           19,
           20,
           21,
           22,
           23,
           24,
           25,
           26,
           27,
           28,
           29,
           30,
           31,
           32,
           33,
           35,
           36,
           38,
           39,
           41,
           42,
           43,
           44,
           45,
           46,
           47,
           49,
           50,
           51,
           52,
           53,
           54,
           55,
           56,
           57,
           58,
           59,
           60,
           61,
           62,
           63,
           64,
           65,
           66,
           67,
           68,
           70,
           71,
           72,
           73,
           74,
           75,
           76,
           77,
           78,
           79,
           81,
           82,
           83,
           84,
           85,
           86,
           87,
           88,
           89,
           90,
           91,
           92,
           93,
           94,
           95,
           96,
           97,
           98
          ],
          "colorbar": {
           "title": {
            "text": "Trial"
           },
           "x": 1,
           "xpad": 40
          },
          "colorscale": [
           [
            0,
            "rgb(247,251,255)"
           ],
           [
            0.125,
            "rgb(222,235,247)"
           ],
           [
            0.25,
            "rgb(198,219,239)"
           ],
           [
            0.375,
            "rgb(158,202,225)"
           ],
           [
            0.5,
            "rgb(107,174,214)"
           ],
           [
            0.625,
            "rgb(66,146,198)"
           ],
           [
            0.75,
            "rgb(33,113,181)"
           ],
           [
            0.875,
            "rgb(8,81,156)"
           ],
           [
            1,
            "rgb(8,48,107)"
           ]
          ],
          "line": {
           "color": "Grey",
           "width": 0.5
          },
          "showscale": false
         },
         "mode": "markers",
         "name": "Feasible Trial",
         "showlegend": false,
         "type": "scatter",
         "x": [
          115,
          117,
          117,
          249,
          57,
          51,
          57,
          54,
          242,
          188,
          89,
          181,
          292,
          81,
          141,
          52,
          78,
          50,
          89,
          155,
          72,
          106,
          143,
          213,
          65,
          50,
          50,
          72,
          96,
          68,
          106,
          129,
          51,
          65,
          84,
          63,
          101,
          51,
          121,
          117,
          164,
          62,
          80,
          60,
          93,
          209,
          78,
          129,
          278,
          58,
          75,
          56,
          50,
          89,
          60,
          72,
          72,
          84,
          114,
          114,
          121,
          137,
          110,
          149,
          122,
          95,
          175,
          101,
          70,
          115,
          110,
          132,
          57,
          110,
          67,
          99,
          87,
          58,
          152,
          55,
          67,
          76,
          52,
          50,
          123,
          66,
          81
         ],
         "xaxis": "x10",
         "y": [
          0.744300972421489,
          0.7638131675434402,
          0.7752271640363463,
          0.768691216323928,
          0.7768531802965088,
          0.7768531802965088,
          0.7768531802965088,
          0.7784871672246134,
          0.7638131675434402,
          0.7638131675434402,
          0.771975131516021,
          0.7638370795472661,
          0.7654949784791966,
          0.7752271640363463,
          0.768691216323928,
          0.7784871672246134,
          0.7703252032520326,
          0.771983102183963,
          0.7703331739199745,
          0.75242308305436,
          0.7670811413996493,
          0.7670891120675912,
          0.768683245655986,
          0.7573489558424996,
          0.7752271640363463,
          0.7784871672246134,
          0.776837238960625,
          0.7556830862426271,
          0.7735852064402997,
          0.7752271640363463,
          0.7735852064402997,
          0.7768531802965088,
          0.7768531802965088,
          0.7703411445879165,
          0.7670891120675912,
          0.7703172325840906,
          0.7214968914395027,
          0.7670652000637653,
          0.78012912482066,
          0.7703172325840906,
          0.7638291088793241,
          0.7719432488442531,
          0.7752191933684043,
          0.7752271640363463,
          0.7670811413996493,
          0.7752271640363463,
          0.7654551251394867,
          0.771983102183963,
          0.7670811413996493,
          0.7686991869918699,
          0.7736250597800095,
          0.7784791965566714,
          0.776837238960625,
          0.771967160848079,
          0.7752271640363463,
          0.7817471704128806,
          0.7622030926191615,
          0.7573091025027897,
          0.7784791965566714,
          0.7784791965566714,
          0.7768452096285668,
          0.7638211382113821,
          0.7784791965566714,
          0.771975131516021,
          0.7589430894308943,
          0.7703491152558585,
          0.7670652000637653,
          0.771975131516021,
          0.7719910728519049,
          0.7768531802965088,
          0.7687151283277539,
          0.7703331739199745,
          0.7687390403315798,
          0.7638291088793241,
          0.7638370795472661,
          0.76385302088315,
          0.7703411445879165,
          0.7654710664753707,
          0.7768452096285668,
          0.7768531802965088,
          0.7654312131356608,
          0.7703570859238004,
          0.7784871672246134,
          0.7768611509644509,
          0.7654551251394867,
          0.7703252032520326,
          0.7687151283277539
         ],
         "yaxis": "y10"
        }
       ],
       "layout": {
        "template": {
         "data": {
          "bar": [
           {
            "error_x": {
             "color": "#2a3f5f"
            },
            "error_y": {
             "color": "#2a3f5f"
            },
            "marker": {
             "line": {
              "color": "#E5ECF6",
              "width": 0.5
             },
             "pattern": {
              "fillmode": "overlay",
              "size": 10,
              "solidity": 0.2
             }
            },
            "type": "bar"
           }
          ],
          "barpolar": [
           {
            "marker": {
             "line": {
              "color": "#E5ECF6",
              "width": 0.5
             },
             "pattern": {
              "fillmode": "overlay",
              "size": 10,
              "solidity": 0.2
             }
            },
            "type": "barpolar"
           }
          ],
          "carpet": [
           {
            "aaxis": {
             "endlinecolor": "#2a3f5f",
             "gridcolor": "white",
             "linecolor": "white",
             "minorgridcolor": "white",
             "startlinecolor": "#2a3f5f"
            },
            "baxis": {
             "endlinecolor": "#2a3f5f",
             "gridcolor": "white",
             "linecolor": "white",
             "minorgridcolor": "white",
             "startlinecolor": "#2a3f5f"
            },
            "type": "carpet"
           }
          ],
          "choropleth": [
           {
            "colorbar": {
             "outlinewidth": 0,
             "ticks": ""
            },
            "type": "choropleth"
           }
          ],
          "contour": [
           {
            "colorbar": {
             "outlinewidth": 0,
             "ticks": ""
            },
            "colorscale": [
             [
              0,
              "#0d0887"
             ],
             [
              0.1111111111111111,
              "#46039f"
             ],
             [
              0.2222222222222222,
              "#7201a8"
             ],
             [
              0.3333333333333333,
              "#9c179e"
             ],
             [
              0.4444444444444444,
              "#bd3786"
             ],
             [
              0.5555555555555556,
              "#d8576b"
             ],
             [
              0.6666666666666666,
              "#ed7953"
             ],
             [
              0.7777777777777778,
              "#fb9f3a"
             ],
             [
              0.8888888888888888,
              "#fdca26"
             ],
             [
              1,
              "#f0f921"
             ]
            ],
            "type": "contour"
           }
          ],
          "contourcarpet": [
           {
            "colorbar": {
             "outlinewidth": 0,
             "ticks": ""
            },
            "type": "contourcarpet"
           }
          ],
          "heatmap": [
           {
            "colorbar": {
             "outlinewidth": 0,
             "ticks": ""
            },
            "colorscale": [
             [
              0,
              "#0d0887"
             ],
             [
              0.1111111111111111,
              "#46039f"
             ],
             [
              0.2222222222222222,
              "#7201a8"
             ],
             [
              0.3333333333333333,
              "#9c179e"
             ],
             [
              0.4444444444444444,
              "#bd3786"
             ],
             [
              0.5555555555555556,
              "#d8576b"
             ],
             [
              0.6666666666666666,
              "#ed7953"
             ],
             [
              0.7777777777777778,
              "#fb9f3a"
             ],
             [
              0.8888888888888888,
              "#fdca26"
             ],
             [
              1,
              "#f0f921"
             ]
            ],
            "type": "heatmap"
           }
          ],
          "heatmapgl": [
           {
            "colorbar": {
             "outlinewidth": 0,
             "ticks": ""
            },
            "colorscale": [
             [
              0,
              "#0d0887"
             ],
             [
              0.1111111111111111,
              "#46039f"
             ],
             [
              0.2222222222222222,
              "#7201a8"
             ],
             [
              0.3333333333333333,
              "#9c179e"
             ],
             [
              0.4444444444444444,
              "#bd3786"
             ],
             [
              0.5555555555555556,
              "#d8576b"
             ],
             [
              0.6666666666666666,
              "#ed7953"
             ],
             [
              0.7777777777777778,
              "#fb9f3a"
             ],
             [
              0.8888888888888888,
              "#fdca26"
             ],
             [
              1,
              "#f0f921"
             ]
            ],
            "type": "heatmapgl"
           }
          ],
          "histogram": [
           {
            "marker": {
             "pattern": {
              "fillmode": "overlay",
              "size": 10,
              "solidity": 0.2
             }
            },
            "type": "histogram"
           }
          ],
          "histogram2d": [
           {
            "colorbar": {
             "outlinewidth": 0,
             "ticks": ""
            },
            "colorscale": [
             [
              0,
              "#0d0887"
             ],
             [
              0.1111111111111111,
              "#46039f"
             ],
             [
              0.2222222222222222,
              "#7201a8"
             ],
             [
              0.3333333333333333,
              "#9c179e"
             ],
             [
              0.4444444444444444,
              "#bd3786"
             ],
             [
              0.5555555555555556,
              "#d8576b"
             ],
             [
              0.6666666666666666,
              "#ed7953"
             ],
             [
              0.7777777777777778,
              "#fb9f3a"
             ],
             [
              0.8888888888888888,
              "#fdca26"
             ],
             [
              1,
              "#f0f921"
             ]
            ],
            "type": "histogram2d"
           }
          ],
          "histogram2dcontour": [
           {
            "colorbar": {
             "outlinewidth": 0,
             "ticks": ""
            },
            "colorscale": [
             [
              0,
              "#0d0887"
             ],
             [
              0.1111111111111111,
              "#46039f"
             ],
             [
              0.2222222222222222,
              "#7201a8"
             ],
             [
              0.3333333333333333,
              "#9c179e"
             ],
             [
              0.4444444444444444,
              "#bd3786"
             ],
             [
              0.5555555555555556,
              "#d8576b"
             ],
             [
              0.6666666666666666,
              "#ed7953"
             ],
             [
              0.7777777777777778,
              "#fb9f3a"
             ],
             [
              0.8888888888888888,
              "#fdca26"
             ],
             [
              1,
              "#f0f921"
             ]
            ],
            "type": "histogram2dcontour"
           }
          ],
          "mesh3d": [
           {
            "colorbar": {
             "outlinewidth": 0,
             "ticks": ""
            },
            "type": "mesh3d"
           }
          ],
          "parcoords": [
           {
            "line": {
             "colorbar": {
              "outlinewidth": 0,
              "ticks": ""
             }
            },
            "type": "parcoords"
           }
          ],
          "pie": [
           {
            "automargin": true,
            "type": "pie"
           }
          ],
          "scatter": [
           {
            "fillpattern": {
             "fillmode": "overlay",
             "size": 10,
             "solidity": 0.2
            },
            "type": "scatter"
           }
          ],
          "scatter3d": [
           {
            "line": {
             "colorbar": {
              "outlinewidth": 0,
              "ticks": ""
             }
            },
            "marker": {
             "colorbar": {
              "outlinewidth": 0,
              "ticks": ""
             }
            },
            "type": "scatter3d"
           }
          ],
          "scattercarpet": [
           {
            "marker": {
             "colorbar": {
              "outlinewidth": 0,
              "ticks": ""
             }
            },
            "type": "scattercarpet"
           }
          ],
          "scattergeo": [
           {
            "marker": {
             "colorbar": {
              "outlinewidth": 0,
              "ticks": ""
             }
            },
            "type": "scattergeo"
           }
          ],
          "scattergl": [
           {
            "marker": {
             "colorbar": {
              "outlinewidth": 0,
              "ticks": ""
             }
            },
            "type": "scattergl"
           }
          ],
          "scattermapbox": [
           {
            "marker": {
             "colorbar": {
              "outlinewidth": 0,
              "ticks": ""
             }
            },
            "type": "scattermapbox"
           }
          ],
          "scatterpolar": [
           {
            "marker": {
             "colorbar": {
              "outlinewidth": 0,
              "ticks": ""
             }
            },
            "type": "scatterpolar"
           }
          ],
          "scatterpolargl": [
           {
            "marker": {
             "colorbar": {
              "outlinewidth": 0,
              "ticks": ""
             }
            },
            "type": "scatterpolargl"
           }
          ],
          "scatterternary": [
           {
            "marker": {
             "colorbar": {
              "outlinewidth": 0,
              "ticks": ""
             }
            },
            "type": "scatterternary"
           }
          ],
          "surface": [
           {
            "colorbar": {
             "outlinewidth": 0,
             "ticks": ""
            },
            "colorscale": [
             [
              0,
              "#0d0887"
             ],
             [
              0.1111111111111111,
              "#46039f"
             ],
             [
              0.2222222222222222,
              "#7201a8"
             ],
             [
              0.3333333333333333,
              "#9c179e"
             ],
             [
              0.4444444444444444,
              "#bd3786"
             ],
             [
              0.5555555555555556,
              "#d8576b"
             ],
             [
              0.6666666666666666,
              "#ed7953"
             ],
             [
              0.7777777777777778,
              "#fb9f3a"
             ],
             [
              0.8888888888888888,
              "#fdca26"
             ],
             [
              1,
              "#f0f921"
             ]
            ],
            "type": "surface"
           }
          ],
          "table": [
           {
            "cells": {
             "fill": {
              "color": "#EBF0F8"
             },
             "line": {
              "color": "white"
             }
            },
            "header": {
             "fill": {
              "color": "#C8D4E3"
             },
             "line": {
              "color": "white"
             }
            },
            "type": "table"
           }
          ]
         },
         "layout": {
          "annotationdefaults": {
           "arrowcolor": "#2a3f5f",
           "arrowhead": 0,
           "arrowwidth": 1
          },
          "autotypenumbers": "strict",
          "coloraxis": {
           "colorbar": {
            "outlinewidth": 0,
            "ticks": ""
           }
          },
          "colorscale": {
           "diverging": [
            [
             0,
             "#8e0152"
            ],
            [
             0.1,
             "#c51b7d"
            ],
            [
             0.2,
             "#de77ae"
            ],
            [
             0.3,
             "#f1b6da"
            ],
            [
             0.4,
             "#fde0ef"
            ],
            [
             0.5,
             "#f7f7f7"
            ],
            [
             0.6,
             "#e6f5d0"
            ],
            [
             0.7,
             "#b8e186"
            ],
            [
             0.8,
             "#7fbc41"
            ],
            [
             0.9,
             "#4d9221"
            ],
            [
             1,
             "#276419"
            ]
           ],
           "sequential": [
            [
             0,
             "#0d0887"
            ],
            [
             0.1111111111111111,
             "#46039f"
            ],
            [
             0.2222222222222222,
             "#7201a8"
            ],
            [
             0.3333333333333333,
             "#9c179e"
            ],
            [
             0.4444444444444444,
             "#bd3786"
            ],
            [
             0.5555555555555556,
             "#d8576b"
            ],
            [
             0.6666666666666666,
             "#ed7953"
            ],
            [
             0.7777777777777778,
             "#fb9f3a"
            ],
            [
             0.8888888888888888,
             "#fdca26"
            ],
            [
             1,
             "#f0f921"
            ]
           ],
           "sequentialminus": [
            [
             0,
             "#0d0887"
            ],
            [
             0.1111111111111111,
             "#46039f"
            ],
            [
             0.2222222222222222,
             "#7201a8"
            ],
            [
             0.3333333333333333,
             "#9c179e"
            ],
            [
             0.4444444444444444,
             "#bd3786"
            ],
            [
             0.5555555555555556,
             "#d8576b"
            ],
            [
             0.6666666666666666,
             "#ed7953"
            ],
            [
             0.7777777777777778,
             "#fb9f3a"
            ],
            [
             0.8888888888888888,
             "#fdca26"
            ],
            [
             1,
             "#f0f921"
            ]
           ]
          },
          "colorway": [
           "#636efa",
           "#EF553B",
           "#00cc96",
           "#ab63fa",
           "#FFA15A",
           "#19d3f3",
           "#FF6692",
           "#B6E880",
           "#FF97FF",
           "#FECB52"
          ],
          "font": {
           "color": "#2a3f5f"
          },
          "geo": {
           "bgcolor": "white",
           "lakecolor": "white",
           "landcolor": "#E5ECF6",
           "showlakes": true,
           "showland": true,
           "subunitcolor": "white"
          },
          "hoverlabel": {
           "align": "left"
          },
          "hovermode": "closest",
          "mapbox": {
           "style": "light"
          },
          "paper_bgcolor": "white",
          "plot_bgcolor": "#E5ECF6",
          "polar": {
           "angularaxis": {
            "gridcolor": "white",
            "linecolor": "white",
            "ticks": ""
           },
           "bgcolor": "#E5ECF6",
           "radialaxis": {
            "gridcolor": "white",
            "linecolor": "white",
            "ticks": ""
           }
          },
          "scene": {
           "xaxis": {
            "backgroundcolor": "#E5ECF6",
            "gridcolor": "white",
            "gridwidth": 2,
            "linecolor": "white",
            "showbackground": true,
            "ticks": "",
            "zerolinecolor": "white"
           },
           "yaxis": {
            "backgroundcolor": "#E5ECF6",
            "gridcolor": "white",
            "gridwidth": 2,
            "linecolor": "white",
            "showbackground": true,
            "ticks": "",
            "zerolinecolor": "white"
           },
           "zaxis": {
            "backgroundcolor": "#E5ECF6",
            "gridcolor": "white",
            "gridwidth": 2,
            "linecolor": "white",
            "showbackground": true,
            "ticks": "",
            "zerolinecolor": "white"
           }
          },
          "shapedefaults": {
           "line": {
            "color": "#2a3f5f"
           }
          },
          "ternary": {
           "aaxis": {
            "gridcolor": "white",
            "linecolor": "white",
            "ticks": ""
           },
           "baxis": {
            "gridcolor": "white",
            "linecolor": "white",
            "ticks": ""
           },
           "bgcolor": "#E5ECF6",
           "caxis": {
            "gridcolor": "white",
            "linecolor": "white",
            "ticks": ""
           }
          },
          "title": {
           "x": 0.05
          },
          "xaxis": {
           "automargin": true,
           "gridcolor": "white",
           "linecolor": "white",
           "ticks": "",
           "title": {
            "standoff": 15
           },
           "zerolinecolor": "white",
           "zerolinewidth": 2
          },
          "yaxis": {
           "automargin": true,
           "gridcolor": "white",
           "linecolor": "white",
           "ticks": "",
           "title": {
            "standoff": 15
           },
           "zerolinecolor": "white",
           "zerolinewidth": 2
          }
         }
        },
        "title": {
         "text": "Slice Plot"
        },
        "width": 3000,
        "xaxis": {
         "anchor": "y",
         "domain": [
          0,
          0.082
         ],
         "title": {
          "text": "C"
         },
         "type": "log"
        },
        "xaxis10": {
         "anchor": "y10",
         "domain": [
          0.9179999999999999,
          0.9999999999999999
         ],
         "title": {
          "text": "n_estimators"
         }
        },
        "xaxis2": {
         "anchor": "y2",
         "categoryarray": [
          true,
          false
         ],
         "categoryorder": "array",
         "domain": [
          0.10200000000000001,
          0.184
         ],
         "title": {
          "text": "bootstrap"
         },
         "type": "category"
        },
        "xaxis3": {
         "anchor": "y3",
         "categoryarray": [
          "SVM",
          "RandomForest",
          "GradientBoosting"
         ],
         "categoryorder": "array",
         "domain": [
          0.20400000000000001,
          0.28600000000000003
         ],
         "title": {
          "text": "classifier"
         },
         "type": "category"
        },
        "xaxis4": {
         "anchor": "y4",
         "categoryarray": [
          "scale",
          "auto"
         ],
         "categoryorder": "array",
         "domain": [
          0.306,
          0.388
         ],
         "title": {
          "text": "gamma"
         },
         "type": "category"
        },
        "xaxis5": {
         "anchor": "y5",
         "categoryarray": [
          "linear",
          "rbf",
          "poly",
          "sigmoid"
         ],
         "categoryorder": "array",
         "domain": [
          0.40800000000000003,
          0.49000000000000005
         ],
         "title": {
          "text": "kernel"
         },
         "type": "category"
        },
        "xaxis6": {
         "anchor": "y6",
         "domain": [
          0.51,
          0.592
         ],
         "title": {
          "text": "learning_rate"
         },
         "type": "log"
        },
        "xaxis7": {
         "anchor": "y7",
         "domain": [
          0.6120000000000001,
          0.6940000000000001
         ],
         "title": {
          "text": "max_depth"
         }
        },
        "xaxis8": {
         "anchor": "y8",
         "domain": [
          0.7140000000000001,
          0.796
         ],
         "title": {
          "text": "min_samples_leaf"
         }
        },
        "xaxis9": {
         "anchor": "y9",
         "domain": [
          0.8160000000000001,
          0.898
         ],
         "title": {
          "text": "min_samples_split"
         }
        },
        "yaxis": {
         "anchor": "x",
         "domain": [
          0,
          1
         ],
         "title": {
          "text": "Objective Value"
         }
        },
        "yaxis10": {
         "anchor": "x10",
         "domain": [
          0,
          1
         ],
         "matches": "y",
         "showticklabels": false
        },
        "yaxis2": {
         "anchor": "x2",
         "domain": [
          0,
          1
         ],
         "matches": "y",
         "showticklabels": false
        },
        "yaxis3": {
         "anchor": "x3",
         "domain": [
          0,
          1
         ],
         "matches": "y",
         "showticklabels": false
        },
        "yaxis4": {
         "anchor": "x4",
         "domain": [
          0,
          1
         ],
         "matches": "y",
         "showticklabels": false
        },
        "yaxis5": {
         "anchor": "x5",
         "domain": [
          0,
          1
         ],
         "matches": "y",
         "showticklabels": false
        },
        "yaxis6": {
         "anchor": "x6",
         "domain": [
          0,
          1
         ],
         "matches": "y",
         "showticklabels": false
        },
        "yaxis7": {
         "anchor": "x7",
         "domain": [
          0,
          1
         ],
         "matches": "y",
         "showticklabels": false
        },
        "yaxis8": {
         "anchor": "x8",
         "domain": [
          0,
          1
         ],
         "matches": "y",
         "showticklabels": false
        },
        "yaxis9": {
         "anchor": "x9",
         "domain": [
          0,
          1
         ],
         "matches": "y",
         "showticklabels": false
        }
       }
      }
     },
     "metadata": {},
     "output_type": "display_data"
    }
   ],
   "source": [
    "# 3. Slice Plot\n",
    "plot_slice(study).show()"
   ]
  },
  {
   "cell_type": "code",
   "execution_count": 54,
   "id": "70b4990b",
   "metadata": {},
   "outputs": [
    {
     "data": {
      "application/vnd.plotly.v1+json": {
       "config": {
        "plotlyServerURL": "https://plot.ly"
       },
       "data": [
        {
         "cliponaxis": false,
         "hovertemplate": [
          "classifier (CategoricalDistribution): 1.0<extra></extra>"
         ],
         "name": "Objective Value",
         "orientation": "h",
         "text": [
          "1.00"
         ],
         "textposition": "outside",
         "type": "bar",
         "x": [
          1
         ],
         "y": [
          "classifier"
         ]
        }
       ],
       "layout": {
        "template": {
         "data": {
          "bar": [
           {
            "error_x": {
             "color": "#2a3f5f"
            },
            "error_y": {
             "color": "#2a3f5f"
            },
            "marker": {
             "line": {
              "color": "#E5ECF6",
              "width": 0.5
             },
             "pattern": {
              "fillmode": "overlay",
              "size": 10,
              "solidity": 0.2
             }
            },
            "type": "bar"
           }
          ],
          "barpolar": [
           {
            "marker": {
             "line": {
              "color": "#E5ECF6",
              "width": 0.5
             },
             "pattern": {
              "fillmode": "overlay",
              "size": 10,
              "solidity": 0.2
             }
            },
            "type": "barpolar"
           }
          ],
          "carpet": [
           {
            "aaxis": {
             "endlinecolor": "#2a3f5f",
             "gridcolor": "white",
             "linecolor": "white",
             "minorgridcolor": "white",
             "startlinecolor": "#2a3f5f"
            },
            "baxis": {
             "endlinecolor": "#2a3f5f",
             "gridcolor": "white",
             "linecolor": "white",
             "minorgridcolor": "white",
             "startlinecolor": "#2a3f5f"
            },
            "type": "carpet"
           }
          ],
          "choropleth": [
           {
            "colorbar": {
             "outlinewidth": 0,
             "ticks": ""
            },
            "type": "choropleth"
           }
          ],
          "contour": [
           {
            "colorbar": {
             "outlinewidth": 0,
             "ticks": ""
            },
            "colorscale": [
             [
              0,
              "#0d0887"
             ],
             [
              0.1111111111111111,
              "#46039f"
             ],
             [
              0.2222222222222222,
              "#7201a8"
             ],
             [
              0.3333333333333333,
              "#9c179e"
             ],
             [
              0.4444444444444444,
              "#bd3786"
             ],
             [
              0.5555555555555556,
              "#d8576b"
             ],
             [
              0.6666666666666666,
              "#ed7953"
             ],
             [
              0.7777777777777778,
              "#fb9f3a"
             ],
             [
              0.8888888888888888,
              "#fdca26"
             ],
             [
              1,
              "#f0f921"
             ]
            ],
            "type": "contour"
           }
          ],
          "contourcarpet": [
           {
            "colorbar": {
             "outlinewidth": 0,
             "ticks": ""
            },
            "type": "contourcarpet"
           }
          ],
          "heatmap": [
           {
            "colorbar": {
             "outlinewidth": 0,
             "ticks": ""
            },
            "colorscale": [
             [
              0,
              "#0d0887"
             ],
             [
              0.1111111111111111,
              "#46039f"
             ],
             [
              0.2222222222222222,
              "#7201a8"
             ],
             [
              0.3333333333333333,
              "#9c179e"
             ],
             [
              0.4444444444444444,
              "#bd3786"
             ],
             [
              0.5555555555555556,
              "#d8576b"
             ],
             [
              0.6666666666666666,
              "#ed7953"
             ],
             [
              0.7777777777777778,
              "#fb9f3a"
             ],
             [
              0.8888888888888888,
              "#fdca26"
             ],
             [
              1,
              "#f0f921"
             ]
            ],
            "type": "heatmap"
           }
          ],
          "heatmapgl": [
           {
            "colorbar": {
             "outlinewidth": 0,
             "ticks": ""
            },
            "colorscale": [
             [
              0,
              "#0d0887"
             ],
             [
              0.1111111111111111,
              "#46039f"
             ],
             [
              0.2222222222222222,
              "#7201a8"
             ],
             [
              0.3333333333333333,
              "#9c179e"
             ],
             [
              0.4444444444444444,
              "#bd3786"
             ],
             [
              0.5555555555555556,
              "#d8576b"
             ],
             [
              0.6666666666666666,
              "#ed7953"
             ],
             [
              0.7777777777777778,
              "#fb9f3a"
             ],
             [
              0.8888888888888888,
              "#fdca26"
             ],
             [
              1,
              "#f0f921"
             ]
            ],
            "type": "heatmapgl"
           }
          ],
          "histogram": [
           {
            "marker": {
             "pattern": {
              "fillmode": "overlay",
              "size": 10,
              "solidity": 0.2
             }
            },
            "type": "histogram"
           }
          ],
          "histogram2d": [
           {
            "colorbar": {
             "outlinewidth": 0,
             "ticks": ""
            },
            "colorscale": [
             [
              0,
              "#0d0887"
             ],
             [
              0.1111111111111111,
              "#46039f"
             ],
             [
              0.2222222222222222,
              "#7201a8"
             ],
             [
              0.3333333333333333,
              "#9c179e"
             ],
             [
              0.4444444444444444,
              "#bd3786"
             ],
             [
              0.5555555555555556,
              "#d8576b"
             ],
             [
              0.6666666666666666,
              "#ed7953"
             ],
             [
              0.7777777777777778,
              "#fb9f3a"
             ],
             [
              0.8888888888888888,
              "#fdca26"
             ],
             [
              1,
              "#f0f921"
             ]
            ],
            "type": "histogram2d"
           }
          ],
          "histogram2dcontour": [
           {
            "colorbar": {
             "outlinewidth": 0,
             "ticks": ""
            },
            "colorscale": [
             [
              0,
              "#0d0887"
             ],
             [
              0.1111111111111111,
              "#46039f"
             ],
             [
              0.2222222222222222,
              "#7201a8"
             ],
             [
              0.3333333333333333,
              "#9c179e"
             ],
             [
              0.4444444444444444,
              "#bd3786"
             ],
             [
              0.5555555555555556,
              "#d8576b"
             ],
             [
              0.6666666666666666,
              "#ed7953"
             ],
             [
              0.7777777777777778,
              "#fb9f3a"
             ],
             [
              0.8888888888888888,
              "#fdca26"
             ],
             [
              1,
              "#f0f921"
             ]
            ],
            "type": "histogram2dcontour"
           }
          ],
          "mesh3d": [
           {
            "colorbar": {
             "outlinewidth": 0,
             "ticks": ""
            },
            "type": "mesh3d"
           }
          ],
          "parcoords": [
           {
            "line": {
             "colorbar": {
              "outlinewidth": 0,
              "ticks": ""
             }
            },
            "type": "parcoords"
           }
          ],
          "pie": [
           {
            "automargin": true,
            "type": "pie"
           }
          ],
          "scatter": [
           {
            "fillpattern": {
             "fillmode": "overlay",
             "size": 10,
             "solidity": 0.2
            },
            "type": "scatter"
           }
          ],
          "scatter3d": [
           {
            "line": {
             "colorbar": {
              "outlinewidth": 0,
              "ticks": ""
             }
            },
            "marker": {
             "colorbar": {
              "outlinewidth": 0,
              "ticks": ""
             }
            },
            "type": "scatter3d"
           }
          ],
          "scattercarpet": [
           {
            "marker": {
             "colorbar": {
              "outlinewidth": 0,
              "ticks": ""
             }
            },
            "type": "scattercarpet"
           }
          ],
          "scattergeo": [
           {
            "marker": {
             "colorbar": {
              "outlinewidth": 0,
              "ticks": ""
             }
            },
            "type": "scattergeo"
           }
          ],
          "scattergl": [
           {
            "marker": {
             "colorbar": {
              "outlinewidth": 0,
              "ticks": ""
             }
            },
            "type": "scattergl"
           }
          ],
          "scattermapbox": [
           {
            "marker": {
             "colorbar": {
              "outlinewidth": 0,
              "ticks": ""
             }
            },
            "type": "scattermapbox"
           }
          ],
          "scatterpolar": [
           {
            "marker": {
             "colorbar": {
              "outlinewidth": 0,
              "ticks": ""
             }
            },
            "type": "scatterpolar"
           }
          ],
          "scatterpolargl": [
           {
            "marker": {
             "colorbar": {
              "outlinewidth": 0,
              "ticks": ""
             }
            },
            "type": "scatterpolargl"
           }
          ],
          "scatterternary": [
           {
            "marker": {
             "colorbar": {
              "outlinewidth": 0,
              "ticks": ""
             }
            },
            "type": "scatterternary"
           }
          ],
          "surface": [
           {
            "colorbar": {
             "outlinewidth": 0,
             "ticks": ""
            },
            "colorscale": [
             [
              0,
              "#0d0887"
             ],
             [
              0.1111111111111111,
              "#46039f"
             ],
             [
              0.2222222222222222,
              "#7201a8"
             ],
             [
              0.3333333333333333,
              "#9c179e"
             ],
             [
              0.4444444444444444,
              "#bd3786"
             ],
             [
              0.5555555555555556,
              "#d8576b"
             ],
             [
              0.6666666666666666,
              "#ed7953"
             ],
             [
              0.7777777777777778,
              "#fb9f3a"
             ],
             [
              0.8888888888888888,
              "#fdca26"
             ],
             [
              1,
              "#f0f921"
             ]
            ],
            "type": "surface"
           }
          ],
          "table": [
           {
            "cells": {
             "fill": {
              "color": "#EBF0F8"
             },
             "line": {
              "color": "white"
             }
            },
            "header": {
             "fill": {
              "color": "#C8D4E3"
             },
             "line": {
              "color": "white"
             }
            },
            "type": "table"
           }
          ]
         },
         "layout": {
          "annotationdefaults": {
           "arrowcolor": "#2a3f5f",
           "arrowhead": 0,
           "arrowwidth": 1
          },
          "autotypenumbers": "strict",
          "coloraxis": {
           "colorbar": {
            "outlinewidth": 0,
            "ticks": ""
           }
          },
          "colorscale": {
           "diverging": [
            [
             0,
             "#8e0152"
            ],
            [
             0.1,
             "#c51b7d"
            ],
            [
             0.2,
             "#de77ae"
            ],
            [
             0.3,
             "#f1b6da"
            ],
            [
             0.4,
             "#fde0ef"
            ],
            [
             0.5,
             "#f7f7f7"
            ],
            [
             0.6,
             "#e6f5d0"
            ],
            [
             0.7,
             "#b8e186"
            ],
            [
             0.8,
             "#7fbc41"
            ],
            [
             0.9,
             "#4d9221"
            ],
            [
             1,
             "#276419"
            ]
           ],
           "sequential": [
            [
             0,
             "#0d0887"
            ],
            [
             0.1111111111111111,
             "#46039f"
            ],
            [
             0.2222222222222222,
             "#7201a8"
            ],
            [
             0.3333333333333333,
             "#9c179e"
            ],
            [
             0.4444444444444444,
             "#bd3786"
            ],
            [
             0.5555555555555556,
             "#d8576b"
            ],
            [
             0.6666666666666666,
             "#ed7953"
            ],
            [
             0.7777777777777778,
             "#fb9f3a"
            ],
            [
             0.8888888888888888,
             "#fdca26"
            ],
            [
             1,
             "#f0f921"
            ]
           ],
           "sequentialminus": [
            [
             0,
             "#0d0887"
            ],
            [
             0.1111111111111111,
             "#46039f"
            ],
            [
             0.2222222222222222,
             "#7201a8"
            ],
            [
             0.3333333333333333,
             "#9c179e"
            ],
            [
             0.4444444444444444,
             "#bd3786"
            ],
            [
             0.5555555555555556,
             "#d8576b"
            ],
            [
             0.6666666666666666,
             "#ed7953"
            ],
            [
             0.7777777777777778,
             "#fb9f3a"
            ],
            [
             0.8888888888888888,
             "#fdca26"
            ],
            [
             1,
             "#f0f921"
            ]
           ]
          },
          "colorway": [
           "#636efa",
           "#EF553B",
           "#00cc96",
           "#ab63fa",
           "#FFA15A",
           "#19d3f3",
           "#FF6692",
           "#B6E880",
           "#FF97FF",
           "#FECB52"
          ],
          "font": {
           "color": "#2a3f5f"
          },
          "geo": {
           "bgcolor": "white",
           "lakecolor": "white",
           "landcolor": "#E5ECF6",
           "showlakes": true,
           "showland": true,
           "subunitcolor": "white"
          },
          "hoverlabel": {
           "align": "left"
          },
          "hovermode": "closest",
          "mapbox": {
           "style": "light"
          },
          "paper_bgcolor": "white",
          "plot_bgcolor": "#E5ECF6",
          "polar": {
           "angularaxis": {
            "gridcolor": "white",
            "linecolor": "white",
            "ticks": ""
           },
           "bgcolor": "#E5ECF6",
           "radialaxis": {
            "gridcolor": "white",
            "linecolor": "white",
            "ticks": ""
           }
          },
          "scene": {
           "xaxis": {
            "backgroundcolor": "#E5ECF6",
            "gridcolor": "white",
            "gridwidth": 2,
            "linecolor": "white",
            "showbackground": true,
            "ticks": "",
            "zerolinecolor": "white"
           },
           "yaxis": {
            "backgroundcolor": "#E5ECF6",
            "gridcolor": "white",
            "gridwidth": 2,
            "linecolor": "white",
            "showbackground": true,
            "ticks": "",
            "zerolinecolor": "white"
           },
           "zaxis": {
            "backgroundcolor": "#E5ECF6",
            "gridcolor": "white",
            "gridwidth": 2,
            "linecolor": "white",
            "showbackground": true,
            "ticks": "",
            "zerolinecolor": "white"
           }
          },
          "shapedefaults": {
           "line": {
            "color": "#2a3f5f"
           }
          },
          "ternary": {
           "aaxis": {
            "gridcolor": "white",
            "linecolor": "white",
            "ticks": ""
           },
           "baxis": {
            "gridcolor": "white",
            "linecolor": "white",
            "ticks": ""
           },
           "bgcolor": "#E5ECF6",
           "caxis": {
            "gridcolor": "white",
            "linecolor": "white",
            "ticks": ""
           }
          },
          "title": {
           "x": 0.05
          },
          "xaxis": {
           "automargin": true,
           "gridcolor": "white",
           "linecolor": "white",
           "ticks": "",
           "title": {
            "standoff": 15
           },
           "zerolinecolor": "white",
           "zerolinewidth": 2
          },
          "yaxis": {
           "automargin": true,
           "gridcolor": "white",
           "linecolor": "white",
           "ticks": "",
           "title": {
            "standoff": 15
           },
           "zerolinecolor": "white",
           "zerolinewidth": 2
          }
         }
        },
        "title": {
         "text": "Hyperparameter Importances"
        },
        "xaxis": {
         "title": {
          "text": "Hyperparameter Importance"
         }
        },
        "yaxis": {
         "title": {
          "text": "Hyperparameter"
         }
        }
       }
      }
     },
     "metadata": {},
     "output_type": "display_data"
    }
   ],
   "source": [
    "# 5. Hyperparameter Importance\n",
    "plot_param_importances(study).show()"
   ]
  },
  {
   "cell_type": "code",
   "execution_count": 58,
   "id": "a3fa8774",
   "metadata": {},
   "outputs": [
    {
     "name": "stderr",
     "output_type": "stream",
     "text": [
      "WARNING: Ignoring invalid distribution ~ (C:\\Users\\lenovo\\AppData\\Roaming\\Python\\Python311\\site-packages)\n",
      "WARNING: Ignoring invalid distribution ~ensorflow-intel (C:\\Users\\lenovo\\AppData\\Roaming\\Python\\Python311\\site-packages)\n",
      "WARNING: Ignoring invalid distribution ~orch (C:\\Users\\lenovo\\AppData\\Roaming\\Python\\Python311\\site-packages)\n",
      "WARNING: Ignoring invalid distribution ~ (C:\\Users\\lenovo\\AppData\\Roaming\\Python\\Python311\\site-packages)\n",
      "WARNING: Ignoring invalid distribution ~ensorflow-intel (C:\\Users\\lenovo\\AppData\\Roaming\\Python\\Python311\\site-packages)\n",
      "WARNING: Ignoring invalid distribution ~orch (C:\\Users\\lenovo\\AppData\\Roaming\\Python\\Python311\\site-packages)\n",
      "WARNING: Ignoring invalid distribution ~ (C:\\Users\\lenovo\\AppData\\Roaming\\Python\\Python311\\site-packages)\n",
      "WARNING: Ignoring invalid distribution ~ensorflow-intel (C:\\Users\\lenovo\\AppData\\Roaming\\Python\\Python311\\site-packages)\n",
      "WARNING: Ignoring invalid distribution ~orch (C:\\Users\\lenovo\\AppData\\Roaming\\Python\\Python311\\site-packages)\n"
     ]
    },
    {
     "name": "stdout",
     "output_type": "stream",
     "text": [
      "Defaulting to user installation because normal site-packages is not writeable\n",
      "Collecting optuna-integration[xgboost]\n",
      "  Downloading optuna_integration-4.5.0-py3-none-any.whl.metadata (12 kB)\n",
      "Requirement already satisfied: optuna in c:\\users\\lenovo\\appdata\\roaming\\python\\python311\\site-packages (from optuna-integration[xgboost]) (4.5.0)\n",
      "Requirement already satisfied: xgboost in c:\\users\\lenovo\\appdata\\roaming\\python\\python311\\site-packages (from optuna-integration[xgboost]) (3.0.0)\n",
      "Requirement already satisfied: alembic>=1.5.0 in c:\\users\\lenovo\\appdata\\roaming\\python\\python311\\site-packages (from optuna->optuna-integration[xgboost]) (1.16.4)\n",
      "Requirement already satisfied: colorlog in c:\\users\\lenovo\\appdata\\roaming\\python\\python311\\site-packages (from optuna->optuna-integration[xgboost]) (6.9.0)\n",
      "Requirement already satisfied: numpy in c:\\users\\lenovo\\appdata\\roaming\\python\\python311\\site-packages (from optuna->optuna-integration[xgboost]) (2.2.6)\n",
      "Requirement already satisfied: packaging>=20.0 in c:\\users\\lenovo\\appdata\\roaming\\python\\python311\\site-packages (from optuna->optuna-integration[xgboost]) (25.0)\n",
      "Requirement already satisfied: sqlalchemy>=1.4.2 in c:\\users\\lenovo\\appdata\\roaming\\python\\python311\\site-packages (from optuna->optuna-integration[xgboost]) (2.0.42)\n",
      "Requirement already satisfied: tqdm in c:\\users\\lenovo\\appdata\\roaming\\python\\python311\\site-packages (from optuna->optuna-integration[xgboost]) (4.67.1)\n",
      "Requirement already satisfied: PyYAML in c:\\users\\lenovo\\appdata\\roaming\\python\\python311\\site-packages (from optuna->optuna-integration[xgboost]) (6.0.2)\n",
      "Requirement already satisfied: Mako in c:\\users\\lenovo\\appdata\\roaming\\python\\python311\\site-packages (from alembic>=1.5.0->optuna->optuna-integration[xgboost]) (1.3.10)\n",
      "Requirement already satisfied: typing-extensions>=4.12 in c:\\users\\lenovo\\appdata\\roaming\\python\\python311\\site-packages (from alembic>=1.5.0->optuna->optuna-integration[xgboost]) (4.14.1)\n",
      "Requirement already satisfied: greenlet>=1 in c:\\users\\lenovo\\appdata\\roaming\\python\\python311\\site-packages (from sqlalchemy>=1.4.2->optuna->optuna-integration[xgboost]) (3.2.3)\n",
      "Requirement already satisfied: colorama in c:\\users\\lenovo\\appdata\\roaming\\python\\python311\\site-packages (from colorlog->optuna->optuna-integration[xgboost]) (0.4.6)\n",
      "Requirement already satisfied: MarkupSafe>=0.9.2 in c:\\users\\lenovo\\appdata\\roaming\\python\\python311\\site-packages (from Mako->alembic>=1.5.0->optuna->optuna-integration[xgboost]) (3.0.2)\n",
      "Requirement already satisfied: scipy in c:\\users\\lenovo\\appdata\\roaming\\python\\python311\\site-packages (from xgboost->optuna-integration[xgboost]) (1.13.1)\n",
      "Downloading optuna_integration-4.5.0-py3-none-any.whl (99 kB)\n",
      "Installing collected packages: optuna-integration\n",
      "Successfully installed optuna-integration-4.5.0\n"
     ]
    }
   ],
   "source": [
    "! pip install optuna-integration[xgboost]"
   ]
  },
  {
   "cell_type": "code",
   "execution_count": 59,
   "id": "9167c465",
   "metadata": {},
   "outputs": [
    {
     "name": "stderr",
     "output_type": "stream",
     "text": [
      "[I 2025-08-24 18:35:07,185] A new study created in memory with name: no-name-94a9d85e-2ea9-4bad-af66-346ca19c6723\n"
     ]
    },
    {
     "name": "stdout",
     "output_type": "stream",
     "text": [
      "[0]\ttrain-mlogloss:1.01061\teval-mlogloss:1.00531\n",
      "[1]\ttrain-mlogloss:0.96839\teval-mlogloss:0.96009\n",
      "[2]\ttrain-mlogloss:0.90197\teval-mlogloss:0.88995\n",
      "[3]\ttrain-mlogloss:0.83435\teval-mlogloss:0.81783\n",
      "[4]\ttrain-mlogloss:0.77581\teval-mlogloss:0.75796\n",
      "[5]\ttrain-mlogloss:0.72051\teval-mlogloss:0.69932\n",
      "[6]\ttrain-mlogloss:0.67317\teval-mlogloss:0.64850\n",
      "[7]\ttrain-mlogloss:0.63092\teval-mlogloss:0.60154\n",
      "[8]\ttrain-mlogloss:0.59192\teval-mlogloss:0.55964\n",
      "[9]\ttrain-mlogloss:0.55523\teval-mlogloss:0.52111\n",
      "[10]\ttrain-mlogloss:0.52668\teval-mlogloss:0.49119\n",
      "[11]\ttrain-mlogloss:0.49649\teval-mlogloss:0.45822\n",
      "[12]\ttrain-mlogloss:0.47408\teval-mlogloss:0.43404\n",
      "[13]\ttrain-mlogloss:0.44770\teval-mlogloss:0.40588\n",
      "[14]\ttrain-mlogloss:0.42439\teval-mlogloss:0.38024\n",
      "[15]\ttrain-mlogloss:0.40721\teval-mlogloss:0.36261\n",
      "[16]\ttrain-mlogloss:0.38944\teval-mlogloss:0.34273\n",
      "[17]\ttrain-mlogloss:0.37069\teval-mlogloss:0.32252\n",
      "[18]\ttrain-mlogloss:0.35665\teval-mlogloss:0.30739\n",
      "[19]\ttrain-mlogloss:0.34210\teval-mlogloss:0.29226\n",
      "[20]\ttrain-mlogloss:0.32976\teval-mlogloss:0.27992\n",
      "[21]\ttrain-mlogloss:0.31782\teval-mlogloss:0.26743\n",
      "[22]\ttrain-mlogloss:0.30312\teval-mlogloss:0.25137\n",
      "[23]\ttrain-mlogloss:0.28978\teval-mlogloss:0.23705\n",
      "[24]\ttrain-mlogloss:0.27715\teval-mlogloss:0.22356\n",
      "[25]\ttrain-mlogloss:0.26650\teval-mlogloss:0.21154\n",
      "[26]\ttrain-mlogloss:0.25879\teval-mlogloss:0.20251\n",
      "[27]\ttrain-mlogloss:0.24933\teval-mlogloss:0.19308\n",
      "[28]\ttrain-mlogloss:0.24055\teval-mlogloss:0.18596\n",
      "[29]\ttrain-mlogloss:0.23421\teval-mlogloss:0.17943\n",
      "[30]\ttrain-mlogloss:0.22944\teval-mlogloss:0.17556\n",
      "[31]\ttrain-mlogloss:0.22308\teval-mlogloss:0.16881\n",
      "[32]\ttrain-mlogloss:0.21610\teval-mlogloss:0.16145\n",
      "[33]\ttrain-mlogloss:0.20863\teval-mlogloss:0.15271\n",
      "[34]\ttrain-mlogloss:0.20402\teval-mlogloss:0.14790\n",
      "[35]\ttrain-mlogloss:0.19919\teval-mlogloss:0.14220\n",
      "[36]\ttrain-mlogloss:0.19529\teval-mlogloss:0.13766\n",
      "[37]\ttrain-mlogloss:0.19000\teval-mlogloss:0.13243\n",
      "[38]\ttrain-mlogloss:0.18572\teval-mlogloss:0.12925\n",
      "[39]\ttrain-mlogloss:0.18141\teval-mlogloss:0.12468\n",
      "[40]\ttrain-mlogloss:0.17865\teval-mlogloss:0.12205\n",
      "[41]\ttrain-mlogloss:0.17488\teval-mlogloss:0.11727\n",
      "[42]\ttrain-mlogloss:0.17176\teval-mlogloss:0.11326\n",
      "[43]\ttrain-mlogloss:0.16901\teval-mlogloss:0.11042\n",
      "[44]\ttrain-mlogloss:0.16642\teval-mlogloss:0.10706\n",
      "[45]\ttrain-mlogloss:0.16488\teval-mlogloss:0.10506\n",
      "[46]\ttrain-mlogloss:0.16195\teval-mlogloss:0.10142\n",
      "[47]\ttrain-mlogloss:0.16141\teval-mlogloss:0.10083\n",
      "[48]\ttrain-mlogloss:0.16039\teval-mlogloss:0.09952\n",
      "[49]\ttrain-mlogloss:0.15875\teval-mlogloss:0.09741\n",
      "[50]\ttrain-mlogloss:0.15784\teval-mlogloss:0.09608\n",
      "[51]\ttrain-mlogloss:0.15652\teval-mlogloss:0.09388\n",
      "[52]\ttrain-mlogloss:0.15580\teval-mlogloss:0.09280\n",
      "[53]\ttrain-mlogloss:0.15476\teval-mlogloss:0.09118\n",
      "[54]\ttrain-mlogloss:0.15449\teval-mlogloss:0.09130\n",
      "[55]\ttrain-mlogloss:0.15425\teval-mlogloss:0.09126\n",
      "[56]\ttrain-mlogloss:0.15399\teval-mlogloss:0.09095\n",
      "[57]\ttrain-mlogloss:0.15375\teval-mlogloss:0.09106\n",
      "[58]\ttrain-mlogloss:0.15302\teval-mlogloss:0.09029\n",
      "[59]\ttrain-mlogloss:0.15172\teval-mlogloss:0.08898\n",
      "[60]\ttrain-mlogloss:0.15142\teval-mlogloss:0.08854\n",
      "[61]\ttrain-mlogloss:0.15133\teval-mlogloss:0.08847\n",
      "[62]\ttrain-mlogloss:0.15073\teval-mlogloss:0.08791\n",
      "[63]\ttrain-mlogloss:0.14983\teval-mlogloss:0.08681\n",
      "[64]\ttrain-mlogloss:0.14955\teval-mlogloss:0.08697\n",
      "[65]\ttrain-mlogloss:0.14842\teval-mlogloss:0.08568\n",
      "[66]\ttrain-mlogloss:0.14755\teval-mlogloss:0.08435\n",
      "[67]\ttrain-mlogloss:0.14690\teval-mlogloss:0.08347\n",
      "[68]\ttrain-mlogloss:0.14630\teval-mlogloss:0.08283\n",
      "[69]\ttrain-mlogloss:0.14583\teval-mlogloss:0.08272\n",
      "[70]\ttrain-mlogloss:0.14547\teval-mlogloss:0.08213\n",
      "[71]\ttrain-mlogloss:0.14495\teval-mlogloss:0.08131\n",
      "[72]\ttrain-mlogloss:0.14493\teval-mlogloss:0.08129\n",
      "[73]\ttrain-mlogloss:0.14451\teval-mlogloss:0.08119\n",
      "[74]\ttrain-mlogloss:0.14427\teval-mlogloss:0.08103\n",
      "[75]\ttrain-mlogloss:0.14339\teval-mlogloss:0.07968\n",
      "[76]\ttrain-mlogloss:0.14331\teval-mlogloss:0.07955\n",
      "[77]\ttrain-mlogloss:0.14319\teval-mlogloss:0.07965\n",
      "[78]\ttrain-mlogloss:0.14314\teval-mlogloss:0.07981\n",
      "[79]\ttrain-mlogloss:0.14266\teval-mlogloss:0.07908\n",
      "[80]\ttrain-mlogloss:0.14253\teval-mlogloss:0.07920\n",
      "[81]\ttrain-mlogloss:0.14194\teval-mlogloss:0.07823\n",
      "[82]\ttrain-mlogloss:0.14155\teval-mlogloss:0.07853\n",
      "[83]\ttrain-mlogloss:0.14104\teval-mlogloss:0.07781\n",
      "[84]\ttrain-mlogloss:0.14067\teval-mlogloss:0.07749\n",
      "[85]\ttrain-mlogloss:0.14064\teval-mlogloss:0.07747\n",
      "[86]\ttrain-mlogloss:0.14032\teval-mlogloss:0.07712\n",
      "[87]\ttrain-mlogloss:0.14023\teval-mlogloss:0.07698\n",
      "[88]\ttrain-mlogloss:0.14021\teval-mlogloss:0.07697\n",
      "[89]\ttrain-mlogloss:0.14021\teval-mlogloss:0.07697\n",
      "[90]\ttrain-mlogloss:0.13984\teval-mlogloss:0.07629\n",
      "[91]\ttrain-mlogloss:0.13984\teval-mlogloss:0.07630\n",
      "[92]\ttrain-mlogloss:0.13951\teval-mlogloss:0.07594\n",
      "[93]\ttrain-mlogloss:0.13944\teval-mlogloss:0.07598\n",
      "[94]\ttrain-mlogloss:0.13946\teval-mlogloss:0.07599\n",
      "[95]\ttrain-mlogloss:0.13932\teval-mlogloss:0.07596\n",
      "[96]\ttrain-mlogloss:0.13884\teval-mlogloss:0.07516\n",
      "[97]\ttrain-mlogloss:0.13871\teval-mlogloss:0.07503\n",
      "[98]\ttrain-mlogloss:0.13856\teval-mlogloss:0.07497\n",
      "[99]\ttrain-mlogloss:0.13834\teval-mlogloss:0.07472\n",
      "[100]\ttrain-mlogloss:0.13834\teval-mlogloss:0.07469\n",
      "[101]\ttrain-mlogloss:0.13793\teval-mlogloss:0.07425\n",
      "[102]\ttrain-mlogloss:0.13756\teval-mlogloss:0.07384\n",
      "[103]\ttrain-mlogloss:0.13729\teval-mlogloss:0.07342\n",
      "[104]\ttrain-mlogloss:0.13724\teval-mlogloss:0.07332\n",
      "[105]\ttrain-mlogloss:0.13683\teval-mlogloss:0.07264\n",
      "[106]\ttrain-mlogloss:0.13666\teval-mlogloss:0.07277\n",
      "[107]\ttrain-mlogloss:0.13657\teval-mlogloss:0.07276\n",
      "[108]\ttrain-mlogloss:0.13658\teval-mlogloss:0.07276\n",
      "[109]\ttrain-mlogloss:0.13658\teval-mlogloss:0.07288\n",
      "[110]\ttrain-mlogloss:0.13648\teval-mlogloss:0.07288\n",
      "[111]\ttrain-mlogloss:0.13644\teval-mlogloss:0.07286\n",
      "[112]\ttrain-mlogloss:0.13627\teval-mlogloss:0.07256\n",
      "[113]\ttrain-mlogloss:0.13613\teval-mlogloss:0.07268\n",
      "[114]\ttrain-mlogloss:0.13598\teval-mlogloss:0.07286\n",
      "[115]\ttrain-mlogloss:0.13590\teval-mlogloss:0.07280\n",
      "[116]\ttrain-mlogloss:0.13590\teval-mlogloss:0.07280\n",
      "[117]\ttrain-mlogloss:0.13583\teval-mlogloss:0.07261\n",
      "[118]\ttrain-mlogloss:0.13571\teval-mlogloss:0.07245\n",
      "[119]\ttrain-mlogloss:0.13544\teval-mlogloss:0.07203\n",
      "[120]\ttrain-mlogloss:0.13531\teval-mlogloss:0.07205\n",
      "[121]\ttrain-mlogloss:0.13532\teval-mlogloss:0.07205\n",
      "[122]\ttrain-mlogloss:0.13532\teval-mlogloss:0.07205\n",
      "[123]\ttrain-mlogloss:0.13521\teval-mlogloss:0.07215\n",
      "[124]\ttrain-mlogloss:0.13504\teval-mlogloss:0.07196\n",
      "[125]\ttrain-mlogloss:0.13499\teval-mlogloss:0.07194\n",
      "[126]\ttrain-mlogloss:0.13492\teval-mlogloss:0.07187\n",
      "[127]\ttrain-mlogloss:0.13495\teval-mlogloss:0.07189\n",
      "[128]\ttrain-mlogloss:0.13495\teval-mlogloss:0.07189\n",
      "[129]\ttrain-mlogloss:0.13494\teval-mlogloss:0.07189\n",
      "[130]\ttrain-mlogloss:0.13484\teval-mlogloss:0.07186\n",
      "[131]\ttrain-mlogloss:0.13484\teval-mlogloss:0.07186\n",
      "[132]\ttrain-mlogloss:0.13435\teval-mlogloss:0.07128\n",
      "[133]\ttrain-mlogloss:0.13397\teval-mlogloss:0.07056\n",
      "[134]\ttrain-mlogloss:0.13397\teval-mlogloss:0.07058\n",
      "[135]\ttrain-mlogloss:0.13380\teval-mlogloss:0.07046\n",
      "[136]\ttrain-mlogloss:0.13380\teval-mlogloss:0.07049\n",
      "[137]\ttrain-mlogloss:0.13377\teval-mlogloss:0.07038\n",
      "[138]\ttrain-mlogloss:0.13369\teval-mlogloss:0.07027\n",
      "[139]\ttrain-mlogloss:0.13340\teval-mlogloss:0.06998\n",
      "[140]\ttrain-mlogloss:0.13336\teval-mlogloss:0.06993\n",
      "[141]\ttrain-mlogloss:0.13335\teval-mlogloss:0.06978\n",
      "[142]\ttrain-mlogloss:0.13338\teval-mlogloss:0.06981\n",
      "[143]\ttrain-mlogloss:0.13331\teval-mlogloss:0.06981\n",
      "[144]\ttrain-mlogloss:0.13329\teval-mlogloss:0.06979\n",
      "[145]\ttrain-mlogloss:0.13331\teval-mlogloss:0.06982\n",
      "[146]\ttrain-mlogloss:0.13330\teval-mlogloss:0.06978\n",
      "[147]\ttrain-mlogloss:0.13289\teval-mlogloss:0.06915\n",
      "[148]\ttrain-mlogloss:0.13287\teval-mlogloss:0.06913\n",
      "[149]\ttrain-mlogloss:0.13280\teval-mlogloss:0.06913\n",
      "[150]\ttrain-mlogloss:0.13280\teval-mlogloss:0.06913\n",
      "[151]\ttrain-mlogloss:0.13250\teval-mlogloss:0.06901\n",
      "[152]\ttrain-mlogloss:0.13241\teval-mlogloss:0.06899\n",
      "[153]\ttrain-mlogloss:0.13215\teval-mlogloss:0.06869\n",
      "[154]\ttrain-mlogloss:0.13190\teval-mlogloss:0.06813\n",
      "[155]\ttrain-mlogloss:0.13186\teval-mlogloss:0.06817\n",
      "[156]\ttrain-mlogloss:0.13179\teval-mlogloss:0.06825\n",
      "[157]\ttrain-mlogloss:0.13164\teval-mlogloss:0.06800\n",
      "[158]\ttrain-mlogloss:0.13157\teval-mlogloss:0.06795\n",
      "[159]\ttrain-mlogloss:0.13145\teval-mlogloss:0.06793\n",
      "[160]\ttrain-mlogloss:0.13143\teval-mlogloss:0.06790\n",
      "[161]\ttrain-mlogloss:0.13143\teval-mlogloss:0.06790\n",
      "[162]\ttrain-mlogloss:0.13142\teval-mlogloss:0.06789\n",
      "[163]\ttrain-mlogloss:0.13121\teval-mlogloss:0.06771\n",
      "[164]\ttrain-mlogloss:0.13123\teval-mlogloss:0.06772\n",
      "[165]\ttrain-mlogloss:0.13099\teval-mlogloss:0.06795\n",
      "[166]\ttrain-mlogloss:0.13095\teval-mlogloss:0.06786\n",
      "[167]\ttrain-mlogloss:0.13095\teval-mlogloss:0.06786\n",
      "[168]\ttrain-mlogloss:0.13073\teval-mlogloss:0.06806\n",
      "[169]\ttrain-mlogloss:0.13061\teval-mlogloss:0.06790\n",
      "[170]\ttrain-mlogloss:0.13059\teval-mlogloss:0.06792\n",
      "[171]\ttrain-mlogloss:0.13040\teval-mlogloss:0.06759\n",
      "[172]\ttrain-mlogloss:0.13040\teval-mlogloss:0.06759\n",
      "[173]\ttrain-mlogloss:0.13031\teval-mlogloss:0.06754\n",
      "[174]\ttrain-mlogloss:0.13030\teval-mlogloss:0.06755\n",
      "[175]\ttrain-mlogloss:0.13014\teval-mlogloss:0.06736\n",
      "[176]\ttrain-mlogloss:0.13004\teval-mlogloss:0.06745\n",
      "[177]\ttrain-mlogloss:0.12997\teval-mlogloss:0.06734\n",
      "[178]\ttrain-mlogloss:0.12966\teval-mlogloss:0.06685\n",
      "[179]\ttrain-mlogloss:0.12966\teval-mlogloss:0.06684\n",
      "[180]\ttrain-mlogloss:0.12964\teval-mlogloss:0.06642\n",
      "[181]\ttrain-mlogloss:0.12964\teval-mlogloss:0.06642\n",
      "[182]\ttrain-mlogloss:0.12965\teval-mlogloss:0.06641\n",
      "[183]\ttrain-mlogloss:0.12964\teval-mlogloss:0.06636\n",
      "[184]\ttrain-mlogloss:0.12963\teval-mlogloss:0.06636\n",
      "[185]\ttrain-mlogloss:0.12963\teval-mlogloss:0.06636\n",
      "[186]\ttrain-mlogloss:0.12963\teval-mlogloss:0.06636\n",
      "[187]\ttrain-mlogloss:0.12964\teval-mlogloss:0.06635\n",
      "[188]\ttrain-mlogloss:0.12964\teval-mlogloss:0.06636\n",
      "[189]\ttrain-mlogloss:0.12963\teval-mlogloss:0.06638\n",
      "[190]\ttrain-mlogloss:0.12955\teval-mlogloss:0.06639\n",
      "[191]\ttrain-mlogloss:0.12953\teval-mlogloss:0.06637\n",
      "[192]\ttrain-mlogloss:0.12951\teval-mlogloss:0.06637\n",
      "[193]\ttrain-mlogloss:0.12934\teval-mlogloss:0.06650\n",
      "[194]\ttrain-mlogloss:0.12924\teval-mlogloss:0.06645\n",
      "[195]\ttrain-mlogloss:0.12924\teval-mlogloss:0.06645\n",
      "[196]\ttrain-mlogloss:0.12924\teval-mlogloss:0.06645\n",
      "[197]\ttrain-mlogloss:0.12924\teval-mlogloss:0.06645\n",
      "[198]\ttrain-mlogloss:0.12919\teval-mlogloss:0.06651\n",
      "[199]\ttrain-mlogloss:0.12899\teval-mlogloss:0.06623\n",
      "[200]\ttrain-mlogloss:0.12899\teval-mlogloss:0.06623\n",
      "[201]\ttrain-mlogloss:0.12898\teval-mlogloss:0.06593\n",
      "[202]\ttrain-mlogloss:0.12898\teval-mlogloss:0.06593\n",
      "[203]\ttrain-mlogloss:0.12887\teval-mlogloss:0.06559\n",
      "[204]\ttrain-mlogloss:0.12881\teval-mlogloss:0.06557\n",
      "[205]\ttrain-mlogloss:0.12881\teval-mlogloss:0.06557\n",
      "[206]\ttrain-mlogloss:0.12880\teval-mlogloss:0.06556\n",
      "[207]\ttrain-mlogloss:0.12880\teval-mlogloss:0.06556\n",
      "[208]\ttrain-mlogloss:0.12878\teval-mlogloss:0.06558\n",
      "[209]\ttrain-mlogloss:0.12857\teval-mlogloss:0.06566\n",
      "[210]\ttrain-mlogloss:0.12844\teval-mlogloss:0.06551\n",
      "[211]\ttrain-mlogloss:0.12844\teval-mlogloss:0.06551\n",
      "[212]\ttrain-mlogloss:0.12844\teval-mlogloss:0.06551\n",
      "[213]\ttrain-mlogloss:0.12844\teval-mlogloss:0.06551\n",
      "[214]\ttrain-mlogloss:0.12844\teval-mlogloss:0.06551\n",
      "[215]\ttrain-mlogloss:0.12842\teval-mlogloss:0.06557\n",
      "[216]\ttrain-mlogloss:0.12831\teval-mlogloss:0.06544\n",
      "[217]\ttrain-mlogloss:0.12828\teval-mlogloss:0.06525\n",
      "[218]\ttrain-mlogloss:0.12828\teval-mlogloss:0.06525\n",
      "[219]\ttrain-mlogloss:0.12823\teval-mlogloss:0.06523\n",
      "[220]\ttrain-mlogloss:0.12823\teval-mlogloss:0.06523\n",
      "[221]\ttrain-mlogloss:0.12808\teval-mlogloss:0.06522\n",
      "[222]\ttrain-mlogloss:0.12808\teval-mlogloss:0.06522\n",
      "[223]\ttrain-mlogloss:0.12802\teval-mlogloss:0.06515\n",
      "[224]\ttrain-mlogloss:0.12757\teval-mlogloss:0.06464\n",
      "[225]\ttrain-mlogloss:0.12729\teval-mlogloss:0.06423\n",
      "[226]\ttrain-mlogloss:0.12712\teval-mlogloss:0.06439\n",
      "[227]\ttrain-mlogloss:0.12702\teval-mlogloss:0.06435\n",
      "[228]\ttrain-mlogloss:0.12702\teval-mlogloss:0.06434\n",
      "[229]\ttrain-mlogloss:0.12691\teval-mlogloss:0.06438\n",
      "[230]\ttrain-mlogloss:0.12691\teval-mlogloss:0.06438\n",
      "[231]\ttrain-mlogloss:0.12692\teval-mlogloss:0.06439\n",
      "[232]\ttrain-mlogloss:0.12692\teval-mlogloss:0.06439\n",
      "[233]\ttrain-mlogloss:0.12687\teval-mlogloss:0.06437\n",
      "[234]\ttrain-mlogloss:0.12687\teval-mlogloss:0.06442\n",
      "[235]\ttrain-mlogloss:0.12682\teval-mlogloss:0.06444\n",
      "[236]\ttrain-mlogloss:0.12682\teval-mlogloss:0.06447\n",
      "[237]\ttrain-mlogloss:0.12680\teval-mlogloss:0.06428\n",
      "[238]\ttrain-mlogloss:0.12665\teval-mlogloss:0.06422\n",
      "[239]\ttrain-mlogloss:0.12663\teval-mlogloss:0.06421\n",
      "[240]\ttrain-mlogloss:0.12667\teval-mlogloss:0.06426\n",
      "[241]\ttrain-mlogloss:0.12667\teval-mlogloss:0.06426\n",
      "[242]\ttrain-mlogloss:0.12667\teval-mlogloss:0.06426\n",
      "[243]\ttrain-mlogloss:0.12666\teval-mlogloss:0.06425\n",
      "[244]\ttrain-mlogloss:0.12656\teval-mlogloss:0.06408\n",
      "[245]\ttrain-mlogloss:0.12653\teval-mlogloss:0.06398\n",
      "[246]\ttrain-mlogloss:0.12653\teval-mlogloss:0.06392\n",
      "[247]\ttrain-mlogloss:0.12653\teval-mlogloss:0.06392\n",
      "[248]\ttrain-mlogloss:0.12653\teval-mlogloss:0.06392\n",
      "[249]\ttrain-mlogloss:0.12653\teval-mlogloss:0.06390\n",
      "[250]\ttrain-mlogloss:0.12647\teval-mlogloss:0.06381\n",
      "[251]\ttrain-mlogloss:0.12645\teval-mlogloss:0.06382\n",
      "[252]\ttrain-mlogloss:0.12639\teval-mlogloss:0.06364\n",
      "[253]\ttrain-mlogloss:0.12639\teval-mlogloss:0.06364\n",
      "[254]\ttrain-mlogloss:0.12639\teval-mlogloss:0.06365\n",
      "[255]\ttrain-mlogloss:0.12626\teval-mlogloss:0.06344\n",
      "[256]\ttrain-mlogloss:0.12626\teval-mlogloss:0.06344\n",
      "[257]\ttrain-mlogloss:0.12626\teval-mlogloss:0.06344\n",
      "[258]\ttrain-mlogloss:0.12616\teval-mlogloss:0.06338\n",
      "[259]\ttrain-mlogloss:0.12616\teval-mlogloss:0.06339\n",
      "[260]\ttrain-mlogloss:0.12611\teval-mlogloss:0.06334\n",
      "[261]\ttrain-mlogloss:0.12611\teval-mlogloss:0.06334\n",
      "[262]\ttrain-mlogloss:0.12592\teval-mlogloss:0.06307\n",
      "[263]\ttrain-mlogloss:0.12592\teval-mlogloss:0.06305\n",
      "[264]\ttrain-mlogloss:0.12592\teval-mlogloss:0.06304\n",
      "[265]\ttrain-mlogloss:0.12592\teval-mlogloss:0.06304\n",
      "[266]\ttrain-mlogloss:0.12590\teval-mlogloss:0.06274\n",
      "[267]\ttrain-mlogloss:0.12590\teval-mlogloss:0.06282\n",
      "[268]\ttrain-mlogloss:0.12585\teval-mlogloss:0.06267\n",
      "[269]\ttrain-mlogloss:0.12585\teval-mlogloss:0.06267\n",
      "[270]\ttrain-mlogloss:0.12577\teval-mlogloss:0.06251\n",
      "[271]\ttrain-mlogloss:0.12577\teval-mlogloss:0.06251\n",
      "[272]\ttrain-mlogloss:0.12576\teval-mlogloss:0.06250\n",
      "[273]\ttrain-mlogloss:0.12577\teval-mlogloss:0.06248\n",
      "[274]\ttrain-mlogloss:0.12574\teval-mlogloss:0.06253\n",
      "[275]\ttrain-mlogloss:0.12574\teval-mlogloss:0.06258\n",
      "[276]\ttrain-mlogloss:0.12574\teval-mlogloss:0.06258\n",
      "[277]\ttrain-mlogloss:0.12573\teval-mlogloss:0.06260\n",
      "[278]\ttrain-mlogloss:0.12573\teval-mlogloss:0.06260\n",
      "[279]\ttrain-mlogloss:0.12573\teval-mlogloss:0.06260\n",
      "[280]\ttrain-mlogloss:0.12575\teval-mlogloss:0.06258\n",
      "[281]\ttrain-mlogloss:0.12566\teval-mlogloss:0.06258\n",
      "[282]\ttrain-mlogloss:0.12566\teval-mlogloss:0.06250\n",
      "[283]\ttrain-mlogloss:0.12565\teval-mlogloss:0.06251\n",
      "[284]\ttrain-mlogloss:0.12568\teval-mlogloss:0.06246\n",
      "[285]\ttrain-mlogloss:0.12568\teval-mlogloss:0.06246\n",
      "[286]\ttrain-mlogloss:0.12567\teval-mlogloss:0.06248\n",
      "[287]\ttrain-mlogloss:0.12550\teval-mlogloss:0.06229\n",
      "[288]\ttrain-mlogloss:0.12550\teval-mlogloss:0.06229\n",
      "[289]\ttrain-mlogloss:0.12540\teval-mlogloss:0.06220\n",
      "[290]\ttrain-mlogloss:0.12539\teval-mlogloss:0.06219\n",
      "[291]\ttrain-mlogloss:0.12539\teval-mlogloss:0.06219\n",
      "[292]\ttrain-mlogloss:0.12538\teval-mlogloss:0.06221\n",
      "[293]\ttrain-mlogloss:0.12533\teval-mlogloss:0.06216\n",
      "[294]\ttrain-mlogloss:0.12533\teval-mlogloss:0.06216\n",
      "[295]\ttrain-mlogloss:0.12532\teval-mlogloss:0.06215\n",
      "[296]\ttrain-mlogloss:0.12509\teval-mlogloss:0.06238\n",
      "[297]\ttrain-mlogloss:0.12509\teval-mlogloss:0.06238\n",
      "[298]\ttrain-mlogloss:0.12510\teval-mlogloss:0.06239\n",
      "[299]\ttrain-mlogloss:0.12510\teval-mlogloss:0.06239\n"
     ]
    },
    {
     "name": "stderr",
     "output_type": "stream",
     "text": [
      "[I 2025-08-24 18:35:07,805] Trial 0 finished with value: 1.0 and parameters: {'lambda': 0.04853029097830509, 'alpha': 0.641170607666686, 'eta': 0.07304145227657399, 'gamma': 0.033982279827573965, 'max_depth': 5, 'min_child_weight': 4, 'subsample': 0.6711163926375628, 'colsample_bytree': 0.6225440949457399}. Best is trial 0 with value: 1.0.\n"
     ]
    },
    {
     "name": "stdout",
     "output_type": "stream",
     "text": [
      "[0]\ttrain-mlogloss:1.01205\teval-mlogloss:1.01300\n",
      "[1]\ttrain-mlogloss:0.93392\teval-mlogloss:0.92837\n",
      "[2]\ttrain-mlogloss:0.86527\teval-mlogloss:0.85668\n",
      "[3]\ttrain-mlogloss:0.79940\teval-mlogloss:0.78919\n",
      "[4]\ttrain-mlogloss:0.74422\teval-mlogloss:0.73238\n",
      "[5]\ttrain-mlogloss:0.69034\teval-mlogloss:0.67429\n",
      "[6]\ttrain-mlogloss:0.64378\teval-mlogloss:0.62292\n",
      "[7]\ttrain-mlogloss:0.60325\teval-mlogloss:0.57851\n",
      "[8]\ttrain-mlogloss:0.56492\teval-mlogloss:0.53680\n",
      "[9]\ttrain-mlogloss:0.53004\teval-mlogloss:0.49969\n",
      "[10]\ttrain-mlogloss:0.49725\teval-mlogloss:0.46548\n",
      "[11]\ttrain-mlogloss:0.46680\teval-mlogloss:0.43299\n",
      "[12]\ttrain-mlogloss:0.43979\teval-mlogloss:0.40433\n",
      "[13]\ttrain-mlogloss:0.41345\teval-mlogloss:0.37711\n",
      "[14]\ttrain-mlogloss:0.39032\teval-mlogloss:0.35130\n",
      "[15]\ttrain-mlogloss:0.36837\teval-mlogloss:0.32750\n",
      "[16]\ttrain-mlogloss:0.34758\teval-mlogloss:0.30513\n",
      "[17]\ttrain-mlogloss:0.32927\teval-mlogloss:0.28526\n",
      "[18]\ttrain-mlogloss:0.31268\teval-mlogloss:0.26776\n",
      "[19]\ttrain-mlogloss:0.29637\teval-mlogloss:0.25085\n",
      "[20]\ttrain-mlogloss:0.28212\teval-mlogloss:0.23561\n",
      "[21]\ttrain-mlogloss:0.26993\teval-mlogloss:0.22172\n",
      "[22]\ttrain-mlogloss:0.25756\teval-mlogloss:0.20730\n",
      "[23]\ttrain-mlogloss:0.24504\teval-mlogloss:0.19400\n",
      "[24]\ttrain-mlogloss:0.23401\teval-mlogloss:0.18207\n",
      "[25]\ttrain-mlogloss:0.22516\teval-mlogloss:0.17125\n",
      "[26]\ttrain-mlogloss:0.21604\teval-mlogloss:0.16161\n",
      "[27]\ttrain-mlogloss:0.20837\teval-mlogloss:0.15477\n",
      "[28]\ttrain-mlogloss:0.20227\teval-mlogloss:0.14890\n",
      "[29]\ttrain-mlogloss:0.19615\teval-mlogloss:0.14165\n",
      "[30]\ttrain-mlogloss:0.19056\teval-mlogloss:0.13592\n",
      "[31]\ttrain-mlogloss:0.18485\teval-mlogloss:0.12996\n",
      "[32]\ttrain-mlogloss:0.17991\teval-mlogloss:0.12503\n",
      "[33]\ttrain-mlogloss:0.17475\teval-mlogloss:0.11885\n",
      "[34]\ttrain-mlogloss:0.17013\teval-mlogloss:0.11456\n",
      "[35]\ttrain-mlogloss:0.16810\teval-mlogloss:0.11181\n",
      "[36]\ttrain-mlogloss:0.16508\teval-mlogloss:0.10839\n",
      "[37]\ttrain-mlogloss:0.16320\teval-mlogloss:0.10611\n",
      "[38]\ttrain-mlogloss:0.15997\teval-mlogloss:0.10299\n",
      "[39]\ttrain-mlogloss:0.15808\teval-mlogloss:0.09993\n",
      "[40]\ttrain-mlogloss:0.15698\teval-mlogloss:0.09892\n",
      "[41]\ttrain-mlogloss:0.15540\teval-mlogloss:0.09749\n",
      "[42]\ttrain-mlogloss:0.15450\teval-mlogloss:0.09607\n",
      "[43]\ttrain-mlogloss:0.15204\teval-mlogloss:0.09356\n",
      "[44]\ttrain-mlogloss:0.15084\teval-mlogloss:0.09117\n",
      "[45]\ttrain-mlogloss:0.15062\teval-mlogloss:0.09098\n",
      "[46]\ttrain-mlogloss:0.15033\teval-mlogloss:0.09023\n",
      "[47]\ttrain-mlogloss:0.15004\teval-mlogloss:0.09014\n",
      "[48]\ttrain-mlogloss:0.14999\teval-mlogloss:0.08950\n",
      "[49]\ttrain-mlogloss:0.14860\teval-mlogloss:0.08781\n",
      "[50]\ttrain-mlogloss:0.14742\teval-mlogloss:0.08604\n",
      "[51]\ttrain-mlogloss:0.14646\teval-mlogloss:0.08436\n",
      "[52]\ttrain-mlogloss:0.14626\teval-mlogloss:0.08429\n",
      "[53]\ttrain-mlogloss:0.14620\teval-mlogloss:0.08411\n",
      "[54]\ttrain-mlogloss:0.14585\teval-mlogloss:0.08421\n",
      "[55]\ttrain-mlogloss:0.14509\teval-mlogloss:0.08340\n",
      "[56]\ttrain-mlogloss:0.14402\teval-mlogloss:0.08231\n",
      "[57]\ttrain-mlogloss:0.14402\teval-mlogloss:0.08229\n",
      "[58]\ttrain-mlogloss:0.14356\teval-mlogloss:0.08156\n",
      "[59]\ttrain-mlogloss:0.14336\teval-mlogloss:0.08146\n",
      "[60]\ttrain-mlogloss:0.14276\teval-mlogloss:0.08199\n",
      "[61]\ttrain-mlogloss:0.14257\teval-mlogloss:0.08186\n",
      "[62]\ttrain-mlogloss:0.14226\teval-mlogloss:0.08160\n",
      "[63]\ttrain-mlogloss:0.14209\teval-mlogloss:0.08124\n",
      "[64]\ttrain-mlogloss:0.14208\teval-mlogloss:0.08125\n",
      "[65]\ttrain-mlogloss:0.14216\teval-mlogloss:0.08129\n",
      "[66]\ttrain-mlogloss:0.14196\teval-mlogloss:0.08079\n",
      "[67]\ttrain-mlogloss:0.14171\teval-mlogloss:0.08062\n",
      "[68]\ttrain-mlogloss:0.14096\teval-mlogloss:0.07984\n",
      "[69]\ttrain-mlogloss:0.14032\teval-mlogloss:0.07957\n",
      "[70]\ttrain-mlogloss:0.13976\teval-mlogloss:0.07858\n",
      "[71]\ttrain-mlogloss:0.13968\teval-mlogloss:0.07846\n",
      "[72]\ttrain-mlogloss:0.13966\teval-mlogloss:0.07832\n",
      "[73]\ttrain-mlogloss:0.13922\teval-mlogloss:0.07743\n",
      "[74]\ttrain-mlogloss:0.13919\teval-mlogloss:0.07757\n",
      "[75]\ttrain-mlogloss:0.13917\teval-mlogloss:0.07757\n",
      "[76]\ttrain-mlogloss:0.13920\teval-mlogloss:0.07760\n",
      "[77]\ttrain-mlogloss:0.13905\teval-mlogloss:0.07746\n",
      "[78]\ttrain-mlogloss:0.13906\teval-mlogloss:0.07747\n",
      "[79]\ttrain-mlogloss:0.13855\teval-mlogloss:0.07664\n",
      "[80]\ttrain-mlogloss:0.13850\teval-mlogloss:0.07662\n",
      "[81]\ttrain-mlogloss:0.13848\teval-mlogloss:0.07663\n",
      "[82]\ttrain-mlogloss:0.13798\teval-mlogloss:0.07714\n",
      "[83]\ttrain-mlogloss:0.13801\teval-mlogloss:0.07721\n",
      "[84]\ttrain-mlogloss:0.13756\teval-mlogloss:0.07667\n",
      "[85]\ttrain-mlogloss:0.13753\teval-mlogloss:0.07654\n",
      "[86]\ttrain-mlogloss:0.13755\teval-mlogloss:0.07673\n",
      "[87]\ttrain-mlogloss:0.13757\teval-mlogloss:0.07671\n",
      "[88]\ttrain-mlogloss:0.13738\teval-mlogloss:0.07662\n",
      "[89]\ttrain-mlogloss:0.13664\teval-mlogloss:0.07584\n",
      "[90]\ttrain-mlogloss:0.13655\teval-mlogloss:0.07576\n",
      "[91]\ttrain-mlogloss:0.13642\teval-mlogloss:0.07570\n",
      "[92]\ttrain-mlogloss:0.13637\teval-mlogloss:0.07564\n",
      "[93]\ttrain-mlogloss:0.13618\teval-mlogloss:0.07521\n",
      "[94]\ttrain-mlogloss:0.13617\teval-mlogloss:0.07516\n",
      "[95]\ttrain-mlogloss:0.13611\teval-mlogloss:0.07526\n",
      "[96]\ttrain-mlogloss:0.13612\teval-mlogloss:0.07528\n",
      "[97]\ttrain-mlogloss:0.13573\teval-mlogloss:0.07475\n",
      "[98]\ttrain-mlogloss:0.13561\teval-mlogloss:0.07484\n",
      "[99]\ttrain-mlogloss:0.13520\teval-mlogloss:0.07475\n",
      "[100]\ttrain-mlogloss:0.13514\teval-mlogloss:0.07460\n",
      "[101]\ttrain-mlogloss:0.13459\teval-mlogloss:0.07375\n",
      "[102]\ttrain-mlogloss:0.13373\teval-mlogloss:0.07241\n",
      "[103]\ttrain-mlogloss:0.13343\teval-mlogloss:0.07237\n",
      "[104]\ttrain-mlogloss:0.13344\teval-mlogloss:0.07221\n",
      "[105]\ttrain-mlogloss:0.13326\teval-mlogloss:0.07185\n",
      "[106]\ttrain-mlogloss:0.13325\teval-mlogloss:0.07193\n",
      "[107]\ttrain-mlogloss:0.13333\teval-mlogloss:0.07220\n",
      "[108]\ttrain-mlogloss:0.13324\teval-mlogloss:0.07210\n",
      "[109]\ttrain-mlogloss:0.13316\teval-mlogloss:0.07200\n",
      "[110]\ttrain-mlogloss:0.13317\teval-mlogloss:0.07206\n",
      "[111]\ttrain-mlogloss:0.13317\teval-mlogloss:0.07182\n",
      "[112]\ttrain-mlogloss:0.13300\teval-mlogloss:0.07170\n",
      "[113]\ttrain-mlogloss:0.13296\teval-mlogloss:0.07163\n",
      "[114]\ttrain-mlogloss:0.13296\teval-mlogloss:0.07168\n",
      "[115]\ttrain-mlogloss:0.13291\teval-mlogloss:0.07168\n",
      "[116]\ttrain-mlogloss:0.13285\teval-mlogloss:0.07180\n",
      "[117]\ttrain-mlogloss:0.13272\teval-mlogloss:0.07155\n",
      "[118]\ttrain-mlogloss:0.13266\teval-mlogloss:0.07152\n",
      "[119]\ttrain-mlogloss:0.13255\teval-mlogloss:0.07140\n",
      "[120]\ttrain-mlogloss:0.13248\teval-mlogloss:0.07121\n",
      "[121]\ttrain-mlogloss:0.13253\teval-mlogloss:0.07140\n",
      "[122]\ttrain-mlogloss:0.13252\teval-mlogloss:0.07143\n",
      "[123]\ttrain-mlogloss:0.13208\teval-mlogloss:0.07135\n",
      "[124]\ttrain-mlogloss:0.13144\teval-mlogloss:0.07048\n",
      "[125]\ttrain-mlogloss:0.13140\teval-mlogloss:0.07056\n",
      "[126]\ttrain-mlogloss:0.13123\teval-mlogloss:0.07042\n",
      "[127]\ttrain-mlogloss:0.13121\teval-mlogloss:0.07048\n",
      "[128]\ttrain-mlogloss:0.13115\teval-mlogloss:0.07051\n",
      "[129]\ttrain-mlogloss:0.13101\teval-mlogloss:0.07044\n",
      "[130]\ttrain-mlogloss:0.13119\teval-mlogloss:0.07077\n",
      "[131]\ttrain-mlogloss:0.13119\teval-mlogloss:0.07078\n",
      "[132]\ttrain-mlogloss:0.13075\teval-mlogloss:0.07078\n",
      "[133]\ttrain-mlogloss:0.13072\teval-mlogloss:0.07075\n",
      "[134]\ttrain-mlogloss:0.13073\teval-mlogloss:0.07078\n",
      "[135]\ttrain-mlogloss:0.12975\teval-mlogloss:0.06940\n",
      "[136]\ttrain-mlogloss:0.12981\teval-mlogloss:0.06952\n",
      "[137]\ttrain-mlogloss:0.12970\teval-mlogloss:0.06928\n",
      "[138]\ttrain-mlogloss:0.12951\teval-mlogloss:0.06904\n",
      "[139]\ttrain-mlogloss:0.12953\teval-mlogloss:0.06903\n",
      "[140]\ttrain-mlogloss:0.12941\teval-mlogloss:0.06892\n",
      "[141]\ttrain-mlogloss:0.12932\teval-mlogloss:0.06831\n",
      "[142]\ttrain-mlogloss:0.12946\teval-mlogloss:0.06860\n",
      "[143]\ttrain-mlogloss:0.12942\teval-mlogloss:0.06866\n",
      "[144]\ttrain-mlogloss:0.12929\teval-mlogloss:0.06855\n",
      "[145]\ttrain-mlogloss:0.12930\teval-mlogloss:0.06867\n",
      "[146]\ttrain-mlogloss:0.12911\teval-mlogloss:0.06809\n",
      "[147]\ttrain-mlogloss:0.12841\teval-mlogloss:0.06697\n",
      "[148]\ttrain-mlogloss:0.12838\teval-mlogloss:0.06694\n",
      "[149]\ttrain-mlogloss:0.12838\teval-mlogloss:0.06694\n",
      "[150]\ttrain-mlogloss:0.12832\teval-mlogloss:0.06667\n",
      "[151]\ttrain-mlogloss:0.12831\teval-mlogloss:0.06665\n",
      "[152]\ttrain-mlogloss:0.12837\teval-mlogloss:0.06676\n",
      "[153]\ttrain-mlogloss:0.12835\teval-mlogloss:0.06669\n",
      "[154]\ttrain-mlogloss:0.12814\teval-mlogloss:0.06608\n",
      "[155]\ttrain-mlogloss:0.12806\teval-mlogloss:0.06601\n",
      "[156]\ttrain-mlogloss:0.12810\teval-mlogloss:0.06601\n",
      "[157]\ttrain-mlogloss:0.12807\teval-mlogloss:0.06599\n",
      "[158]\ttrain-mlogloss:0.12804\teval-mlogloss:0.06594\n",
      "[159]\ttrain-mlogloss:0.12792\teval-mlogloss:0.06583\n",
      "[160]\ttrain-mlogloss:0.12790\teval-mlogloss:0.06578\n",
      "[161]\ttrain-mlogloss:0.12787\teval-mlogloss:0.06550\n",
      "[162]\ttrain-mlogloss:0.12773\teval-mlogloss:0.06548\n",
      "[163]\ttrain-mlogloss:0.12773\teval-mlogloss:0.06559\n",
      "[164]\ttrain-mlogloss:0.12772\teval-mlogloss:0.06568\n",
      "[165]\ttrain-mlogloss:0.12764\teval-mlogloss:0.06558\n",
      "[166]\ttrain-mlogloss:0.12749\teval-mlogloss:0.06535\n",
      "[167]\ttrain-mlogloss:0.12751\teval-mlogloss:0.06538\n",
      "[168]\ttrain-mlogloss:0.12752\teval-mlogloss:0.06543\n",
      "[169]\ttrain-mlogloss:0.12747\teval-mlogloss:0.06544\n",
      "[170]\ttrain-mlogloss:0.12747\teval-mlogloss:0.06544\n",
      "[171]\ttrain-mlogloss:0.12746\teval-mlogloss:0.06517\n",
      "[172]\ttrain-mlogloss:0.12740\teval-mlogloss:0.06507\n",
      "[173]\ttrain-mlogloss:0.12737\teval-mlogloss:0.06510\n",
      "[174]\ttrain-mlogloss:0.12746\teval-mlogloss:0.06538\n",
      "[175]\ttrain-mlogloss:0.12745\teval-mlogloss:0.06537\n",
      "[176]\ttrain-mlogloss:0.12722\teval-mlogloss:0.06507\n",
      "[177]\ttrain-mlogloss:0.12716\teval-mlogloss:0.06503\n",
      "[178]\ttrain-mlogloss:0.12712\teval-mlogloss:0.06508\n",
      "[179]\ttrain-mlogloss:0.12715\teval-mlogloss:0.06509\n",
      "[180]\ttrain-mlogloss:0.12715\teval-mlogloss:0.06453\n",
      "[181]\ttrain-mlogloss:0.12715\teval-mlogloss:0.06448\n",
      "[182]\ttrain-mlogloss:0.12709\teval-mlogloss:0.06429\n",
      "[183]\ttrain-mlogloss:0.12710\teval-mlogloss:0.06442\n",
      "[184]\ttrain-mlogloss:0.12704\teval-mlogloss:0.06442\n",
      "[185]\ttrain-mlogloss:0.12704\teval-mlogloss:0.06462\n",
      "[186]\ttrain-mlogloss:0.12691\teval-mlogloss:0.06423\n",
      "[187]\ttrain-mlogloss:0.12692\teval-mlogloss:0.06418\n",
      "[188]\ttrain-mlogloss:0.12695\teval-mlogloss:0.06434\n",
      "[189]\ttrain-mlogloss:0.12698\teval-mlogloss:0.06443\n",
      "[190]\ttrain-mlogloss:0.12699\teval-mlogloss:0.06461\n",
      "[191]\ttrain-mlogloss:0.12694\teval-mlogloss:0.06449\n",
      "[192]\ttrain-mlogloss:0.12690\teval-mlogloss:0.06447\n",
      "[193]\ttrain-mlogloss:0.12687\teval-mlogloss:0.06441\n",
      "[194]\ttrain-mlogloss:0.12675\teval-mlogloss:0.06439\n",
      "[195]\ttrain-mlogloss:0.12674\teval-mlogloss:0.06432\n",
      "[196]\ttrain-mlogloss:0.12670\teval-mlogloss:0.06428\n",
      "[197]\ttrain-mlogloss:0.12667\teval-mlogloss:0.06420\n",
      "[198]\ttrain-mlogloss:0.12663\teval-mlogloss:0.06393\n",
      "[199]\ttrain-mlogloss:0.12655\teval-mlogloss:0.06368\n",
      "[200]\ttrain-mlogloss:0.12644\teval-mlogloss:0.06353\n",
      "[201]\ttrain-mlogloss:0.12646\teval-mlogloss:0.06346\n",
      "[202]\ttrain-mlogloss:0.12645\teval-mlogloss:0.06348\n",
      "[203]\ttrain-mlogloss:0.12645\teval-mlogloss:0.06358\n",
      "[204]\ttrain-mlogloss:0.12638\teval-mlogloss:0.06357\n",
      "[205]\ttrain-mlogloss:0.12632\teval-mlogloss:0.06351\n",
      "[206]\ttrain-mlogloss:0.12635\teval-mlogloss:0.06374\n",
      "[207]\ttrain-mlogloss:0.12632\teval-mlogloss:0.06373\n",
      "[208]\ttrain-mlogloss:0.12626\teval-mlogloss:0.06364\n",
      "[209]\ttrain-mlogloss:0.12613\teval-mlogloss:0.06339\n",
      "[210]\ttrain-mlogloss:0.12610\teval-mlogloss:0.06341\n",
      "[211]\ttrain-mlogloss:0.12609\teval-mlogloss:0.06344\n",
      "[212]\ttrain-mlogloss:0.12605\teval-mlogloss:0.06306\n",
      "[213]\ttrain-mlogloss:0.12603\teval-mlogloss:0.06310\n",
      "[214]\ttrain-mlogloss:0.12604\teval-mlogloss:0.06329\n",
      "[215]\ttrain-mlogloss:0.12604\teval-mlogloss:0.06343\n",
      "[216]\ttrain-mlogloss:0.12571\teval-mlogloss:0.06374\n",
      "[217]\ttrain-mlogloss:0.12567\teval-mlogloss:0.06327\n",
      "[218]\ttrain-mlogloss:0.12541\teval-mlogloss:0.06355\n",
      "[219]\ttrain-mlogloss:0.12541\teval-mlogloss:0.06357\n",
      "[220]\ttrain-mlogloss:0.12532\teval-mlogloss:0.06361\n",
      "[221]\ttrain-mlogloss:0.12506\teval-mlogloss:0.06337\n",
      "[222]\ttrain-mlogloss:0.12503\teval-mlogloss:0.06325\n",
      "[223]\ttrain-mlogloss:0.12501\teval-mlogloss:0.06309\n",
      "[224]\ttrain-mlogloss:0.12490\teval-mlogloss:0.06304\n",
      "[225]\ttrain-mlogloss:0.12436\teval-mlogloss:0.06185\n",
      "[226]\ttrain-mlogloss:0.12436\teval-mlogloss:0.06184\n",
      "[227]\ttrain-mlogloss:0.12437\teval-mlogloss:0.06192\n",
      "[228]\ttrain-mlogloss:0.12417\teval-mlogloss:0.06205\n",
      "[229]\ttrain-mlogloss:0.12421\teval-mlogloss:0.06224\n",
      "[230]\ttrain-mlogloss:0.12420\teval-mlogloss:0.06196\n",
      "[231]\ttrain-mlogloss:0.12421\teval-mlogloss:0.06196\n",
      "[232]\ttrain-mlogloss:0.12422\teval-mlogloss:0.06206\n",
      "[233]\ttrain-mlogloss:0.12414\teval-mlogloss:0.06196\n",
      "[234]\ttrain-mlogloss:0.12416\teval-mlogloss:0.06208\n",
      "[235]\ttrain-mlogloss:0.12417\teval-mlogloss:0.06208\n",
      "[236]\ttrain-mlogloss:0.12421\teval-mlogloss:0.06216\n",
      "[237]\ttrain-mlogloss:0.12419\teval-mlogloss:0.06212\n",
      "[238]\ttrain-mlogloss:0.12408\teval-mlogloss:0.06217\n",
      "[239]\ttrain-mlogloss:0.12402\teval-mlogloss:0.06207\n",
      "[240]\ttrain-mlogloss:0.12406\teval-mlogloss:0.06218\n",
      "[241]\ttrain-mlogloss:0.12405\teval-mlogloss:0.06239\n",
      "[242]\ttrain-mlogloss:0.12406\teval-mlogloss:0.06241\n",
      "[243]\ttrain-mlogloss:0.12403\teval-mlogloss:0.06233\n",
      "[244]\ttrain-mlogloss:0.12405\teval-mlogloss:0.06237\n",
      "[245]\ttrain-mlogloss:0.12400\teval-mlogloss:0.06218\n",
      "[246]\ttrain-mlogloss:0.12397\teval-mlogloss:0.06205\n",
      "[247]\ttrain-mlogloss:0.12398\teval-mlogloss:0.06209\n",
      "[248]\ttrain-mlogloss:0.12397\teval-mlogloss:0.06204\n",
      "[249]\ttrain-mlogloss:0.12392\teval-mlogloss:0.06198\n",
      "[250]\ttrain-mlogloss:0.12391\teval-mlogloss:0.06190\n",
      "[251]\ttrain-mlogloss:0.12391\teval-mlogloss:0.06189\n",
      "[252]\ttrain-mlogloss:0.12383\teval-mlogloss:0.06152\n",
      "[253]\ttrain-mlogloss:0.12383\teval-mlogloss:0.06152\n",
      "[254]\ttrain-mlogloss:0.12383\teval-mlogloss:0.06181\n",
      "[255]\ttrain-mlogloss:0.12380\teval-mlogloss:0.06182\n",
      "[256]\ttrain-mlogloss:0.12379\teval-mlogloss:0.06183\n",
      "[257]\ttrain-mlogloss:0.12376\teval-mlogloss:0.06180\n",
      "[258]\ttrain-mlogloss:0.12377\teval-mlogloss:0.06173\n",
      "[259]\ttrain-mlogloss:0.12377\teval-mlogloss:0.06175\n",
      "[260]\ttrain-mlogloss:0.12373\teval-mlogloss:0.06170\n",
      "[261]\ttrain-mlogloss:0.12373\teval-mlogloss:0.06160\n",
      "[262]\ttrain-mlogloss:0.12369\teval-mlogloss:0.06118\n",
      "[263]\ttrain-mlogloss:0.12367\teval-mlogloss:0.06096\n",
      "[264]\ttrain-mlogloss:0.12365\teval-mlogloss:0.06094\n",
      "[265]\ttrain-mlogloss:0.12368\teval-mlogloss:0.06104\n",
      "[266]\ttrain-mlogloss:0.12364\teval-mlogloss:0.06053\n",
      "[267]\ttrain-mlogloss:0.12363\teval-mlogloss:0.06058\n",
      "[268]\ttrain-mlogloss:0.12362\teval-mlogloss:0.06056\n",
      "[269]\ttrain-mlogloss:0.12354\teval-mlogloss:0.06054\n",
      "[270]\ttrain-mlogloss:0.12352\teval-mlogloss:0.06050\n",
      "[271]\ttrain-mlogloss:0.12342\teval-mlogloss:0.06055\n",
      "[272]\ttrain-mlogloss:0.12342\teval-mlogloss:0.06069\n",
      "[273]\ttrain-mlogloss:0.12336\teval-mlogloss:0.06052\n",
      "[274]\ttrain-mlogloss:0.12337\teval-mlogloss:0.06045\n",
      "[275]\ttrain-mlogloss:0.12339\teval-mlogloss:0.06060\n",
      "[276]\ttrain-mlogloss:0.12340\teval-mlogloss:0.06056\n",
      "[277]\ttrain-mlogloss:0.12337\teval-mlogloss:0.06047\n",
      "[278]\ttrain-mlogloss:0.12328\teval-mlogloss:0.06026\n",
      "[279]\ttrain-mlogloss:0.12328\teval-mlogloss:0.06023\n",
      "[280]\ttrain-mlogloss:0.12330\teval-mlogloss:0.06018\n",
      "[281]\ttrain-mlogloss:0.12320\teval-mlogloss:0.06022\n",
      "[282]\ttrain-mlogloss:0.12315\teval-mlogloss:0.05999\n",
      "[283]\ttrain-mlogloss:0.12314\teval-mlogloss:0.06003\n",
      "[284]\ttrain-mlogloss:0.12314\teval-mlogloss:0.06004\n",
      "[285]\ttrain-mlogloss:0.12314\teval-mlogloss:0.06002\n",
      "[286]\ttrain-mlogloss:0.12310\teval-mlogloss:0.06002\n",
      "[287]\ttrain-mlogloss:0.12310\teval-mlogloss:0.05991\n",
      "[288]\ttrain-mlogloss:0.12313\teval-mlogloss:0.05991\n",
      "[289]\ttrain-mlogloss:0.12303\teval-mlogloss:0.05996\n",
      "[290]\ttrain-mlogloss:0.12295\teval-mlogloss:0.05997\n",
      "[291]\ttrain-mlogloss:0.12295\teval-mlogloss:0.05998\n",
      "[292]\ttrain-mlogloss:0.12294\teval-mlogloss:0.06002\n",
      "[293]\ttrain-mlogloss:0.12257\teval-mlogloss:0.05953\n",
      "[294]\ttrain-mlogloss:0.12258\teval-mlogloss:0.05959\n",
      "[295]\ttrain-mlogloss:0.12253\teval-mlogloss:0.05952\n",
      "[296]\ttrain-mlogloss:0.12254\teval-mlogloss:0.05966\n",
      "[297]\ttrain-mlogloss:0.12252\teval-mlogloss:0.05970\n",
      "[298]\ttrain-mlogloss:0.12246\teval-mlogloss:0.05961\n",
      "[299]\ttrain-mlogloss:0.12246\teval-mlogloss:0.05959\n"
     ]
    },
    {
     "name": "stderr",
     "output_type": "stream",
     "text": [
      "[I 2025-08-24 18:35:08,587] Trial 1 finished with value: 1.0 and parameters: {'lambda': 1.4072232781275306e-08, 'alpha': 1.7907361818725914e-06, 'eta': 0.06990160787455993, 'gamma': 1.1000127725413894e-06, 'max_depth': 3, 'min_child_weight': 4, 'subsample': 0.5856487529691015, 'colsample_bytree': 0.790132099809022}. Best is trial 0 with value: 1.0.\n"
     ]
    },
    {
     "name": "stdout",
     "output_type": "stream",
     "text": [
      "[0]\ttrain-mlogloss:0.97399\teval-mlogloss:0.97525\n",
      "[1]\ttrain-mlogloss:0.88996\teval-mlogloss:0.87779\n",
      "[2]\ttrain-mlogloss:0.80473\teval-mlogloss:0.79190\n"
     ]
    },
    {
     "name": "stderr",
     "output_type": "stream",
     "text": [
      "[I 2025-08-24 18:35:08,599] Trial 2 pruned. Trial was pruned at iteration 2.\n"
     ]
    },
    {
     "name": "stdout",
     "output_type": "stream",
     "text": [
      "[0]\ttrain-mlogloss:0.96895\teval-mlogloss:0.96310\n",
      "[1]\ttrain-mlogloss:0.91516\teval-mlogloss:0.90990\n",
      "[2]\ttrain-mlogloss:0.82700\teval-mlogloss:0.81567\n"
     ]
    },
    {
     "name": "stderr",
     "output_type": "stream",
     "text": [
      "[I 2025-08-24 18:35:08,610] Trial 3 pruned. Trial was pruned at iteration 2.\n"
     ]
    },
    {
     "name": "stdout",
     "output_type": "stream",
     "text": [
      "[0]\ttrain-mlogloss:0.81041\teval-mlogloss:0.79687\n",
      "[1]\ttrain-mlogloss:0.71723\teval-mlogloss:0.69628\n"
     ]
    },
    {
     "name": "stderr",
     "output_type": "stream",
     "text": [
      "[I 2025-08-24 18:35:08,619] Trial 4 pruned. Trial was pruned at iteration 2.\n"
     ]
    },
    {
     "name": "stdout",
     "output_type": "stream",
     "text": [
      "[0]\ttrain-mlogloss:0.76686\teval-mlogloss:0.75138\n",
      "[1]\ttrain-mlogloss:0.65521\teval-mlogloss:0.62680\n",
      "[2]\ttrain-mlogloss:0.51149\teval-mlogloss:0.46880\n"
     ]
    },
    {
     "name": "stderr",
     "output_type": "stream",
     "text": [
      "[I 2025-08-24 18:35:08,633] Trial 5 pruned. Trial was pruned at iteration 2.\n"
     ]
    },
    {
     "name": "stdout",
     "output_type": "stream",
     "text": [
      "[0]\ttrain-mlogloss:1.07667\teval-mlogloss:1.07563\n",
      "[1]\ttrain-mlogloss:1.06621\teval-mlogloss:1.06498\n",
      "[2]\ttrain-mlogloss:1.04742\teval-mlogloss:1.04485\n",
      "[3]\ttrain-mlogloss:1.02620\teval-mlogloss:1.02269\n",
      "[4]\ttrain-mlogloss:1.00678\teval-mlogloss:1.00295\n",
      "[5]\ttrain-mlogloss:0.98731\teval-mlogloss:0.98249\n",
      "[6]\ttrain-mlogloss:0.96869\teval-mlogloss:0.96272\n",
      "[7]\ttrain-mlogloss:0.95039\teval-mlogloss:0.94345\n",
      "[8]\ttrain-mlogloss:0.93278\teval-mlogloss:0.92430\n",
      "[9]\ttrain-mlogloss:0.91547\teval-mlogloss:0.90616\n",
      "[10]\ttrain-mlogloss:0.90095\teval-mlogloss:0.89117\n",
      "[11]\ttrain-mlogloss:0.88456\teval-mlogloss:0.87446\n",
      "[12]\ttrain-mlogloss:0.87100\teval-mlogloss:0.86068\n",
      "[13]\ttrain-mlogloss:0.85513\teval-mlogloss:0.84387\n",
      "[14]\ttrain-mlogloss:0.84000\teval-mlogloss:0.82742\n",
      "[15]\ttrain-mlogloss:0.82787\teval-mlogloss:0.81451\n",
      "[16]\ttrain-mlogloss:0.81521\teval-mlogloss:0.80083\n",
      "[17]\ttrain-mlogloss:0.80104\teval-mlogloss:0.78584\n",
      "[18]\ttrain-mlogloss:0.78944\teval-mlogloss:0.77352\n",
      "[19]\ttrain-mlogloss:0.77759\teval-mlogloss:0.76109\n",
      "[20]\ttrain-mlogloss:0.76678\teval-mlogloss:0.74979\n",
      "[21]\ttrain-mlogloss:0.75591\teval-mlogloss:0.73800\n",
      "[22]\ttrain-mlogloss:0.74292\teval-mlogloss:0.72373\n",
      "[23]\ttrain-mlogloss:0.73033\teval-mlogloss:0.71052\n",
      "[24]\ttrain-mlogloss:0.71805\teval-mlogloss:0.69719\n",
      "[25]\ttrain-mlogloss:0.70608\teval-mlogloss:0.68412\n",
      "[26]\ttrain-mlogloss:0.69569\teval-mlogloss:0.67274\n",
      "[27]\ttrain-mlogloss:0.68506\teval-mlogloss:0.66188\n",
      "[28]\ttrain-mlogloss:0.67404\teval-mlogloss:0.65045\n",
      "[29]\ttrain-mlogloss:0.66495\teval-mlogloss:0.64074\n",
      "[30]\ttrain-mlogloss:0.65858\teval-mlogloss:0.63467\n",
      "[31]\ttrain-mlogloss:0.65016\teval-mlogloss:0.62593\n",
      "[32]\ttrain-mlogloss:0.64232\teval-mlogloss:0.61801\n",
      "[33]\ttrain-mlogloss:0.63181\teval-mlogloss:0.60649\n",
      "[34]\ttrain-mlogloss:0.62416\teval-mlogloss:0.59860\n",
      "[35]\ttrain-mlogloss:0.61443\teval-mlogloss:0.58791\n",
      "[36]\ttrain-mlogloss:0.60594\teval-mlogloss:0.57915\n",
      "[37]\ttrain-mlogloss:0.59632\teval-mlogloss:0.56890\n",
      "[38]\ttrain-mlogloss:0.58830\teval-mlogloss:0.55964\n",
      "[39]\ttrain-mlogloss:0.57966\teval-mlogloss:0.55041\n",
      "[40]\ttrain-mlogloss:0.57254\teval-mlogloss:0.54291\n",
      "[41]\ttrain-mlogloss:0.56390\teval-mlogloss:0.53363\n",
      "[42]\ttrain-mlogloss:0.55637\teval-mlogloss:0.52503\n",
      "[43]\ttrain-mlogloss:0.54833\teval-mlogloss:0.51641\n",
      "[44]\ttrain-mlogloss:0.54207\teval-mlogloss:0.50952\n",
      "[45]\ttrain-mlogloss:0.53400\teval-mlogloss:0.50099\n",
      "[46]\ttrain-mlogloss:0.52652\teval-mlogloss:0.49293\n",
      "[47]\ttrain-mlogloss:0.52051\teval-mlogloss:0.48620\n",
      "[48]\ttrain-mlogloss:0.51315\teval-mlogloss:0.47844\n",
      "[49]\ttrain-mlogloss:0.50572\teval-mlogloss:0.47016\n",
      "[50]\ttrain-mlogloss:0.49846\teval-mlogloss:0.46224\n",
      "[51]\ttrain-mlogloss:0.49207\teval-mlogloss:0.45526\n",
      "[52]\ttrain-mlogloss:0.48775\teval-mlogloss:0.45056\n",
      "[53]\ttrain-mlogloss:0.48125\teval-mlogloss:0.44335\n",
      "[54]\ttrain-mlogloss:0.47708\teval-mlogloss:0.43841\n",
      "[55]\ttrain-mlogloss:0.47192\teval-mlogloss:0.43307\n",
      "[56]\ttrain-mlogloss:0.46731\teval-mlogloss:0.42760\n",
      "[57]\ttrain-mlogloss:0.46247\teval-mlogloss:0.42238\n",
      "[58]\ttrain-mlogloss:0.45785\teval-mlogloss:0.41748\n",
      "[59]\ttrain-mlogloss:0.45224\teval-mlogloss:0.41106\n",
      "[60]\ttrain-mlogloss:0.44723\teval-mlogloss:0.40556\n",
      "[61]\ttrain-mlogloss:0.44374\teval-mlogloss:0.40179\n",
      "[62]\ttrain-mlogloss:0.43860\teval-mlogloss:0.39613\n",
      "[63]\ttrain-mlogloss:0.43317\teval-mlogloss:0.39003\n",
      "[64]\ttrain-mlogloss:0.42836\teval-mlogloss:0.38527\n",
      "[65]\ttrain-mlogloss:0.42305\teval-mlogloss:0.37950\n",
      "[66]\ttrain-mlogloss:0.41881\teval-mlogloss:0.37488\n",
      "[67]\ttrain-mlogloss:0.41470\teval-mlogloss:0.37053\n",
      "[68]\ttrain-mlogloss:0.41078\teval-mlogloss:0.36639\n",
      "[69]\ttrain-mlogloss:0.40755\teval-mlogloss:0.36281\n",
      "[70]\ttrain-mlogloss:0.40465\teval-mlogloss:0.35953\n",
      "[71]\ttrain-mlogloss:0.40088\teval-mlogloss:0.35539\n",
      "[72]\ttrain-mlogloss:0.39793\teval-mlogloss:0.35205\n",
      "[73]\ttrain-mlogloss:0.39338\teval-mlogloss:0.34697\n",
      "[74]\ttrain-mlogloss:0.38896\teval-mlogloss:0.34207\n",
      "[75]\ttrain-mlogloss:0.38515\teval-mlogloss:0.33781\n",
      "[76]\ttrain-mlogloss:0.38245\teval-mlogloss:0.33490\n",
      "[77]\ttrain-mlogloss:0.37825\teval-mlogloss:0.33048\n",
      "[78]\ttrain-mlogloss:0.37579\teval-mlogloss:0.32759\n",
      "[79]\ttrain-mlogloss:0.37163\teval-mlogloss:0.32276\n",
      "[80]\ttrain-mlogloss:0.36908\teval-mlogloss:0.31990\n",
      "[81]\ttrain-mlogloss:0.36571\teval-mlogloss:0.31630\n",
      "[82]\ttrain-mlogloss:0.36250\teval-mlogloss:0.31277\n",
      "[83]\ttrain-mlogloss:0.35921\teval-mlogloss:0.30908\n",
      "[84]\ttrain-mlogloss:0.35552\teval-mlogloss:0.30500\n",
      "[85]\ttrain-mlogloss:0.35389\teval-mlogloss:0.30328\n",
      "[86]\ttrain-mlogloss:0.35071\teval-mlogloss:0.29971\n",
      "[87]\ttrain-mlogloss:0.34779\teval-mlogloss:0.29647\n",
      "[88]\ttrain-mlogloss:0.34530\teval-mlogloss:0.29351\n",
      "[89]\ttrain-mlogloss:0.34207\teval-mlogloss:0.28993\n",
      "[90]\ttrain-mlogloss:0.33914\teval-mlogloss:0.28689\n",
      "[91]\ttrain-mlogloss:0.33706\teval-mlogloss:0.28445\n",
      "[92]\ttrain-mlogloss:0.33493\teval-mlogloss:0.28224\n",
      "[93]\ttrain-mlogloss:0.33219\teval-mlogloss:0.27929\n",
      "[94]\ttrain-mlogloss:0.32949\teval-mlogloss:0.27641\n",
      "[95]\ttrain-mlogloss:0.32736\teval-mlogloss:0.27399\n",
      "[96]\ttrain-mlogloss:0.32467\teval-mlogloss:0.27100\n",
      "[97]\ttrain-mlogloss:0.32215\teval-mlogloss:0.26844\n",
      "[98]\ttrain-mlogloss:0.31972\teval-mlogloss:0.26571\n",
      "[99]\ttrain-mlogloss:0.31714\teval-mlogloss:0.26298\n",
      "[100]\ttrain-mlogloss:0.31566\teval-mlogloss:0.26122\n",
      "[101]\ttrain-mlogloss:0.31305\teval-mlogloss:0.25843\n",
      "[102]\ttrain-mlogloss:0.31086\teval-mlogloss:0.25609\n",
      "[103]\ttrain-mlogloss:0.30870\teval-mlogloss:0.25359\n",
      "[104]\ttrain-mlogloss:0.30744\teval-mlogloss:0.25209\n",
      "[105]\ttrain-mlogloss:0.30579\teval-mlogloss:0.25048\n",
      "[106]\ttrain-mlogloss:0.30461\teval-mlogloss:0.24892\n",
      "[107]\ttrain-mlogloss:0.30249\teval-mlogloss:0.24672\n",
      "[108]\ttrain-mlogloss:0.30058\teval-mlogloss:0.24469\n",
      "[109]\ttrain-mlogloss:0.29866\teval-mlogloss:0.24242\n",
      "[110]\ttrain-mlogloss:0.29665\teval-mlogloss:0.24031\n",
      "[111]\ttrain-mlogloss:0.29484\teval-mlogloss:0.23838\n",
      "[112]\ttrain-mlogloss:0.29391\teval-mlogloss:0.23706\n",
      "[113]\ttrain-mlogloss:0.29242\teval-mlogloss:0.23550\n",
      "[114]\ttrain-mlogloss:0.29030\teval-mlogloss:0.23334\n",
      "[115]\ttrain-mlogloss:0.28923\teval-mlogloss:0.23198\n",
      "[116]\ttrain-mlogloss:0.28896\teval-mlogloss:0.23166\n",
      "[117]\ttrain-mlogloss:0.28784\teval-mlogloss:0.23030\n",
      "[118]\ttrain-mlogloss:0.28713\teval-mlogloss:0.22943\n",
      "[119]\ttrain-mlogloss:0.28505\teval-mlogloss:0.22731\n",
      "[120]\ttrain-mlogloss:0.28470\teval-mlogloss:0.22695\n",
      "[121]\ttrain-mlogloss:0.28401\teval-mlogloss:0.22619\n",
      "[122]\ttrain-mlogloss:0.28323\teval-mlogloss:0.22519\n",
      "[123]\ttrain-mlogloss:0.28302\teval-mlogloss:0.22493\n",
      "[124]\ttrain-mlogloss:0.28210\teval-mlogloss:0.22387\n",
      "[125]\ttrain-mlogloss:0.28188\teval-mlogloss:0.22366\n",
      "[126]\ttrain-mlogloss:0.28113\teval-mlogloss:0.22270\n",
      "[127]\ttrain-mlogloss:0.28083\teval-mlogloss:0.22234\n",
      "[128]\ttrain-mlogloss:0.28000\teval-mlogloss:0.22139\n",
      "[129]\ttrain-mlogloss:0.27931\teval-mlogloss:0.22062\n",
      "[130]\ttrain-mlogloss:0.27861\teval-mlogloss:0.21996\n",
      "[131]\ttrain-mlogloss:0.27775\teval-mlogloss:0.21887\n",
      "[132]\ttrain-mlogloss:0.27698\teval-mlogloss:0.21790\n",
      "[133]\ttrain-mlogloss:0.27609\teval-mlogloss:0.21675\n",
      "[134]\ttrain-mlogloss:0.27522\teval-mlogloss:0.21572\n",
      "[135]\ttrain-mlogloss:0.27445\teval-mlogloss:0.21474\n",
      "[136]\ttrain-mlogloss:0.27373\teval-mlogloss:0.21395\n",
      "[137]\ttrain-mlogloss:0.27297\teval-mlogloss:0.21303\n",
      "[138]\ttrain-mlogloss:0.27291\teval-mlogloss:0.21286\n",
      "[139]\ttrain-mlogloss:0.27217\teval-mlogloss:0.21191\n",
      "[140]\ttrain-mlogloss:0.27209\teval-mlogloss:0.21184\n",
      "[141]\ttrain-mlogloss:0.27200\teval-mlogloss:0.21159\n",
      "[142]\ttrain-mlogloss:0.27177\teval-mlogloss:0.21116\n",
      "[143]\ttrain-mlogloss:0.27109\teval-mlogloss:0.21037\n",
      "[144]\ttrain-mlogloss:0.27101\teval-mlogloss:0.21016\n",
      "[145]\ttrain-mlogloss:0.27090\teval-mlogloss:0.21000\n",
      "[146]\ttrain-mlogloss:0.27087\teval-mlogloss:0.20996\n",
      "[147]\ttrain-mlogloss:0.27022\teval-mlogloss:0.20927\n",
      "[148]\ttrain-mlogloss:0.27016\teval-mlogloss:0.20908\n",
      "[149]\ttrain-mlogloss:0.26954\teval-mlogloss:0.20837\n",
      "[150]\ttrain-mlogloss:0.26949\teval-mlogloss:0.20831\n",
      "[151]\ttrain-mlogloss:0.26949\teval-mlogloss:0.20830\n",
      "[152]\ttrain-mlogloss:0.26941\teval-mlogloss:0.20826\n",
      "[153]\ttrain-mlogloss:0.26937\teval-mlogloss:0.20820\n",
      "[154]\ttrain-mlogloss:0.26867\teval-mlogloss:0.20728\n",
      "[155]\ttrain-mlogloss:0.26864\teval-mlogloss:0.20734\n",
      "[156]\ttrain-mlogloss:0.26860\teval-mlogloss:0.20723\n",
      "[157]\ttrain-mlogloss:0.26852\teval-mlogloss:0.20716\n",
      "[158]\ttrain-mlogloss:0.26846\teval-mlogloss:0.20709\n",
      "[159]\ttrain-mlogloss:0.26835\teval-mlogloss:0.20700\n",
      "[160]\ttrain-mlogloss:0.26827\teval-mlogloss:0.20691\n",
      "[161]\ttrain-mlogloss:0.26820\teval-mlogloss:0.20668\n",
      "[162]\ttrain-mlogloss:0.26760\teval-mlogloss:0.20592\n",
      "[163]\ttrain-mlogloss:0.26691\teval-mlogloss:0.20503\n",
      "[164]\ttrain-mlogloss:0.26685\teval-mlogloss:0.20498\n",
      "[165]\ttrain-mlogloss:0.26682\teval-mlogloss:0.20496\n",
      "[166]\ttrain-mlogloss:0.26663\teval-mlogloss:0.20470\n",
      "[167]\ttrain-mlogloss:0.26658\teval-mlogloss:0.20469\n",
      "[168]\ttrain-mlogloss:0.26639\teval-mlogloss:0.20438\n",
      "[169]\ttrain-mlogloss:0.26613\teval-mlogloss:0.20405\n",
      "[170]\ttrain-mlogloss:0.26610\teval-mlogloss:0.20411\n",
      "[171]\ttrain-mlogloss:0.26586\teval-mlogloss:0.20368\n",
      "[172]\ttrain-mlogloss:0.26582\teval-mlogloss:0.20352\n",
      "[173]\ttrain-mlogloss:0.26575\teval-mlogloss:0.20348\n",
      "[174]\ttrain-mlogloss:0.26548\teval-mlogloss:0.20300\n",
      "[175]\ttrain-mlogloss:0.26542\teval-mlogloss:0.20296\n",
      "[176]\ttrain-mlogloss:0.26522\teval-mlogloss:0.20252\n",
      "[177]\ttrain-mlogloss:0.26516\teval-mlogloss:0.20235\n",
      "[178]\ttrain-mlogloss:0.26514\teval-mlogloss:0.20238\n",
      "[179]\ttrain-mlogloss:0.26493\teval-mlogloss:0.20200\n",
      "[180]\ttrain-mlogloss:0.26485\teval-mlogloss:0.20173\n",
      "[181]\ttrain-mlogloss:0.26480\teval-mlogloss:0.20169\n",
      "[182]\ttrain-mlogloss:0.26476\teval-mlogloss:0.20154\n",
      "[183]\ttrain-mlogloss:0.26456\teval-mlogloss:0.20117\n",
      "[184]\ttrain-mlogloss:0.26452\teval-mlogloss:0.20115\n",
      "[185]\ttrain-mlogloss:0.26448\teval-mlogloss:0.20102\n",
      "[186]\ttrain-mlogloss:0.26429\teval-mlogloss:0.20061\n",
      "[187]\ttrain-mlogloss:0.26421\teval-mlogloss:0.20057\n",
      "[188]\ttrain-mlogloss:0.26415\teval-mlogloss:0.20035\n",
      "[189]\ttrain-mlogloss:0.26409\teval-mlogloss:0.20033\n",
      "[190]\ttrain-mlogloss:0.26403\teval-mlogloss:0.20029\n",
      "[191]\ttrain-mlogloss:0.26398\teval-mlogloss:0.20011\n",
      "[192]\ttrain-mlogloss:0.26394\teval-mlogloss:0.20017\n",
      "[193]\ttrain-mlogloss:0.26389\teval-mlogloss:0.19999\n",
      "[194]\ttrain-mlogloss:0.26384\teval-mlogloss:0.19995\n",
      "[195]\ttrain-mlogloss:0.26378\teval-mlogloss:0.19991\n",
      "[196]\ttrain-mlogloss:0.26375\teval-mlogloss:0.19989\n",
      "[197]\ttrain-mlogloss:0.26371\teval-mlogloss:0.19995\n",
      "[198]\ttrain-mlogloss:0.26368\teval-mlogloss:0.19999\n",
      "[199]\ttrain-mlogloss:0.26303\teval-mlogloss:0.19911\n",
      "[200]\ttrain-mlogloss:0.26299\teval-mlogloss:0.19896\n",
      "[201]\ttrain-mlogloss:0.26291\teval-mlogloss:0.19867\n",
      "[202]\ttrain-mlogloss:0.26289\teval-mlogloss:0.19860\n",
      "[203]\ttrain-mlogloss:0.26281\teval-mlogloss:0.19834\n",
      "[204]\ttrain-mlogloss:0.26274\teval-mlogloss:0.19830\n",
      "[205]\ttrain-mlogloss:0.26268\teval-mlogloss:0.19824\n",
      "[206]\ttrain-mlogloss:0.26264\teval-mlogloss:0.19823\n",
      "[207]\ttrain-mlogloss:0.26257\teval-mlogloss:0.19815\n",
      "[208]\ttrain-mlogloss:0.26253\teval-mlogloss:0.19816\n",
      "[209]\ttrain-mlogloss:0.26248\teval-mlogloss:0.19810\n",
      "[210]\ttrain-mlogloss:0.26242\teval-mlogloss:0.19786\n",
      "[211]\ttrain-mlogloss:0.26235\teval-mlogloss:0.19784\n",
      "[212]\ttrain-mlogloss:0.26231\teval-mlogloss:0.19771\n",
      "[213]\ttrain-mlogloss:0.26229\teval-mlogloss:0.19775\n",
      "[214]\ttrain-mlogloss:0.26167\teval-mlogloss:0.19697\n",
      "[215]\ttrain-mlogloss:0.26109\teval-mlogloss:0.19610\n",
      "[216]\ttrain-mlogloss:0.26044\teval-mlogloss:0.19539\n",
      "[217]\ttrain-mlogloss:0.26039\teval-mlogloss:0.19516\n",
      "[218]\ttrain-mlogloss:0.25974\teval-mlogloss:0.19431\n",
      "[219]\ttrain-mlogloss:0.25971\teval-mlogloss:0.19427\n",
      "[220]\ttrain-mlogloss:0.25967\teval-mlogloss:0.19422\n",
      "[221]\ttrain-mlogloss:0.25959\teval-mlogloss:0.19420\n",
      "[222]\ttrain-mlogloss:0.25956\teval-mlogloss:0.19417\n",
      "[223]\ttrain-mlogloss:0.25952\teval-mlogloss:0.19404\n",
      "[224]\ttrain-mlogloss:0.25886\teval-mlogloss:0.19304\n",
      "[225]\ttrain-mlogloss:0.25831\teval-mlogloss:0.19239\n",
      "[226]\ttrain-mlogloss:0.25768\teval-mlogloss:0.19156\n",
      "[227]\ttrain-mlogloss:0.25760\teval-mlogloss:0.19151\n",
      "[228]\ttrain-mlogloss:0.25758\teval-mlogloss:0.19149\n",
      "[229]\ttrain-mlogloss:0.25752\teval-mlogloss:0.19146\n",
      "[230]\ttrain-mlogloss:0.25747\teval-mlogloss:0.19144\n",
      "[231]\ttrain-mlogloss:0.25739\teval-mlogloss:0.19141\n",
      "[232]\ttrain-mlogloss:0.25737\teval-mlogloss:0.19140\n",
      "[233]\ttrain-mlogloss:0.25728\teval-mlogloss:0.19132\n",
      "[234]\ttrain-mlogloss:0.25682\teval-mlogloss:0.19074\n",
      "[235]\ttrain-mlogloss:0.25680\teval-mlogloss:0.19070\n",
      "[236]\ttrain-mlogloss:0.25679\teval-mlogloss:0.19069\n",
      "[237]\ttrain-mlogloss:0.25674\teval-mlogloss:0.19051\n",
      "[238]\ttrain-mlogloss:0.25667\teval-mlogloss:0.19049\n",
      "[239]\ttrain-mlogloss:0.25664\teval-mlogloss:0.19038\n",
      "[240]\ttrain-mlogloss:0.25664\teval-mlogloss:0.19040\n",
      "[241]\ttrain-mlogloss:0.25660\teval-mlogloss:0.19035\n",
      "[242]\ttrain-mlogloss:0.25658\teval-mlogloss:0.19040\n",
      "[243]\ttrain-mlogloss:0.25655\teval-mlogloss:0.19045\n",
      "[244]\ttrain-mlogloss:0.25652\teval-mlogloss:0.19033\n",
      "[245]\ttrain-mlogloss:0.25648\teval-mlogloss:0.19020\n",
      "[246]\ttrain-mlogloss:0.25645\teval-mlogloss:0.19015\n",
      "[247]\ttrain-mlogloss:0.25642\teval-mlogloss:0.19009\n",
      "[248]\ttrain-mlogloss:0.25640\teval-mlogloss:0.19012\n",
      "[249]\ttrain-mlogloss:0.25634\teval-mlogloss:0.19006\n",
      "[250]\ttrain-mlogloss:0.25631\teval-mlogloss:0.19000\n",
      "[251]\ttrain-mlogloss:0.25628\teval-mlogloss:0.18998\n",
      "[252]\ttrain-mlogloss:0.25623\teval-mlogloss:0.18994\n",
      "[253]\ttrain-mlogloss:0.25620\teval-mlogloss:0.18992\n",
      "[254]\ttrain-mlogloss:0.25564\teval-mlogloss:0.18912\n",
      "[255]\ttrain-mlogloss:0.25559\teval-mlogloss:0.18905\n",
      "[256]\ttrain-mlogloss:0.25550\teval-mlogloss:0.18897\n",
      "[257]\ttrain-mlogloss:0.25550\teval-mlogloss:0.18895\n",
      "[258]\ttrain-mlogloss:0.25533\teval-mlogloss:0.18877\n",
      "[259]\ttrain-mlogloss:0.25533\teval-mlogloss:0.18878\n",
      "[260]\ttrain-mlogloss:0.25525\teval-mlogloss:0.18871\n",
      "[261]\ttrain-mlogloss:0.25525\teval-mlogloss:0.18871\n",
      "[262]\ttrain-mlogloss:0.25519\teval-mlogloss:0.18866\n",
      "[263]\ttrain-mlogloss:0.25516\teval-mlogloss:0.18863\n",
      "[264]\ttrain-mlogloss:0.25512\teval-mlogloss:0.18846\n",
      "[265]\ttrain-mlogloss:0.25509\teval-mlogloss:0.18834\n",
      "[266]\ttrain-mlogloss:0.25504\teval-mlogloss:0.18819\n",
      "[267]\ttrain-mlogloss:0.25487\teval-mlogloss:0.18794\n",
      "[268]\ttrain-mlogloss:0.25483\teval-mlogloss:0.18792\n",
      "[269]\ttrain-mlogloss:0.25476\teval-mlogloss:0.18787\n",
      "[270]\ttrain-mlogloss:0.25474\teval-mlogloss:0.18775\n",
      "[271]\ttrain-mlogloss:0.25434\teval-mlogloss:0.18726\n",
      "[272]\ttrain-mlogloss:0.25431\teval-mlogloss:0.18718\n",
      "[273]\ttrain-mlogloss:0.25425\teval-mlogloss:0.18714\n",
      "[274]\ttrain-mlogloss:0.25423\teval-mlogloss:0.18717\n",
      "[275]\ttrain-mlogloss:0.25422\teval-mlogloss:0.18712\n",
      "[276]\ttrain-mlogloss:0.25418\teval-mlogloss:0.18710\n",
      "[277]\ttrain-mlogloss:0.25414\teval-mlogloss:0.18707\n",
      "[278]\ttrain-mlogloss:0.25409\teval-mlogloss:0.18704\n",
      "[279]\ttrain-mlogloss:0.25405\teval-mlogloss:0.18702\n",
      "[280]\ttrain-mlogloss:0.25404\teval-mlogloss:0.18701\n",
      "[281]\ttrain-mlogloss:0.25398\teval-mlogloss:0.18698\n",
      "[282]\ttrain-mlogloss:0.25394\teval-mlogloss:0.18695\n",
      "[283]\ttrain-mlogloss:0.25389\teval-mlogloss:0.18680\n",
      "[284]\ttrain-mlogloss:0.25388\teval-mlogloss:0.18676\n",
      "[285]\ttrain-mlogloss:0.25388\teval-mlogloss:0.18676\n",
      "[286]\ttrain-mlogloss:0.25384\teval-mlogloss:0.18675\n",
      "[287]\ttrain-mlogloss:0.25384\teval-mlogloss:0.18674\n",
      "[288]\ttrain-mlogloss:0.25384\teval-mlogloss:0.18675\n",
      "[289]\ttrain-mlogloss:0.25332\teval-mlogloss:0.18614\n",
      "[290]\ttrain-mlogloss:0.25326\teval-mlogloss:0.18611\n",
      "[291]\ttrain-mlogloss:0.25327\teval-mlogloss:0.18612\n",
      "[292]\ttrain-mlogloss:0.25323\teval-mlogloss:0.18598\n",
      "[293]\ttrain-mlogloss:0.25320\teval-mlogloss:0.18598\n",
      "[294]\ttrain-mlogloss:0.25314\teval-mlogloss:0.18595\n",
      "[295]\ttrain-mlogloss:0.25309\teval-mlogloss:0.18589\n",
      "[296]\ttrain-mlogloss:0.25299\teval-mlogloss:0.18581\n",
      "[297]\ttrain-mlogloss:0.25298\teval-mlogloss:0.18585\n",
      "[298]\ttrain-mlogloss:0.25297\teval-mlogloss:0.18590\n",
      "[299]\ttrain-mlogloss:0.25293\teval-mlogloss:0.18584\n"
     ]
    },
    {
     "name": "stderr",
     "output_type": "stream",
     "text": [
      "[I 2025-08-24 18:35:09,398] Trial 6 finished with value: 1.0 and parameters: {'lambda': 0.0038835340463177982, 'alpha': 2.8451193829873466e-08, 'eta': 0.017019302275927687, 'gamma': 0.0006497198503299112, 'max_depth': 5, 'min_child_weight': 10, 'subsample': 0.7855615050227767, 'colsample_bytree': 0.5397682096808014}. Best is trial 0 with value: 1.0.\n"
     ]
    },
    {
     "name": "stdout",
     "output_type": "stream",
     "text": [
      "[0]\ttrain-mlogloss:0.94173\teval-mlogloss:0.93602\n",
      "[1]\ttrain-mlogloss:0.87885\teval-mlogloss:0.86394\n",
      "[2]\ttrain-mlogloss:0.77343\teval-mlogloss:0.75059\n"
     ]
    },
    {
     "name": "stderr",
     "output_type": "stream",
     "text": [
      "[I 2025-08-24 18:35:09,407] Trial 7 pruned. Trial was pruned at iteration 2.\n"
     ]
    },
    {
     "name": "stdout",
     "output_type": "stream",
     "text": [
      "[0]\ttrain-mlogloss:0.97724\teval-mlogloss:0.97324\n",
      "[1]\ttrain-mlogloss:0.92585\teval-mlogloss:0.91406\n"
     ]
    },
    {
     "name": "stderr",
     "output_type": "stream",
     "text": [
      "[I 2025-08-24 18:35:09,415] Trial 8 pruned. Trial was pruned at iteration 2.\n"
     ]
    },
    {
     "name": "stdout",
     "output_type": "stream",
     "text": [
      "[0]\ttrain-mlogloss:0.88651\teval-mlogloss:0.87591\n",
      "[1]\ttrain-mlogloss:0.78839\teval-mlogloss:0.79120\n",
      "[2]\ttrain-mlogloss:0.66645\teval-mlogloss:0.66104\n"
     ]
    },
    {
     "name": "stderr",
     "output_type": "stream",
     "text": [
      "[I 2025-08-24 18:35:09,442] Trial 9 pruned. Trial was pruned at iteration 2.\n"
     ]
    },
    {
     "name": "stdout",
     "output_type": "stream",
     "text": [
      "[0]\ttrain-mlogloss:1.07454\teval-mlogloss:1.07401\n",
      "[1]\ttrain-mlogloss:1.06215\teval-mlogloss:1.06159\n",
      "[2]\ttrain-mlogloss:1.04627\teval-mlogloss:1.04810\n",
      "[3]\ttrain-mlogloss:1.02126\teval-mlogloss:1.02141\n",
      "[4]\ttrain-mlogloss:1.01002\teval-mlogloss:1.01120\n",
      "[5]\ttrain-mlogloss:0.99294\teval-mlogloss:0.99582\n",
      "[6]\ttrain-mlogloss:0.96928\teval-mlogloss:0.97010\n",
      "[7]\ttrain-mlogloss:0.94395\teval-mlogloss:0.94304\n",
      "[8]\ttrain-mlogloss:0.93155\teval-mlogloss:0.93217\n",
      "[9]\ttrain-mlogloss:0.90717\teval-mlogloss:0.90640\n",
      "[10]\ttrain-mlogloss:0.88851\teval-mlogloss:0.88694\n",
      "[11]\ttrain-mlogloss:0.87977\teval-mlogloss:0.87995\n",
      "[12]\ttrain-mlogloss:0.86028\teval-mlogloss:0.85930\n",
      "[13]\ttrain-mlogloss:0.84442\teval-mlogloss:0.84328\n",
      "[14]\ttrain-mlogloss:0.82381\teval-mlogloss:0.82080\n",
      "[15]\ttrain-mlogloss:0.81123\teval-mlogloss:0.80875\n",
      "[16]\ttrain-mlogloss:0.80091\teval-mlogloss:0.79789\n",
      "[17]\ttrain-mlogloss:0.78541\teval-mlogloss:0.78239\n",
      "[18]\ttrain-mlogloss:0.76968\teval-mlogloss:0.76639\n",
      "[19]\ttrain-mlogloss:0.76412\teval-mlogloss:0.76170\n",
      "[20]\ttrain-mlogloss:0.75873\teval-mlogloss:0.75753\n",
      "[21]\ttrain-mlogloss:0.74560\teval-mlogloss:0.74442\n",
      "[22]\ttrain-mlogloss:0.72775\teval-mlogloss:0.72463\n",
      "[23]\ttrain-mlogloss:0.71029\teval-mlogloss:0.70577\n",
      "[24]\ttrain-mlogloss:0.69622\teval-mlogloss:0.69134\n",
      "[25]\ttrain-mlogloss:0.67980\teval-mlogloss:0.67364\n",
      "[26]\ttrain-mlogloss:0.67553\teval-mlogloss:0.67030\n",
      "[27]\ttrain-mlogloss:0.66184\teval-mlogloss:0.65549\n",
      "[28]\ttrain-mlogloss:0.65349\teval-mlogloss:0.64788\n",
      "[29]\ttrain-mlogloss:0.64450\teval-mlogloss:0.63833\n",
      "[30]\ttrain-mlogloss:0.63755\teval-mlogloss:0.63259\n",
      "[31]\ttrain-mlogloss:0.62650\teval-mlogloss:0.62046\n",
      "[32]\ttrain-mlogloss:0.61264\teval-mlogloss:0.60541\n"
     ]
    },
    {
     "name": "stderr",
     "output_type": "stream",
     "text": [
      "[I 2025-08-24 18:35:09,563] Trial 10 pruned. Trial was pruned at iteration 32.\n"
     ]
    },
    {
     "name": "stdout",
     "output_type": "stream",
     "text": [
      "[0]\ttrain-mlogloss:1.02768\teval-mlogloss:1.02587\n",
      "[1]\ttrain-mlogloss:0.96364\teval-mlogloss:0.95810\n",
      "[2]\ttrain-mlogloss:0.90250\teval-mlogloss:0.89458\n"
     ]
    },
    {
     "name": "stderr",
     "output_type": "stream",
     "text": [
      "[I 2025-08-24 18:35:09,591] Trial 11 pruned. Trial was pruned at iteration 2.\n"
     ]
    },
    {
     "name": "stdout",
     "output_type": "stream",
     "text": [
      "[0]\ttrain-mlogloss:0.89475\teval-mlogloss:0.89767\n",
      "[1]\ttrain-mlogloss:0.73639\teval-mlogloss:0.72540\n"
     ]
    },
    {
     "name": "stderr",
     "output_type": "stream",
     "text": [
      "[I 2025-08-24 18:35:09,611] Trial 12 pruned. Trial was pruned at iteration 2.\n"
     ]
    },
    {
     "name": "stdout",
     "output_type": "stream",
     "text": [
      "[0]\ttrain-mlogloss:1.02259\teval-mlogloss:1.02051\n",
      "[1]\ttrain-mlogloss:0.95347\teval-mlogloss:0.94918\n",
      "[2]\ttrain-mlogloss:0.88990\teval-mlogloss:0.88273\n"
     ]
    },
    {
     "name": "stderr",
     "output_type": "stream",
     "text": [
      "[I 2025-08-24 18:35:09,643] Trial 13 pruned. Trial was pruned at iteration 2.\n"
     ]
    },
    {
     "name": "stdout",
     "output_type": "stream",
     "text": [
      "[0]\ttrain-mlogloss:1.02380\teval-mlogloss:1.02140\n",
      "[1]\ttrain-mlogloss:0.95573\teval-mlogloss:0.94812\n",
      "[2]\ttrain-mlogloss:0.89352\teval-mlogloss:0.88334\n"
     ]
    },
    {
     "name": "stderr",
     "output_type": "stream",
     "text": [
      "[I 2025-08-24 18:35:09,673] Trial 14 pruned. Trial was pruned at iteration 2.\n"
     ]
    },
    {
     "name": "stdout",
     "output_type": "stream",
     "text": [
      "[0]\ttrain-mlogloss:0.86782\teval-mlogloss:0.86310\n",
      "[1]\ttrain-mlogloss:0.72119\teval-mlogloss:0.69630\n"
     ]
    },
    {
     "name": "stderr",
     "output_type": "stream",
     "text": [
      "[I 2025-08-24 18:35:09,699] Trial 15 pruned. Trial was pruned at iteration 2.\n"
     ]
    },
    {
     "name": "stdout",
     "output_type": "stream",
     "text": [
      "[0]\ttrain-mlogloss:0.93962\teval-mlogloss:0.94831\n",
      "[1]\ttrain-mlogloss:0.80666\teval-mlogloss:0.81431\n",
      "[2]\ttrain-mlogloss:0.69339\teval-mlogloss:0.69749\n"
     ]
    },
    {
     "name": "stderr",
     "output_type": "stream",
     "text": [
      "[I 2025-08-24 18:35:09,728] Trial 16 pruned. Trial was pruned at iteration 2.\n"
     ]
    },
    {
     "name": "stdout",
     "output_type": "stream",
     "text": [
      "[0]\ttrain-mlogloss:0.99480\teval-mlogloss:0.98971\n",
      "[1]\ttrain-mlogloss:0.94084\teval-mlogloss:0.93749\n",
      "[2]\ttrain-mlogloss:0.86597\teval-mlogloss:0.86073\n"
     ]
    },
    {
     "name": "stderr",
     "output_type": "stream",
     "text": [
      "[I 2025-08-24 18:35:09,761] Trial 17 pruned. Trial was pruned at iteration 2.\n"
     ]
    },
    {
     "name": "stdout",
     "output_type": "stream",
     "text": [
      "[0]\ttrain-mlogloss:1.06536\teval-mlogloss:1.06583\n",
      "[1]\ttrain-mlogloss:1.04751\teval-mlogloss:1.04913\n",
      "[2]\ttrain-mlogloss:1.02510\teval-mlogloss:1.03069\n",
      "[3]\ttrain-mlogloss:0.99028\teval-mlogloss:0.99292\n",
      "[4]\ttrain-mlogloss:0.97452\teval-mlogloss:0.98076\n",
      "[5]\ttrain-mlogloss:0.95168\teval-mlogloss:0.96016\n",
      "[6]\ttrain-mlogloss:0.92029\teval-mlogloss:0.92582\n",
      "[7]\ttrain-mlogloss:0.88790\teval-mlogloss:0.89033\n",
      "[8]\ttrain-mlogloss:0.87219\teval-mlogloss:0.87763\n"
     ]
    },
    {
     "name": "stderr",
     "output_type": "stream",
     "text": [
      "[I 2025-08-24 18:35:09,816] Trial 18 pruned. Trial was pruned at iteration 8.\n"
     ]
    },
    {
     "name": "stdout",
     "output_type": "stream",
     "text": [
      "[0]\ttrain-mlogloss:0.91951\teval-mlogloss:0.91074\n",
      "[1]\ttrain-mlogloss:0.83188\teval-mlogloss:0.83618\n"
     ]
    },
    {
     "name": "stderr",
     "output_type": "stream",
     "text": [
      "[I 2025-08-24 18:35:09,980] Trial 19 pruned. Trial was pruned at iteration 2.\n"
     ]
    },
    {
     "name": "stdout",
     "output_type": "stream",
     "text": [
      "[0]\ttrain-mlogloss:0.84418\teval-mlogloss:0.83395\n",
      "[1]\ttrain-mlogloss:0.76582\teval-mlogloss:0.74006\n",
      "[2]\ttrain-mlogloss:0.63280\teval-mlogloss:0.59401\n"
     ]
    },
    {
     "name": "stderr",
     "output_type": "stream",
     "text": [
      "[I 2025-08-24 18:35:10,021] Trial 20 pruned. Trial was pruned at iteration 2.\n"
     ]
    },
    {
     "name": "stdout",
     "output_type": "stream",
     "text": [
      "[0]\ttrain-mlogloss:1.08795\teval-mlogloss:1.08736\n",
      "[1]\ttrain-mlogloss:1.08238\teval-mlogloss:1.08137\n",
      "[2]\ttrain-mlogloss:1.07530\teval-mlogloss:1.07499\n",
      "[3]\ttrain-mlogloss:1.06320\teval-mlogloss:1.06208\n",
      "[4]\ttrain-mlogloss:1.05814\teval-mlogloss:1.05653\n",
      "[5]\ttrain-mlogloss:1.05010\teval-mlogloss:1.04832\n",
      "[6]\ttrain-mlogloss:1.03826\teval-mlogloss:1.03572\n",
      "[7]\ttrain-mlogloss:1.02529\teval-mlogloss:1.02195\n",
      "[8]\ttrain-mlogloss:1.01915\teval-mlogloss:1.01625\n",
      "[9]\ttrain-mlogloss:1.00636\teval-mlogloss:1.00287\n",
      "[10]\ttrain-mlogloss:0.99660\teval-mlogloss:0.99326\n",
      "[11]\ttrain-mlogloss:0.99171\teval-mlogloss:0.98900\n",
      "[12]\ttrain-mlogloss:0.98120\teval-mlogloss:0.97766\n",
      "[13]\ttrain-mlogloss:0.97253\teval-mlogloss:0.96878\n",
      "[14]\ttrain-mlogloss:0.96071\teval-mlogloss:0.95593\n",
      "[15]\ttrain-mlogloss:0.95368\teval-mlogloss:0.94886\n",
      "[16]\ttrain-mlogloss:0.94802\teval-mlogloss:0.94218\n",
      "[17]\ttrain-mlogloss:0.93894\teval-mlogloss:0.93294\n",
      "[18]\ttrain-mlogloss:0.92969\teval-mlogloss:0.92323\n",
      "[19]\ttrain-mlogloss:0.92682\teval-mlogloss:0.92037\n",
      "[20]\ttrain-mlogloss:0.92378\teval-mlogloss:0.91760\n",
      "[21]\ttrain-mlogloss:0.91582\teval-mlogloss:0.90964\n",
      "[22]\ttrain-mlogloss:0.90466\teval-mlogloss:0.89744\n",
      "[23]\ttrain-mlogloss:0.89412\teval-mlogloss:0.88625\n",
      "[24]\ttrain-mlogloss:0.88511\teval-mlogloss:0.87675\n",
      "[25]\ttrain-mlogloss:0.87462\teval-mlogloss:0.86570\n",
      "[26]\ttrain-mlogloss:0.87205\teval-mlogloss:0.86323\n",
      "[27]\ttrain-mlogloss:0.86299\teval-mlogloss:0.85358\n",
      "[28]\ttrain-mlogloss:0.85737\teval-mlogloss:0.84836\n",
      "[29]\ttrain-mlogloss:0.85124\teval-mlogloss:0.84187\n",
      "[30]\ttrain-mlogloss:0.84645\teval-mlogloss:0.83739\n",
      "[31]\ttrain-mlogloss:0.83877\teval-mlogloss:0.82937\n",
      "[32]\ttrain-mlogloss:0.82920\teval-mlogloss:0.81926\n",
      "[33]\ttrain-mlogloss:0.82555\teval-mlogloss:0.81516\n",
      "[34]\ttrain-mlogloss:0.81966\teval-mlogloss:0.80871\n",
      "[35]\ttrain-mlogloss:0.81309\teval-mlogloss:0.80200\n",
      "[36]\ttrain-mlogloss:0.80742\teval-mlogloss:0.79623\n",
      "[37]\ttrain-mlogloss:0.79807\teval-mlogloss:0.78626\n",
      "[38]\ttrain-mlogloss:0.79198\teval-mlogloss:0.77999\n",
      "[39]\ttrain-mlogloss:0.78547\teval-mlogloss:0.77309\n",
      "[40]\ttrain-mlogloss:0.78058\teval-mlogloss:0.76877\n",
      "[41]\ttrain-mlogloss:0.77408\teval-mlogloss:0.76147\n",
      "[42]\ttrain-mlogloss:0.76722\teval-mlogloss:0.75398\n",
      "[43]\ttrain-mlogloss:0.76043\teval-mlogloss:0.74694\n",
      "[44]\ttrain-mlogloss:0.75393\teval-mlogloss:0.74013\n",
      "[45]\ttrain-mlogloss:0.74563\teval-mlogloss:0.73137\n",
      "[46]\ttrain-mlogloss:0.74284\teval-mlogloss:0.72888\n",
      "[47]\ttrain-mlogloss:0.73720\teval-mlogloss:0.72271\n",
      "[48]\ttrain-mlogloss:0.73166\teval-mlogloss:0.71726\n",
      "[49]\ttrain-mlogloss:0.72610\teval-mlogloss:0.71141\n",
      "[50]\ttrain-mlogloss:0.71928\teval-mlogloss:0.70385\n",
      "[51]\ttrain-mlogloss:0.71306\teval-mlogloss:0.69727\n",
      "[52]\ttrain-mlogloss:0.70894\teval-mlogloss:0.69298\n",
      "[53]\ttrain-mlogloss:0.70143\teval-mlogloss:0.68488\n",
      "[54]\ttrain-mlogloss:0.69688\teval-mlogloss:0.68013\n",
      "[55]\ttrain-mlogloss:0.69514\teval-mlogloss:0.67903\n",
      "[56]\ttrain-mlogloss:0.69068\teval-mlogloss:0.67443\n",
      "[57]\ttrain-mlogloss:0.68570\teval-mlogloss:0.66934\n",
      "[58]\ttrain-mlogloss:0.68031\teval-mlogloss:0.66368\n",
      "[59]\ttrain-mlogloss:0.67303\teval-mlogloss:0.65565\n",
      "[60]\ttrain-mlogloss:0.66742\teval-mlogloss:0.64956\n",
      "[61]\ttrain-mlogloss:0.66428\teval-mlogloss:0.64640\n",
      "[62]\ttrain-mlogloss:0.65808\teval-mlogloss:0.63973\n",
      "[63]\ttrain-mlogloss:0.65500\teval-mlogloss:0.63667\n",
      "[64]\ttrain-mlogloss:0.65021\teval-mlogloss:0.63177\n",
      "[65]\ttrain-mlogloss:0.64658\teval-mlogloss:0.62798\n",
      "[66]\ttrain-mlogloss:0.63991\teval-mlogloss:0.62057\n",
      "[67]\ttrain-mlogloss:0.63649\teval-mlogloss:0.61679\n",
      "[68]\ttrain-mlogloss:0.63157\teval-mlogloss:0.61157\n",
      "[69]\ttrain-mlogloss:0.62861\teval-mlogloss:0.60861\n",
      "[70]\ttrain-mlogloss:0.62641\teval-mlogloss:0.60607\n",
      "[71]\ttrain-mlogloss:0.62030\teval-mlogloss:0.59896\n",
      "[72]\ttrain-mlogloss:0.61909\teval-mlogloss:0.59805\n",
      "[73]\ttrain-mlogloss:0.61542\teval-mlogloss:0.59439\n",
      "[74]\ttrain-mlogloss:0.60920\teval-mlogloss:0.58774\n",
      "[75]\ttrain-mlogloss:0.60563\teval-mlogloss:0.58415\n",
      "[76]\ttrain-mlogloss:0.60356\teval-mlogloss:0.58225\n",
      "[77]\ttrain-mlogloss:0.59900\teval-mlogloss:0.57740\n",
      "[78]\ttrain-mlogloss:0.59461\teval-mlogloss:0.57283\n",
      "[79]\ttrain-mlogloss:0.59029\teval-mlogloss:0.56797\n",
      "[80]\ttrain-mlogloss:0.58850\teval-mlogloss:0.56605\n",
      "[81]\ttrain-mlogloss:0.58591\teval-mlogloss:0.56357\n",
      "[82]\ttrain-mlogloss:0.58226\teval-mlogloss:0.55978\n",
      "[83]\ttrain-mlogloss:0.57960\teval-mlogloss:0.55707\n",
      "[84]\ttrain-mlogloss:0.57541\teval-mlogloss:0.55259\n",
      "[85]\ttrain-mlogloss:0.57202\teval-mlogloss:0.54916\n",
      "[86]\ttrain-mlogloss:0.56910\teval-mlogloss:0.54605\n",
      "[87]\ttrain-mlogloss:0.56488\teval-mlogloss:0.54142\n",
      "[88]\ttrain-mlogloss:0.56169\teval-mlogloss:0.53819\n",
      "[89]\ttrain-mlogloss:0.55776\teval-mlogloss:0.53424\n",
      "[90]\ttrain-mlogloss:0.55547\teval-mlogloss:0.53194\n",
      "[91]\ttrain-mlogloss:0.55288\teval-mlogloss:0.52929\n",
      "[92]\ttrain-mlogloss:0.55076\teval-mlogloss:0.52688\n",
      "[93]\ttrain-mlogloss:0.54807\teval-mlogloss:0.52414\n",
      "[94]\ttrain-mlogloss:0.54265\teval-mlogloss:0.51826\n",
      "[95]\ttrain-mlogloss:0.53911\teval-mlogloss:0.51403\n",
      "[96]\ttrain-mlogloss:0.53539\teval-mlogloss:0.51005\n",
      "[97]\ttrain-mlogloss:0.53251\teval-mlogloss:0.50728\n",
      "[98]\ttrain-mlogloss:0.52873\teval-mlogloss:0.50306\n",
      "[99]\ttrain-mlogloss:0.52772\teval-mlogloss:0.50225\n",
      "[100]\ttrain-mlogloss:0.52572\teval-mlogloss:0.50037\n",
      "[101]\ttrain-mlogloss:0.52357\teval-mlogloss:0.49815\n",
      "[102]\ttrain-mlogloss:0.52015\teval-mlogloss:0.49464\n",
      "[103]\ttrain-mlogloss:0.51652\teval-mlogloss:0.49075\n",
      "[104]\ttrain-mlogloss:0.51291\teval-mlogloss:0.48705\n",
      "[105]\ttrain-mlogloss:0.50945\teval-mlogloss:0.48310\n",
      "[106]\ttrain-mlogloss:0.50534\teval-mlogloss:0.47867\n",
      "[107]\ttrain-mlogloss:0.50341\teval-mlogloss:0.47649\n",
      "[108]\ttrain-mlogloss:0.50017\teval-mlogloss:0.47323\n",
      "[109]\ttrain-mlogloss:0.49734\teval-mlogloss:0.47032\n",
      "[110]\ttrain-mlogloss:0.49504\teval-mlogloss:0.46776\n",
      "[111]\ttrain-mlogloss:0.49075\teval-mlogloss:0.46272\n",
      "[112]\ttrain-mlogloss:0.48798\teval-mlogloss:0.45968\n",
      "[113]\ttrain-mlogloss:0.48521\teval-mlogloss:0.45641\n",
      "[114]\ttrain-mlogloss:0.48194\teval-mlogloss:0.45276\n",
      "[115]\ttrain-mlogloss:0.47880\teval-mlogloss:0.44900\n",
      "[116]\ttrain-mlogloss:0.47718\teval-mlogloss:0.44740\n",
      "[117]\ttrain-mlogloss:0.47387\teval-mlogloss:0.44353\n",
      "[118]\ttrain-mlogloss:0.47321\teval-mlogloss:0.44297\n",
      "[119]\ttrain-mlogloss:0.47067\teval-mlogloss:0.44016\n",
      "[120]\ttrain-mlogloss:0.46776\teval-mlogloss:0.43669\n",
      "[121]\ttrain-mlogloss:0.46392\teval-mlogloss:0.43215\n",
      "[122]\ttrain-mlogloss:0.46168\teval-mlogloss:0.42983\n",
      "[123]\ttrain-mlogloss:0.45917\teval-mlogloss:0.42696\n",
      "[124]\ttrain-mlogloss:0.45664\teval-mlogloss:0.42440\n",
      "[125]\ttrain-mlogloss:0.45512\teval-mlogloss:0.42274\n",
      "[126]\ttrain-mlogloss:0.45220\teval-mlogloss:0.41980\n",
      "[127]\ttrain-mlogloss:0.44967\teval-mlogloss:0.41718\n",
      "[128]\ttrain-mlogloss:0.44633\teval-mlogloss:0.41340\n",
      "[129]\ttrain-mlogloss:0.44333\teval-mlogloss:0.40993\n",
      "[130]\ttrain-mlogloss:0.43971\teval-mlogloss:0.40604\n",
      "[131]\ttrain-mlogloss:0.43738\teval-mlogloss:0.40338\n",
      "[132]\ttrain-mlogloss:0.43447\teval-mlogloss:0.40022\n",
      "[133]\ttrain-mlogloss:0.43348\teval-mlogloss:0.39927\n",
      "[134]\ttrain-mlogloss:0.43086\teval-mlogloss:0.39634\n",
      "[135]\ttrain-mlogloss:0.42870\teval-mlogloss:0.39397\n",
      "[136]\ttrain-mlogloss:0.42614\teval-mlogloss:0.39111\n",
      "[137]\ttrain-mlogloss:0.42348\teval-mlogloss:0.38818\n",
      "[138]\ttrain-mlogloss:0.42057\teval-mlogloss:0.38482\n",
      "[139]\ttrain-mlogloss:0.41916\teval-mlogloss:0.38338\n",
      "[140]\ttrain-mlogloss:0.41702\teval-mlogloss:0.38089\n",
      "[141]\ttrain-mlogloss:0.41449\teval-mlogloss:0.37804\n",
      "[142]\ttrain-mlogloss:0.41279\teval-mlogloss:0.37634\n",
      "[143]\ttrain-mlogloss:0.41068\teval-mlogloss:0.37392\n",
      "[144]\ttrain-mlogloss:0.40823\teval-mlogloss:0.37127\n",
      "[145]\ttrain-mlogloss:0.40653\teval-mlogloss:0.36940\n",
      "[146]\ttrain-mlogloss:0.40342\teval-mlogloss:0.36594\n",
      "[147]\ttrain-mlogloss:0.40094\teval-mlogloss:0.36310\n",
      "[148]\ttrain-mlogloss:0.39871\teval-mlogloss:0.36061\n",
      "[149]\ttrain-mlogloss:0.39643\teval-mlogloss:0.35799\n",
      "[150]\ttrain-mlogloss:0.39507\teval-mlogloss:0.35660\n",
      "[151]\ttrain-mlogloss:0.39366\teval-mlogloss:0.35506\n",
      "[152]\ttrain-mlogloss:0.39057\teval-mlogloss:0.35167\n",
      "[153]\ttrain-mlogloss:0.38906\teval-mlogloss:0.34999\n",
      "[154]\ttrain-mlogloss:0.38659\teval-mlogloss:0.34735\n",
      "[155]\ttrain-mlogloss:0.38478\teval-mlogloss:0.34523\n",
      "[156]\ttrain-mlogloss:0.38334\teval-mlogloss:0.34360\n",
      "[157]\ttrain-mlogloss:0.38028\teval-mlogloss:0.34018\n",
      "[158]\ttrain-mlogloss:0.37735\teval-mlogloss:0.33678\n",
      "[159]\ttrain-mlogloss:0.37614\teval-mlogloss:0.33551\n",
      "[160]\ttrain-mlogloss:0.37564\teval-mlogloss:0.33503\n",
      "[161]\ttrain-mlogloss:0.37496\teval-mlogloss:0.33422\n",
      "[162]\ttrain-mlogloss:0.37291\teval-mlogloss:0.33213\n",
      "[163]\ttrain-mlogloss:0.37256\teval-mlogloss:0.33185\n",
      "[164]\ttrain-mlogloss:0.36994\teval-mlogloss:0.32877\n",
      "[165]\ttrain-mlogloss:0.36918\teval-mlogloss:0.32797\n",
      "[166]\ttrain-mlogloss:0.36729\teval-mlogloss:0.32580\n",
      "[167]\ttrain-mlogloss:0.36534\teval-mlogloss:0.32356\n",
      "[168]\ttrain-mlogloss:0.36374\teval-mlogloss:0.32179\n",
      "[169]\ttrain-mlogloss:0.36173\teval-mlogloss:0.31940\n",
      "[170]\ttrain-mlogloss:0.35984\teval-mlogloss:0.31735\n",
      "[171]\ttrain-mlogloss:0.35891\teval-mlogloss:0.31641\n",
      "[172]\ttrain-mlogloss:0.35706\teval-mlogloss:0.31424\n",
      "[173]\ttrain-mlogloss:0.35546\teval-mlogloss:0.31244\n",
      "[174]\ttrain-mlogloss:0.35457\teval-mlogloss:0.31128\n",
      "[175]\ttrain-mlogloss:0.35322\teval-mlogloss:0.30980\n",
      "[176]\ttrain-mlogloss:0.35214\teval-mlogloss:0.30864\n",
      "[177]\ttrain-mlogloss:0.35144\teval-mlogloss:0.30781\n",
      "[178]\ttrain-mlogloss:0.34970\teval-mlogloss:0.30589\n",
      "[179]\ttrain-mlogloss:0.34784\teval-mlogloss:0.30390\n",
      "[180]\ttrain-mlogloss:0.34546\teval-mlogloss:0.30123\n",
      "[181]\ttrain-mlogloss:0.34402\teval-mlogloss:0.29976\n",
      "[182]\ttrain-mlogloss:0.34254\teval-mlogloss:0.29820\n",
      "[183]\ttrain-mlogloss:0.34137\teval-mlogloss:0.29709\n",
      "[184]\ttrain-mlogloss:0.33985\teval-mlogloss:0.29566\n",
      "[185]\ttrain-mlogloss:0.33898\teval-mlogloss:0.29476\n",
      "[186]\ttrain-mlogloss:0.33838\teval-mlogloss:0.29418\n",
      "[187]\ttrain-mlogloss:0.33716\teval-mlogloss:0.29282\n",
      "[188]\ttrain-mlogloss:0.33615\teval-mlogloss:0.29176\n",
      "[189]\ttrain-mlogloss:0.33498\teval-mlogloss:0.29036\n",
      "[190]\ttrain-mlogloss:0.33371\teval-mlogloss:0.28895\n",
      "[191]\ttrain-mlogloss:0.33317\teval-mlogloss:0.28831\n",
      "[192]\ttrain-mlogloss:0.33193\teval-mlogloss:0.28701\n",
      "[193]\ttrain-mlogloss:0.33079\teval-mlogloss:0.28574\n",
      "[194]\ttrain-mlogloss:0.33022\teval-mlogloss:0.28525\n",
      "[195]\ttrain-mlogloss:0.32874\teval-mlogloss:0.28354\n",
      "[196]\ttrain-mlogloss:0.32708\teval-mlogloss:0.28160\n",
      "[197]\ttrain-mlogloss:0.32609\teval-mlogloss:0.28049\n",
      "[198]\ttrain-mlogloss:0.32517\teval-mlogloss:0.27940\n",
      "[199]\ttrain-mlogloss:0.32368\teval-mlogloss:0.27763\n",
      "[200]\ttrain-mlogloss:0.32278\teval-mlogloss:0.27675\n",
      "[201]\ttrain-mlogloss:0.32235\teval-mlogloss:0.27624\n",
      "[202]\ttrain-mlogloss:0.32126\teval-mlogloss:0.27506\n",
      "[203]\ttrain-mlogloss:0.31958\teval-mlogloss:0.27311\n",
      "[204]\ttrain-mlogloss:0.31865\teval-mlogloss:0.27208\n",
      "[205]\ttrain-mlogloss:0.31706\teval-mlogloss:0.27035\n",
      "[206]\ttrain-mlogloss:0.31565\teval-mlogloss:0.26862\n",
      "[207]\ttrain-mlogloss:0.31482\teval-mlogloss:0.26771\n",
      "[208]\ttrain-mlogloss:0.31476\teval-mlogloss:0.26766\n",
      "[209]\ttrain-mlogloss:0.31374\teval-mlogloss:0.26669\n",
      "[210]\ttrain-mlogloss:0.31349\teval-mlogloss:0.26647\n",
      "[211]\ttrain-mlogloss:0.31252\teval-mlogloss:0.26544\n",
      "[212]\ttrain-mlogloss:0.31132\teval-mlogloss:0.26400\n",
      "[213]\ttrain-mlogloss:0.31045\teval-mlogloss:0.26307\n",
      "[214]\ttrain-mlogloss:0.30897\teval-mlogloss:0.26148\n",
      "[215]\ttrain-mlogloss:0.30815\teval-mlogloss:0.26048\n",
      "[216]\ttrain-mlogloss:0.30707\teval-mlogloss:0.25925\n",
      "[217]\ttrain-mlogloss:0.30560\teval-mlogloss:0.25742\n",
      "[218]\ttrain-mlogloss:0.30450\teval-mlogloss:0.25625\n",
      "[219]\ttrain-mlogloss:0.30341\teval-mlogloss:0.25505\n",
      "[220]\ttrain-mlogloss:0.30212\teval-mlogloss:0.25349\n",
      "[221]\ttrain-mlogloss:0.30154\teval-mlogloss:0.25277\n",
      "[222]\ttrain-mlogloss:0.30005\teval-mlogloss:0.25125\n",
      "[223]\ttrain-mlogloss:0.29958\teval-mlogloss:0.25068\n",
      "[224]\ttrain-mlogloss:0.29844\teval-mlogloss:0.24938\n",
      "[225]\ttrain-mlogloss:0.29816\teval-mlogloss:0.24914\n",
      "[226]\ttrain-mlogloss:0.29740\teval-mlogloss:0.24842\n",
      "[227]\ttrain-mlogloss:0.29600\teval-mlogloss:0.24685\n",
      "[228]\ttrain-mlogloss:0.29562\teval-mlogloss:0.24640\n",
      "[229]\ttrain-mlogloss:0.29542\teval-mlogloss:0.24614\n",
      "[230]\ttrain-mlogloss:0.29456\teval-mlogloss:0.24527\n",
      "[231]\ttrain-mlogloss:0.29359\teval-mlogloss:0.24422\n",
      "[232]\ttrain-mlogloss:0.29358\teval-mlogloss:0.24424\n",
      "[233]\ttrain-mlogloss:0.29267\teval-mlogloss:0.24341\n",
      "[234]\ttrain-mlogloss:0.29124\teval-mlogloss:0.24171\n",
      "[235]\ttrain-mlogloss:0.29077\teval-mlogloss:0.24134\n",
      "[236]\ttrain-mlogloss:0.28996\teval-mlogloss:0.24052\n",
      "[237]\ttrain-mlogloss:0.28882\teval-mlogloss:0.23929\n",
      "[238]\ttrain-mlogloss:0.28863\teval-mlogloss:0.23907\n",
      "[239]\ttrain-mlogloss:0.28855\teval-mlogloss:0.23904\n",
      "[240]\ttrain-mlogloss:0.28802\teval-mlogloss:0.23837\n",
      "[241]\ttrain-mlogloss:0.28795\teval-mlogloss:0.23827\n",
      "[242]\ttrain-mlogloss:0.28773\teval-mlogloss:0.23817\n",
      "[243]\ttrain-mlogloss:0.28762\teval-mlogloss:0.23816\n",
      "[244]\ttrain-mlogloss:0.28666\teval-mlogloss:0.23695\n",
      "[245]\ttrain-mlogloss:0.28568\teval-mlogloss:0.23593\n",
      "[246]\ttrain-mlogloss:0.28565\teval-mlogloss:0.23591\n",
      "[247]\ttrain-mlogloss:0.28504\teval-mlogloss:0.23521\n",
      "[248]\ttrain-mlogloss:0.28435\teval-mlogloss:0.23450\n",
      "[249]\ttrain-mlogloss:0.28354\teval-mlogloss:0.23354\n",
      "[250]\ttrain-mlogloss:0.28338\teval-mlogloss:0.23320\n",
      "[251]\ttrain-mlogloss:0.28324\teval-mlogloss:0.23297\n",
      "[252]\ttrain-mlogloss:0.28245\teval-mlogloss:0.23211\n",
      "[253]\ttrain-mlogloss:0.28238\teval-mlogloss:0.23203\n",
      "[254]\ttrain-mlogloss:0.28114\teval-mlogloss:0.23055\n",
      "[255]\ttrain-mlogloss:0.28108\teval-mlogloss:0.23055\n",
      "[256]\ttrain-mlogloss:0.28046\teval-mlogloss:0.22988\n",
      "[257]\ttrain-mlogloss:0.27973\teval-mlogloss:0.22899\n",
      "[258]\ttrain-mlogloss:0.27907\teval-mlogloss:0.22819\n",
      "[259]\ttrain-mlogloss:0.27840\teval-mlogloss:0.22752\n",
      "[260]\ttrain-mlogloss:0.27794\teval-mlogloss:0.22688\n",
      "[261]\ttrain-mlogloss:0.27724\teval-mlogloss:0.22603\n",
      "[262]\ttrain-mlogloss:0.27700\teval-mlogloss:0.22586\n",
      "[263]\ttrain-mlogloss:0.27632\teval-mlogloss:0.22514\n",
      "[264]\ttrain-mlogloss:0.27551\teval-mlogloss:0.22414\n",
      "[265]\ttrain-mlogloss:0.27535\teval-mlogloss:0.22395\n",
      "[266]\ttrain-mlogloss:0.27483\teval-mlogloss:0.22331\n",
      "[267]\ttrain-mlogloss:0.27463\teval-mlogloss:0.22302\n",
      "[268]\ttrain-mlogloss:0.27381\teval-mlogloss:0.22209\n",
      "[269]\ttrain-mlogloss:0.27319\teval-mlogloss:0.22140\n",
      "[270]\ttrain-mlogloss:0.27262\teval-mlogloss:0.22058\n",
      "[271]\ttrain-mlogloss:0.27205\teval-mlogloss:0.21987\n",
      "[272]\ttrain-mlogloss:0.27152\teval-mlogloss:0.21930\n",
      "[273]\ttrain-mlogloss:0.27098\teval-mlogloss:0.21869\n",
      "[274]\ttrain-mlogloss:0.27004\teval-mlogloss:0.21773\n",
      "[275]\ttrain-mlogloss:0.26944\teval-mlogloss:0.21705\n",
      "[276]\ttrain-mlogloss:0.26937\teval-mlogloss:0.21705\n",
      "[277]\ttrain-mlogloss:0.26865\teval-mlogloss:0.21630\n",
      "[278]\ttrain-mlogloss:0.26861\teval-mlogloss:0.21628\n",
      "[279]\ttrain-mlogloss:0.26806\teval-mlogloss:0.21566\n",
      "[280]\ttrain-mlogloss:0.26748\teval-mlogloss:0.21483\n",
      "[281]\ttrain-mlogloss:0.26736\teval-mlogloss:0.21467\n",
      "[282]\ttrain-mlogloss:0.26733\teval-mlogloss:0.21464\n",
      "[283]\ttrain-mlogloss:0.26679\teval-mlogloss:0.21387\n",
      "[284]\ttrain-mlogloss:0.26677\teval-mlogloss:0.21383\n",
      "[285]\ttrain-mlogloss:0.26669\teval-mlogloss:0.21371\n",
      "[286]\ttrain-mlogloss:0.26633\teval-mlogloss:0.21334\n",
      "[287]\ttrain-mlogloss:0.26629\teval-mlogloss:0.21327\n",
      "[288]\ttrain-mlogloss:0.26574\teval-mlogloss:0.21255\n",
      "[289]\ttrain-mlogloss:0.26472\teval-mlogloss:0.21126\n",
      "[290]\ttrain-mlogloss:0.26421\teval-mlogloss:0.21067\n",
      "[291]\ttrain-mlogloss:0.26368\teval-mlogloss:0.20998\n",
      "[292]\ttrain-mlogloss:0.26360\teval-mlogloss:0.20998\n",
      "[293]\ttrain-mlogloss:0.26307\teval-mlogloss:0.20931\n",
      "[294]\ttrain-mlogloss:0.26293\teval-mlogloss:0.20916\n",
      "[295]\ttrain-mlogloss:0.26180\teval-mlogloss:0.20790\n",
      "[296]\ttrain-mlogloss:0.26171\teval-mlogloss:0.20794\n",
      "[297]\ttrain-mlogloss:0.26122\teval-mlogloss:0.20745\n",
      "[298]\ttrain-mlogloss:0.26115\teval-mlogloss:0.20744\n",
      "[299]\ttrain-mlogloss:0.26108\teval-mlogloss:0.20742\n"
     ]
    },
    {
     "name": "stderr",
     "output_type": "stream",
     "text": [
      "[I 2025-08-24 18:35:10,719] Trial 21 finished with value: 1.0 and parameters: {'lambda': 0.0074402349648408144, 'alpha': 1.0702256923783171e-08, 'eta': 0.011079157438502123, 'gamma': 0.00019358578838253793, 'max_depth': 5, 'min_child_weight': 9, 'subsample': 0.7829167203540238, 'colsample_bytree': 0.4869328804272596}. Best is trial 0 with value: 1.0.\n"
     ]
    },
    {
     "name": "stdout",
     "output_type": "stream",
     "text": [
      "[0]\ttrain-mlogloss:1.05125\teval-mlogloss:1.04955\n",
      "[1]\ttrain-mlogloss:1.02680\teval-mlogloss:1.02318\n",
      "[2]\ttrain-mlogloss:0.98757\teval-mlogloss:0.98249\n",
      "[3]\ttrain-mlogloss:0.94482\teval-mlogloss:0.93794\n",
      "[4]\ttrain-mlogloss:0.90637\teval-mlogloss:0.89952\n",
      "[5]\ttrain-mlogloss:0.86848\teval-mlogloss:0.85926\n",
      "[6]\ttrain-mlogloss:0.83339\teval-mlogloss:0.82115\n",
      "[7]\ttrain-mlogloss:0.80214\teval-mlogloss:0.78610\n",
      "[8]\ttrain-mlogloss:0.77193\teval-mlogloss:0.75384\n"
     ]
    },
    {
     "name": "stderr",
     "output_type": "stream",
     "text": [
      "[I 2025-08-24 18:35:10,760] Trial 22 pruned. Trial was pruned at iteration 8.\n"
     ]
    },
    {
     "name": "stdout",
     "output_type": "stream",
     "text": [
      "[0]\ttrain-mlogloss:0.99904\teval-mlogloss:0.99476\n",
      "[1]\ttrain-mlogloss:0.94941\teval-mlogloss:0.94507\n"
     ]
    },
    {
     "name": "stderr",
     "output_type": "stream",
     "text": [
      "[I 2025-08-24 18:35:10,789] Trial 23 pruned. Trial was pruned at iteration 2.\n"
     ]
    },
    {
     "name": "stdout",
     "output_type": "stream",
     "text": [
      "[0]\ttrain-mlogloss:1.04081\teval-mlogloss:1.03821\n",
      "[1]\ttrain-mlogloss:1.00499\teval-mlogloss:1.00632\n",
      "[2]\ttrain-mlogloss:0.95659\teval-mlogloss:0.95401\n",
      "[3]\ttrain-mlogloss:0.90655\teval-mlogloss:0.90152\n",
      "[4]\ttrain-mlogloss:0.86220\teval-mlogloss:0.85572\n",
      "[5]\ttrain-mlogloss:0.82026\teval-mlogloss:0.81218\n",
      "[6]\ttrain-mlogloss:0.78165\teval-mlogloss:0.77194\n",
      "[7]\ttrain-mlogloss:0.74551\teval-mlogloss:0.73401\n",
      "[8]\ttrain-mlogloss:0.71132\teval-mlogloss:0.69853\n"
     ]
    },
    {
     "name": "stderr",
     "output_type": "stream",
     "text": [
      "[I 2025-08-24 18:35:10,838] Trial 24 pruned. Trial was pruned at iteration 8.\n"
     ]
    },
    {
     "name": "stdout",
     "output_type": "stream",
     "text": [
      "[0]\ttrain-mlogloss:1.08569\teval-mlogloss:1.08495\n",
      "[1]\ttrain-mlogloss:1.07881\teval-mlogloss:1.07716\n",
      "[2]\ttrain-mlogloss:1.07008\teval-mlogloss:1.06933\n",
      "[3]\ttrain-mlogloss:1.05531\teval-mlogloss:1.05356\n",
      "[4]\ttrain-mlogloss:1.04909\teval-mlogloss:1.04712\n",
      "[5]\ttrain-mlogloss:1.03907\teval-mlogloss:1.03735\n",
      "[6]\ttrain-mlogloss:1.02480\teval-mlogloss:1.02214\n",
      "[7]\ttrain-mlogloss:1.00952\teval-mlogloss:1.00557\n",
      "[8]\ttrain-mlogloss:1.00211\teval-mlogloss:0.99880\n",
      "[9]\ttrain-mlogloss:0.98665\teval-mlogloss:0.98265\n",
      "[10]\ttrain-mlogloss:0.97503\teval-mlogloss:0.97108\n",
      "[11]\ttrain-mlogloss:0.96912\teval-mlogloss:0.96579\n",
      "[12]\ttrain-mlogloss:0.95685\teval-mlogloss:0.95198\n",
      "[13]\ttrain-mlogloss:0.94659\teval-mlogloss:0.94147\n",
      "[14]\ttrain-mlogloss:0.93280\teval-mlogloss:0.92666\n",
      "[15]\ttrain-mlogloss:0.92476\teval-mlogloss:0.91849\n",
      "[16]\ttrain-mlogloss:0.91779\teval-mlogloss:0.90986\n",
      "[17]\ttrain-mlogloss:0.90709\teval-mlogloss:0.89861\n",
      "[18]\ttrain-mlogloss:0.89639\teval-mlogloss:0.88734\n",
      "[19]\ttrain-mlogloss:0.89299\teval-mlogloss:0.88403\n",
      "[20]\ttrain-mlogloss:0.88961\teval-mlogloss:0.88084\n",
      "[21]\ttrain-mlogloss:0.88033\teval-mlogloss:0.87158\n",
      "[22]\ttrain-mlogloss:0.86738\teval-mlogloss:0.85748\n",
      "[23]\ttrain-mlogloss:0.85518\teval-mlogloss:0.84453\n",
      "[24]\ttrain-mlogloss:0.84475\teval-mlogloss:0.83351\n",
      "[25]\ttrain-mlogloss:0.83254\teval-mlogloss:0.82052\n",
      "[26]\ttrain-mlogloss:0.82981\teval-mlogloss:0.81782\n",
      "[27]\ttrain-mlogloss:0.81939\teval-mlogloss:0.80674\n",
      "[28]\ttrain-mlogloss:0.81299\teval-mlogloss:0.80089\n",
      "[29]\ttrain-mlogloss:0.80606\teval-mlogloss:0.79377\n",
      "[30]\ttrain-mlogloss:0.80084\teval-mlogloss:0.78867\n",
      "[31]\ttrain-mlogloss:0.79224\teval-mlogloss:0.77968\n"
     ]
    },
    {
     "name": "stderr",
     "output_type": "stream",
     "text": [
      "[I 2025-08-24 18:35:11,099] Trial 25 pruned. Trial was pruned at iteration 32.\n"
     ]
    },
    {
     "name": "stdout",
     "output_type": "stream",
     "text": [
      "[0]\ttrain-mlogloss:0.99950\teval-mlogloss:1.00003\n",
      "[1]\ttrain-mlogloss:0.91099\teval-mlogloss:0.90544\n"
     ]
    },
    {
     "name": "stderr",
     "output_type": "stream",
     "text": [
      "[I 2025-08-24 18:35:11,124] Trial 26 pruned. Trial was pruned at iteration 2.\n"
     ]
    },
    {
     "name": "stdout",
     "output_type": "stream",
     "text": [
      "[0]\ttrain-mlogloss:0.96850\teval-mlogloss:0.96407\n",
      "[1]\ttrain-mlogloss:0.91104\teval-mlogloss:0.89927\n",
      "[2]\ttrain-mlogloss:0.82261\teval-mlogloss:0.80352\n"
     ]
    },
    {
     "name": "stderr",
     "output_type": "stream",
     "text": [
      "[I 2025-08-24 18:35:11,160] Trial 27 pruned. Trial was pruned at iteration 2.\n"
     ]
    },
    {
     "name": "stdout",
     "output_type": "stream",
     "text": [
      "[0]\ttrain-mlogloss:1.02988\teval-mlogloss:1.02862\n",
      "[1]\ttrain-mlogloss:0.99407\teval-mlogloss:1.00071\n",
      "[2]\ttrain-mlogloss:0.95199\teval-mlogloss:0.96351\n",
      "[3]\ttrain-mlogloss:0.88980\teval-mlogloss:0.89575\n",
      "[4]\ttrain-mlogloss:0.86293\teval-mlogloss:0.87365\n",
      "[5]\ttrain-mlogloss:0.82571\teval-mlogloss:0.83892\n",
      "[6]\ttrain-mlogloss:0.77477\teval-mlogloss:0.78242\n",
      "[7]\ttrain-mlogloss:0.72398\teval-mlogloss:0.72723\n",
      "[8]\ttrain-mlogloss:0.70141\teval-mlogloss:0.70553\n"
     ]
    },
    {
     "name": "stderr",
     "output_type": "stream",
     "text": [
      "[I 2025-08-24 18:35:11,218] Trial 28 pruned. Trial was pruned at iteration 8.\n"
     ]
    },
    {
     "name": "stdout",
     "output_type": "stream",
     "text": [
      "[0]\ttrain-mlogloss:1.01000\teval-mlogloss:1.00676\n",
      "[1]\ttrain-mlogloss:0.94529\teval-mlogloss:0.92853\n",
      "[2]\ttrain-mlogloss:0.88426\teval-mlogloss:0.86644\n"
     ]
    },
    {
     "name": "stderr",
     "output_type": "stream",
     "text": [
      "[I 2025-08-24 18:35:11,255] Trial 29 pruned. Trial was pruned at iteration 2.\n"
     ]
    },
    {
     "name": "stdout",
     "output_type": "stream",
     "text": [
      "[0]\ttrain-mlogloss:1.04567\teval-mlogloss:1.04381\n",
      "[1]\ttrain-mlogloss:1.02213\teval-mlogloss:1.01648\n",
      "[2]\ttrain-mlogloss:0.99002\teval-mlogloss:0.98295\n",
      "[3]\ttrain-mlogloss:0.94488\teval-mlogloss:0.93439\n",
      "[4]\ttrain-mlogloss:0.90447\teval-mlogloss:0.89309\n",
      "[5]\ttrain-mlogloss:0.86600\teval-mlogloss:0.85176\n",
      "[6]\ttrain-mlogloss:0.83581\teval-mlogloss:0.81942\n",
      "[7]\ttrain-mlogloss:0.80871\teval-mlogloss:0.79053\n",
      "[8]\ttrain-mlogloss:0.78279\teval-mlogloss:0.76327\n"
     ]
    },
    {
     "name": "stderr",
     "output_type": "stream",
     "text": [
      "[I 2025-08-24 18:35:11,303] Trial 30 pruned. Trial was pruned at iteration 8.\n"
     ]
    },
    {
     "name": "stdout",
     "output_type": "stream",
     "text": [
      "[0]\ttrain-mlogloss:1.08437\teval-mlogloss:1.08355\n",
      "[1]\ttrain-mlogloss:1.07696\teval-mlogloss:1.07558\n",
      "[2]\ttrain-mlogloss:1.06755\teval-mlogloss:1.06710\n",
      "[3]\ttrain-mlogloss:1.05152\teval-mlogloss:1.04999\n",
      "[4]\ttrain-mlogloss:1.04493\teval-mlogloss:1.04274\n",
      "[5]\ttrain-mlogloss:1.03436\teval-mlogloss:1.03227\n",
      "[6]\ttrain-mlogloss:1.01888\teval-mlogloss:1.01578\n",
      "[7]\ttrain-mlogloss:1.00202\teval-mlogloss:0.99786\n"
     ]
    },
    {
     "name": "stderr",
     "output_type": "stream",
     "text": [
      "[I 2025-08-24 18:35:11,361] Trial 31 pruned. Trial was pruned at iteration 8.\n"
     ]
    },
    {
     "name": "stdout",
     "output_type": "stream",
     "text": [
      "[0]\ttrain-mlogloss:1.07624\teval-mlogloss:1.07517\n",
      "[1]\ttrain-mlogloss:1.06530\teval-mlogloss:1.06318\n",
      "[2]\ttrain-mlogloss:1.04616\teval-mlogloss:1.04263\n",
      "[3]\ttrain-mlogloss:1.02457\teval-mlogloss:1.02009\n",
      "[4]\ttrain-mlogloss:1.00477\teval-mlogloss:0.99999\n",
      "[5]\ttrain-mlogloss:0.98471\teval-mlogloss:0.97895\n",
      "[6]\ttrain-mlogloss:0.96577\teval-mlogloss:0.95890\n",
      "[7]\ttrain-mlogloss:0.94719\teval-mlogloss:0.93929\n",
      "[8]\ttrain-mlogloss:0.92930\teval-mlogloss:0.92014\n"
     ]
    },
    {
     "name": "stderr",
     "output_type": "stream",
     "text": [
      "[I 2025-08-24 18:35:11,414] Trial 32 pruned. Trial was pruned at iteration 8.\n"
     ]
    },
    {
     "name": "stdout",
     "output_type": "stream",
     "text": [
      "[0]\ttrain-mlogloss:0.99610\teval-mlogloss:0.99035\n",
      "[1]\ttrain-mlogloss:0.94863\teval-mlogloss:0.93684\n"
     ]
    },
    {
     "name": "stderr",
     "output_type": "stream",
     "text": [
      "[I 2025-08-24 18:35:11,451] Trial 33 pruned. Trial was pruned at iteration 2.\n"
     ]
    },
    {
     "name": "stdout",
     "output_type": "stream",
     "text": [
      "[0]\ttrain-mlogloss:1.08574\teval-mlogloss:1.08595\n",
      "[1]\ttrain-mlogloss:1.07398\teval-mlogloss:1.07288\n",
      "[2]\ttrain-mlogloss:1.06196\teval-mlogloss:1.06082\n",
      "[3]\ttrain-mlogloss:1.04994\teval-mlogloss:1.04810\n",
      "[4]\ttrain-mlogloss:1.03777\teval-mlogloss:1.03576\n",
      "[5]\ttrain-mlogloss:1.02506\teval-mlogloss:1.02228\n",
      "[6]\ttrain-mlogloss:1.01557\teval-mlogloss:1.01212\n",
      "[7]\ttrain-mlogloss:1.00681\teval-mlogloss:1.00316\n",
      "[8]\ttrain-mlogloss:0.99554\teval-mlogloss:0.99094\n",
      "[9]\ttrain-mlogloss:0.98389\teval-mlogloss:0.97841\n",
      "[10]\ttrain-mlogloss:0.97275\teval-mlogloss:0.96656\n",
      "[11]\ttrain-mlogloss:0.96152\teval-mlogloss:0.95451\n",
      "[12]\ttrain-mlogloss:0.95296\teval-mlogloss:0.94607\n",
      "[13]\ttrain-mlogloss:0.94207\teval-mlogloss:0.93490\n",
      "[14]\ttrain-mlogloss:0.93398\teval-mlogloss:0.92648\n",
      "[15]\ttrain-mlogloss:0.92440\teval-mlogloss:0.91719\n",
      "[16]\ttrain-mlogloss:0.91453\teval-mlogloss:0.90737\n",
      "[17]\ttrain-mlogloss:0.90644\teval-mlogloss:0.89818\n",
      "[18]\ttrain-mlogloss:0.89675\teval-mlogloss:0.88781\n",
      "[19]\ttrain-mlogloss:0.88662\teval-mlogloss:0.87723\n",
      "[20]\ttrain-mlogloss:0.87916\teval-mlogloss:0.86924\n",
      "[21]\ttrain-mlogloss:0.87239\teval-mlogloss:0.86204\n",
      "[22]\ttrain-mlogloss:0.86318\teval-mlogloss:0.85171\n",
      "[23]\ttrain-mlogloss:0.85355\teval-mlogloss:0.84164\n",
      "[24]\ttrain-mlogloss:0.84558\teval-mlogloss:0.83369\n",
      "[25]\ttrain-mlogloss:0.83720\teval-mlogloss:0.82456\n",
      "[26]\ttrain-mlogloss:0.82881\teval-mlogloss:0.81544\n",
      "[27]\ttrain-mlogloss:0.82143\teval-mlogloss:0.80785\n",
      "[28]\ttrain-mlogloss:0.81318\teval-mlogloss:0.79904\n",
      "[29]\ttrain-mlogloss:0.80648\teval-mlogloss:0.79194\n",
      "[30]\ttrain-mlogloss:0.79886\teval-mlogloss:0.78413\n",
      "[31]\ttrain-mlogloss:0.79046\teval-mlogloss:0.77531\n"
     ]
    },
    {
     "name": "stderr",
     "output_type": "stream",
     "text": [
      "[I 2025-08-24 18:35:11,705] Trial 34 pruned. Trial was pruned at iteration 32.\n"
     ]
    },
    {
     "name": "stdout",
     "output_type": "stream",
     "text": [
      "[0]\ttrain-mlogloss:0.75865\teval-mlogloss:0.74248\n",
      "[1]\ttrain-mlogloss:0.65773\teval-mlogloss:0.63331\n"
     ]
    },
    {
     "name": "stderr",
     "output_type": "stream",
     "text": [
      "[I 2025-08-24 18:35:11,747] Trial 35 pruned. Trial was pruned at iteration 2.\n"
     ]
    },
    {
     "name": "stdout",
     "output_type": "stream",
     "text": [
      "[0]\ttrain-mlogloss:1.03770\teval-mlogloss:1.03446\n",
      "[1]\ttrain-mlogloss:1.00746\teval-mlogloss:1.00312\n"
     ]
    },
    {
     "name": "stderr",
     "output_type": "stream",
     "text": [
      "[I 2025-08-24 18:35:11,786] Trial 36 pruned. Trial was pruned at iteration 2.\n"
     ]
    },
    {
     "name": "stdout",
     "output_type": "stream",
     "text": [
      "[0]\ttrain-mlogloss:1.05608\teval-mlogloss:1.05423\n",
      "[1]\ttrain-mlogloss:1.03502\teval-mlogloss:1.03282\n",
      "[2]\ttrain-mlogloss:0.99982\teval-mlogloss:0.99479\n",
      "[3]\ttrain-mlogloss:0.96159\teval-mlogloss:0.95500\n",
      "[4]\ttrain-mlogloss:0.92711\teval-mlogloss:0.91998\n",
      "[5]\ttrain-mlogloss:0.89349\teval-mlogloss:0.88471\n",
      "[6]\ttrain-mlogloss:0.86233\teval-mlogloss:0.85140\n",
      "[7]\ttrain-mlogloss:0.83223\teval-mlogloss:0.81951\n"
     ]
    },
    {
     "name": "stderr",
     "output_type": "stream",
     "text": [
      "[I 2025-08-24 18:35:11,838] Trial 37 pruned. Trial was pruned at iteration 8.\n"
     ]
    },
    {
     "name": "stdout",
     "output_type": "stream",
     "text": [
      "[0]\ttrain-mlogloss:1.01021\teval-mlogloss:1.00648\n",
      "[1]\ttrain-mlogloss:0.97141\teval-mlogloss:0.96769\n",
      "[2]\ttrain-mlogloss:0.90607\teval-mlogloss:0.89677\n"
     ]
    },
    {
     "name": "stderr",
     "output_type": "stream",
     "text": [
      "[I 2025-08-24 18:35:11,870] Trial 38 pruned. Trial was pruned at iteration 2.\n"
     ]
    },
    {
     "name": "stdout",
     "output_type": "stream",
     "text": [
      "[0]\ttrain-mlogloss:0.97254\teval-mlogloss:0.96633\n",
      "[1]\ttrain-mlogloss:0.91253\teval-mlogloss:0.90256\n"
     ]
    },
    {
     "name": "stderr",
     "output_type": "stream",
     "text": [
      "[I 2025-08-24 18:35:11,898] Trial 39 pruned. Trial was pruned at iteration 2.\n"
     ]
    },
    {
     "name": "stdout",
     "output_type": "stream",
     "text": [
      "[0]\ttrain-mlogloss:1.05989\teval-mlogloss:1.05795\n",
      "[1]\ttrain-mlogloss:1.03504\teval-mlogloss:1.03767\n",
      "[2]\ttrain-mlogloss:1.00147\teval-mlogloss:1.00344\n",
      "[3]\ttrain-mlogloss:0.96677\teval-mlogloss:0.96771\n",
      "[4]\ttrain-mlogloss:0.93438\teval-mlogloss:0.93363\n",
      "[5]\ttrain-mlogloss:0.90319\teval-mlogloss:0.90049\n",
      "[6]\ttrain-mlogloss:0.87387\teval-mlogloss:0.86964\n",
      "[7]\ttrain-mlogloss:0.84573\teval-mlogloss:0.84014\n",
      "[8]\ttrain-mlogloss:0.81920\teval-mlogloss:0.81321\n"
     ]
    },
    {
     "name": "stderr",
     "output_type": "stream",
     "text": [
      "[I 2025-08-24 18:35:11,950] Trial 40 pruned. Trial was pruned at iteration 8.\n"
     ]
    },
    {
     "name": "stdout",
     "output_type": "stream",
     "text": [
      "[0]\ttrain-mlogloss:1.08764\teval-mlogloss:1.08700\n",
      "[1]\ttrain-mlogloss:1.08184\teval-mlogloss:1.08067\n",
      "[2]\ttrain-mlogloss:1.07437\teval-mlogloss:1.07398\n",
      "[3]\ttrain-mlogloss:1.06174\teval-mlogloss:1.06052\n",
      "[4]\ttrain-mlogloss:1.05651\teval-mlogloss:1.05454\n",
      "[5]\ttrain-mlogloss:1.04800\teval-mlogloss:1.04561\n",
      "[6]\ttrain-mlogloss:1.03567\teval-mlogloss:1.03248\n",
      "[7]\ttrain-mlogloss:1.02245\teval-mlogloss:1.01815\n",
      "[8]\ttrain-mlogloss:1.01599\teval-mlogloss:1.01224\n",
      "[9]\ttrain-mlogloss:1.00252\teval-mlogloss:0.99818\n",
      "[10]\ttrain-mlogloss:0.99239\teval-mlogloss:0.98810\n",
      "[11]\ttrain-mlogloss:0.98734\teval-mlogloss:0.98351\n",
      "[12]\ttrain-mlogloss:0.97652\teval-mlogloss:0.97184\n",
      "[13]\ttrain-mlogloss:0.96746\teval-mlogloss:0.96257\n",
      "[14]\ttrain-mlogloss:0.95528\teval-mlogloss:0.94950\n",
      "[15]\ttrain-mlogloss:0.94823\teval-mlogloss:0.94243\n",
      "[16]\ttrain-mlogloss:0.94225\teval-mlogloss:0.93520\n",
      "[17]\ttrain-mlogloss:0.93290\teval-mlogloss:0.92547\n",
      "[18]\ttrain-mlogloss:0.92342\teval-mlogloss:0.91553\n",
      "[19]\ttrain-mlogloss:0.92042\teval-mlogloss:0.91264\n",
      "[20]\ttrain-mlogloss:0.91761\teval-mlogloss:0.91001\n",
      "[21]\ttrain-mlogloss:0.90931\teval-mlogloss:0.90175\n",
      "[22]\ttrain-mlogloss:0.89775\teval-mlogloss:0.88916\n",
      "[23]\ttrain-mlogloss:0.88683\teval-mlogloss:0.87759\n",
      "[24]\ttrain-mlogloss:0.87743\teval-mlogloss:0.86766\n",
      "[25]\ttrain-mlogloss:0.86650\teval-mlogloss:0.85609\n",
      "[26]\ttrain-mlogloss:0.86402\teval-mlogloss:0.85364\n",
      "[27]\ttrain-mlogloss:0.85458\teval-mlogloss:0.84355\n",
      "[28]\ttrain-mlogloss:0.84877\teval-mlogloss:0.83824\n",
      "[29]\ttrain-mlogloss:0.84248\teval-mlogloss:0.83179\n",
      "[30]\ttrain-mlogloss:0.83768\teval-mlogloss:0.82711\n",
      "[31]\ttrain-mlogloss:0.82980\teval-mlogloss:0.81890\n",
      "[32]\ttrain-mlogloss:0.82006\teval-mlogloss:0.80885\n"
     ]
    },
    {
     "name": "stderr",
     "output_type": "stream",
     "text": [
      "[I 2025-08-24 18:35:12,054] Trial 41 pruned. Trial was pruned at iteration 32.\n"
     ]
    },
    {
     "name": "stdout",
     "output_type": "stream",
     "text": [
      "[0]\ttrain-mlogloss:1.05469\teval-mlogloss:1.05239\n",
      "[1]\ttrain-mlogloss:1.03652\teval-mlogloss:1.03303\n",
      "[2]\ttrain-mlogloss:1.00865\teval-mlogloss:1.00849\n",
      "[3]\ttrain-mlogloss:0.96319\teval-mlogloss:0.96020\n",
      "[4]\ttrain-mlogloss:0.94470\teval-mlogloss:0.94011\n",
      "[5]\ttrain-mlogloss:0.91578\teval-mlogloss:0.90995\n",
      "[6]\ttrain-mlogloss:0.87508\teval-mlogloss:0.86608\n",
      "[7]\ttrain-mlogloss:0.84538\teval-mlogloss:0.83515\n"
     ]
    },
    {
     "name": "stderr",
     "output_type": "stream",
     "text": [
      "[I 2025-08-24 18:35:12,092] Trial 42 pruned. Trial was pruned at iteration 8.\n"
     ]
    },
    {
     "name": "stdout",
     "output_type": "stream",
     "text": [
      "[0]\ttrain-mlogloss:1.07168\teval-mlogloss:1.07014\n",
      "[1]\ttrain-mlogloss:1.05792\teval-mlogloss:1.05534\n",
      "[2]\ttrain-mlogloss:1.04053\teval-mlogloss:1.03963\n",
      "[3]\ttrain-mlogloss:1.01130\teval-mlogloss:1.00838\n",
      "[4]\ttrain-mlogloss:0.99963\teval-mlogloss:0.99552\n",
      "[5]\ttrain-mlogloss:0.98110\teval-mlogloss:0.97713\n",
      "[6]\ttrain-mlogloss:0.95396\teval-mlogloss:0.94812\n",
      "[7]\ttrain-mlogloss:0.92505\teval-mlogloss:0.91732\n"
     ]
    },
    {
     "name": "stderr",
     "output_type": "stream",
     "text": [
      "[I 2025-08-24 18:35:12,309] Trial 43 pruned. Trial was pruned at iteration 8.\n"
     ]
    },
    {
     "name": "stdout",
     "output_type": "stream",
     "text": [
      "[0]\ttrain-mlogloss:1.07451\teval-mlogloss:1.07321\n",
      "[1]\ttrain-mlogloss:1.06204\teval-mlogloss:1.06050\n",
      "[2]\ttrain-mlogloss:1.04576\teval-mlogloss:1.04594\n",
      "[3]\ttrain-mlogloss:1.01880\teval-mlogloss:1.01714\n",
      "[4]\ttrain-mlogloss:1.00680\teval-mlogloss:1.00433\n",
      "[5]\ttrain-mlogloss:0.98849\teval-mlogloss:0.98492\n",
      "[6]\ttrain-mlogloss:0.96242\teval-mlogloss:0.95642\n",
      "[7]\ttrain-mlogloss:0.93613\teval-mlogloss:0.92795\n"
     ]
    },
    {
     "name": "stderr",
     "output_type": "stream",
     "text": [
      "[I 2025-08-24 18:35:12,369] Trial 44 pruned. Trial was pruned at iteration 8.\n"
     ]
    },
    {
     "name": "stdout",
     "output_type": "stream",
     "text": [
      "[0]\ttrain-mlogloss:1.03223\teval-mlogloss:1.02880\n",
      "[1]\ttrain-mlogloss:0.99866\teval-mlogloss:0.99366\n",
      "[2]\ttrain-mlogloss:0.94563\teval-mlogloss:0.93783\n"
     ]
    },
    {
     "name": "stderr",
     "output_type": "stream",
     "text": [
      "[I 2025-08-24 18:35:12,402] Trial 45 pruned. Trial was pruned at iteration 2.\n"
     ]
    },
    {
     "name": "stdout",
     "output_type": "stream",
     "text": [
      "[0]\ttrain-mlogloss:0.95079\teval-mlogloss:0.94238\n",
      "[1]\ttrain-mlogloss:0.88341\teval-mlogloss:0.87367\n"
     ]
    },
    {
     "name": "stderr",
     "output_type": "stream",
     "text": [
      "[I 2025-08-24 18:35:12,435] Trial 46 pruned. Trial was pruned at iteration 2.\n"
     ]
    },
    {
     "name": "stdout",
     "output_type": "stream",
     "text": [
      "[0]\ttrain-mlogloss:1.01780\teval-mlogloss:1.01353\n",
      "[1]\ttrain-mlogloss:0.98583\teval-mlogloss:0.97914\n",
      "[2]\ttrain-mlogloss:0.93816\teval-mlogloss:0.93740\n"
     ]
    },
    {
     "name": "stderr",
     "output_type": "stream",
     "text": [
      "[I 2025-08-24 18:35:12,467] Trial 47 pruned. Trial was pruned at iteration 2.\n"
     ]
    },
    {
     "name": "stdout",
     "output_type": "stream",
     "text": [
      "[0]\ttrain-mlogloss:1.01504\teval-mlogloss:1.01136\n",
      "[1]\ttrain-mlogloss:0.97766\teval-mlogloss:0.97087\n"
     ]
    },
    {
     "name": "stderr",
     "output_type": "stream",
     "text": [
      "[I 2025-08-24 18:35:12,503] Trial 48 pruned. Trial was pruned at iteration 2.\n"
     ]
    },
    {
     "name": "stdout",
     "output_type": "stream",
     "text": [
      "[0]\ttrain-mlogloss:0.95053\teval-mlogloss:0.94077\n",
      "[1]\ttrain-mlogloss:0.87698\teval-mlogloss:0.86949\n"
     ]
    },
    {
     "name": "stderr",
     "output_type": "stream",
     "text": [
      "[I 2025-08-24 18:35:12,540] Trial 49 pruned. Trial was pruned at iteration 2.\n"
     ]
    },
    {
     "name": "stdout",
     "output_type": "stream",
     "text": [
      "Best trial: {'lambda': 0.04853029097830509, 'alpha': 0.641170607666686, 'eta': 0.07304145227657399, 'gamma': 0.033982279827573965, 'max_depth': 5, 'min_child_weight': 4, 'subsample': 0.6711163926375628, 'colsample_bytree': 0.6225440949457399}\n",
      "Best accuracy: 1.0\n"
     ]
    }
   ],
   "source": [
    "import optuna\n",
    "import xgboost as xgb\n",
    "from sklearn.model_selection import train_test_split\n",
    "from sklearn.datasets import load_iris\n",
    "from sklearn.metrics import accuracy_score\n",
    "import numpy as np\n",
    "\n",
    "# Load the Iris dataset\n",
    "x, y = load_iris(return_X_y=True)\n",
    "\n",
    "# Split the dataset into training and test sets\n",
    "x_train, x_test, y_train, y_test = train_test_split(x, y, test_size=0.2, random_state=42)\n",
    "\n",
    "# Define the objective function for XGBoost\n",
    "def objective(trial):\n",
    "    # Hyperparameter search space\n",
    "    param = {\n",
    "        'verbosity': 0,\n",
    "        'objective': 'multi:softprob',\n",
    "        'num_class': 3,\n",
    "        'eval_metric': 'mlogloss',  # Ensure that the eval_metric is specified here\n",
    "        'booster': 'gbtree',\n",
    "        'lambda': trial.suggest_float('lambda', 1e-8, 1.0, log=True),\n",
    "        'alpha': trial.suggest_float('alpha', 1e-8, 1.0, log=True),\n",
    "        'eta': trial.suggest_float('eta', 0.01, 0.3),\n",
    "        'gamma': trial.suggest_float('gamma', 1e-8, 1.0, log=True),\n",
    "        'max_depth': trial.suggest_int('max_depth', 3, 9),\n",
    "        'min_child_weight': trial.suggest_int('min_child_weight', 1, 10),\n",
    "        'subsample': trial.suggest_float('subsample', 0.4, 1.0),\n",
    "        'colsample_bytree': trial.suggest_float('colsample_bytree', 0.4, 1.0),\n",
    "        'n_estimators': 300,\n",
    "    }\n",
    "\n",
    "    # Create DMatrix for XGBoost\n",
    "    dtrain = xgb.DMatrix(x_train, label=y_train)\n",
    "    dtest = xgb.DMatrix(x_test, label=y_test)\n",
    "\n",
    "    # Define a pruning callback based on evaluation metrics\n",
    "    pruning_callback = optuna.integration.XGBoostPruningCallback(trial, \"eval-mlogloss\")  # Match the metric name in the evals list\n",
    "\n",
    "    # Train the model\n",
    "    bst = xgb.train(\n",
    "        param,\n",
    "        dtrain,\n",
    "        num_boost_round=300,\n",
    "        evals=[(dtrain, \"train\"), (dtest, \"eval\")],  # Ensure the eval datasets and names are specified\n",
    "        early_stopping_rounds=30,\n",
    "        callbacks=[pruning_callback]\n",
    "    )\n",
    "\n",
    "    # Predict on the test set\n",
    "    preds = bst.predict(dtest)\n",
    "    best_preds = [int(np.argmax(line)) for line in preds]\n",
    "\n",
    "    # Return accuracy as the objective value\n",
    "    accuracy = accuracy_score(y_test, best_preds)\n",
    "    return accuracy\n",
    "\n",
    "# Create a study with pruning\n",
    "study = optuna.create_study(direction='maximize', pruner=optuna.pruners.SuccessiveHalvingPruner())\n",
    "study.optimize(objective, n_trials=50)\n",
    "\n",
    "# Output the best trial\n",
    "print(f\"Best trial: {study.best_trial.params}\")\n",
    "print(f\"Best accuracy: {study.best_value}\")\n"
   ]
  },
  {
   "cell_type": "code",
   "execution_count": 60,
   "id": "19d571c3",
   "metadata": {},
   "outputs": [
    {
     "data": {
      "application/vnd.plotly.v1+json": {
       "config": {
        "plotlyServerURL": "https://plot.ly"
       },
       "data": [
        {
         "marker": {
          "maxdisplayed": 10
         },
         "mode": "lines+markers",
         "name": "Trial0",
         "type": "scatter",
         "x": [
          0,
          1,
          2,
          3,
          4,
          5,
          6,
          7,
          8,
          9,
          10,
          11,
          12,
          13,
          14,
          15,
          16,
          17,
          18,
          19,
          20,
          21,
          22,
          23,
          24,
          25,
          26,
          27,
          28,
          29,
          30,
          31,
          32,
          33,
          34,
          35,
          36,
          37,
          38,
          39,
          40,
          41,
          42,
          43,
          44,
          45,
          46,
          47,
          48,
          49,
          50,
          51,
          52,
          53,
          54,
          55,
          56,
          57,
          58,
          59,
          60,
          61,
          62,
          63,
          64,
          65,
          66,
          67,
          68,
          69,
          70,
          71,
          72,
          73,
          74,
          75,
          76,
          77,
          78,
          79,
          80,
          81,
          82,
          83,
          84,
          85,
          86,
          87,
          88,
          89,
          90,
          91,
          92,
          93,
          94,
          95,
          96,
          97,
          98,
          99,
          100,
          101,
          102,
          103,
          104,
          105,
          106,
          107,
          108,
          109,
          110,
          111,
          112,
          113,
          114,
          115,
          116,
          117,
          118,
          119,
          120,
          121,
          122,
          123,
          124,
          125,
          126,
          127,
          128,
          129,
          130,
          131,
          132,
          133,
          134,
          135,
          136,
          137,
          138,
          139,
          140,
          141,
          142,
          143,
          144,
          145,
          146,
          147,
          148,
          149,
          150,
          151,
          152,
          153,
          154,
          155,
          156,
          157,
          158,
          159,
          160,
          161,
          162,
          163,
          164,
          165,
          166,
          167,
          168,
          169,
          170,
          171,
          172,
          173,
          174,
          175,
          176,
          177,
          178,
          179,
          180,
          181,
          182,
          183,
          184,
          185,
          186,
          187,
          188,
          189,
          190,
          191,
          192,
          193,
          194,
          195,
          196,
          197,
          198,
          199,
          200,
          201,
          202,
          203,
          204,
          205,
          206,
          207,
          208,
          209,
          210,
          211,
          212,
          213,
          214,
          215,
          216,
          217,
          218,
          219,
          220,
          221,
          222,
          223,
          224,
          225,
          226,
          227,
          228,
          229,
          230,
          231,
          232,
          233,
          234,
          235,
          236,
          237,
          238,
          239,
          240,
          241,
          242,
          243,
          244,
          245,
          246,
          247,
          248,
          249,
          250,
          251,
          252,
          253,
          254,
          255,
          256,
          257,
          258,
          259,
          260,
          261,
          262,
          263,
          264,
          265,
          266,
          267,
          268,
          269,
          270,
          271,
          272,
          273,
          274,
          275,
          276,
          277,
          278,
          279,
          280,
          281,
          282,
          283,
          284,
          285,
          286,
          287,
          288,
          289,
          290,
          291,
          292,
          293,
          294,
          295,
          296,
          297,
          298,
          299
         ],
         "y": [
          1.0053083062171937,
          0.9600918571154277,
          0.8899536450703939,
          0.8178253849347432,
          0.7579614698886872,
          0.6993249237537384,
          0.6484972516695658,
          0.6015398283799489,
          0.5596420566240946,
          0.5211144467194875,
          0.491188058257103,
          0.4582214732964834,
          0.4340376267830531,
          0.4058811823527018,
          0.3802371422449748,
          0.3626064439614614,
          0.3427286267280579,
          0.3225208898385366,
          0.30738804936409,
          0.2922582745552063,
          0.27992117901643115,
          0.26743293056885403,
          0.25137340029080707,
          0.2370519980788231,
          0.22356459697087605,
          0.21153653760751087,
          0.20251036087671917,
          0.19307966083288192,
          0.1859618231654167,
          0.1794256679713726,
          0.17556352044145265,
          0.16880818009376525,
          0.16144979918996494,
          0.15270678376158078,
          0.14789914389451345,
          0.1422038306792577,
          0.13765919903914134,
          0.1324318711956342,
          0.1292518310248852,
          0.12467665895819664,
          0.12205401609341303,
          0.11727298324306806,
          0.11326094965140025,
          0.11042378743489584,
          0.1070590483645598,
          0.10505626375476519,
          0.10141760135690371,
          0.10083393653233846,
          0.09951646750171979,
          0.09740966111421585,
          0.09608261063694953,
          0.09387691567341487,
          0.09280415040751298,
          0.09117795266211033,
          0.09130177075664202,
          0.09126142126818498,
          0.09094566367566585,
          0.09105618459482988,
          0.09028991920252641,
          0.08898402030269305,
          0.08854022845625878,
          0.08846992341180643,
          0.0879060983657837,
          0.0868105790267388,
          0.08697257153689861,
          0.08567649684846401,
          0.0843508889277776,
          0.08346721827983856,
          0.08282981229325136,
          0.08272076609234015,
          0.08213278452555338,
          0.08131202446917693,
          0.0812883889923493,
          0.08118918885787328,
          0.08102596377333006,
          0.0796823004881541,
          0.07955115213990212,
          0.07965342464546363,
          0.07981242847939332,
          0.07908450588583946,
          0.07920383972426255,
          0.07823437849680583,
          0.07852798315385977,
          0.07780883150796096,
          0.07748757613201936,
          0.07747055801252524,
          0.07711574373145898,
          0.07697612270712853,
          0.07696622684597969,
          0.07696622684597969,
          0.07628799776236216,
          0.07629818444450696,
          0.075942928592364,
          0.07598408112923304,
          0.07599391626815001,
          0.07595888786017894,
          0.07515720911324024,
          0.07503002770245075,
          0.07497203561166922,
          0.0747226911286513,
          0.07468864545226098,
          0.07425063091019789,
          0.07384140541156133,
          0.07342179740468661,
          0.07332301723460356,
          0.0726419236510992,
          0.07276846058666706,
          0.07276348881423474,
          0.07275772852202257,
          0.07288479184110959,
          0.07288356137772402,
          0.07285879589617253,
          0.07256417460739613,
          0.07268335235615571,
          0.0728583998978138,
          0.07279779401918253,
          0.07279983994861444,
          0.07260552731653054,
          0.07244811418155829,
          0.07203379459679127,
          0.07204881223539511,
          0.0720545582473278,
          0.0720545582473278,
          0.0721459735184908,
          0.07195661701261998,
          0.07193769924342633,
          0.07186924442648887,
          0.07189020079871018,
          0.07189020079871018,
          0.07189418872197469,
          0.07186161503195762,
          0.07186161503195762,
          0.07127722899119059,
          0.07056480546792349,
          0.07057650461792946,
          0.07046271736423175,
          0.07048658058047294,
          0.07037625772257645,
          0.0702708343664805,
          0.06997707312305769,
          0.0699330239246289,
          0.06978400287528833,
          0.0698107057561477,
          0.0698066891481479,
          0.06979174862305323,
          0.06981747212509314,
          0.06978271504243215,
          0.06914993189275265,
          0.0691344560434421,
          0.06912599888940653,
          0.06912599888940653,
          0.06900952681899071,
          0.068987188488245,
          0.06869367149968943,
          0.06812914597491423,
          0.06817059082289537,
          0.068252819404006,
          0.06800408773124218,
          0.06795422124365966,
          0.06792887474099794,
          0.06789514720439911,
          0.06789514720439911,
          0.06789376437664033,
          0.06771106210847695,
          0.0677239672591289,
          0.06794575067857901,
          0.0678637215246757,
          0.0678637215246757,
          0.06806086202462515,
          0.06789906906584899,
          0.06791595580677191,
          0.06759430753688017,
          0.067588256051143,
          0.06753701232373714,
          0.06755011864006519,
          0.0673574631412824,
          0.06745118101437887,
          0.06733664025863012,
          0.06685386964430412,
          0.06683902038882177,
          0.06641838351885478,
          0.06641838351885478,
          0.0664141766106089,
          0.06636186751226585,
          0.06635770065089067,
          0.06635770065089067,
          0.06635770065089067,
          0.06635175949583451,
          0.06636044147113959,
          0.06638447331885497,
          0.06638938523828983,
          0.06637227622171243,
          0.06637013033032417,
          0.06650020629167556,
          0.06645033073921998,
          0.06645033073921998,
          0.06645033073921998,
          0.06645033073921998,
          0.06650754225750764,
          0.06622892040759325,
          0.06622892040759325,
          0.0659252168610692,
          0.06592692819734415,
          0.06558730142811935,
          0.06557226373503605,
          0.06557226373503605,
          0.06556230168789626,
          0.06556230168789626,
          0.0655780483658115,
          0.06566343661397696,
          0.06551298629492522,
          0.06551288074503342,
          0.06551334075629711,
          0.06551334075629711,
          0.06551334075629711,
          0.06557078920304775,
          0.065439812031885,
          0.06525466373811166,
          0.06525466373811166,
          0.06522541784991821,
          0.06522842093060414,
          0.06521701241532961,
          0.06521701241532961,
          0.06515097835411628,
          0.06463993862271308,
          0.06423305080582699,
          0.0643851471443971,
          0.06434868356833855,
          0.06434401950488487,
          0.06438164922098319,
          0.06438164922098319,
          0.06438899220277866,
          0.06438899220277866,
          0.06437063924968242,
          0.06441870934019486,
          0.06443561799824238,
          0.06446872477730116,
          0.06428248938173056,
          0.06422157560785612,
          0.06420627341916164,
          0.0642622323706746,
          0.0642622323706746,
          0.0642622323706746,
          0.06424920906623205,
          0.06408225993315379,
          0.06398367856939634,
          0.0639179915189743,
          0.06391963964949052,
          0.06392032777269681,
          0.0638984544823567,
          0.06381351618717114,
          0.06381764138738315,
          0.06364451913783947,
          0.06364451913783947,
          0.06365441127369802,
          0.06343688524017731,
          0.06343688524017731,
          0.06343643969545762,
          0.06338362203290065,
          0.06338628648469845,
          0.06333883330225945,
          0.06333704746017853,
          0.06306744230290254,
          0.06305445122222106,
          0.06303791794925928,
          0.06303791794925928,
          0.06274042204022408,
          0.06281677434841791,
          0.06267006949832042,
          0.06267006949832042,
          0.06250833633045355,
          0.0625103106101354,
          0.0625041913241148,
          0.06248060197879871,
          0.06252831717332204,
          0.06258029441038768,
          0.06258173771202565,
          0.06260033498207727,
          0.06260033498207727,
          0.06260033498207727,
          0.06258077671130498,
          0.06257774885743857,
          0.0625038064395388,
          0.06251328339179357,
          0.06246180702000857,
          0.06245557945221662,
          0.06247930532942216,
          0.06229049290219943,
          0.06228713194529215,
          0.06220027313878139,
          0.06219315622001886,
          0.06219315622001886,
          0.06220902670174837,
          0.0621572299549977,
          0.06215700271228949,
          0.06214869922647873,
          0.06238305643200874,
          0.06238428832342227,
          0.06239029547820488,
          0.06239029547820488
         ]
        },
        {
         "marker": {
          "maxdisplayed": 10
         },
         "mode": "lines+markers",
         "name": "Trial1",
         "type": "scatter",
         "x": [
          0,
          1,
          2,
          3,
          4,
          5,
          6,
          7,
          8,
          9,
          10,
          11,
          12,
          13,
          14,
          15,
          16,
          17,
          18,
          19,
          20,
          21,
          22,
          23,
          24,
          25,
          26,
          27,
          28,
          29,
          30,
          31,
          32,
          33,
          34,
          35,
          36,
          37,
          38,
          39,
          40,
          41,
          42,
          43,
          44,
          45,
          46,
          47,
          48,
          49,
          50,
          51,
          52,
          53,
          54,
          55,
          56,
          57,
          58,
          59,
          60,
          61,
          62,
          63,
          64,
          65,
          66,
          67,
          68,
          69,
          70,
          71,
          72,
          73,
          74,
          75,
          76,
          77,
          78,
          79,
          80,
          81,
          82,
          83,
          84,
          85,
          86,
          87,
          88,
          89,
          90,
          91,
          92,
          93,
          94,
          95,
          96,
          97,
          98,
          99,
          100,
          101,
          102,
          103,
          104,
          105,
          106,
          107,
          108,
          109,
          110,
          111,
          112,
          113,
          114,
          115,
          116,
          117,
          118,
          119,
          120,
          121,
          122,
          123,
          124,
          125,
          126,
          127,
          128,
          129,
          130,
          131,
          132,
          133,
          134,
          135,
          136,
          137,
          138,
          139,
          140,
          141,
          142,
          143,
          144,
          145,
          146,
          147,
          148,
          149,
          150,
          151,
          152,
          153,
          154,
          155,
          156,
          157,
          158,
          159,
          160,
          161,
          162,
          163,
          164,
          165,
          166,
          167,
          168,
          169,
          170,
          171,
          172,
          173,
          174,
          175,
          176,
          177,
          178,
          179,
          180,
          181,
          182,
          183,
          184,
          185,
          186,
          187,
          188,
          189,
          190,
          191,
          192,
          193,
          194,
          195,
          196,
          197,
          198,
          199,
          200,
          201,
          202,
          203,
          204,
          205,
          206,
          207,
          208,
          209,
          210,
          211,
          212,
          213,
          214,
          215,
          216,
          217,
          218,
          219,
          220,
          221,
          222,
          223,
          224,
          225,
          226,
          227,
          228,
          229,
          230,
          231,
          232,
          233,
          234,
          235,
          236,
          237,
          238,
          239,
          240,
          241,
          242,
          243,
          244,
          245,
          246,
          247,
          248,
          249,
          250,
          251,
          252,
          253,
          254,
          255,
          256,
          257,
          258,
          259,
          260,
          261,
          262,
          263,
          264,
          265,
          266,
          267,
          268,
          269,
          270,
          271,
          272,
          273,
          274,
          275,
          276,
          277,
          278,
          279,
          280,
          281,
          282,
          283,
          284,
          285,
          286,
          287,
          288,
          289,
          290,
          291,
          292,
          293,
          294,
          295,
          296,
          297,
          298,
          299
         ],
         "y": [
          1.0130048175652822,
          0.9283736884593964,
          0.8566848933696747,
          0.7891850928465526,
          0.7323765198389689,
          0.6742865482966105,
          0.6229238132635753,
          0.5785091956456502,
          0.5367978036403656,
          0.4996908873319626,
          0.4654786775509516,
          0.4329902082681656,
          0.40432547628879545,
          0.3771136075258255,
          0.3512955645720164,
          0.327497070034345,
          0.30512802402178446,
          0.2852632090449333,
          0.26775989482800167,
          0.2508526066939036,
          0.23560672650734585,
          0.22172112266222635,
          0.20729811588923136,
          0.1939962630470594,
          0.18207435955603918,
          0.1712540566921234,
          0.16160749197006224,
          0.1547681786119938,
          0.14889620145161947,
          0.1416497250398,
          0.1359197234114011,
          0.12995984628796578,
          0.12502562974890072,
          0.11884806677699089,
          0.11456121504306793,
          0.11180591732263565,
          0.1083864671488603,
          0.10610605130592982,
          0.10299342994888623,
          0.0999347023665905,
          0.09891754016280174,
          0.09749109124143919,
          0.09607386613885562,
          0.09355871751904488,
          0.09116869469483693,
          0.09097629562020301,
          0.09023167019089064,
          0.09014045111835003,
          0.08949800978104273,
          0.08781093607346217,
          0.0860370259732008,
          0.08436076703170935,
          0.08428786930938562,
          0.08411160248021285,
          0.08421088022490343,
          0.08339556393524011,
          0.08230905582507451,
          0.08229450372358163,
          0.08156083437303702,
          0.0814640582849582,
          0.08198872705300649,
          0.08185920628408591,
          0.08159633005658785,
          0.08123536010583242,
          0.08125185966491699,
          0.08129173045357069,
          0.08079025074839592,
          0.08061915598809719,
          0.07984289688368638,
          0.07957369076708952,
          0.07857545465230942,
          0.07845592896143595,
          0.078320720170935,
          0.07742516472935676,
          0.07757025348643462,
          0.07756572415431341,
          0.07759726991256079,
          0.07746417907377084,
          0.07747324245671432,
          0.07664109244942666,
          0.0766216923793157,
          0.07663300496836503,
          0.0771385076145331,
          0.07720674350857734,
          0.07666575759649277,
          0.07654100817938646,
          0.07672558762133122,
          0.07671488163371881,
          0.07661819867789746,
          0.07583648251990477,
          0.07576076363523801,
          0.0757000325868527,
          0.07563749365508557,
          0.07521384259064992,
          0.0751633357256651,
          0.0752584787706534,
          0.0752827430764834,
          0.07474689272542795,
          0.07484189296762149,
          0.07475392818450928,
          0.07460134302576384,
          0.07374785443147024,
          0.07240619957447052,
          0.07236678389211496,
          0.07220872715115548,
          0.0718486617008845,
          0.07193412818014622,
          0.07220077551901341,
          0.07210002069671949,
          0.07200239412486553,
          0.07205673071245353,
          0.07181871968011061,
          0.07169846147298813,
          0.07163085962335268,
          0.07168464201192061,
          0.07168298649291198,
          0.07179608469208082,
          0.07155367483695348,
          0.0715243510901928,
          0.0714036042491595,
          0.07120666553576788,
          0.07139965879420439,
          0.07143331542611123,
          0.07135205728312334,
          0.07047653831541538,
          0.07055745087563992,
          0.07042411329845587,
          0.0704770871748527,
          0.07051397040486336,
          0.0704365398734808,
          0.07076517095168432,
          0.07077743771175543,
          0.07078079357743264,
          0.07075247578322888,
          0.07078339147071043,
          0.06939611422518889,
          0.06952036817868551,
          0.06927573171754678,
          0.06903896567722162,
          0.06903299503028393,
          0.06891737021505832,
          0.06830575664838155,
          0.06860324703156948,
          0.06865976552168528,
          0.06854601589341959,
          0.06866537282864253,
          0.06809474316736062,
          0.06696949327985445,
          0.06694342543681463,
          0.06693779652317365,
          0.06666856308778127,
          0.0666485828657945,
          0.0667615736524264,
          0.06669379075368245,
          0.06608390708764394,
          0.0660075057297945,
          0.06600557764371236,
          0.06598526934782664,
          0.06594484771291415,
          0.06583002482851347,
          0.06578399017453193,
          0.06550480065246424,
          0.06548248305916786,
          0.06559053510427475,
          0.06568059722582499,
          0.06557923033833504,
          0.06534823601444563,
          0.06537582601110141,
          0.06542956046760082,
          0.06543953903019428,
          0.06543854996562004,
          0.06517253058652082,
          0.06507470011711121,
          0.06509972847998143,
          0.0653782531619072,
          0.06536990205446878,
          0.06506541073322296,
          0.0650284893810749,
          0.0650750699142615,
          0.06509101341168086,
          0.06452788015206655,
          0.06447899130483468,
          0.06428941637277603,
          0.06441711770991485,
          0.06441597218314807,
          0.06461674198508263,
          0.06423132208486398,
          0.0641805784155925,
          0.06433654154340426,
          0.06443120191494624,
          0.06460996295015017,
          0.06449459878106913,
          0.06447410757342974,
          0.06441152766346932,
          0.06438892371952534,
          0.06431632488965988,
          0.06428108625113964,
          0.06419920325279235,
          0.06392865876356761,
          0.06368235908448697,
          0.06352926927308242,
          0.06346253876884779,
          0.06348136762777964,
          0.06358064947028955,
          0.06357136269410452,
          0.06350742342571418,
          0.063737008223931,
          0.06373402836422125,
          0.06363529898226261,
          0.0633856197198232,
          0.06341395551959673,
          0.06344329491257668,
          0.06306409674386183,
          0.06310376959542434,
          0.06329384918014208,
          0.06342801786959171,
          0.06373763419687747,
          0.06327159255743027,
          0.06355280727148056,
          0.06357284349699815,
          0.06361485893527667,
          0.06337160480519136,
          0.06325010508298874,
          0.06309477649629117,
          0.06303943482538064,
          0.06184628220895926,
          0.06184267761806647,
          0.06192318437000115,
          0.06205046450098355,
          0.06224121985336144,
          0.06196186989545822,
          0.06195555217564106,
          0.06206364457805951,
          0.0619589534898599,
          0.06208446236948172,
          0.06208452936261892,
          0.06215778595457475,
          0.0621247290323178,
          0.06217197837928931,
          0.06207257509231567,
          0.06218052978316943,
          0.0623933690910538,
          0.06241253142555555,
          0.0623274860282739,
          0.06236690003424883,
          0.06218395736068487,
          0.06204644466439883,
          0.06208514894048373,
          0.06203673978646596,
          0.06197937441368898,
          0.06189700538913409,
          0.06188540011644363,
          0.06151931881904602,
          0.06151967843373617,
          0.06180858698983987,
          0.06182275464137395,
          0.06182641722261906,
          0.06180321015417576,
          0.06173180639743805,
          0.0617545448243618,
          0.06169681412478288,
          0.0615963959445556,
          0.06117663085460663,
          0.0609568174307545,
          0.06094355148573716,
          0.06103934217244387,
          0.06053456142544746,
          0.06057528865834077,
          0.06056212609012922,
          0.06054021579523881,
          0.06049777412166198,
          0.06054884660989046,
          0.06069350074976683,
          0.06052191971490781,
          0.06045066167910894,
          0.06059971787035465,
          0.06055851050963004,
          0.06046957050760587,
          0.06026005800813437,
          0.06023325125376384,
          0.06018178990731637,
          0.06022353408237299,
          0.059992925884823,
          0.06002504993230105,
          0.06004017752905687,
          0.06001906835784514,
          0.06001556180417537,
          0.05991257348408301,
          0.05991260769466559,
          0.05995936853190263,
          0.05997454412281513,
          0.05997586057831843,
          0.06002266872674226,
          0.05952998952319224,
          0.05959036132941643,
          0.05952046141028404,
          0.0596576721717914,
          0.05969840430965026,
          0.05961275324225426,
          0.05958865092446407
         ]
        },
        {
         "marker": {
          "maxdisplayed": 10
         },
         "mode": "lines+markers",
         "name": "Trial2",
         "type": "scatter",
         "x": [
          0,
          1,
          2
         ],
         "y": [
          0.9752486129601796,
          0.8777906040350596,
          0.791903148094813
         ]
        },
        {
         "marker": {
          "maxdisplayed": 10
         },
         "mode": "lines+markers",
         "name": "Trial3",
         "type": "scatter",
         "x": [
          0,
          1,
          2
         ],
         "y": [
          0.9631006518999735,
          0.9099043865998586,
          0.8156713048617045
         ]
        },
        {
         "marker": {
          "maxdisplayed": 10
         },
         "mode": "lines+markers",
         "name": "Trial4",
         "type": "scatter",
         "x": [
          0,
          1,
          2
         ],
         "y": [
          0.7968733886877696,
          0.6962827265262603,
          0.5470421453317006
         ]
        },
        {
         "marker": {
          "maxdisplayed": 10
         },
         "mode": "lines+markers",
         "name": "Trial5",
         "type": "scatter",
         "x": [
          0,
          1,
          2
         ],
         "y": [
          0.7513829886913299,
          0.6267998625834783,
          0.46879731317361195
         ]
        },
        {
         "marker": {
          "maxdisplayed": 10
         },
         "mode": "lines+markers",
         "name": "Trial6",
         "type": "scatter",
         "x": [
          0,
          1,
          2,
          3,
          4,
          5,
          6,
          7,
          8,
          9,
          10,
          11,
          12,
          13,
          14,
          15,
          16,
          17,
          18,
          19,
          20,
          21,
          22,
          23,
          24,
          25,
          26,
          27,
          28,
          29,
          30,
          31,
          32,
          33,
          34,
          35,
          36,
          37,
          38,
          39,
          40,
          41,
          42,
          43,
          44,
          45,
          46,
          47,
          48,
          49,
          50,
          51,
          52,
          53,
          54,
          55,
          56,
          57,
          58,
          59,
          60,
          61,
          62,
          63,
          64,
          65,
          66,
          67,
          68,
          69,
          70,
          71,
          72,
          73,
          74,
          75,
          76,
          77,
          78,
          79,
          80,
          81,
          82,
          83,
          84,
          85,
          86,
          87,
          88,
          89,
          90,
          91,
          92,
          93,
          94,
          95,
          96,
          97,
          98,
          99,
          100,
          101,
          102,
          103,
          104,
          105,
          106,
          107,
          108,
          109,
          110,
          111,
          112,
          113,
          114,
          115,
          116,
          117,
          118,
          119,
          120,
          121,
          122,
          123,
          124,
          125,
          126,
          127,
          128,
          129,
          130,
          131,
          132,
          133,
          134,
          135,
          136,
          137,
          138,
          139,
          140,
          141,
          142,
          143,
          144,
          145,
          146,
          147,
          148,
          149,
          150,
          151,
          152,
          153,
          154,
          155,
          156,
          157,
          158,
          159,
          160,
          161,
          162,
          163,
          164,
          165,
          166,
          167,
          168,
          169,
          170,
          171,
          172,
          173,
          174,
          175,
          176,
          177,
          178,
          179,
          180,
          181,
          182,
          183,
          184,
          185,
          186,
          187,
          188,
          189,
          190,
          191,
          192,
          193,
          194,
          195,
          196,
          197,
          198,
          199,
          200,
          201,
          202,
          203,
          204,
          205,
          206,
          207,
          208,
          209,
          210,
          211,
          212,
          213,
          214,
          215,
          216,
          217,
          218,
          219,
          220,
          221,
          222,
          223,
          224,
          225,
          226,
          227,
          228,
          229,
          230,
          231,
          232,
          233,
          234,
          235,
          236,
          237,
          238,
          239,
          240,
          241,
          242,
          243,
          244,
          245,
          246,
          247,
          248,
          249,
          250,
          251,
          252,
          253,
          254,
          255,
          256,
          257,
          258,
          259,
          260,
          261,
          262,
          263,
          264,
          265,
          266,
          267,
          268,
          269,
          270,
          271,
          272,
          273,
          274,
          275,
          276,
          277,
          278,
          279,
          280,
          281,
          282,
          283,
          284,
          285,
          286,
          287,
          288,
          289,
          290,
          291,
          292,
          293,
          294,
          295,
          296,
          297,
          298,
          299
         ],
         "y": [
          1.075625224908193,
          1.064978571732839,
          1.0448535402615866,
          1.0226911902427673,
          1.0029544572035471,
          0.9824929436047872,
          0.9627224544684092,
          0.94344735344251,
          0.9243014852205912,
          0.9061572114626567,
          0.8911686281363169,
          0.8744649032751719,
          0.8606820464134216,
          0.8438677767912547,
          0.8274229387442271,
          0.8145084361235301,
          0.8008312920729319,
          0.7858426551024119,
          0.7735189159711202,
          0.761087421576182,
          0.7497924208641052,
          0.7380002935727438,
          0.723732735713323,
          0.71052152911822,
          0.6971895118554433,
          0.684120794137319,
          0.6727405289808909,
          0.6618826905886332,
          0.6504491408665974,
          0.6407425045967102,
          0.6346727172533672,
          0.6259308755397797,
          0.618006044626236,
          0.606489368279775,
          0.598599237203598,
          0.5879069328308105,
          0.579151048262914,
          0.5688976605733236,
          0.5596355587244034,
          0.5504095415274303,
          0.5429102967182795,
          0.5336291720469792,
          0.525029969215393,
          0.516413148244222,
          0.5095215876897176,
          0.5009863644838333,
          0.49293191730976105,
          0.4861980507771174,
          0.4784422288338343,
          0.470157394806544,
          0.46224287648995716,
          0.4552564650774002,
          0.45056338707606,
          0.44335068166255953,
          0.4384112646182378,
          0.4330733468135198,
          0.4275999615589778,
          0.4223815967639287,
          0.41748471061388653,
          0.4110584785540899,
          0.4055638035138448,
          0.401788122455279,
          0.39612635572751365,
          0.3900339722633362,
          0.38526946008205415,
          0.379503337542216,
          0.37488281230131787,
          0.3705325623353322,
          0.36638823747634885,
          0.3628140360116959,
          0.3595265527566274,
          0.3553936739762624,
          0.35205306609471637,
          0.3469730496406555,
          0.34207137127717335,
          0.3378131886323293,
          0.33490010102589923,
          0.330479038755099,
          0.3275855908791224,
          0.3227570831775665,
          0.31990348597367607,
          0.3163031876087189,
          0.31276722451051076,
          0.30907782912254333,
          0.3049999202291171,
          0.3032823964953423,
          0.29971350679794945,
          0.29646647373835244,
          0.29351230412721635,
          0.2899305845300357,
          0.28689165860414506,
          0.2844532792766889,
          0.2822351063291232,
          0.27928765217463175,
          0.2764099637667338,
          0.27399383783340453,
          0.2710040455063184,
          0.2684384693702062,
          0.2657115265727043,
          0.2629803722103437,
          0.2612235710024834,
          0.25842841267585753,
          0.2560938174525897,
          0.25359126428763074,
          0.25209283232688906,
          0.2504795104265213,
          0.24892013967037202,
          0.24672084401051203,
          0.24468587835629782,
          0.2424185906847318,
          0.24030677477518717,
          0.23837655981381733,
          0.23706013907988865,
          0.23549797932306926,
          0.23334222187598547,
          0.23197739124298095,
          0.23166487514972686,
          0.23030333469311395,
          0.22942666411399842,
          0.22730647871891657,
          0.22694916278123856,
          0.22619126091400782,
          0.22519198407729465,
          0.22492528011401494,
          0.2238678902387619,
          0.22365635981162388,
          0.222702361146609,
          0.2223380411664645,
          0.22138893554608027,
          0.22062213917573292,
          0.21995946317911147,
          0.21886960566043853,
          0.21789882729450863,
          0.2167470688621203,
          0.21571977883577348,
          0.2147365485628446,
          0.21395069311062495,
          0.21303162376085918,
          0.21285756677389145,
          0.21190880288680394,
          0.21183980156977972,
          0.2115898902217547,
          0.21116323272387186,
          0.21036625504493714,
          0.21016420473655065,
          0.2099989210565885,
          0.2099606951077779,
          0.20927072862784069,
          0.20908417801062265,
          0.20837285617987314,
          0.20830831229686736,
          0.20830169518788655,
          0.20825553486744564,
          0.2081979215145111,
          0.20728208869695663,
          0.2073392853140831,
          0.20722643087307613,
          0.2071551556388537,
          0.2070907880862554,
          0.20699915637572605,
          0.20691060920556387,
          0.20667799860239028,
          0.20592126895984014,
          0.20503447155157725,
          0.20497997005780538,
          0.2049627179900805,
          0.20470387438933055,
          0.20468527575333914,
          0.20438155382871628,
          0.2040482997894287,
          0.204105943441391,
          0.20367959390083948,
          0.20351756612459818,
          0.20348259806632996,
          0.20299570908149084,
          0.20295934975147248,
          0.20251945505539576,
          0.20234549790620804,
          0.20237937271595002,
          0.20200281341870627,
          0.20173398206631343,
          0.2016907845934232,
          0.20154469211896262,
          0.20117427110671998,
          0.2011453037460645,
          0.2010216732819875,
          0.2006066381931305,
          0.20056868046522142,
          0.2003537784020106,
          0.20032631655534108,
          0.20028679370880126,
          0.20011082788308462,
          0.20017188936471939,
          0.19999445180098216,
          0.19994812111059826,
          0.19991454432408015,
          0.19988930076360703,
          0.19995097319285074,
          0.19998804728190103,
          0.19910629789034526,
          0.19895522842804592,
          0.19866865823666255,
          0.19859645664691924,
          0.19834140489498775,
          0.19830295741558074,
          0.19824457267920176,
          0.198226135969162,
          0.19815251976251602,
          0.1981552834312121,
          0.19809565544128419,
          0.19786395927270253,
          0.19783948560555775,
          0.19770577400922776,
          0.19774857610464097,
          0.19697183122237524,
          0.19610418180624645,
          0.19538729935884475,
          0.195159408946832,
          0.19431150952974954,
          0.1942669024070104,
          0.1942226747671763,
          0.19419622073570889,
          0.1941676343480746,
          0.19404356976350148,
          0.1930406853556633,
          0.19238748649756113,
          0.19155702938636143,
          0.1915117437640826,
          0.19149020065863928,
          0.19146282275517781,
          0.19143594751755397,
          0.19141241908073425,
          0.19139860371748607,
          0.1913160115480423,
          0.19073995649814607,
          0.19070299118757247,
          0.19068533579508465,
          0.19050996204217274,
          0.19048770815134047,
          0.1903845449288686,
          0.19040199220180512,
          0.19035323113203048,
          0.19039735545714695,
          0.1904478480418523,
          0.19033385217189788,
          0.190201531847318,
          0.19014710634946824,
          0.1900854249795278,
          0.19011685649553936,
          0.1900581697622935,
          0.19000275284051896,
          0.18997704436381657,
          0.18994135359923045,
          0.1899203638235728,
          0.18912030110756556,
          0.18904891163110732,
          0.18896889090538024,
          0.1889536460240682,
          0.18876974682013195,
          0.18877739558617274,
          0.18871430804332098,
          0.1887087027231852,
          0.18866146902243297,
          0.18862726986408235,
          0.18846161117156346,
          0.18834381451209387,
          0.18818880766630172,
          0.1879377822081248,
          0.18792486687501272,
          0.18786794592936834,
          0.18775217433770497,
          0.1872642939289411,
          0.18717754930257796,
          0.18714445779720942,
          0.18717476824919382,
          0.18712420413891476,
          0.18710496326287587,
          0.1870717724164327,
          0.18704163481791813,
          0.1870180721084277,
          0.18700974980990093,
          0.18697870473066966,
          0.1869494289159775,
          0.18679870367050172,
          0.1867579365770022,
          0.1867564007639885,
          0.1867508351802826,
          0.18674175590276718,
          0.18674752513567608,
          0.18614486406246822,
          0.1861124411225319,
          0.18612253020207087,
          0.1859767218430837,
          0.18598342835903167,
          0.18595115343729654,
          0.1858918363849322,
          0.18581328292687735,
          0.18585174630085627,
          0.1858983059724172,
          0.185835758348306
         ]
        },
        {
         "marker": {
          "maxdisplayed": 10
         },
         "mode": "lines+markers",
         "name": "Trial7",
         "type": "scatter",
         "x": [
          0,
          1,
          2
         ],
         "y": [
          0.9360155363877615,
          0.8639385183652242,
          0.750587260723114
         ]
        },
        {
         "marker": {
          "maxdisplayed": 10
         },
         "mode": "lines+markers",
         "name": "Trial8",
         "type": "scatter",
         "x": [
          0,
          1,
          2
         ],
         "y": [
          0.9732433100541432,
          0.9140635192394256,
          0.8217521707216898
         ]
        },
        {
         "marker": {
          "maxdisplayed": 10
         },
         "mode": "lines+markers",
         "name": "Trial9",
         "type": "scatter",
         "x": [
          0,
          1,
          2
         ],
         "y": [
          0.8759097317854564,
          0.7911979595820109,
          0.6610360085964203
         ]
        },
        {
         "marker": {
          "maxdisplayed": 10
         },
         "mode": "lines+markers",
         "name": "Trial10",
         "type": "scatter",
         "x": [
          0,
          1,
          2,
          3,
          4,
          5,
          6,
          7,
          8,
          9,
          10,
          11,
          12,
          13,
          14,
          15,
          16,
          17,
          18,
          19,
          20,
          21,
          22,
          23,
          24,
          25,
          26,
          27,
          28,
          29,
          30,
          31,
          32
         ],
         "y": [
          1.0740140239397684,
          1.061587389310201,
          1.0480953375498454,
          1.0214063862959544,
          1.0112039983272552,
          0.9958186447620392,
          0.9700971941153208,
          0.9430407524108887,
          0.9321652054786682,
          0.9064029475053151,
          0.8869408826033275,
          0.8799483080705007,
          0.8592970669269562,
          0.8432788292566935,
          0.820804645617803,
          0.8087459584077199,
          0.79789297580719,
          0.7823901613553365,
          0.7663878401120504,
          0.7617021103700002,
          0.7575306932131449,
          0.7444240192572276,
          0.7246339559555054,
          0.7057685335477193,
          0.6913422922293345,
          0.6736442943414053,
          0.6703029870986938,
          0.6554933885733286,
          0.647881555557251,
          0.6383340060710907,
          0.632590381304423,
          0.6204604893922806,
          0.6054140210151673
         ]
        },
        {
         "marker": {
          "maxdisplayed": 10
         },
         "mode": "lines+markers",
         "name": "Trial11",
         "type": "scatter",
         "x": [
          0,
          1,
          2
         ],
         "y": [
          1.0258724331855773,
          0.9581042389074962,
          0.894580473502477
         ]
        },
        {
         "marker": {
          "maxdisplayed": 10
         },
         "mode": "lines+markers",
         "name": "Trial12",
         "type": "scatter",
         "x": [
          0,
          1,
          2
         ],
         "y": [
          0.8976718405882518,
          0.7254026651382446,
          0.5991719822088878
         ]
        },
        {
         "marker": {
          "maxdisplayed": 10
         },
         "mode": "lines+markers",
         "name": "Trial13",
         "type": "scatter",
         "x": [
          0,
          1,
          2
         ],
         "y": [
          1.0205140193303426,
          0.9491769274075826,
          0.8827343205610911
         ]
        },
        {
         "marker": {
          "maxdisplayed": 10
         },
         "mode": "lines+markers",
         "name": "Trial14",
         "type": "scatter",
         "x": [
          0,
          1,
          2
         ],
         "y": [
          1.0214040160179139,
          0.948115203777949,
          0.8833364466826121
         ]
        },
        {
         "marker": {
          "maxdisplayed": 10
         },
         "mode": "lines+markers",
         "name": "Trial15",
         "type": "scatter",
         "x": [
          0,
          1,
          2
         ],
         "y": [
          0.8631011048952738,
          0.6962954481442769,
          0.5514274994532268
         ]
        },
        {
         "marker": {
          "maxdisplayed": 10
         },
         "mode": "lines+markers",
         "name": "Trial16",
         "type": "scatter",
         "x": [
          0,
          1,
          2
         ],
         "y": [
          0.948310508330663,
          0.8143125931421916,
          0.6974857588609059
         ]
        },
        {
         "marker": {
          "maxdisplayed": 10
         },
         "mode": "lines+markers",
         "name": "Trial17",
         "type": "scatter",
         "x": [
          0,
          1,
          2
         ],
         "y": [
          0.9897121906280517,
          0.9374900857607523,
          0.8607334693272909
         ]
        },
        {
         "marker": {
          "maxdisplayed": 10
         },
         "mode": "lines+markers",
         "name": "Trial18",
         "type": "scatter",
         "x": [
          0,
          1,
          2,
          3,
          4,
          5,
          6,
          7,
          8
         ],
         "y": [
          1.0658343195915223,
          1.0491288979848226,
          1.0306860903898876,
          0.9929178376992543,
          0.9807634751001993,
          0.9601589858531951,
          0.9258208692073822,
          0.8903260072072346,
          0.8776313205560048
         ]
        },
        {
         "marker": {
          "maxdisplayed": 10
         },
         "mode": "lines+markers",
         "name": "Trial19",
         "type": "scatter",
         "x": [
          0,
          1,
          2
         ],
         "y": [
          0.9107371747493744,
          0.8361758450667064,
          0.7202659964561462
         ]
        },
        {
         "marker": {
          "maxdisplayed": 10
         },
         "mode": "lines+markers",
         "name": "Trial20",
         "type": "scatter",
         "x": [
          0,
          1,
          2
         ],
         "y": [
          0.8339465220769247,
          0.740063214302063,
          0.5940127670764923
         ]
        },
        {
         "marker": {
          "maxdisplayed": 10
         },
         "mode": "lines+markers",
         "name": "Trial21",
         "type": "scatter",
         "x": [
          0,
          1,
          2,
          3,
          4,
          5,
          6,
          7,
          8,
          9,
          10,
          11,
          12,
          13,
          14,
          15,
          16,
          17,
          18,
          19,
          20,
          21,
          22,
          23,
          24,
          25,
          26,
          27,
          28,
          29,
          30,
          31,
          32,
          33,
          34,
          35,
          36,
          37,
          38,
          39,
          40,
          41,
          42,
          43,
          44,
          45,
          46,
          47,
          48,
          49,
          50,
          51,
          52,
          53,
          54,
          55,
          56,
          57,
          58,
          59,
          60,
          61,
          62,
          63,
          64,
          65,
          66,
          67,
          68,
          69,
          70,
          71,
          72,
          73,
          74,
          75,
          76,
          77,
          78,
          79,
          80,
          81,
          82,
          83,
          84,
          85,
          86,
          87,
          88,
          89,
          90,
          91,
          92,
          93,
          94,
          95,
          96,
          97,
          98,
          99,
          100,
          101,
          102,
          103,
          104,
          105,
          106,
          107,
          108,
          109,
          110,
          111,
          112,
          113,
          114,
          115,
          116,
          117,
          118,
          119,
          120,
          121,
          122,
          123,
          124,
          125,
          126,
          127,
          128,
          129,
          130,
          131,
          132,
          133,
          134,
          135,
          136,
          137,
          138,
          139,
          140,
          141,
          142,
          143,
          144,
          145,
          146,
          147,
          148,
          149,
          150,
          151,
          152,
          153,
          154,
          155,
          156,
          157,
          158,
          159,
          160,
          161,
          162,
          163,
          164,
          165,
          166,
          167,
          168,
          169,
          170,
          171,
          172,
          173,
          174,
          175,
          176,
          177,
          178,
          179,
          180,
          181,
          182,
          183,
          184,
          185,
          186,
          187,
          188,
          189,
          190,
          191,
          192,
          193,
          194,
          195,
          196,
          197,
          198,
          199,
          200,
          201,
          202,
          203,
          204,
          205,
          206,
          207,
          208,
          209,
          210,
          211,
          212,
          213,
          214,
          215,
          216,
          217,
          218,
          219,
          220,
          221,
          222,
          223,
          224,
          225,
          226,
          227,
          228,
          229,
          230,
          231,
          232,
          233,
          234,
          235,
          236,
          237,
          238,
          239,
          240,
          241,
          242,
          243,
          244,
          245,
          246,
          247,
          248,
          249,
          250,
          251,
          252,
          253,
          254,
          255,
          256,
          257,
          258,
          259,
          260,
          261,
          262,
          263,
          264,
          265,
          266,
          267,
          268,
          269,
          270,
          271,
          272,
          273,
          274,
          275,
          276,
          277,
          278,
          279,
          280,
          281,
          282,
          283,
          284,
          285,
          286,
          287,
          288,
          289,
          290,
          291,
          292,
          293,
          294,
          295,
          296,
          297,
          298,
          299
         ],
         "y": [
          1.0873595674832661,
          1.0813655893007914,
          1.074985953172048,
          1.0620800256729126,
          1.0565349380175273,
          1.0483173727989197,
          1.0357222239176431,
          1.0219519476095835,
          1.0162493189175923,
          1.002870855728785,
          0.9932555437088013,
          0.9890000343322753,
          0.9776641706625621,
          0.9687828262646992,
          0.9559310555458069,
          0.9488616168498993,
          0.9421774029731751,
          0.932944655418396,
          0.9232317050298054,
          0.9203697403271993,
          0.9175964852174123,
          0.9096436341603596,
          0.8974365492661794,
          0.8862509409586589,
          0.8767515063285828,
          0.8657002965609233,
          0.8632288654645284,
          0.8535816391309102,
          0.8483586589495341,
          0.8418718079725901,
          0.8373869915803274,
          0.8293668846289317,
          0.8192580938339233,
          0.81516419450442,
          0.8087106307347616,
          0.8019950886567434,
          0.7962303539117177,
          0.7862601379553477,
          0.7799919029076894,
          0.7730891009171804,
          0.7687745332717896,
          0.7614729046821594,
          0.7539807200431824,
          0.7469435214996338,
          0.7401341418425242,
          0.7313664992650349,
          0.7288829664389292,
          0.7227149407068888,
          0.7172565976778666,
          0.7114075918992361,
          0.7038484930992126,
          0.6972717026869456,
          0.6929751952489217,
          0.6848770062128703,
          0.6801288982232412,
          0.6790274878342947,
          0.674434769153595,
          0.6693436821301778,
          0.6636763075987498,
          0.6556452810764313,
          0.649564391374588,
          0.6464025616645813,
          0.6397305270036061,
          0.6366699576377869,
          0.6317681362231572,
          0.6279828757047653,
          0.620573616027832,
          0.6167930841445923,
          0.611567618449529,
          0.6086077759663264,
          0.6060737619797388,
          0.5989587962627411,
          0.5980506171782811,
          0.5943862507740657,
          0.587735852599144,
          0.5841526408990224,
          0.5822514901558559,
          0.5774033218622208,
          0.5728345274925232,
          0.5679654618104298,
          0.5660516053438187,
          0.5635743339856466,
          0.559775294860204,
          0.5570676863193512,
          0.5525858928759892,
          0.5491634080807368,
          0.5460514853398005,
          0.5414186984300613,
          0.5381904353698095,
          0.534241525332133,
          0.5319390217463176,
          0.5292938321828842,
          0.5268752574920654,
          0.5241446614265441,
          0.5182583699623744,
          0.5140343010425568,
          0.510052623351415,
          0.5072801500558853,
          0.5030597577492396,
          0.5022504756848017,
          0.5003658850987752,
          0.4981488565603892,
          0.4946405569712321,
          0.4907450089852015,
          0.48704792459805807,
          0.48309800028800964,
          0.47866608103116354,
          0.4764941195646922,
          0.47323418656984967,
          0.47031963666280113,
          0.4677643040815989,
          0.4627218345801036,
          0.45968130727608997,
          0.45641122857729594,
          0.45275554557641345,
          0.4489981015523275,
          0.44739617506663004,
          0.44353188971678414,
          0.44297296901543937,
          0.4401610195636749,
          0.43668995797634125,
          0.43215331534544627,
          0.4298255542914073,
          0.42695951561133066,
          0.4243977586428324,
          0.4227442840735118,
          0.4198027352492015,
          0.41717684666315713,
          0.41339711447556815,
          0.40992763340473176,
          0.40603592395782473,
          0.403383066256841,
          0.40022450586160024,
          0.3992686231931051,
          0.39634107053279877,
          0.39397063304980595,
          0.39110701630512873,
          0.388180968662103,
          0.38481662372748054,
          0.3833826725681623,
          0.38088821768760683,
          0.37804395308097205,
          0.376337864001592,
          0.3739180718859037,
          0.3712670748432477,
          0.369403005639712,
          0.3659421756863594,
          0.36310278475284574,
          0.3606100102265676,
          0.3579864005247752,
          0.35659714887539545,
          0.3550584390759468,
          0.35167333980401355,
          0.34998650948206583,
          0.34734603414932885,
          0.3452256704370181,
          0.34360387474298476,
          0.3401791696747144,
          0.33677687992652255,
          0.3355059151848157,
          0.3350338866313299,
          0.33421750913063686,
          0.3321334113677343,
          0.3318510100245476,
          0.3287744109829267,
          0.32796889593203865,
          0.32579527944326403,
          0.3235613693793615,
          0.3217930550376574,
          0.3193990126252174,
          0.317348816494147,
          0.31641077597935996,
          0.3142440458138784,
          0.31244495064020156,
          0.3112806017200152,
          0.3097966800133387,
          0.3086357772350311,
          0.3078129495183627,
          0.3058924903472265,
          0.3039019674062729,
          0.3012319475412369,
          0.299757307767868,
          0.29820217539866767,
          0.2970925400654475,
          0.29565527190764745,
          0.2947599117954572,
          0.2941779300570488,
          0.29281991670529045,
          0.29176059514284136,
          0.29035577873388924,
          0.28895347317059833,
          0.2883054385582606,
          0.28701044072707493,
          0.28574458161989846,
          0.2852488170067469,
          0.2835402190685272,
          0.28160470972458523,
          0.2804903447628021,
          0.2793951521317164,
          0.2776347756385803,
          0.27675384779771167,
          0.2762420987089475,
          0.2750634625554085,
          0.27311485409736636,
          0.27208317319552106,
          0.2703489815195402,
          0.26862232635418576,
          0.2677066996693611,
          0.2676616405447324,
          0.2666854754090309,
          0.2664670785268148,
          0.26544002443552017,
          0.2640022764603297,
          0.2630673045913378,
          0.2614843055605888,
          0.2604765519499779,
          0.25925181607405345,
          0.2574196055531502,
          0.2562539731462797,
          0.25504635920127233,
          0.2534949228167534,
          0.25276657938957214,
          0.2512499466538429,
          0.2506765310962995,
          0.24937876512606938,
          0.24914466192324955,
          0.24842174649238585,
          0.24684871186812718,
          0.2464044322570165,
          0.24613895565271376,
          0.24527016133069993,
          0.24421770522991817,
          0.24424179742733637,
          0.24340757528940837,
          0.24171080688635507,
          0.24134342124064764,
          0.24052307109038035,
          0.23929052899281184,
          0.23906790266434352,
          0.23903615127007166,
          0.23836648762226104,
          0.238273923099041,
          0.23816633025805156,
          0.2381600613395373,
          0.2369487981001536,
          0.23593239039182662,
          0.2359074592590332,
          0.23521102567513782,
          0.23450416227181753,
          0.23353634625673295,
          0.23320302019516628,
          0.2329739550749461,
          0.23210616856813432,
          0.2320280392964681,
          0.23055485089619954,
          0.2305527110894521,
          0.2298839489618937,
          0.22898606359958648,
          0.2281949574748675,
          0.22752399320403735,
          0.22688177327315012,
          0.2260316217939059,
          0.2258621260523796,
          0.22514443223675093,
          0.22414374028642972,
          0.22394880826274555,
          0.2233083004752795,
          0.22301650568842887,
          0.22209092353781065,
          0.22140086715420088,
          0.22058190852403642,
          0.21987241630752882,
          0.2193018265068531,
          0.2186884639163812,
          0.21773318474491438,
          0.21704928105076154,
          0.21704586545626323,
          0.216295059521993,
          0.2162764882047971,
          0.2156554105381171,
          0.2148284435272217,
          0.21467311481634777,
          0.21463624214132626,
          0.21387210165460904,
          0.21383408481876057,
          0.2137088420490424,
          0.21333665947119396,
          0.21327310899893442,
          0.2125450439751148,
          0.21125897417465847,
          0.2106676923731963,
          0.2099838065604369,
          0.2099805032213529,
          0.2093052459259828,
          0.20916082759698232,
          0.20790067886312802,
          0.20793785999218622,
          0.20744642987847328,
          0.20744192625085514,
          0.20742041791478794
         ]
        },
        {
         "marker": {
          "maxdisplayed": 10
         },
         "mode": "lines+markers",
         "name": "Trial22",
         "type": "scatter",
         "x": [
          0,
          1,
          2,
          3,
          4,
          5,
          6,
          7,
          8
         ],
         "y": [
          1.0495455185572307,
          1.0231761515140534,
          0.9824943959712982,
          0.9379419227441151,
          0.899520214398702,
          0.8592567304770152,
          0.8211473325888315,
          0.786101903518041,
          0.7538414796193441
         ]
        },
        {
         "marker": {
          "maxdisplayed": 10
         },
         "mode": "lines+markers",
         "name": "Trial23",
         "type": "scatter",
         "x": [
          0,
          1,
          2
         ],
         "y": [
          0.9947627186775208,
          0.9450672765572866,
          0.8689755400021871
         ]
        },
        {
         "marker": {
          "maxdisplayed": 10
         },
         "mode": "lines+markers",
         "name": "Trial24",
         "type": "scatter",
         "x": [
          0,
          1,
          2,
          3,
          4,
          5,
          6,
          7,
          8
         ],
         "y": [
          1.0382071574529013,
          1.006321022907893,
          0.9540070613225301,
          0.9015228072802226,
          0.8557176490624746,
          0.8121795753637949,
          0.7719407518704732,
          0.7340122719605764,
          0.698527455329895
         ]
        },
        {
         "marker": {
          "maxdisplayed": 10
         },
         "mode": "lines+markers",
         "name": "Trial25",
         "type": "scatter",
         "x": [
          0,
          1,
          2,
          3,
          4,
          5,
          6,
          7,
          8,
          9,
          10,
          11,
          12,
          13,
          14,
          15,
          16,
          17,
          18,
          19,
          20,
          21,
          22,
          23,
          24,
          25,
          26,
          27,
          28,
          29,
          30,
          31,
          32
         ],
         "y": [
          1.0849486947059632,
          1.077160402139028,
          1.0693344195683798,
          1.053564433256785,
          1.047119931379954,
          1.0373489220937093,
          1.022137967745463,
          1.0055742303530375,
          0.9987951159477234,
          0.982648636897405,
          0.9710787832736969,
          0.9657909254233042,
          0.9519837061564128,
          0.9414714773495992,
          0.9266593277454376,
          0.918488472700119,
          0.9098579466342926,
          0.898613429069519,
          0.8873364865779877,
          0.8840312997500102,
          0.8808413406213125,
          0.871578594048818,
          0.857477855682373,
          0.8445327659447988,
          0.8335111856460571,
          0.8205169459184011,
          0.8178188502788544,
          0.8067430833975474,
          0.8008908192316692,
          0.7937742471694946,
          0.7886716564496358,
          0.7796842614809673,
          0.7686535477638244
         ]
        },
        {
         "marker": {
          "maxdisplayed": 10
         },
         "mode": "lines+markers",
         "name": "Trial26",
         "type": "scatter",
         "x": [
          0,
          1,
          2
         ],
         "y": [
          1.0000308871269226,
          0.9054419060548147,
          0.8199634035428365
         ]
        },
        {
         "marker": {
          "maxdisplayed": 10
         },
         "mode": "lines+markers",
         "name": "Trial27",
         "type": "scatter",
         "x": [
          0,
          1,
          2
         ],
         "y": [
          0.9640732010205587,
          0.8992655495802562,
          0.8035191198190054
         ]
        },
        {
         "marker": {
          "maxdisplayed": 10
         },
         "mode": "lines+markers",
         "name": "Trial28",
         "type": "scatter",
         "x": [
          0,
          1,
          2,
          3,
          4,
          5,
          6,
          7,
          8
         ],
         "y": [
          1.0286221186319986,
          1.0007127503554025,
          0.9635117173194885,
          0.8957452952861786,
          0.8736484269301097,
          0.838922244310379,
          0.7824167092641194,
          0.7272311647733053,
          0.7055306971073151
         ]
        },
        {
         "marker": {
          "maxdisplayed": 10
         },
         "mode": "lines+markers",
         "name": "Trial29",
         "type": "scatter",
         "x": [
          0,
          1,
          2
         ],
         "y": [
          1.0067625204722086,
          0.9285281459490459,
          0.866443129380544
         ]
        },
        {
         "marker": {
          "maxdisplayed": 10
         },
         "mode": "lines+markers",
         "name": "Trial30",
         "type": "scatter",
         "x": [
          0,
          1,
          2,
          3,
          4,
          5,
          6,
          7,
          8
         ],
         "y": [
          1.0438073515892028,
          1.0164815465609232,
          0.9829482793807983,
          0.934389756123225,
          0.89309135278066,
          0.8517615616321563,
          0.8194228410720825,
          0.790528533856074,
          0.7632671654224396
         ]
        },
        {
         "marker": {
          "maxdisplayed": 10
         },
         "mode": "lines+markers",
         "name": "Trial31",
         "type": "scatter",
         "x": [
          0,
          1,
          2,
          3,
          4,
          5,
          6,
          7,
          8
         ],
         "y": [
          1.0835521499315897,
          1.0755825241406758,
          1.0670960982640585,
          1.0499939680099488,
          1.0427401582400004,
          1.0322727680206298,
          1.0157810270786285,
          0.9978598475456237,
          0.9905025124549866
         ]
        },
        {
         "marker": {
          "maxdisplayed": 10
         },
         "mode": "lines+markers",
         "name": "Trial32",
         "type": "scatter",
         "x": [
          0,
          1,
          2,
          3,
          4,
          5,
          6,
          7,
          8
         ],
         "y": [
          1.0751742561658224,
          1.0631787737210592,
          1.042630175749461,
          1.0200892368952432,
          0.9999919394652049,
          0.9789479990800222,
          0.958899442354838,
          0.9392874439557394,
          0.9201442182064057
         ]
        },
        {
         "marker": {
          "maxdisplayed": 10
         },
         "mode": "lines+markers",
         "name": "Trial33",
         "type": "scatter",
         "x": [
          0,
          1,
          2
         ],
         "y": [
          0.9903539896011353,
          0.9368445376555125,
          0.883804182211558
         ]
        },
        {
         "marker": {
          "maxdisplayed": 10
         },
         "mode": "lines+markers",
         "name": "Trial34",
         "type": "scatter",
         "x": [
          0,
          1,
          2,
          3,
          4,
          5,
          6,
          7,
          8,
          9,
          10,
          11,
          12,
          13,
          14,
          15,
          16,
          17,
          18,
          19,
          20,
          21,
          22,
          23,
          24,
          25,
          26,
          27,
          28,
          29,
          30,
          31,
          32
         ],
         "y": [
          1.0859495043754577,
          1.0728784720102946,
          1.060816232363383,
          1.0480982025464376,
          1.0357557574907938,
          1.0222772121429444,
          1.0121173779169719,
          1.0031595826148987,
          0.9909354507923126,
          0.9784079372882843,
          0.9665571669737498,
          0.9545112788677216,
          0.9460749427477518,
          0.9348968346913655,
          0.9264833350976308,
          0.9171874721844991,
          0.907371868689855,
          0.8981793959935506,
          0.8878082017103831,
          0.8772282342116038,
          0.8692357778549195,
          0.8620381295681,
          0.851712695757548,
          0.8416402717431386,
          0.8336944043636322,
          0.8245628496011098,
          0.8154424051443736,
          0.8078496893246968,
          0.7990392247835795,
          0.7919443070888519,
          0.7841296752293905,
          0.7753082871437073,
          0.7675032575925191
         ]
        },
        {
         "marker": {
          "maxdisplayed": 10
         },
         "mode": "lines+markers",
         "name": "Trial35",
         "type": "scatter",
         "x": [
          0,
          1,
          2
         ],
         "y": [
          0.7424789071083069,
          0.6333081861337025,
          0.47691465318202975
         ]
        },
        {
         "marker": {
          "maxdisplayed": 10
         },
         "mode": "lines+markers",
         "name": "Trial36",
         "type": "scatter",
         "x": [
          0,
          1,
          2
         ],
         "y": [
          1.0344647208849589,
          1.0031240185101826,
          0.9515547811985016
         ]
        },
        {
         "marker": {
          "maxdisplayed": 10
         },
         "mode": "lines+markers",
         "name": "Trial37",
         "type": "scatter",
         "x": [
          0,
          1,
          2,
          3,
          4,
          5,
          6,
          7,
          8
         ],
         "y": [
          1.0542324701944987,
          1.0328155557314556,
          0.9947900235652923,
          0.955002897977829,
          0.9199829936027527,
          0.8847116192181905,
          0.8513967434565226,
          0.8195114314556122,
          0.7883954544862112
         ]
        },
        {
         "marker": {
          "maxdisplayed": 10
         },
         "mode": "lines+markers",
         "name": "Trial38",
         "type": "scatter",
         "x": [
          0,
          1,
          2
         ],
         "y": [
          1.006482470035553,
          0.9676936149597168,
          0.896768081188202
         ]
        },
        {
         "marker": {
          "maxdisplayed": 10
         },
         "mode": "lines+markers",
         "name": "Trial39",
         "type": "scatter",
         "x": [
          0,
          1,
          2
         ],
         "y": [
          0.9663251201311748,
          0.9025561551253001,
          0.8083853860696156
         ]
        },
        {
         "marker": {
          "maxdisplayed": 10
         },
         "mode": "lines+markers",
         "name": "Trial40",
         "type": "scatter",
         "x": [
          0,
          1,
          2,
          3,
          4,
          5,
          6,
          7,
          8
         ],
         "y": [
          1.0579496661822,
          1.0376709342002868,
          1.0034412999947866,
          0.9677126586437226,
          0.9336257517337799,
          0.9004913787047069,
          0.8696390946706136,
          0.8401424368222554,
          0.8132084925969442
         ]
        },
        {
         "marker": {
          "maxdisplayed": 10
         },
         "mode": "lines+markers",
         "name": "Trial41",
         "type": "scatter",
         "x": [
          0,
          1,
          2,
          3,
          4,
          5,
          6,
          7,
          8,
          9,
          10,
          11,
          12,
          13,
          14,
          15,
          16,
          17,
          18,
          19,
          20,
          21,
          22,
          23,
          24,
          25,
          26,
          27,
          28,
          29,
          30,
          31,
          32
         ],
         "y": [
          1.0870004137357077,
          1.080666450659434,
          1.0739845951398215,
          1.060515030225118,
          1.0545446316401164,
          1.0456107338269551,
          1.0324809988339743,
          1.0181500673294068,
          1.0122360507647197,
          0.9981842557589213,
          0.9881030480066936,
          0.9835105180740357,
          0.9718354006608327,
          0.9625713924566904,
          0.949502948919932,
          0.9424342413743337,
          0.9351997534434001,
          0.9254748006661733,
          0.9155319035053253,
          0.912636152903239,
          0.9100146035353343,
          0.901748941342036,
          0.8891603608926137,
          0.8775866508483887,
          0.8676634331544241,
          0.8560870428880055,
          0.8536395231882731,
          0.8435520927111307,
          0.8382380525271098,
          0.831786302725474,
          0.8271065056324005,
          0.8188979764779408,
          0.8088542242844899
         ]
        },
        {
         "marker": {
          "maxdisplayed": 10
         },
         "mode": "lines+markers",
         "name": "Trial42",
         "type": "scatter",
         "x": [
          0,
          1,
          2,
          3,
          4,
          5,
          6,
          7,
          8
         ],
         "y": [
          1.0523934046427408,
          1.0330257296562195,
          1.0084870000680288,
          0.9601951837539673,
          0.940105938911438,
          0.9099514186382294,
          0.8660833795865377,
          0.8351543962955474,
          0.8187647143999736
         ]
        },
        {
         "marker": {
          "maxdisplayed": 10
         },
         "mode": "lines+markers",
         "name": "Trial43",
         "type": "scatter",
         "x": [
          0,
          1,
          2,
          3,
          4,
          5,
          6,
          7,
          8
         ],
         "y": [
          1.0701377828915914,
          1.0553391098976135,
          1.0396255453427632,
          1.008381623029709,
          0.9955165187517802,
          0.977128658692042,
          0.9481206079324086,
          0.9173151155312856,
          0.9051291803518932
         ]
        },
        {
         "marker": {
          "maxdisplayed": 10
         },
         "mode": "lines+markers",
         "name": "Trial44",
         "type": "scatter",
         "x": [
          0,
          1,
          2,
          3,
          4,
          5,
          6,
          7,
          8
         ],
         "y": [
          1.0732059717178344,
          1.0604979634284972,
          1.0459420323371886,
          1.0171370883782704,
          1.0043308893839518,
          0.984923642873764,
          0.9564236680666606,
          0.9279548744360606,
          0.9176847159862518
         ]
        },
        {
         "marker": {
          "maxdisplayed": 10
         },
         "mode": "lines+markers",
         "name": "Trial45",
         "type": "scatter",
         "x": [
          0,
          1,
          2
         ],
         "y": [
          1.0287989139556886,
          0.9936599493026733,
          0.9378313740094503
         ]
        },
        {
         "marker": {
          "maxdisplayed": 10
         },
         "mode": "lines+markers",
         "name": "Trial46",
         "type": "scatter",
         "x": [
          0,
          1,
          2
         ],
         "y": [
          0.942378431558609,
          0.873672225077947,
          0.8032329638799032
         ]
        },
        {
         "marker": {
          "maxdisplayed": 10
         },
         "mode": "lines+markers",
         "name": "Trial47",
         "type": "scatter",
         "x": [
          0,
          1,
          2
         ],
         "y": [
          1.0135303020477295,
          0.9791350543498993,
          0.9374043444792429
         ]
        },
        {
         "marker": {
          "maxdisplayed": 10
         },
         "mode": "lines+markers",
         "name": "Trial48",
         "type": "scatter",
         "x": [
          0,
          1,
          2
         ],
         "y": [
          1.011364456017812,
          0.9708710630734761,
          0.9042842388153076
         ]
        },
        {
         "marker": {
          "maxdisplayed": 10
         },
         "mode": "lines+markers",
         "name": "Trial49",
         "type": "scatter",
         "x": [
          0,
          1,
          2
         ],
         "y": [
          0.9407726009686788,
          0.8694857656955719,
          0.7644144376118978
         ]
        }
       ],
       "layout": {
        "showlegend": false,
        "template": {
         "data": {
          "bar": [
           {
            "error_x": {
             "color": "#2a3f5f"
            },
            "error_y": {
             "color": "#2a3f5f"
            },
            "marker": {
             "line": {
              "color": "#E5ECF6",
              "width": 0.5
             },
             "pattern": {
              "fillmode": "overlay",
              "size": 10,
              "solidity": 0.2
             }
            },
            "type": "bar"
           }
          ],
          "barpolar": [
           {
            "marker": {
             "line": {
              "color": "#E5ECF6",
              "width": 0.5
             },
             "pattern": {
              "fillmode": "overlay",
              "size": 10,
              "solidity": 0.2
             }
            },
            "type": "barpolar"
           }
          ],
          "carpet": [
           {
            "aaxis": {
             "endlinecolor": "#2a3f5f",
             "gridcolor": "white",
             "linecolor": "white",
             "minorgridcolor": "white",
             "startlinecolor": "#2a3f5f"
            },
            "baxis": {
             "endlinecolor": "#2a3f5f",
             "gridcolor": "white",
             "linecolor": "white",
             "minorgridcolor": "white",
             "startlinecolor": "#2a3f5f"
            },
            "type": "carpet"
           }
          ],
          "choropleth": [
           {
            "colorbar": {
             "outlinewidth": 0,
             "ticks": ""
            },
            "type": "choropleth"
           }
          ],
          "contour": [
           {
            "colorbar": {
             "outlinewidth": 0,
             "ticks": ""
            },
            "colorscale": [
             [
              0,
              "#0d0887"
             ],
             [
              0.1111111111111111,
              "#46039f"
             ],
             [
              0.2222222222222222,
              "#7201a8"
             ],
             [
              0.3333333333333333,
              "#9c179e"
             ],
             [
              0.4444444444444444,
              "#bd3786"
             ],
             [
              0.5555555555555556,
              "#d8576b"
             ],
             [
              0.6666666666666666,
              "#ed7953"
             ],
             [
              0.7777777777777778,
              "#fb9f3a"
             ],
             [
              0.8888888888888888,
              "#fdca26"
             ],
             [
              1,
              "#f0f921"
             ]
            ],
            "type": "contour"
           }
          ],
          "contourcarpet": [
           {
            "colorbar": {
             "outlinewidth": 0,
             "ticks": ""
            },
            "type": "contourcarpet"
           }
          ],
          "heatmap": [
           {
            "colorbar": {
             "outlinewidth": 0,
             "ticks": ""
            },
            "colorscale": [
             [
              0,
              "#0d0887"
             ],
             [
              0.1111111111111111,
              "#46039f"
             ],
             [
              0.2222222222222222,
              "#7201a8"
             ],
             [
              0.3333333333333333,
              "#9c179e"
             ],
             [
              0.4444444444444444,
              "#bd3786"
             ],
             [
              0.5555555555555556,
              "#d8576b"
             ],
             [
              0.6666666666666666,
              "#ed7953"
             ],
             [
              0.7777777777777778,
              "#fb9f3a"
             ],
             [
              0.8888888888888888,
              "#fdca26"
             ],
             [
              1,
              "#f0f921"
             ]
            ],
            "type": "heatmap"
           }
          ],
          "heatmapgl": [
           {
            "colorbar": {
             "outlinewidth": 0,
             "ticks": ""
            },
            "colorscale": [
             [
              0,
              "#0d0887"
             ],
             [
              0.1111111111111111,
              "#46039f"
             ],
             [
              0.2222222222222222,
              "#7201a8"
             ],
             [
              0.3333333333333333,
              "#9c179e"
             ],
             [
              0.4444444444444444,
              "#bd3786"
             ],
             [
              0.5555555555555556,
              "#d8576b"
             ],
             [
              0.6666666666666666,
              "#ed7953"
             ],
             [
              0.7777777777777778,
              "#fb9f3a"
             ],
             [
              0.8888888888888888,
              "#fdca26"
             ],
             [
              1,
              "#f0f921"
             ]
            ],
            "type": "heatmapgl"
           }
          ],
          "histogram": [
           {
            "marker": {
             "pattern": {
              "fillmode": "overlay",
              "size": 10,
              "solidity": 0.2
             }
            },
            "type": "histogram"
           }
          ],
          "histogram2d": [
           {
            "colorbar": {
             "outlinewidth": 0,
             "ticks": ""
            },
            "colorscale": [
             [
              0,
              "#0d0887"
             ],
             [
              0.1111111111111111,
              "#46039f"
             ],
             [
              0.2222222222222222,
              "#7201a8"
             ],
             [
              0.3333333333333333,
              "#9c179e"
             ],
             [
              0.4444444444444444,
              "#bd3786"
             ],
             [
              0.5555555555555556,
              "#d8576b"
             ],
             [
              0.6666666666666666,
              "#ed7953"
             ],
             [
              0.7777777777777778,
              "#fb9f3a"
             ],
             [
              0.8888888888888888,
              "#fdca26"
             ],
             [
              1,
              "#f0f921"
             ]
            ],
            "type": "histogram2d"
           }
          ],
          "histogram2dcontour": [
           {
            "colorbar": {
             "outlinewidth": 0,
             "ticks": ""
            },
            "colorscale": [
             [
              0,
              "#0d0887"
             ],
             [
              0.1111111111111111,
              "#46039f"
             ],
             [
              0.2222222222222222,
              "#7201a8"
             ],
             [
              0.3333333333333333,
              "#9c179e"
             ],
             [
              0.4444444444444444,
              "#bd3786"
             ],
             [
              0.5555555555555556,
              "#d8576b"
             ],
             [
              0.6666666666666666,
              "#ed7953"
             ],
             [
              0.7777777777777778,
              "#fb9f3a"
             ],
             [
              0.8888888888888888,
              "#fdca26"
             ],
             [
              1,
              "#f0f921"
             ]
            ],
            "type": "histogram2dcontour"
           }
          ],
          "mesh3d": [
           {
            "colorbar": {
             "outlinewidth": 0,
             "ticks": ""
            },
            "type": "mesh3d"
           }
          ],
          "parcoords": [
           {
            "line": {
             "colorbar": {
              "outlinewidth": 0,
              "ticks": ""
             }
            },
            "type": "parcoords"
           }
          ],
          "pie": [
           {
            "automargin": true,
            "type": "pie"
           }
          ],
          "scatter": [
           {
            "fillpattern": {
             "fillmode": "overlay",
             "size": 10,
             "solidity": 0.2
            },
            "type": "scatter"
           }
          ],
          "scatter3d": [
           {
            "line": {
             "colorbar": {
              "outlinewidth": 0,
              "ticks": ""
             }
            },
            "marker": {
             "colorbar": {
              "outlinewidth": 0,
              "ticks": ""
             }
            },
            "type": "scatter3d"
           }
          ],
          "scattercarpet": [
           {
            "marker": {
             "colorbar": {
              "outlinewidth": 0,
              "ticks": ""
             }
            },
            "type": "scattercarpet"
           }
          ],
          "scattergeo": [
           {
            "marker": {
             "colorbar": {
              "outlinewidth": 0,
              "ticks": ""
             }
            },
            "type": "scattergeo"
           }
          ],
          "scattergl": [
           {
            "marker": {
             "colorbar": {
              "outlinewidth": 0,
              "ticks": ""
             }
            },
            "type": "scattergl"
           }
          ],
          "scattermapbox": [
           {
            "marker": {
             "colorbar": {
              "outlinewidth": 0,
              "ticks": ""
             }
            },
            "type": "scattermapbox"
           }
          ],
          "scatterpolar": [
           {
            "marker": {
             "colorbar": {
              "outlinewidth": 0,
              "ticks": ""
             }
            },
            "type": "scatterpolar"
           }
          ],
          "scatterpolargl": [
           {
            "marker": {
             "colorbar": {
              "outlinewidth": 0,
              "ticks": ""
             }
            },
            "type": "scatterpolargl"
           }
          ],
          "scatterternary": [
           {
            "marker": {
             "colorbar": {
              "outlinewidth": 0,
              "ticks": ""
             }
            },
            "type": "scatterternary"
           }
          ],
          "surface": [
           {
            "colorbar": {
             "outlinewidth": 0,
             "ticks": ""
            },
            "colorscale": [
             [
              0,
              "#0d0887"
             ],
             [
              0.1111111111111111,
              "#46039f"
             ],
             [
              0.2222222222222222,
              "#7201a8"
             ],
             [
              0.3333333333333333,
              "#9c179e"
             ],
             [
              0.4444444444444444,
              "#bd3786"
             ],
             [
              0.5555555555555556,
              "#d8576b"
             ],
             [
              0.6666666666666666,
              "#ed7953"
             ],
             [
              0.7777777777777778,
              "#fb9f3a"
             ],
             [
              0.8888888888888888,
              "#fdca26"
             ],
             [
              1,
              "#f0f921"
             ]
            ],
            "type": "surface"
           }
          ],
          "table": [
           {
            "cells": {
             "fill": {
              "color": "#EBF0F8"
             },
             "line": {
              "color": "white"
             }
            },
            "header": {
             "fill": {
              "color": "#C8D4E3"
             },
             "line": {
              "color": "white"
             }
            },
            "type": "table"
           }
          ]
         },
         "layout": {
          "annotationdefaults": {
           "arrowcolor": "#2a3f5f",
           "arrowhead": 0,
           "arrowwidth": 1
          },
          "autotypenumbers": "strict",
          "coloraxis": {
           "colorbar": {
            "outlinewidth": 0,
            "ticks": ""
           }
          },
          "colorscale": {
           "diverging": [
            [
             0,
             "#8e0152"
            ],
            [
             0.1,
             "#c51b7d"
            ],
            [
             0.2,
             "#de77ae"
            ],
            [
             0.3,
             "#f1b6da"
            ],
            [
             0.4,
             "#fde0ef"
            ],
            [
             0.5,
             "#f7f7f7"
            ],
            [
             0.6,
             "#e6f5d0"
            ],
            [
             0.7,
             "#b8e186"
            ],
            [
             0.8,
             "#7fbc41"
            ],
            [
             0.9,
             "#4d9221"
            ],
            [
             1,
             "#276419"
            ]
           ],
           "sequential": [
            [
             0,
             "#0d0887"
            ],
            [
             0.1111111111111111,
             "#46039f"
            ],
            [
             0.2222222222222222,
             "#7201a8"
            ],
            [
             0.3333333333333333,
             "#9c179e"
            ],
            [
             0.4444444444444444,
             "#bd3786"
            ],
            [
             0.5555555555555556,
             "#d8576b"
            ],
            [
             0.6666666666666666,
             "#ed7953"
            ],
            [
             0.7777777777777778,
             "#fb9f3a"
            ],
            [
             0.8888888888888888,
             "#fdca26"
            ],
            [
             1,
             "#f0f921"
            ]
           ],
           "sequentialminus": [
            [
             0,
             "#0d0887"
            ],
            [
             0.1111111111111111,
             "#46039f"
            ],
            [
             0.2222222222222222,
             "#7201a8"
            ],
            [
             0.3333333333333333,
             "#9c179e"
            ],
            [
             0.4444444444444444,
             "#bd3786"
            ],
            [
             0.5555555555555556,
             "#d8576b"
            ],
            [
             0.6666666666666666,
             "#ed7953"
            ],
            [
             0.7777777777777778,
             "#fb9f3a"
            ],
            [
             0.8888888888888888,
             "#fdca26"
            ],
            [
             1,
             "#f0f921"
            ]
           ]
          },
          "colorway": [
           "#636efa",
           "#EF553B",
           "#00cc96",
           "#ab63fa",
           "#FFA15A",
           "#19d3f3",
           "#FF6692",
           "#B6E880",
           "#FF97FF",
           "#FECB52"
          ],
          "font": {
           "color": "#2a3f5f"
          },
          "geo": {
           "bgcolor": "white",
           "lakecolor": "white",
           "landcolor": "#E5ECF6",
           "showlakes": true,
           "showland": true,
           "subunitcolor": "white"
          },
          "hoverlabel": {
           "align": "left"
          },
          "hovermode": "closest",
          "mapbox": {
           "style": "light"
          },
          "paper_bgcolor": "white",
          "plot_bgcolor": "#E5ECF6",
          "polar": {
           "angularaxis": {
            "gridcolor": "white",
            "linecolor": "white",
            "ticks": ""
           },
           "bgcolor": "#E5ECF6",
           "radialaxis": {
            "gridcolor": "white",
            "linecolor": "white",
            "ticks": ""
           }
          },
          "scene": {
           "xaxis": {
            "backgroundcolor": "#E5ECF6",
            "gridcolor": "white",
            "gridwidth": 2,
            "linecolor": "white",
            "showbackground": true,
            "ticks": "",
            "zerolinecolor": "white"
           },
           "yaxis": {
            "backgroundcolor": "#E5ECF6",
            "gridcolor": "white",
            "gridwidth": 2,
            "linecolor": "white",
            "showbackground": true,
            "ticks": "",
            "zerolinecolor": "white"
           },
           "zaxis": {
            "backgroundcolor": "#E5ECF6",
            "gridcolor": "white",
            "gridwidth": 2,
            "linecolor": "white",
            "showbackground": true,
            "ticks": "",
            "zerolinecolor": "white"
           }
          },
          "shapedefaults": {
           "line": {
            "color": "#2a3f5f"
           }
          },
          "ternary": {
           "aaxis": {
            "gridcolor": "white",
            "linecolor": "white",
            "ticks": ""
           },
           "baxis": {
            "gridcolor": "white",
            "linecolor": "white",
            "ticks": ""
           },
           "bgcolor": "#E5ECF6",
           "caxis": {
            "gridcolor": "white",
            "linecolor": "white",
            "ticks": ""
           }
          },
          "title": {
           "x": 0.05
          },
          "xaxis": {
           "automargin": true,
           "gridcolor": "white",
           "linecolor": "white",
           "ticks": "",
           "title": {
            "standoff": 15
           },
           "zerolinecolor": "white",
           "zerolinewidth": 2
          },
          "yaxis": {
           "automargin": true,
           "gridcolor": "white",
           "linecolor": "white",
           "ticks": "",
           "title": {
            "standoff": 15
           },
           "zerolinecolor": "white",
           "zerolinewidth": 2
          }
         }
        },
        "title": {
         "text": "Intermediate Values Plot"
        },
        "xaxis": {
         "title": {
          "text": "Step"
         }
        },
        "yaxis": {
         "title": {
          "text": "Intermediate Value"
         }
        }
       }
      }
     },
     "metadata": {},
     "output_type": "display_data"
    }
   ],
   "source": [
    "from optuna.visualization import plot_intermediate_values\n",
    "\n",
    "# 1. Plot intermediate values during the trials\n",
    "plot_intermediate_values(study).show()"
   ]
  }
 ],
 "metadata": {
  "kernelspec": {
   "display_name": "Python 3",
   "language": "python",
   "name": "python3"
  },
  "language_info": {
   "codemirror_mode": {
    "name": "ipython",
    "version": 3
   },
   "file_extension": ".py",
   "mimetype": "text/x-python",
   "name": "python",
   "nbconvert_exporter": "python",
   "pygments_lexer": "ipython3",
   "version": "3.11.3"
  }
 },
 "nbformat": 4,
 "nbformat_minor": 5
}
